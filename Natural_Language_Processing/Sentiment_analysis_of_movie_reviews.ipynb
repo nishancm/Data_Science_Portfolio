{
 "cells": [
  {
   "cell_type": "markdown",
   "metadata": {},
   "source": [
    "# Sentiment analysis of movie reviews\n",
    "\n",
    "Sentiment analysis (positive or negative) is done using 'large movie review dataset' available at http://ai.stanford.edu/~amaas/data/sentiment/ . "
   ]
  },
  {
   "cell_type": "code",
   "execution_count": 39,
   "metadata": {
    "collapsed": true
   },
   "outputs": [],
   "source": [
    "import os\n",
    "import numpy as np\n",
    "import spacy\n",
    "import re"
   ]
  },
  {
   "cell_type": "code",
   "execution_count": 4,
   "metadata": {
    "collapsed": true
   },
   "outputs": [],
   "source": [
    "PATH = '/Users/nis89mad/data/'"
   ]
  },
  {
   "cell_type": "code",
   "execution_count": 31,
   "metadata": {
    "collapsed": true
   },
   "outputs": [],
   "source": [
    "# function to read .txt files\n",
    "def read_files(loc, PATH=PATH):\n",
    "    files = os.listdir(PATH+loc)\n",
    "    text = []\n",
    "    for f in files:\n",
    "        with open(PATH+loc+f) as ff:\n",
    "            text.append(ff.readline())\n",
    "    return text"
   ]
  },
  {
   "cell_type": "code",
   "execution_count": 25,
   "metadata": {
    "collapsed": true
   },
   "outputs": [],
   "source": [
    "train_pos = read_files('aclImdb/train/pos/')"
   ]
  },
  {
   "cell_type": "code",
   "execution_count": 29,
   "metadata": {},
   "outputs": [
    {
     "data": {
      "text/plain": [
       "12500"
      ]
     },
     "execution_count": 29,
     "metadata": {},
     "output_type": "execute_result"
    }
   ],
   "source": [
    "len(train_pos)"
   ]
  },
  {
   "cell_type": "code",
   "execution_count": 26,
   "metadata": {},
   "outputs": [
    {
     "data": {
      "text/plain": [
       "'For a movie that gets no respect there sure are a lot of memorable quotes listed for this gem. Imagine a movie where Joe Piscopo is actually funny! Maureen Stapleton is a scene stealer. The Moroni character is an absolute scream. Watch for Alan \"The Skipper\" Hale jr. as a police Sgt.'"
      ]
     },
     "execution_count": 26,
     "metadata": {},
     "output_type": "execute_result"
    }
   ],
   "source": [
    "train_pos[0]"
   ]
  },
  {
   "cell_type": "code",
   "execution_count": 32,
   "metadata": {
    "collapsed": true
   },
   "outputs": [],
   "source": [
    "train_neg = read_files('aclImdb/train/neg/')"
   ]
  },
  {
   "cell_type": "code",
   "execution_count": 38,
   "metadata": {},
   "outputs": [
    {
     "data": {
      "text/plain": [
       "'Well...tremors I, the original started off in 1990 and i found the movie quite enjoyable to watch. however, they proceeded to make tremors II and III. Trust me, those movies started going downhill right after they finished the first one, i mean, ass blasters??? Now, only God himself is capable of answering the question \"why in Gods name would they create another one of these dumpster dives of a movie?\" Tremors IV cannot be considered a bad movie, in fact it cannot be even considered an epitome of a bad movie, for it lives up to more than that. As i attempted to sit though it, i noticed that my eyes started to bleed, and i hoped profusely that the little girl from the ring would crawl through the TV and kill me. did they really think that dressing the people who had stared in the other movies up as though they we\\'re from the wild west would make the movie (with the exact same occurrences) any better? honestly, i would never suggest buying this movie, i mean, there are cheaper ways to find things that burn well.'"
      ]
     },
     "execution_count": 38,
     "metadata": {},
     "output_type": "execute_result"
    }
   ],
   "source": [
    "train_neg[1]"
   ]
  },
  {
   "cell_type": "code",
   "execution_count": 34,
   "metadata": {
    "collapsed": true
   },
   "outputs": [],
   "source": [
    "test_pos = read_files('aclImdb/test/pos/')"
   ]
  },
  {
   "cell_type": "code",
   "execution_count": 35,
   "metadata": {},
   "outputs": [
    {
     "data": {
      "text/plain": [
       "'Based on an actual story, John Boorman shows the struggle of an American doctor, whose husband and son were murdered and she was continually plagued with her loss. A holiday to Burma with her sister seemed like a good idea to get away from it all, but when her passport was stolen in Rangoon, she could not leave the country with her sister, and was forced to stay back until she could get I.D. papers from the American embassy. To fill in a day before she could fly out, she took a trip into the countryside with a tour guide. \"I tried finding something in those stone statues, but nothing stirred in me. I was stone myself.\" <br /><br />Suddenly all hell broke loose and she was caught in a political revolt. Just when it looked like she had escaped and safely boarded a train, she saw her tour guide get beaten and shot. In a split second she decided to jump from the moving train and try to rescue him, with no thought of herself. Continually her life was in danger. <br /><br />Here is a woman who demonstrated spontaneous, selfless charity, risking her life to save another. Patricia Arquette is beautiful, and not just to look at; she has a beautiful heart. This is an unforgettable story. <br /><br />\"We are taught that suffering is the one promise that life always keeps.\"'"
      ]
     },
     "execution_count": 35,
     "metadata": {},
     "output_type": "execute_result"
    }
   ],
   "source": [
    "test_pos[0]"
   ]
  },
  {
   "cell_type": "code",
   "execution_count": 36,
   "metadata": {
    "collapsed": true
   },
   "outputs": [],
   "source": [
    "test_neg = read_filesd_files('aclImdb/test/neg/')"
   ]
  },
  {
   "cell_type": "code",
   "execution_count": 37,
   "metadata": {},
   "outputs": [
    {
     "data": {
      "text/plain": [
       "\"Alan Rickman & Emma Thompson give good performances with southern/New Orleans accents in this detective flick. It's worth seeing for their scenes- and Rickman's scene with Hal Holbrook. These three actors mannage to entertain us no matter what the movie, it seems. The plot for the movie shows potential, but one gets the impression in watching the film that it was not pulled off as well as it could have been. The fact that it is cluttered by a rather uninteresting subplot and mostly uninteresting kidnappers really muddles things. The movie is worth a view- if for nothing more than entertaining performances by Rickman, Thompson, and Holbrook.\""
      ]
     },
     "execution_count": 37,
     "metadata": {},
     "output_type": "execute_result"
    }
   ],
   "source": [
    "test_neg[0]"
   ]
  },
  {
   "cell_type": "code",
   "execution_count": 43,
   "metadata": {
    "collapsed": true
   },
   "outputs": [],
   "source": [
    "# remove <br />\n",
    "re_br = re.compile(r'<\\s*br\\s*/?>', re.IGNORECASE)\n",
    "def sub_br(x): return re_br.sub(\"\\n\", x)\n",
    "\n",
    "train_pos = [sub_br(r) for r in train_pos]\n",
    "train_neg = [sub_br(r) for r in train_neg]\n",
    "test_pos = [sub_br(r) for r in test_pos]\n",
    "test_neg = [sub_br(r) for r in test_neg]"
   ]
  },
  {
   "cell_type": "code",
   "execution_count": 44,
   "metadata": {},
   "outputs": [
    {
     "data": {
      "text/plain": [
       "'Based on an actual story, John Boorman shows the struggle of an American doctor, whose husband and son were murdered and she was continually plagued with her loss. A holiday to Burma with her sister seemed like a good idea to get away from it all, but when her passport was stolen in Rangoon, she could not leave the country with her sister, and was forced to stay back until she could get I.D. papers from the American embassy. To fill in a day before she could fly out, she took a trip into the countryside with a tour guide. \"I tried finding something in those stone statues, but nothing stirred in me. I was stone myself.\" \\n\\nSuddenly all hell broke loose and she was caught in a political revolt. Just when it looked like she had escaped and safely boarded a train, she saw her tour guide get beaten and shot. In a split second she decided to jump from the moving train and try to rescue him, with no thought of herself. Continually her life was in danger. \\n\\nHere is a woman who demonstrated spontaneous, selfless charity, risking her life to save another. Patricia Arquette is beautiful, and not just to look at; she has a beautiful heart. This is an unforgettable story. \\n\\n\"We are taught that suffering is the one promise that life always keeps.\"'"
      ]
     },
     "execution_count": 44,
     "metadata": {},
     "output_type": "execute_result"
    }
   ],
   "source": [
    "test_pos[0]"
   ]
  },
  {
   "cell_type": "code",
   "execution_count": 45,
   "metadata": {
    "collapsed": true
   },
   "outputs": [],
   "source": [
    "# tokenizing\n",
    "my_tok = spacy.load('en')\n",
    "def spacy_tok(x): return [tok.text for tok in my_tok.tokenizer(x)]\n",
    "\n",
    "train_pos = [spacy_tok(r) for r in train_pos]\n",
    "train_neg = [spacy_tok(r) for r in train_neg]\n",
    "test_pos = [spacy_tok(r) for r in test_pos]\n",
    "test_neg = [spacy_tok(r) for r in test_neg]"
   ]
  },
  {
   "cell_type": "code",
   "execution_count": 46,
   "metadata": {
    "collapsed": true
   },
   "outputs": [
    {
     "data": {
      "text/plain": [
       "['For',\n",
       " 'a',\n",
       " 'movie',\n",
       " 'that',\n",
       " 'gets',\n",
       " 'no',\n",
       " 'respect',\n",
       " 'there',\n",
       " 'sure',\n",
       " 'are',\n",
       " 'a',\n",
       " 'lot',\n",
       " 'of',\n",
       " 'memorable',\n",
       " 'quotes',\n",
       " 'listed',\n",
       " 'for',\n",
       " 'this',\n",
       " 'gem',\n",
       " '.',\n",
       " 'Imagine',\n",
       " 'a',\n",
       " 'movie',\n",
       " 'where',\n",
       " 'Joe',\n",
       " 'Piscopo',\n",
       " 'is',\n",
       " 'actually',\n",
       " 'funny',\n",
       " '!',\n",
       " 'Maureen',\n",
       " 'Stapleton',\n",
       " 'is',\n",
       " 'a',\n",
       " 'scene',\n",
       " 'stealer',\n",
       " '.',\n",
       " 'The',\n",
       " 'Moroni',\n",
       " 'character',\n",
       " 'is',\n",
       " 'an',\n",
       " 'absolute',\n",
       " 'scream',\n",
       " '.',\n",
       " 'Watch',\n",
       " 'for',\n",
       " 'Alan',\n",
       " '\"',\n",
       " 'The',\n",
       " 'Skipper',\n",
       " '\"',\n",
       " 'Hale',\n",
       " 'jr',\n",
       " '.',\n",
       " 'as',\n",
       " 'a',\n",
       " 'police',\n",
       " 'Sgt',\n",
       " '.']"
      ]
     },
     "execution_count": 46,
     "metadata": {},
     "output_type": "execute_result"
    }
   ],
   "source": [
    "train_pos[0]"
   ]
  },
  {
   "cell_type": "code",
   "execution_count": 49,
   "metadata": {
    "collapsed": true
   },
   "outputs": [],
   "source": [
    "def load_word_embedings(file):\n",
    "    embeddings = {}\n",
    "    with open(file, 'r') as infile:\n",
    "        for line in infile:\n",
    "            values = line.split()\n",
    "            embeddings[values[0]] = np.asarray(values[1:], dtype='float32')\n",
    "    return embeddings"
   ]
  },
  {
   "cell_type": "code",
   "execution_count": 52,
   "metadata": {
    "collapsed": true
   },
   "outputs": [],
   "source": [
    "# glove embeddings as a dictionanry\n",
    "embeddings = load_word_embedings(PATH+'glove/glove.6B.300d.txt')"
   ]
  },
  {
   "cell_type": "code",
   "execution_count": 56,
   "metadata": {
    "collapsed": true
   },
   "outputs": [],
   "source": [
    "# remove stopwords from sentences\n",
    "import nltk\n",
    "nltk.download('stopwords')\n",
    "from nltk.corpus import stopwords\n",
    "stops = set(stopwords.words(\"english\"))"
   ]
  },
  {
   "cell_type": "code",
   "execution_count": 65,
   "metadata": {
    "collapsed": true
   },
   "outputs": [],
   "source": [
    "def get_non_stopwords(sentence):\n",
    "    return [w.lower() for w in sentence if w.lower() not in stops]"
   ]
  },
  {
   "cell_type": "code",
   "execution_count": 66,
   "metadata": {
    "collapsed": true
   },
   "outputs": [],
   "source": [
    "train_pos = [get_non_stopwords(r) for r in train_pos]\n",
    "train_neg = [get_non_stopwords(r) for r in train_neg]\n",
    "test_pos = [get_non_stopwords(r) for r in test_pos]\n",
    "test_neg = [get_non_stopwords(r) for r in test_neg]"
   ]
  },
  {
   "cell_type": "code",
   "execution_count": 95,
   "metadata": {
    "collapsed": true
   },
   "outputs": [
    {
     "data": {
      "text/plain": [
       "['movie',\n",
       " 'gets',\n",
       " 'respect',\n",
       " 'sure',\n",
       " 'lot',\n",
       " 'memorable',\n",
       " 'quotes',\n",
       " 'listed',\n",
       " 'gem',\n",
       " '.',\n",
       " 'imagine',\n",
       " 'movie',\n",
       " 'joe',\n",
       " 'piscopo',\n",
       " 'actually',\n",
       " 'funny',\n",
       " '!',\n",
       " 'maureen',\n",
       " 'stapleton',\n",
       " 'scene',\n",
       " 'stealer',\n",
       " '.',\n",
       " 'moroni',\n",
       " 'character',\n",
       " 'absolute',\n",
       " 'scream',\n",
       " '.',\n",
       " 'watch',\n",
       " 'alan',\n",
       " '\"',\n",
       " 'skipper',\n",
       " '\"',\n",
       " 'hale',\n",
       " 'jr',\n",
       " '.',\n",
       " 'police',\n",
       " 'sgt',\n",
       " '.']"
      ]
     },
     "execution_count": 95,
     "metadata": {},
     "output_type": "execute_result"
    }
   ],
   "source": [
    "train_pos[0]"
   ]
  },
  {
   "cell_type": "markdown",
   "metadata": {},
   "source": [
    "# Using word embeddings from GloVe project"
   ]
  },
  {
   "cell_type": "code",
   "execution_count": 101,
   "metadata": {
    "collapsed": true
   },
   "outputs": [],
   "source": [
    "# get average feature embedding\n",
    "def avg_feat_emb(sentence):\n",
    "    e = [embeddings[w] for w in sentence if w.isalpha() and w in embeddings]\n",
    "    e = np.array(e)\n",
    "    return e.mean(axis=0)"
   ]
  },
  {
   "cell_type": "code",
   "execution_count": 103,
   "metadata": {
    "collapsed": true
   },
   "outputs": [],
   "source": [
    "train_pos_ae = [avg_feat_emb(r) for r in train_pos]\n",
    "train_neg_ae = [avg_feat_emb(r) for r in train_neg]\n",
    "test_pos_ae = [avg_feat_emb(r) for r in test_pos]\n",
    "test_neg_ae = [avg_feat_emb(r) for r in test_neg]"
   ]
  },
  {
   "cell_type": "code",
   "execution_count": 108,
   "metadata": {
    "collapsed": true
   },
   "outputs": [],
   "source": [
    "# train and test data\n",
    "x_train = np.vstack((train_pos_ae, train_neg_ae))\n",
    "x_test = np.vstack((test_pos_ae, test_neg_ae))"
   ]
  },
  {
   "cell_type": "code",
   "execution_count": 110,
   "metadata": {
    "collapsed": true
   },
   "outputs": [],
   "source": [
    "y_train = np.repeat((1,0), 12500)\n",
    "y_test = np.repeat((1,0), 12500)"
   ]
  },
  {
   "cell_type": "code",
   "execution_count": 112,
   "metadata": {},
   "outputs": [
    {
     "name": "stdout",
     "output_type": "stream",
     "text": [
      "[0]\ttrain-logloss:0.679942\tvalid-logloss:0.681813\n",
      "Multiple eval metrics have been passed: 'valid-logloss' will be used for early stopping.\n",
      "\n",
      "Will train until valid-logloss hasn't improved in 50 rounds.\n",
      "[50]\ttrain-logloss:0.415095\tvalid-logloss:0.476104\n",
      "[100]\ttrain-logloss:0.330598\tvalid-logloss:0.426798\n",
      "[150]\ttrain-logloss:0.284898\tvalid-logloss:0.406132\n",
      "[200]\ttrain-logloss:0.254756\tvalid-logloss:0.394055\n",
      "[250]\ttrain-logloss:0.233699\tvalid-logloss:0.387104\n",
      "[300]\ttrain-logloss:0.215828\tvalid-logloss:0.382148\n",
      "[350]\ttrain-logloss:0.201557\tvalid-logloss:0.379127\n",
      "[399]\ttrain-logloss:0.188821\tvalid-logloss:0.376886\n"
     ]
    }
   ],
   "source": [
    "import xgboost as xgb\n",
    "\n",
    "xgb_pars = {\"min_child_weight\": 50, \"eta\": 0.05, \"max_depth\": 8,\n",
    "            \"subsample\": 0.8, \"silent\" : 1, \"nthread\": 4,\n",
    "            \"eval_metric\": \"logloss\", \"objective\": \"binary:logistic\"}\n",
    "\n",
    "d_train = xgb.DMatrix(x_train, label=y_train)\n",
    "d_val = xgb.DMatrix(x_test, label=y_test)\n",
    "\n",
    "watchlist = [(d_train, 'train'), (d_val, 'valid')]\n",
    "\n",
    "bst = xgb.train(xgb_pars, d_train, 400, watchlist, early_stopping_rounds=50, verbose_eval=50)"
   ]
  },
  {
   "cell_type": "markdown",
   "metadata": {},
   "source": [
    "We can get validation logloss of 0.3769 with 400 estimators"
   ]
  },
  {
   "cell_type": "markdown",
   "metadata": {
    "collapsed": true
   },
   "source": [
    "# Using bag of words representation"
   ]
  },
  {
   "cell_type": "code",
   "execution_count": 128,
   "metadata": {
    "collapsed": true
   },
   "outputs": [],
   "source": [
    "# only alphbetics\n",
    "def only_alpha(sentence):\n",
    "    return [w for w in sentence if w.isalpha()]\n",
    "\n",
    "train_pos = [only_alpha(r) for r in train_pos]\n",
    "train_neg = [only_alpha(r) for r in train_neg]\n",
    "test_pos = [only_alpha(r) for r in test_pos]\n",
    "test_neg = [only_alpha(r) for r in test_neg]"
   ]
  },
  {
   "cell_type": "code",
   "execution_count": 130,
   "metadata": {
    "collapsed": true
   },
   "outputs": [
    {
     "data": {
      "text/plain": [
       "['movie',\n",
       " 'gets',\n",
       " 'respect',\n",
       " 'sure',\n",
       " 'lot',\n",
       " 'memorable',\n",
       " 'quotes',\n",
       " 'listed',\n",
       " 'gem',\n",
       " 'imagine',\n",
       " 'movie',\n",
       " 'joe',\n",
       " 'piscopo',\n",
       " 'actually',\n",
       " 'funny',\n",
       " 'maureen',\n",
       " 'stapleton',\n",
       " 'scene',\n",
       " 'stealer',\n",
       " 'moroni',\n",
       " 'character',\n",
       " 'absolute',\n",
       " 'scream',\n",
       " 'watch',\n",
       " 'alan',\n",
       " 'skipper',\n",
       " 'hale',\n",
       " 'jr',\n",
       " 'police',\n",
       " 'sgt']"
      ]
     },
     "execution_count": 130,
     "metadata": {},
     "output_type": "execute_result"
    }
   ],
   "source": [
    "train_pos[0]"
   ]
  },
  {
   "cell_type": "code",
   "execution_count": 114,
   "metadata": {
    "collapsed": true
   },
   "outputs": [],
   "source": [
    "from sklearn.feature_extraction.text import CountVectorizer"
   ]
  },
  {
   "cell_type": "code",
   "execution_count": 141,
   "metadata": {
    "collapsed": true
   },
   "outputs": [],
   "source": [
    "# get all words from positive and negative reviews\n",
    "corpus = [' '.join(s) for s in train_pos] + [' '.join(s) for s in train_neg] "
   ]
  },
  {
   "cell_type": "code",
   "execution_count": 144,
   "metadata": {},
   "outputs": [
    {
     "data": {
      "text/plain": [
       "'movie gets respect sure lot memorable quotes listed gem imagine movie joe piscopo actually funny maureen stapleton scene stealer moroni character absolute scream watch alan skipper hale jr police sgt'"
      ]
     },
     "execution_count": 144,
     "metadata": {},
     "output_type": "execute_result"
    }
   ],
   "source": [
    "corpus[0]"
   ]
  },
  {
   "cell_type": "code",
   "execution_count": 149,
   "metadata": {
    "collapsed": true
   },
   "outputs": [],
   "source": [
    "vectorizer = CountVectorizer()\n",
    "x_train = vectorizer.fit_transform(corpus)"
   ]
  },
  {
   "cell_type": "code",
   "execution_count": 150,
   "metadata": {},
   "outputs": [
    {
     "data": {
      "text/plain": [
       "72688"
      ]
     },
     "execution_count": 150,
     "metadata": {},
     "output_type": "execute_result"
    }
   ],
   "source": [
    "len(vectorizer.vocabulary_)"
   ]
  },
  {
   "cell_type": "code",
   "execution_count": 154,
   "metadata": {},
   "outputs": [
    {
     "data": {
      "text/plain": [
       "(25000, 72688)"
      ]
     },
     "execution_count": 154,
     "metadata": {},
     "output_type": "execute_result"
    }
   ],
   "source": [
    "x_train.shape"
   ]
  },
  {
   "cell_type": "code",
   "execution_count": 155,
   "metadata": {
    "collapsed": true
   },
   "outputs": [],
   "source": [
    "x_test = vectorizer.transform([' '.join(s) for s in test_pos] + [' '.join(s) for s in test_neg])"
   ]
  },
  {
   "cell_type": "code",
   "execution_count": 156,
   "metadata": {},
   "outputs": [
    {
     "name": "stdout",
     "output_type": "stream",
     "text": [
      "[0]\ttrain-logloss:0.68157\tvalid-logloss:0.681532\n",
      "Multiple eval metrics have been passed: 'valid-logloss' will be used for early stopping.\n",
      "\n",
      "Will train until valid-logloss hasn't improved in 50 rounds.\n",
      "[50]\ttrain-logloss:0.486753\tvalid-logloss:0.492489\n",
      "[100]\ttrain-logloss:0.425526\tvalid-logloss:0.437459\n",
      "[150]\ttrain-logloss:0.389329\tvalid-logloss:0.406999\n",
      "[200]\ttrain-logloss:0.364406\tvalid-logloss:0.386846\n",
      "[250]\ttrain-logloss:0.346354\tvalid-logloss:0.372644\n",
      "[300]\ttrain-logloss:0.331647\tvalid-logloss:0.362599\n",
      "[350]\ttrain-logloss:0.320378\tvalid-logloss:0.354942\n",
      "[399]\ttrain-logloss:0.311154\tvalid-logloss:0.349298\n"
     ]
    }
   ],
   "source": [
    "xgb_pars = {\"min_child_weight\": 50, \"eta\": 0.05, \"max_depth\": 8,\n",
    "            \"subsample\": 0.8, \"silent\" : 1, \"nthread\": 4,\n",
    "            \"eval_metric\": \"logloss\", \"objective\": \"binary:logistic\"}\n",
    "\n",
    "d_train = xgb.DMatrix(x_train, label=y_train)\n",
    "d_val = xgb.DMatrix(x_test, label=y_test)\n",
    "\n",
    "watchlist = [(d_train, 'train'), (d_val, 'valid')]\n",
    "\n",
    "bst = xgb.train(xgb_pars, d_train, 400, watchlist, early_stopping_rounds=50, verbose_eval=50)"
   ]
  },
  {
   "cell_type": "markdown",
   "metadata": {
    "collapsed": true
   },
   "source": [
    "We can get validation logloss of 0.3493 with 400 estimators"
   ]
  }
 ],
 "metadata": {
  "kernelspec": {
   "display_name": "Python 3",
   "language": "python",
   "name": "python3"
  },
  "language_info": {
   "codemirror_mode": {
    "name": "ipython",
    "version": 3
   },
   "file_extension": ".py",
   "mimetype": "text/x-python",
   "name": "python",
   "nbconvert_exporter": "python",
   "pygments_lexer": "ipython3",
   "version": "3.6.2"
  }
 },
 "nbformat": 4,
 "nbformat_minor": 2
}
