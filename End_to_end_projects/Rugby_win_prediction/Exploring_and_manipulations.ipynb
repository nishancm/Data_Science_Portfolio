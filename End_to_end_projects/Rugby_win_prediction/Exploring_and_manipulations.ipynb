{
 "cells": [
  {
   "cell_type": "markdown",
   "metadata": {},
   "source": [
    "# Exploring and Manipulations"
   ]
  },
  {
   "cell_type": "code",
   "execution_count": 1,
   "metadata": {
    "collapsed": true
   },
   "outputs": [],
   "source": [
    "import numpy as np\n",
    "import pandas as pd\n",
    "import matplotlib.pyplot as plt\n",
    "from sklearn.linear_model import LinearRegression"
   ]
  },
  {
   "cell_type": "code",
   "execution_count": 2,
   "metadata": {
    "collapsed": true
   },
   "outputs": [],
   "source": [
    "%matplotlib inline"
   ]
  },
  {
   "cell_type": "code",
   "execution_count": 3,
   "metadata": {
    "collapsed": true
   },
   "outputs": [],
   "source": [
    "pd.set_option('display.max_columns', 500)"
   ]
  },
  {
   "cell_type": "code",
   "execution_count": 4,
   "metadata": {
    "collapsed": true
   },
   "outputs": [],
   "source": [
    "super_rugby_data = pd.read_feather('Data/super_rugby_data')"
   ]
  },
  {
   "cell_type": "code",
   "execution_count": 5,
   "metadata": {},
   "outputs": [
    {
     "data": {
      "text/html": [
       "<div>\n",
       "<style>\n",
       "    .dataframe thead tr:only-child th {\n",
       "        text-align: right;\n",
       "    }\n",
       "\n",
       "    .dataframe thead th {\n",
       "        text-align: left;\n",
       "    }\n",
       "\n",
       "    .dataframe tbody tr th {\n",
       "        vertical-align: top;\n",
       "    }\n",
       "</style>\n",
       "<table border=\"1\" class=\"dataframe\">\n",
       "  <thead>\n",
       "    <tr style=\"text-align: right;\">\n",
       "      <th></th>\n",
       "      <th>carries1</th>\n",
       "      <th>carries2</th>\n",
       "      <th>clean_breaks1</th>\n",
       "      <th>clean_breaks2</th>\n",
       "      <th>conversion_accuracy1</th>\n",
       "      <th>conversion_accuracy2</th>\n",
       "      <th>conversions1</th>\n",
       "      <th>conversions2</th>\n",
       "      <th>defenders_beaten1</th>\n",
       "      <th>defenders_beaten2</th>\n",
       "      <th>drop_goal_accuracy1</th>\n",
       "      <th>drop_goal_accuracy2</th>\n",
       "      <th>drop_goals1</th>\n",
       "      <th>drop_goals2</th>\n",
       "      <th>kicks_in_play1</th>\n",
       "      <th>kicks_in_play2</th>\n",
       "      <th>lineouts_lost1</th>\n",
       "      <th>lineouts_lost2</th>\n",
       "      <th>lineouts_won1</th>\n",
       "      <th>lineouts_won2</th>\n",
       "      <th>match</th>\n",
       "      <th>mauls_won1</th>\n",
       "      <th>mauls_won2</th>\n",
       "      <th>meters_carried1</th>\n",
       "      <th>meters_carried2</th>\n",
       "      <th>missed_tackels1</th>\n",
       "      <th>missed_tackels2</th>\n",
       "      <th>offloads1</th>\n",
       "      <th>offloads2</th>\n",
       "      <th>overall_pos1</th>\n",
       "      <th>overall_pos2</th>\n",
       "      <th>passes1</th>\n",
       "      <th>passes2</th>\n",
       "      <th>penalties_conceded1</th>\n",
       "      <th>penalties_conceded2</th>\n",
       "      <th>penalty_goal_accuracy1</th>\n",
       "      <th>penalty_goal_accuracy2</th>\n",
       "      <th>penalty_goals1</th>\n",
       "      <th>penalty_goals2</th>\n",
       "      <th>red_cards1</th>\n",
       "      <th>red_cards2</th>\n",
       "      <th>rucks_lost1</th>\n",
       "      <th>rucks_lost2</th>\n",
       "      <th>rucks_won1</th>\n",
       "      <th>rucks_won2</th>\n",
       "      <th>score1</th>\n",
       "      <th>score2</th>\n",
       "      <th>scrums_lost1</th>\n",
       "      <th>scrums_lost2</th>\n",
       "      <th>scrums_won1</th>\n",
       "      <th>scrums_won2</th>\n",
       "      <th>season</th>\n",
       "      <th>tackles1</th>\n",
       "      <th>tackles2</th>\n",
       "      <th>team1</th>\n",
       "      <th>team2</th>\n",
       "      <th>tries1</th>\n",
       "      <th>tries2</th>\n",
       "      <th>turnovers_conceded1</th>\n",
       "      <th>turnovers_conceded2</th>\n",
       "      <th>turnovers_won1</th>\n",
       "      <th>turnovers_won2</th>\n",
       "      <th>week</th>\n",
       "      <th>yellow_cards1</th>\n",
       "      <th>yellow_cards2</th>\n",
       "    </tr>\n",
       "  </thead>\n",
       "  <tbody>\n",
       "    <tr>\n",
       "      <th>0</th>\n",
       "      <td>110</td>\n",
       "      <td>85</td>\n",
       "      <td>8</td>\n",
       "      <td>7</td>\n",
       "      <td>50.0</td>\n",
       "      <td>100.0</td>\n",
       "      <td>2</td>\n",
       "      <td>1</td>\n",
       "      <td>13</td>\n",
       "      <td>18</td>\n",
       "      <td>0.0</td>\n",
       "      <td>0.0</td>\n",
       "      <td>1</td>\n",
       "      <td>0</td>\n",
       "      <td>22</td>\n",
       "      <td>34</td>\n",
       "      <td>5</td>\n",
       "      <td>2</td>\n",
       "      <td>15</td>\n",
       "      <td>7</td>\n",
       "      <td>1</td>\n",
       "      <td>0</td>\n",
       "      <td>0</td>\n",
       "      <td>443</td>\n",
       "      <td>316</td>\n",
       "      <td>18</td>\n",
       "      <td>13</td>\n",
       "      <td>4</td>\n",
       "      <td>9</td>\n",
       "      <td>67.0</td>\n",
       "      <td>33.0</td>\n",
       "      <td>129</td>\n",
       "      <td>101</td>\n",
       "      <td>9</td>\n",
       "      <td>12</td>\n",
       "      <td>66.7</td>\n",
       "      <td>66.7</td>\n",
       "      <td>3</td>\n",
       "      <td>6</td>\n",
       "      <td>0</td>\n",
       "      <td>0</td>\n",
       "      <td>5</td>\n",
       "      <td>5</td>\n",
       "      <td>75</td>\n",
       "      <td>51</td>\n",
       "      <td>18</td>\n",
       "      <td>19</td>\n",
       "      <td>1</td>\n",
       "      <td>0</td>\n",
       "      <td>5</td>\n",
       "      <td>8</td>\n",
       "      <td>2012</td>\n",
       "      <td>74</td>\n",
       "      <td>115</td>\n",
       "      <td>Blues</td>\n",
       "      <td>Crusaders</td>\n",
       "      <td>2</td>\n",
       "      <td>1</td>\n",
       "      <td>18</td>\n",
       "      <td>14</td>\n",
       "      <td>0</td>\n",
       "      <td>0</td>\n",
       "      <td>1</td>\n",
       "      <td>0</td>\n",
       "      <td>0</td>\n",
       "    </tr>\n",
       "    <tr>\n",
       "      <th>1</th>\n",
       "      <td>69</td>\n",
       "      <td>132</td>\n",
       "      <td>11</td>\n",
       "      <td>1</td>\n",
       "      <td>0.0</td>\n",
       "      <td>0.0</td>\n",
       "      <td>2</td>\n",
       "      <td>1</td>\n",
       "      <td>15</td>\n",
       "      <td>10</td>\n",
       "      <td>0.0</td>\n",
       "      <td>0.0</td>\n",
       "      <td>0</td>\n",
       "      <td>1</td>\n",
       "      <td>28</td>\n",
       "      <td>27</td>\n",
       "      <td>2</td>\n",
       "      <td>4</td>\n",
       "      <td>5</td>\n",
       "      <td>15</td>\n",
       "      <td>2</td>\n",
       "      <td>0</td>\n",
       "      <td>0</td>\n",
       "      <td>331</td>\n",
       "      <td>312</td>\n",
       "      <td>10</td>\n",
       "      <td>15</td>\n",
       "      <td>6</td>\n",
       "      <td>8</td>\n",
       "      <td>67.0</td>\n",
       "      <td>33.0</td>\n",
       "      <td>79</td>\n",
       "      <td>144</td>\n",
       "      <td>11</td>\n",
       "      <td>10</td>\n",
       "      <td>42.9</td>\n",
       "      <td>66.7</td>\n",
       "      <td>7</td>\n",
       "      <td>6</td>\n",
       "      <td>0</td>\n",
       "      <td>0</td>\n",
       "      <td>4</td>\n",
       "      <td>4</td>\n",
       "      <td>49</td>\n",
       "      <td>109</td>\n",
       "      <td>19</td>\n",
       "      <td>17</td>\n",
       "      <td>0</td>\n",
       "      <td>0</td>\n",
       "      <td>6</td>\n",
       "      <td>5</td>\n",
       "      <td>2012</td>\n",
       "      <td>146</td>\n",
       "      <td>61</td>\n",
       "      <td>Brumbies</td>\n",
       "      <td>Force</td>\n",
       "      <td>2</td>\n",
       "      <td>1</td>\n",
       "      <td>11</td>\n",
       "      <td>7</td>\n",
       "      <td>0</td>\n",
       "      <td>0</td>\n",
       "      <td>1</td>\n",
       "      <td>0</td>\n",
       "      <td>0</td>\n",
       "    </tr>\n",
       "    <tr>\n",
       "      <th>2</th>\n",
       "      <td>78</td>\n",
       "      <td>86</td>\n",
       "      <td>4</td>\n",
       "      <td>7</td>\n",
       "      <td>0.0</td>\n",
       "      <td>100.0</td>\n",
       "      <td>0</td>\n",
       "      <td>1</td>\n",
       "      <td>17</td>\n",
       "      <td>17</td>\n",
       "      <td>100.0</td>\n",
       "      <td>0.0</td>\n",
       "      <td>1</td>\n",
       "      <td>0</td>\n",
       "      <td>27</td>\n",
       "      <td>20</td>\n",
       "      <td>2</td>\n",
       "      <td>5</td>\n",
       "      <td>12</td>\n",
       "      <td>6</td>\n",
       "      <td>3</td>\n",
       "      <td>0</td>\n",
       "      <td>0</td>\n",
       "      <td>333</td>\n",
       "      <td>348</td>\n",
       "      <td>17</td>\n",
       "      <td>17</td>\n",
       "      <td>3</td>\n",
       "      <td>5</td>\n",
       "      <td>0.0</td>\n",
       "      <td>100.0</td>\n",
       "      <td>85</td>\n",
       "      <td>136</td>\n",
       "      <td>11</td>\n",
       "      <td>13</td>\n",
       "      <td>71.4</td>\n",
       "      <td>40.0</td>\n",
       "      <td>7</td>\n",
       "      <td>5</td>\n",
       "      <td>0</td>\n",
       "      <td>0</td>\n",
       "      <td>2</td>\n",
       "      <td>2</td>\n",
       "      <td>62</td>\n",
       "      <td>59</td>\n",
       "      <td>18</td>\n",
       "      <td>13</td>\n",
       "      <td>1</td>\n",
       "      <td>1</td>\n",
       "      <td>5</td>\n",
       "      <td>8</td>\n",
       "      <td>2012</td>\n",
       "      <td>95</td>\n",
       "      <td>96</td>\n",
       "      <td>Bulls</td>\n",
       "      <td>Sharks</td>\n",
       "      <td>0</td>\n",
       "      <td>1</td>\n",
       "      <td>16</td>\n",
       "      <td>8</td>\n",
       "      <td>0</td>\n",
       "      <td>0</td>\n",
       "      <td>1</td>\n",
       "      <td>0</td>\n",
       "      <td>0</td>\n",
       "    </tr>\n",
       "    <tr>\n",
       "      <th>3</th>\n",
       "      <td>107</td>\n",
       "      <td>162</td>\n",
       "      <td>5</td>\n",
       "      <td>4</td>\n",
       "      <td>100.0</td>\n",
       "      <td>100.0</td>\n",
       "      <td>1</td>\n",
       "      <td>2</td>\n",
       "      <td>10</td>\n",
       "      <td>13</td>\n",
       "      <td>0.0</td>\n",
       "      <td>0.0</td>\n",
       "      <td>0</td>\n",
       "      <td>0</td>\n",
       "      <td>19</td>\n",
       "      <td>16</td>\n",
       "      <td>3</td>\n",
       "      <td>2</td>\n",
       "      <td>13</td>\n",
       "      <td>10</td>\n",
       "      <td>4</td>\n",
       "      <td>0</td>\n",
       "      <td>0</td>\n",
       "      <td>430</td>\n",
       "      <td>413</td>\n",
       "      <td>14</td>\n",
       "      <td>10</td>\n",
       "      <td>14</td>\n",
       "      <td>12</td>\n",
       "      <td>33.0</td>\n",
       "      <td>67.0</td>\n",
       "      <td>112</td>\n",
       "      <td>200</td>\n",
       "      <td>10</td>\n",
       "      <td>12</td>\n",
       "      <td>100.0</td>\n",
       "      <td>100.0</td>\n",
       "      <td>4</td>\n",
       "      <td>3</td>\n",
       "      <td>0</td>\n",
       "      <td>0</td>\n",
       "      <td>8</td>\n",
       "      <td>7</td>\n",
       "      <td>69</td>\n",
       "      <td>127</td>\n",
       "      <td>19</td>\n",
       "      <td>23</td>\n",
       "      <td>0</td>\n",
       "      <td>0</td>\n",
       "      <td>6</td>\n",
       "      <td>6</td>\n",
       "      <td>2012</td>\n",
       "      <td>176</td>\n",
       "      <td>104</td>\n",
       "      <td>Chiefs</td>\n",
       "      <td>Highlanders</td>\n",
       "      <td>1</td>\n",
       "      <td>2</td>\n",
       "      <td>15</td>\n",
       "      <td>17</td>\n",
       "      <td>0</td>\n",
       "      <td>0</td>\n",
       "      <td>1</td>\n",
       "      <td>0</td>\n",
       "      <td>0</td>\n",
       "    </tr>\n",
       "    <tr>\n",
       "      <th>4</th>\n",
       "      <td>86</td>\n",
       "      <td>84</td>\n",
       "      <td>3</td>\n",
       "      <td>4</td>\n",
       "      <td>0.0</td>\n",
       "      <td>100.0</td>\n",
       "      <td>0</td>\n",
       "      <td>1</td>\n",
       "      <td>7</td>\n",
       "      <td>13</td>\n",
       "      <td>0.0</td>\n",
       "      <td>50.0</td>\n",
       "      <td>1</td>\n",
       "      <td>2</td>\n",
       "      <td>16</td>\n",
       "      <td>21</td>\n",
       "      <td>5</td>\n",
       "      <td>1</td>\n",
       "      <td>10</td>\n",
       "      <td>4</td>\n",
       "      <td>5</td>\n",
       "      <td>0</td>\n",
       "      <td>0</td>\n",
       "      <td>304</td>\n",
       "      <td>259</td>\n",
       "      <td>13</td>\n",
       "      <td>7</td>\n",
       "      <td>9</td>\n",
       "      <td>5</td>\n",
       "      <td>0.0</td>\n",
       "      <td>100.0</td>\n",
       "      <td>130</td>\n",
       "      <td>125</td>\n",
       "      <td>12</td>\n",
       "      <td>17</td>\n",
       "      <td>81.8</td>\n",
       "      <td>71.4</td>\n",
       "      <td>11</td>\n",
       "      <td>7</td>\n",
       "      <td>0</td>\n",
       "      <td>0</td>\n",
       "      <td>6</td>\n",
       "      <td>6</td>\n",
       "      <td>65</td>\n",
       "      <td>70</td>\n",
       "      <td>27</td>\n",
       "      <td>25</td>\n",
       "      <td>0</td>\n",
       "      <td>1</td>\n",
       "      <td>4</td>\n",
       "      <td>5</td>\n",
       "      <td>2012</td>\n",
       "      <td>103</td>\n",
       "      <td>99</td>\n",
       "      <td>Lions</td>\n",
       "      <td>Cheetahs</td>\n",
       "      <td>0</td>\n",
       "      <td>1</td>\n",
       "      <td>14</td>\n",
       "      <td>12</td>\n",
       "      <td>0</td>\n",
       "      <td>0</td>\n",
       "      <td>1</td>\n",
       "      <td>0</td>\n",
       "      <td>2</td>\n",
       "    </tr>\n",
       "  </tbody>\n",
       "</table>\n",
       "</div>"
      ],
      "text/plain": [
       "   carries1  carries2  clean_breaks1  clean_breaks2  conversion_accuracy1  \\\n",
       "0       110        85              8              7                  50.0   \n",
       "1        69       132             11              1                   0.0   \n",
       "2        78        86              4              7                   0.0   \n",
       "3       107       162              5              4                 100.0   \n",
       "4        86        84              3              4                   0.0   \n",
       "\n",
       "   conversion_accuracy2  conversions1  conversions2  defenders_beaten1  \\\n",
       "0                 100.0             2             1                 13   \n",
       "1                   0.0             2             1                 15   \n",
       "2                 100.0             0             1                 17   \n",
       "3                 100.0             1             2                 10   \n",
       "4                 100.0             0             1                  7   \n",
       "\n",
       "   defenders_beaten2  drop_goal_accuracy1  drop_goal_accuracy2  drop_goals1  \\\n",
       "0                 18                  0.0                  0.0            1   \n",
       "1                 10                  0.0                  0.0            0   \n",
       "2                 17                100.0                  0.0            1   \n",
       "3                 13                  0.0                  0.0            0   \n",
       "4                 13                  0.0                 50.0            1   \n",
       "\n",
       "   drop_goals2  kicks_in_play1  kicks_in_play2  lineouts_lost1  \\\n",
       "0            0              22              34               5   \n",
       "1            1              28              27               2   \n",
       "2            0              27              20               2   \n",
       "3            0              19              16               3   \n",
       "4            2              16              21               5   \n",
       "\n",
       "   lineouts_lost2  lineouts_won1  lineouts_won2  match  mauls_won1  \\\n",
       "0               2             15              7      1           0   \n",
       "1               4              5             15      2           0   \n",
       "2               5             12              6      3           0   \n",
       "3               2             13             10      4           0   \n",
       "4               1             10              4      5           0   \n",
       "\n",
       "   mauls_won2  meters_carried1  meters_carried2  missed_tackels1  \\\n",
       "0           0              443              316               18   \n",
       "1           0              331              312               10   \n",
       "2           0              333              348               17   \n",
       "3           0              430              413               14   \n",
       "4           0              304              259               13   \n",
       "\n",
       "   missed_tackels2  offloads1  offloads2  overall_pos1  overall_pos2  passes1  \\\n",
       "0               13          4          9          67.0          33.0      129   \n",
       "1               15          6          8          67.0          33.0       79   \n",
       "2               17          3          5           0.0         100.0       85   \n",
       "3               10         14         12          33.0          67.0      112   \n",
       "4                7          9          5           0.0         100.0      130   \n",
       "\n",
       "   passes2  penalties_conceded1  penalties_conceded2  penalty_goal_accuracy1  \\\n",
       "0      101                    9                   12                    66.7   \n",
       "1      144                   11                   10                    42.9   \n",
       "2      136                   11                   13                    71.4   \n",
       "3      200                   10                   12                   100.0   \n",
       "4      125                   12                   17                    81.8   \n",
       "\n",
       "   penalty_goal_accuracy2  penalty_goals1  penalty_goals2  red_cards1  \\\n",
       "0                    66.7               3               6           0   \n",
       "1                    66.7               7               6           0   \n",
       "2                    40.0               7               5           0   \n",
       "3                   100.0               4               3           0   \n",
       "4                    71.4              11               7           0   \n",
       "\n",
       "   red_cards2  rucks_lost1  rucks_lost2  rucks_won1  rucks_won2  score1  \\\n",
       "0           0            5            5          75          51      18   \n",
       "1           0            4            4          49         109      19   \n",
       "2           0            2            2          62          59      18   \n",
       "3           0            8            7          69         127      19   \n",
       "4           0            6            6          65          70      27   \n",
       "\n",
       "   score2  scrums_lost1  scrums_lost2  scrums_won1  scrums_won2  season  \\\n",
       "0      19             1             0            5            8    2012   \n",
       "1      17             0             0            6            5    2012   \n",
       "2      13             1             1            5            8    2012   \n",
       "3      23             0             0            6            6    2012   \n",
       "4      25             0             1            4            5    2012   \n",
       "\n",
       "   tackles1  tackles2     team1        team2  tries1  tries2  \\\n",
       "0        74       115     Blues    Crusaders       2       1   \n",
       "1       146        61  Brumbies        Force       2       1   \n",
       "2        95        96     Bulls       Sharks       0       1   \n",
       "3       176       104    Chiefs  Highlanders       1       2   \n",
       "4       103        99     Lions     Cheetahs       0       1   \n",
       "\n",
       "   turnovers_conceded1  turnovers_conceded2  turnovers_won1  turnovers_won2  \\\n",
       "0                   18                   14               0               0   \n",
       "1                   11                    7               0               0   \n",
       "2                   16                    8               0               0   \n",
       "3                   15                   17               0               0   \n",
       "4                   14                   12               0               0   \n",
       "\n",
       "   week  yellow_cards1  yellow_cards2  \n",
       "0     1              0              0  \n",
       "1     1              0              0  \n",
       "2     1              0              0  \n",
       "3     1              0              0  \n",
       "4     1              0              2  "
      ]
     },
     "execution_count": 5,
     "metadata": {},
     "output_type": "execute_result"
    }
   ],
   "source": [
    "super_rugby_data.head()"
   ]
  },
  {
   "cell_type": "code",
   "execution_count": 6,
   "metadata": {},
   "outputs": [
    {
     "data": {
      "text/plain": [
       "(749, 65)"
      ]
     },
     "execution_count": 6,
     "metadata": {},
     "output_type": "execute_result"
    }
   ],
   "source": [
    "super_rugby_data.shape"
   ]
  },
  {
   "cell_type": "code",
   "execution_count": 6,
   "metadata": {},
   "outputs": [
    {
     "data": {
      "text/plain": [
       "Index(['carries1', 'carries2', 'clean_breaks1', 'clean_breaks2',\n",
       "       'conversion_accuracy1', 'conversion_accuracy2', 'conversions1',\n",
       "       'conversions2', 'defenders_beaten1', 'defenders_beaten2',\n",
       "       'drop_goal_accuracy1', 'drop_goal_accuracy2', 'drop_goals1',\n",
       "       'drop_goals2', 'kicks_in_play1', 'kicks_in_play2', 'lineouts_lost1',\n",
       "       'lineouts_lost2', 'lineouts_won1', 'lineouts_won2', 'match',\n",
       "       'mauls_won1', 'mauls_won2', 'meters_carried1', 'meters_carried2',\n",
       "       'missed_tackels1', 'missed_tackels2', 'offloads1', 'offloads2',\n",
       "       'overall_pos1', 'overall_pos2', 'passes1', 'passes2',\n",
       "       'penalties_conceded1', 'penalties_conceded2', 'penalty_goal_accuracy1',\n",
       "       'penalty_goal_accuracy2', 'penalty_goals1', 'penalty_goals2',\n",
       "       'red_cards1', 'red_cards2', 'rucks_lost1', 'rucks_lost2', 'rucks_won1',\n",
       "       'rucks_won2', 'score1', 'score2', 'scrums_lost1', 'scrums_lost2',\n",
       "       'scrums_won1', 'scrums_won2', 'season', 'tackles1', 'tackles2', 'team1',\n",
       "       'team2', 'tries1', 'tries2', 'turnovers_conceded1',\n",
       "       'turnovers_conceded2', 'turnovers_won1', 'turnovers_won2', 'week',\n",
       "       'yellow_cards1', 'yellow_cards2'],\n",
       "      dtype='object')"
      ]
     },
     "execution_count": 6,
     "metadata": {},
     "output_type": "execute_result"
    }
   ],
   "source": [
    "super_rugby_data.columns"
   ]
  },
  {
   "cell_type": "markdown",
   "metadata": {},
   "source": [
    "# carries1"
   ]
  },
  {
   "cell_type": "code",
   "execution_count": 21,
   "metadata": {},
   "outputs": [
    {
     "data": {
      "text/plain": [
       "<matplotlib.axes._subplots.AxesSubplot at 0x11f6104a8>"
      ]
     },
     "execution_count": 21,
     "metadata": {},
     "output_type": "execute_result"
    },
    {
     "data": {
      "image/png": "[encoded data removed]",
      "text/plain": [
       "<matplotlib.figure.Figure at 0x11f45c5c0>"
      ]
     },
     "metadata": {},
     "output_type": "display_data"
    }
   ],
   "source": [
    "super_rugby_data.carries1.plot('hist', bins = 100)"
   ]
  },
  {
   "cell_type": "code",
   "execution_count": 15,
   "metadata": {},
   "outputs": [
    {
     "data": {
      "text/html": [
       "<div>\n",
       "<style>\n",
       "    .dataframe thead tr:only-child th {\n",
       "        text-align: right;\n",
       "    }\n",
       "\n",
       "    .dataframe thead th {\n",
       "        text-align: left;\n",
       "    }\n",
       "\n",
       "    .dataframe tbody tr th {\n",
       "        vertical-align: top;\n",
       "    }\n",
       "</style>\n",
       "<table border=\"1\" class=\"dataframe\">\n",
       "  <thead>\n",
       "    <tr style=\"text-align: right;\">\n",
       "      <th></th>\n",
       "      <th>carries1</th>\n",
       "      <th>carries2</th>\n",
       "      <th>clean_breaks1</th>\n",
       "      <th>clean_breaks2</th>\n",
       "      <th>conversion_accuracy1</th>\n",
       "      <th>conversion_accuracy2</th>\n",
       "      <th>conversions1</th>\n",
       "      <th>conversions2</th>\n",
       "      <th>defenders_beaten1</th>\n",
       "      <th>defenders_beaten2</th>\n",
       "      <th>drop_goal_accuracy1</th>\n",
       "      <th>drop_goal_accuracy2</th>\n",
       "      <th>drop_goals1</th>\n",
       "      <th>drop_goals2</th>\n",
       "      <th>kicks_in_play1</th>\n",
       "      <th>kicks_in_play2</th>\n",
       "      <th>lineouts_lost1</th>\n",
       "      <th>lineouts_lost2</th>\n",
       "      <th>lineouts_won1</th>\n",
       "      <th>lineouts_won2</th>\n",
       "      <th>match</th>\n",
       "      <th>mauls_won1</th>\n",
       "      <th>mauls_won2</th>\n",
       "      <th>meters_carried1</th>\n",
       "      <th>meters_carried2</th>\n",
       "      <th>missed_tackels1</th>\n",
       "      <th>missed_tackels2</th>\n",
       "      <th>offloads1</th>\n",
       "      <th>offloads2</th>\n",
       "      <th>overall_pos1</th>\n",
       "      <th>overall_pos2</th>\n",
       "      <th>passes1</th>\n",
       "      <th>passes2</th>\n",
       "      <th>penalties_conceded1</th>\n",
       "      <th>penalties_conceded2</th>\n",
       "      <th>penalty_goal_accuracy1</th>\n",
       "      <th>penalty_goal_accuracy2</th>\n",
       "      <th>penalty_goals1</th>\n",
       "      <th>penalty_goals2</th>\n",
       "      <th>red_cards1</th>\n",
       "      <th>red_cards2</th>\n",
       "      <th>rucks_lost1</th>\n",
       "      <th>rucks_lost2</th>\n",
       "      <th>rucks_won1</th>\n",
       "      <th>rucks_won2</th>\n",
       "      <th>score1</th>\n",
       "      <th>score2</th>\n",
       "      <th>scrums_lost1</th>\n",
       "      <th>scrums_lost2</th>\n",
       "      <th>scrums_won1</th>\n",
       "      <th>scrums_won2</th>\n",
       "      <th>season</th>\n",
       "      <th>tackles1</th>\n",
       "      <th>tackles2</th>\n",
       "      <th>team1</th>\n",
       "      <th>team2</th>\n",
       "      <th>tries1</th>\n",
       "      <th>tries2</th>\n",
       "      <th>turnovers_conceded1</th>\n",
       "      <th>turnovers_conceded2</th>\n",
       "      <th>turnovers_won1</th>\n",
       "      <th>turnovers_won2</th>\n",
       "      <th>week</th>\n",
       "      <th>yellow_cards1</th>\n",
       "      <th>yellow_cards2</th>\n",
       "    </tr>\n",
       "  </thead>\n",
       "  <tbody>\n",
       "    <tr>\n",
       "      <th>189</th>\n",
       "      <td>0</td>\n",
       "      <td>0</td>\n",
       "      <td>0</td>\n",
       "      <td>0</td>\n",
       "      <td>0.0</td>\n",
       "      <td>0.0</td>\n",
       "      <td>0</td>\n",
       "      <td>0</td>\n",
       "      <td>0</td>\n",
       "      <td>0</td>\n",
       "      <td>0.0</td>\n",
       "      <td>0.0</td>\n",
       "      <td>0</td>\n",
       "      <td>0</td>\n",
       "      <td>0</td>\n",
       "      <td>0</td>\n",
       "      <td>0</td>\n",
       "      <td>0</td>\n",
       "      <td>0</td>\n",
       "      <td>0</td>\n",
       "      <td>3</td>\n",
       "      <td>0</td>\n",
       "      <td>0</td>\n",
       "      <td>0</td>\n",
       "      <td>0</td>\n",
       "      <td>0</td>\n",
       "      <td>0</td>\n",
       "      <td>0</td>\n",
       "      <td>0</td>\n",
       "      <td>0.0</td>\n",
       "      <td>0.0</td>\n",
       "      <td>0</td>\n",
       "      <td>0</td>\n",
       "      <td>0</td>\n",
       "      <td>0</td>\n",
       "      <td>0.0</td>\n",
       "      <td>0.0</td>\n",
       "      <td>0</td>\n",
       "      <td>0</td>\n",
       "      <td>0</td>\n",
       "      <td>0</td>\n",
       "      <td>0</td>\n",
       "      <td>0</td>\n",
       "      <td>0</td>\n",
       "      <td>0</td>\n",
       "      <td>48</td>\n",
       "      <td>14</td>\n",
       "      <td>0</td>\n",
       "      <td>0</td>\n",
       "      <td>0</td>\n",
       "      <td>0</td>\n",
       "      <td>2013</td>\n",
       "      <td>0</td>\n",
       "      <td>0</td>\n",
       "      <td>Bulls</td>\n",
       "      <td>Hurricanes</td>\n",
       "      <td>0</td>\n",
       "      <td>0</td>\n",
       "      <td>0</td>\n",
       "      <td>0</td>\n",
       "      <td>0</td>\n",
       "      <td>0</td>\n",
       "      <td>12</td>\n",
       "      <td>0</td>\n",
       "      <td>0</td>\n",
       "    </tr>\n",
       "  </tbody>\n",
       "</table>\n",
       "</div>"
      ],
      "text/plain": [
       "     carries1  carries2  clean_breaks1  clean_breaks2  conversion_accuracy1  \\\n",
       "189         0         0              0              0                   0.0   \n",
       "\n",
       "     conversion_accuracy2  conversions1  conversions2  defenders_beaten1  \\\n",
       "189                   0.0             0             0                  0   \n",
       "\n",
       "     defenders_beaten2  drop_goal_accuracy1  drop_goal_accuracy2  drop_goals1  \\\n",
       "189                  0                  0.0                  0.0            0   \n",
       "\n",
       "     drop_goals2  kicks_in_play1  kicks_in_play2  lineouts_lost1  \\\n",
       "189            0               0               0               0   \n",
       "\n",
       "     lineouts_lost2  lineouts_won1  lineouts_won2  match  mauls_won1  \\\n",
       "189               0              0              0      3           0   \n",
       "\n",
       "     mauls_won2  meters_carried1  meters_carried2  missed_tackels1  \\\n",
       "189           0                0                0                0   \n",
       "\n",
       "     missed_tackels2  offloads1  offloads2  overall_pos1  overall_pos2  \\\n",
       "189                0          0          0           0.0           0.0   \n",
       "\n",
       "     passes1  passes2  penalties_conceded1  penalties_conceded2  \\\n",
       "189        0        0                    0                    0   \n",
       "\n",
       "     penalty_goal_accuracy1  penalty_goal_accuracy2  penalty_goals1  \\\n",
       "189                     0.0                     0.0               0   \n",
       "\n",
       "     penalty_goals2  red_cards1  red_cards2  rucks_lost1  rucks_lost2  \\\n",
       "189               0           0           0            0            0   \n",
       "\n",
       "     rucks_won1  rucks_won2  score1  score2  scrums_lost1  scrums_lost2  \\\n",
       "189           0           0      48      14             0             0   \n",
       "\n",
       "     scrums_won1  scrums_won2  season  tackles1  tackles2  team1       team2  \\\n",
       "189            0            0    2013         0         0  Bulls  Hurricanes   \n",
       "\n",
       "     tries1  tries2  turnovers_conceded1  turnovers_conceded2  turnovers_won1  \\\n",
       "189       0       0                    0                    0               0   \n",
       "\n",
       "     turnovers_won2  week  yellow_cards1  yellow_cards2  \n",
       "189               0    12              0              0  "
      ]
     },
     "execution_count": 15,
     "metadata": {},
     "output_type": "execute_result"
    }
   ],
   "source": [
    "# having carries less than 25 seems unlealistic\n",
    "super_rugby_data[super_rugby_data.carries1 < 25]"
   ]
  },
  {
   "cell_type": "code",
   "execution_count": 7,
   "metadata": {
    "collapsed": true
   },
   "outputs": [],
   "source": [
    "# 2013, week 12, match 3\n",
    "# there is no data available for this match\n",
    "super_rugby_data = super_rugby_data[super_rugby_data.carries1 > 25]"
   ]
  },
  {
   "cell_type": "markdown",
   "metadata": {},
   "source": [
    "# carries2"
   ]
  },
  {
   "cell_type": "code",
   "execution_count": 22,
   "metadata": {},
   "outputs": [
    {
     "data": {
      "text/plain": [
       "<matplotlib.axes._subplots.AxesSubplot at 0x11f8fdc88>"
      ]
     },
     "execution_count": 22,
     "metadata": {},
     "output_type": "execute_result"
    },
    {
     "data": {
      "image/png": "[encoded data removed]",
      "text/plain": [
       "<matplotlib.figure.Figure at 0x1151fc278>"
      ]
     },
     "metadata": {},
     "output_type": "display_data"
    }
   ],
   "source": [
    "super_rugby_data.carries1.plot('hist', bins = 100)"
   ]
  },
  {
   "cell_type": "markdown",
   "metadata": {},
   "source": [
    "# clean_breaks1"
   ]
  },
  {
   "cell_type": "code",
   "execution_count": 24,
   "metadata": {},
   "outputs": [
    {
     "data": {
      "text/plain": [
       "<matplotlib.axes._subplots.AxesSubplot at 0x11fd93e80>"
      ]
     },
     "execution_count": 24,
     "metadata": {},
     "output_type": "execute_result"
    },
    {
     "data": {
      "image/png": "[encoded data removed]",
      "text/plain": [
       "<matplotlib.figure.Figure at 0x11f662048>"
      ]
     },
     "metadata": {},
     "output_type": "display_data"
    }
   ],
   "source": [
    "super_rugby_data.clean_breaks1.plot('hist', bins = 50)"
   ]
  },
  {
   "cell_type": "code",
   "execution_count": 25,
   "metadata": {},
   "outputs": [
    {
     "data": {
      "text/html": [
       "<div>\n",
       "<style>\n",
       "    .dataframe thead tr:only-child th {\n",
       "        text-align: right;\n",
       "    }\n",
       "\n",
       "    .dataframe thead th {\n",
       "        text-align: left;\n",
       "    }\n",
       "\n",
       "    .dataframe tbody tr th {\n",
       "        vertical-align: top;\n",
       "    }\n",
       "</style>\n",
       "<table border=\"1\" class=\"dataframe\">\n",
       "  <thead>\n",
       "    <tr style=\"text-align: right;\">\n",
       "      <th></th>\n",
       "      <th>carries1</th>\n",
       "      <th>carries2</th>\n",
       "      <th>clean_breaks1</th>\n",
       "      <th>clean_breaks2</th>\n",
       "      <th>conversion_accuracy1</th>\n",
       "      <th>conversion_accuracy2</th>\n",
       "      <th>conversions1</th>\n",
       "      <th>conversions2</th>\n",
       "      <th>defenders_beaten1</th>\n",
       "      <th>defenders_beaten2</th>\n",
       "      <th>drop_goal_accuracy1</th>\n",
       "      <th>drop_goal_accuracy2</th>\n",
       "      <th>drop_goals1</th>\n",
       "      <th>drop_goals2</th>\n",
       "      <th>kicks_in_play1</th>\n",
       "      <th>kicks_in_play2</th>\n",
       "      <th>lineouts_lost1</th>\n",
       "      <th>lineouts_lost2</th>\n",
       "      <th>lineouts_won1</th>\n",
       "      <th>lineouts_won2</th>\n",
       "      <th>match</th>\n",
       "      <th>mauls_won1</th>\n",
       "      <th>mauls_won2</th>\n",
       "      <th>meters_carried1</th>\n",
       "      <th>meters_carried2</th>\n",
       "      <th>missed_tackels1</th>\n",
       "      <th>missed_tackels2</th>\n",
       "      <th>offloads1</th>\n",
       "      <th>offloads2</th>\n",
       "      <th>overall_pos1</th>\n",
       "      <th>overall_pos2</th>\n",
       "      <th>passes1</th>\n",
       "      <th>passes2</th>\n",
       "      <th>penalties_conceded1</th>\n",
       "      <th>penalties_conceded2</th>\n",
       "      <th>penalty_goal_accuracy1</th>\n",
       "      <th>penalty_goal_accuracy2</th>\n",
       "      <th>penalty_goals1</th>\n",
       "      <th>penalty_goals2</th>\n",
       "      <th>red_cards1</th>\n",
       "      <th>red_cards2</th>\n",
       "      <th>rucks_lost1</th>\n",
       "      <th>rucks_lost2</th>\n",
       "      <th>rucks_won1</th>\n",
       "      <th>rucks_won2</th>\n",
       "      <th>score1</th>\n",
       "      <th>score2</th>\n",
       "      <th>scrums_lost1</th>\n",
       "      <th>scrums_lost2</th>\n",
       "      <th>scrums_won1</th>\n",
       "      <th>scrums_won2</th>\n",
       "      <th>season</th>\n",
       "      <th>tackles1</th>\n",
       "      <th>tackles2</th>\n",
       "      <th>team1</th>\n",
       "      <th>team2</th>\n",
       "      <th>tries1</th>\n",
       "      <th>tries2</th>\n",
       "      <th>turnovers_conceded1</th>\n",
       "      <th>turnovers_conceded2</th>\n",
       "      <th>turnovers_won1</th>\n",
       "      <th>turnovers_won2</th>\n",
       "      <th>week</th>\n",
       "      <th>yellow_cards1</th>\n",
       "      <th>yellow_cards2</th>\n",
       "    </tr>\n",
       "  </thead>\n",
       "  <tbody>\n",
       "    <tr>\n",
       "      <th>6</th>\n",
       "      <td>83</td>\n",
       "      <td>103</td>\n",
       "      <td>0</td>\n",
       "      <td>1</td>\n",
       "      <td>50.0</td>\n",
       "      <td>100.0</td>\n",
       "      <td>2</td>\n",
       "      <td>1</td>\n",
       "      <td>3</td>\n",
       "      <td>20</td>\n",
       "      <td>0.0</td>\n",
       "      <td>0.0</td>\n",
       "      <td>0</td>\n",
       "      <td>0</td>\n",
       "      <td>26</td>\n",
       "      <td>18</td>\n",
       "      <td>2</td>\n",
       "      <td>2</td>\n",
       "      <td>7</td>\n",
       "      <td>16</td>\n",
       "      <td>7</td>\n",
       "      <td>0</td>\n",
       "      <td>0</td>\n",
       "      <td>214</td>\n",
       "      <td>274</td>\n",
       "      <td>20</td>\n",
       "      <td>3</td>\n",
       "      <td>5</td>\n",
       "      <td>12</td>\n",
       "      <td>67.0</td>\n",
       "      <td>33.0</td>\n",
       "      <td>95</td>\n",
       "      <td>133</td>\n",
       "      <td>12</td>\n",
       "      <td>9</td>\n",
       "      <td>75.0</td>\n",
       "      <td>100.0</td>\n",
       "      <td>4</td>\n",
       "      <td>6</td>\n",
       "      <td>0</td>\n",
       "      <td>0</td>\n",
       "      <td>1</td>\n",
       "      <td>6</td>\n",
       "      <td>67</td>\n",
       "      <td>67</td>\n",
       "      <td>21</td>\n",
       "      <td>25</td>\n",
       "      <td>2</td>\n",
       "      <td>1</td>\n",
       "      <td>6</td>\n",
       "      <td>3</td>\n",
       "      <td>2012</td>\n",
       "      <td>110</td>\n",
       "      <td>105</td>\n",
       "      <td>Waratahs</td>\n",
       "      <td>Reds</td>\n",
       "      <td>2</td>\n",
       "      <td>1</td>\n",
       "      <td>6</td>\n",
       "      <td>17</td>\n",
       "      <td>0</td>\n",
       "      <td>0</td>\n",
       "      <td>1</td>\n",
       "      <td>0</td>\n",
       "      <td>0</td>\n",
       "    </tr>\n",
       "    <tr>\n",
       "      <th>11</th>\n",
       "      <td>85</td>\n",
       "      <td>126</td>\n",
       "      <td>0</td>\n",
       "      <td>11</td>\n",
       "      <td>100.0</td>\n",
       "      <td>75.0</td>\n",
       "      <td>1</td>\n",
       "      <td>4</td>\n",
       "      <td>12</td>\n",
       "      <td>20</td>\n",
       "      <td>0.0</td>\n",
       "      <td>0.0</td>\n",
       "      <td>0</td>\n",
       "      <td>0</td>\n",
       "      <td>18</td>\n",
       "      <td>19</td>\n",
       "      <td>0</td>\n",
       "      <td>2</td>\n",
       "      <td>9</td>\n",
       "      <td>6</td>\n",
       "      <td>5</td>\n",
       "      <td>0</td>\n",
       "      <td>0</td>\n",
       "      <td>275</td>\n",
       "      <td>511</td>\n",
       "      <td>20</td>\n",
       "      <td>12</td>\n",
       "      <td>6</td>\n",
       "      <td>13</td>\n",
       "      <td>20.0</td>\n",
       "      <td>80.0</td>\n",
       "      <td>108</td>\n",
       "      <td>136</td>\n",
       "      <td>10</td>\n",
       "      <td>15</td>\n",
       "      <td>100.0</td>\n",
       "      <td>75.0</td>\n",
       "      <td>4</td>\n",
       "      <td>4</td>\n",
       "      <td>0</td>\n",
       "      <td>0</td>\n",
       "      <td>3</td>\n",
       "      <td>6</td>\n",
       "      <td>69</td>\n",
       "      <td>90</td>\n",
       "      <td>19</td>\n",
       "      <td>35</td>\n",
       "      <td>0</td>\n",
       "      <td>1</td>\n",
       "      <td>6</td>\n",
       "      <td>6</td>\n",
       "      <td>2012</td>\n",
       "      <td>148</td>\n",
       "      <td>103</td>\n",
       "      <td>Rebels</td>\n",
       "      <td>Waratahs</td>\n",
       "      <td>0</td>\n",
       "      <td>4</td>\n",
       "      <td>14</td>\n",
       "      <td>11</td>\n",
       "      <td>0</td>\n",
       "      <td>0</td>\n",
       "      <td>2</td>\n",
       "      <td>0</td>\n",
       "      <td>1</td>\n",
       "    </tr>\n",
       "    <tr>\n",
       "      <th>88</th>\n",
       "      <td>90</td>\n",
       "      <td>78</td>\n",
       "      <td>0</td>\n",
       "      <td>1</td>\n",
       "      <td>0.0</td>\n",
       "      <td>100.0</td>\n",
       "      <td>0</td>\n",
       "      <td>1</td>\n",
       "      <td>11</td>\n",
       "      <td>6</td>\n",
       "      <td>0.0</td>\n",
       "      <td>0.0</td>\n",
       "      <td>0</td>\n",
       "      <td>0</td>\n",
       "      <td>34</td>\n",
       "      <td>35</td>\n",
       "      <td>3</td>\n",
       "      <td>3</td>\n",
       "      <td>18</td>\n",
       "      <td>14</td>\n",
       "      <td>2</td>\n",
       "      <td>0</td>\n",
       "      <td>0</td>\n",
       "      <td>214</td>\n",
       "      <td>272</td>\n",
       "      <td>6</td>\n",
       "      <td>11</td>\n",
       "      <td>3</td>\n",
       "      <td>3</td>\n",
       "      <td>0.0</td>\n",
       "      <td>100.0</td>\n",
       "      <td>66</td>\n",
       "      <td>68</td>\n",
       "      <td>8</td>\n",
       "      <td>13</td>\n",
       "      <td>80.0</td>\n",
       "      <td>100.0</td>\n",
       "      <td>5</td>\n",
       "      <td>2</td>\n",
       "      <td>0</td>\n",
       "      <td>0</td>\n",
       "      <td>6</td>\n",
       "      <td>2</td>\n",
       "      <td>73</td>\n",
       "      <td>58</td>\n",
       "      <td>12</td>\n",
       "      <td>13</td>\n",
       "      <td>1</td>\n",
       "      <td>2</td>\n",
       "      <td>6</td>\n",
       "      <td>7</td>\n",
       "      <td>2012</td>\n",
       "      <td>80</td>\n",
       "      <td>108</td>\n",
       "      <td>Brumbies</td>\n",
       "      <td>Reds</td>\n",
       "      <td>0</td>\n",
       "      <td>1</td>\n",
       "      <td>12</td>\n",
       "      <td>10</td>\n",
       "      <td>0</td>\n",
       "      <td>0</td>\n",
       "      <td>14</td>\n",
       "      <td>0</td>\n",
       "      <td>0</td>\n",
       "    </tr>\n",
       "    <tr>\n",
       "      <th>122</th>\n",
       "      <td>75</td>\n",
       "      <td>107</td>\n",
       "      <td>0</td>\n",
       "      <td>2</td>\n",
       "      <td>100.0</td>\n",
       "      <td>100.0</td>\n",
       "      <td>1</td>\n",
       "      <td>2</td>\n",
       "      <td>11</td>\n",
       "      <td>18</td>\n",
       "      <td>0.0</td>\n",
       "      <td>0.0</td>\n",
       "      <td>3</td>\n",
       "      <td>0</td>\n",
       "      <td>30</td>\n",
       "      <td>19</td>\n",
       "      <td>3</td>\n",
       "      <td>6</td>\n",
       "      <td>7</td>\n",
       "      <td>8</td>\n",
       "      <td>1</td>\n",
       "      <td>0</td>\n",
       "      <td>0</td>\n",
       "      <td>290</td>\n",
       "      <td>418</td>\n",
       "      <td>18</td>\n",
       "      <td>11</td>\n",
       "      <td>3</td>\n",
       "      <td>6</td>\n",
       "      <td>33.3</td>\n",
       "      <td>66.7</td>\n",
       "      <td>103</td>\n",
       "      <td>190</td>\n",
       "      <td>10</td>\n",
       "      <td>6</td>\n",
       "      <td>100.0</td>\n",
       "      <td>20.0</td>\n",
       "      <td>6</td>\n",
       "      <td>5</td>\n",
       "      <td>0</td>\n",
       "      <td>0</td>\n",
       "      <td>2</td>\n",
       "      <td>2</td>\n",
       "      <td>58</td>\n",
       "      <td>77</td>\n",
       "      <td>25</td>\n",
       "      <td>17</td>\n",
       "      <td>1</td>\n",
       "      <td>0</td>\n",
       "      <td>11</td>\n",
       "      <td>5</td>\n",
       "      <td>2013</td>\n",
       "      <td>126</td>\n",
       "      <td>87</td>\n",
       "      <td>Bulls</td>\n",
       "      <td>Stormers</td>\n",
       "      <td>1</td>\n",
       "      <td>2</td>\n",
       "      <td>8</td>\n",
       "      <td>18</td>\n",
       "      <td>0</td>\n",
       "      <td>0</td>\n",
       "      <td>2</td>\n",
       "      <td>0</td>\n",
       "      <td>0</td>\n",
       "    </tr>\n",
       "  </tbody>\n",
       "</table>\n",
       "</div>"
      ],
      "text/plain": [
       "     carries1  carries2  clean_breaks1  clean_breaks2  conversion_accuracy1  \\\n",
       "6          83       103              0              1                  50.0   \n",
       "11         85       126              0             11                 100.0   \n",
       "88         90        78              0              1                   0.0   \n",
       "122        75       107              0              2                 100.0   \n",
       "\n",
       "     conversion_accuracy2  conversions1  conversions2  defenders_beaten1  \\\n",
       "6                   100.0             2             1                  3   \n",
       "11                   75.0             1             4                 12   \n",
       "88                  100.0             0             1                 11   \n",
       "122                 100.0             1             2                 11   \n",
       "\n",
       "     defenders_beaten2  drop_goal_accuracy1  drop_goal_accuracy2  drop_goals1  \\\n",
       "6                   20                  0.0                  0.0            0   \n",
       "11                  20                  0.0                  0.0            0   \n",
       "88                   6                  0.0                  0.0            0   \n",
       "122                 18                  0.0                  0.0            3   \n",
       "\n",
       "     drop_goals2  kicks_in_play1  kicks_in_play2  lineouts_lost1  \\\n",
       "6              0              26              18               2   \n",
       "11             0              18              19               0   \n",
       "88             0              34              35               3   \n",
       "122            0              30              19               3   \n",
       "\n",
       "     lineouts_lost2  lineouts_won1  lineouts_won2  match  mauls_won1  \\\n",
       "6                 2              7             16      7           0   \n",
       "11                2              9              6      5           0   \n",
       "88                3             18             14      2           0   \n",
       "122               6              7              8      1           0   \n",
       "\n",
       "     mauls_won2  meters_carried1  meters_carried2  missed_tackels1  \\\n",
       "6             0              214              274               20   \n",
       "11            0              275              511               20   \n",
       "88            0              214              272                6   \n",
       "122           0              290              418               18   \n",
       "\n",
       "     missed_tackels2  offloads1  offloads2  overall_pos1  overall_pos2  \\\n",
       "6                  3          5         12          67.0          33.0   \n",
       "11                12          6         13          20.0          80.0   \n",
       "88                11          3          3           0.0         100.0   \n",
       "122               11          3          6          33.3          66.7   \n",
       "\n",
       "     passes1  passes2  penalties_conceded1  penalties_conceded2  \\\n",
       "6         95      133                   12                    9   \n",
       "11       108      136                   10                   15   \n",
       "88        66       68                    8                   13   \n",
       "122      103      190                   10                    6   \n",
       "\n",
       "     penalty_goal_accuracy1  penalty_goal_accuracy2  penalty_goals1  \\\n",
       "6                      75.0                   100.0               4   \n",
       "11                    100.0                    75.0               4   \n",
       "88                     80.0                   100.0               5   \n",
       "122                   100.0                    20.0               6   \n",
       "\n",
       "     penalty_goals2  red_cards1  red_cards2  rucks_lost1  rucks_lost2  \\\n",
       "6                 6           0           0            1            6   \n",
       "11                4           0           0            3            6   \n",
       "88                2           0           0            6            2   \n",
       "122               5           0           0            2            2   \n",
       "\n",
       "     rucks_won1  rucks_won2  score1  score2  scrums_lost1  scrums_lost2  \\\n",
       "6            67          67      21      25             2             1   \n",
       "11           69          90      19      35             0             1   \n",
       "88           73          58      12      13             1             2   \n",
       "122          58          77      25      17             1             0   \n",
       "\n",
       "     scrums_won1  scrums_won2  season  tackles1  tackles2     team1     team2  \\\n",
       "6              6            3    2012       110       105  Waratahs      Reds   \n",
       "11             6            6    2012       148       103    Rebels  Waratahs   \n",
       "88             6            7    2012        80       108  Brumbies      Reds   \n",
       "122           11            5    2013       126        87     Bulls  Stormers   \n",
       "\n",
       "     tries1  tries2  turnovers_conceded1  turnovers_conceded2  turnovers_won1  \\\n",
       "6         2       1                    6                   17               0   \n",
       "11        0       4                   14                   11               0   \n",
       "88        0       1                   12                   10               0   \n",
       "122       1       2                    8                   18               0   \n",
       "\n",
       "     turnovers_won2  week  yellow_cards1  yellow_cards2  \n",
       "6                 0     1              0              0  \n",
       "11                0     2              0              1  \n",
       "88                0    14              0              0  \n",
       "122               0     2              0              0  "
      ]
     },
     "execution_count": 25,
     "metadata": {},
     "output_type": "execute_result"
    }
   ],
   "source": [
    "super_rugby_data[super_rugby_data.clean_breaks1 ==0] # looks ok"
   ]
  },
  {
   "cell_type": "markdown",
   "metadata": {},
   "source": [
    "# clean_breaks2"
   ]
  },
  {
   "cell_type": "code",
   "execution_count": 26,
   "metadata": {},
   "outputs": [
    {
     "data": {
      "text/plain": [
       "<matplotlib.axes._subplots.AxesSubplot at 0x11f7f34e0>"
      ]
     },
     "execution_count": 26,
     "metadata": {},
     "output_type": "execute_result"
    },
    {
     "data": {
      "image/png": "[encoded data removed]",
      "text/plain": [
       "<matplotlib.figure.Figure at 0x11ffb4978>"
      ]
     },
     "metadata": {},
     "output_type": "display_data"
    }
   ],
   "source": [
    "super_rugby_data.clean_breaks2.plot('hist', bins = 50)"
   ]
  },
  {
   "cell_type": "markdown",
   "metadata": {},
   "source": [
    "# conversion_accuracy1"
   ]
  },
  {
   "cell_type": "code",
   "execution_count": 27,
   "metadata": {},
   "outputs": [
    {
     "data": {
      "text/plain": [
       "<matplotlib.axes._subplots.AxesSubplot at 0x1203e2208>"
      ]
     },
     "execution_count": 27,
     "metadata": {},
     "output_type": "execute_result"
    },
    {
     "data": {
      "image/png": "[encoded data removed]",
      "text/plain": [
       "<matplotlib.figure.Figure at 0x11fd18080>"
      ]
     },
     "metadata": {},
     "output_type": "display_data"
    }
   ],
   "source": [
    "super_rugby_data.conversion_accuracy1.plot('hist', bins = 50)"
   ]
  },
  {
   "cell_type": "markdown",
   "metadata": {},
   "source": [
    "# conversion_accuracy2"
   ]
  },
  {
   "cell_type": "code",
   "execution_count": 28,
   "metadata": {},
   "outputs": [
    {
     "data": {
      "text/plain": [
       "<matplotlib.axes._subplots.AxesSubplot at 0x1204ebf28>"
      ]
     },
     "execution_count": 28,
     "metadata": {},
     "output_type": "execute_result"
    },
    {
     "data": {
      "image/png": "[encoded data removed]",
      "text/plain": [
       "<matplotlib.figure.Figure at 0x1203b95c0>"
      ]
     },
     "metadata": {},
     "output_type": "display_data"
    }
   ],
   "source": [
    "super_rugby_data.conversion_accuracy2.plot('hist', bins = 50)"
   ]
  },
  {
   "cell_type": "markdown",
   "metadata": {},
   "source": [
    "# conversions1"
   ]
  },
  {
   "cell_type": "code",
   "execution_count": 29,
   "metadata": {},
   "outputs": [
    {
     "data": {
      "text/plain": [
       "<matplotlib.axes._subplots.AxesSubplot at 0x12084ea58>"
      ]
     },
     "execution_count": 29,
     "metadata": {},
     "output_type": "execute_result"
    },
    {
     "data": {
      "image/png": "[encoded data removed]",
      "text/plain": [
       "<matplotlib.figure.Figure at 0x1208e8f98>"
      ]
     },
     "metadata": {},
     "output_type": "display_data"
    }
   ],
   "source": [
    "super_rugby_data.conversions1.plot('hist', bins = 50)"
   ]
  },
  {
   "cell_type": "markdown",
   "metadata": {},
   "source": [
    "# conversions 2"
   ]
  },
  {
   "cell_type": "code",
   "execution_count": 30,
   "metadata": {},
   "outputs": [
    {
     "data": {
      "text/plain": [
       "<matplotlib.axes._subplots.AxesSubplot at 0x120aafeb8>"
      ]
     },
     "execution_count": 30,
     "metadata": {},
     "output_type": "execute_result"
    },
    {
     "data": {
      "image/png": "[encoded data removed]",
      "text/plain": [
       "<matplotlib.figure.Figure at 0x1208c90f0>"
      ]
     },
     "metadata": {},
     "output_type": "display_data"
    }
   ],
   "source": [
    "super_rugby_data.conversions2.plot('hist', bins = 50)"
   ]
  },
  {
   "cell_type": "markdown",
   "metadata": {},
   "source": [
    "# defenders_beaten1"
   ]
  },
  {
   "cell_type": "code",
   "execution_count": 31,
   "metadata": {},
   "outputs": [
    {
     "data": {
      "text/plain": [
       "<matplotlib.axes._subplots.AxesSubplot at 0x120d143c8>"
      ]
     },
     "execution_count": 31,
     "metadata": {},
     "output_type": "execute_result"
    },
    {
     "data": {
      "image/png": "[encoded data removed]",
      "text/plain": [
       "<matplotlib.figure.Figure at 0x12037c9e8>"
      ]
     },
     "metadata": {},
     "output_type": "display_data"
    }
   ],
   "source": [
    "super_rugby_data.defenders_beaten1.plot('hist', bins = 50)"
   ]
  },
  {
   "cell_type": "code",
   "execution_count": 33,
   "metadata": {},
   "outputs": [
    {
     "data": {
      "text/html": [
       "<div>\n",
       "<style>\n",
       "    .dataframe thead tr:only-child th {\n",
       "        text-align: right;\n",
       "    }\n",
       "\n",
       "    .dataframe thead th {\n",
       "        text-align: left;\n",
       "    }\n",
       "\n",
       "    .dataframe tbody tr th {\n",
       "        vertical-align: top;\n",
       "    }\n",
       "</style>\n",
       "<table border=\"1\" class=\"dataframe\">\n",
       "  <thead>\n",
       "    <tr style=\"text-align: right;\">\n",
       "      <th></th>\n",
       "      <th>carries1</th>\n",
       "      <th>carries2</th>\n",
       "      <th>clean_breaks1</th>\n",
       "      <th>clean_breaks2</th>\n",
       "      <th>conversion_accuracy1</th>\n",
       "      <th>conversion_accuracy2</th>\n",
       "      <th>conversions1</th>\n",
       "      <th>conversions2</th>\n",
       "      <th>defenders_beaten1</th>\n",
       "      <th>defenders_beaten2</th>\n",
       "      <th>drop_goal_accuracy1</th>\n",
       "      <th>drop_goal_accuracy2</th>\n",
       "      <th>drop_goals1</th>\n",
       "      <th>drop_goals2</th>\n",
       "      <th>kicks_in_play1</th>\n",
       "      <th>kicks_in_play2</th>\n",
       "      <th>lineouts_lost1</th>\n",
       "      <th>lineouts_lost2</th>\n",
       "      <th>lineouts_won1</th>\n",
       "      <th>lineouts_won2</th>\n",
       "      <th>match</th>\n",
       "      <th>mauls_won1</th>\n",
       "      <th>mauls_won2</th>\n",
       "      <th>meters_carried1</th>\n",
       "      <th>meters_carried2</th>\n",
       "      <th>missed_tackels1</th>\n",
       "      <th>missed_tackels2</th>\n",
       "      <th>offloads1</th>\n",
       "      <th>offloads2</th>\n",
       "      <th>overall_pos1</th>\n",
       "      <th>overall_pos2</th>\n",
       "      <th>passes1</th>\n",
       "      <th>passes2</th>\n",
       "      <th>penalties_conceded1</th>\n",
       "      <th>penalties_conceded2</th>\n",
       "      <th>penalty_goal_accuracy1</th>\n",
       "      <th>penalty_goal_accuracy2</th>\n",
       "      <th>penalty_goals1</th>\n",
       "      <th>penalty_goals2</th>\n",
       "      <th>red_cards1</th>\n",
       "      <th>red_cards2</th>\n",
       "      <th>rucks_lost1</th>\n",
       "      <th>rucks_lost2</th>\n",
       "      <th>rucks_won1</th>\n",
       "      <th>rucks_won2</th>\n",
       "      <th>score1</th>\n",
       "      <th>score2</th>\n",
       "      <th>scrums_lost1</th>\n",
       "      <th>scrums_lost2</th>\n",
       "      <th>scrums_won1</th>\n",
       "      <th>scrums_won2</th>\n",
       "      <th>season</th>\n",
       "      <th>tackles1</th>\n",
       "      <th>tackles2</th>\n",
       "      <th>team1</th>\n",
       "      <th>team2</th>\n",
       "      <th>tries1</th>\n",
       "      <th>tries2</th>\n",
       "      <th>turnovers_conceded1</th>\n",
       "      <th>turnovers_conceded2</th>\n",
       "      <th>turnovers_won1</th>\n",
       "      <th>turnovers_won2</th>\n",
       "      <th>week</th>\n",
       "      <th>yellow_cards1</th>\n",
       "      <th>yellow_cards2</th>\n",
       "    </tr>\n",
       "  </thead>\n",
       "  <tbody>\n",
       "    <tr>\n",
       "      <th>733</th>\n",
       "      <td>142</td>\n",
       "      <td>91</td>\n",
       "      <td>39</td>\n",
       "      <td>5</td>\n",
       "      <td>85.7</td>\n",
       "      <td>100.0</td>\n",
       "      <td>14</td>\n",
       "      <td>1</td>\n",
       "      <td>59</td>\n",
       "      <td>16</td>\n",
       "      <td>0.0</td>\n",
       "      <td>0.0</td>\n",
       "      <td>0</td>\n",
       "      <td>0</td>\n",
       "      <td>21</td>\n",
       "      <td>19</td>\n",
       "      <td>1</td>\n",
       "      <td>3</td>\n",
       "      <td>9</td>\n",
       "      <td>9</td>\n",
       "      <td>9</td>\n",
       "      <td>1</td>\n",
       "      <td>0</td>\n",
       "      <td>1214</td>\n",
       "      <td>303</td>\n",
       "      <td>16</td>\n",
       "      <td>59</td>\n",
       "      <td>9</td>\n",
       "      <td>11</td>\n",
       "      <td>60.6</td>\n",
       "      <td>39.3</td>\n",
       "      <td>183</td>\n",
       "      <td>136</td>\n",
       "      <td>6</td>\n",
       "      <td>3</td>\n",
       "      <td>0.0</td>\n",
       "      <td>0.0</td>\n",
       "      <td>0</td>\n",
       "      <td>0</td>\n",
       "      <td>0</td>\n",
       "      <td>0</td>\n",
       "      <td>1</td>\n",
       "      <td>2</td>\n",
       "      <td>89</td>\n",
       "      <td>55</td>\n",
       "      <td>94</td>\n",
       "      <td>7</td>\n",
       "      <td>0</td>\n",
       "      <td>2</td>\n",
       "      <td>4</td>\n",
       "      <td>9</td>\n",
       "      <td>2017</td>\n",
       "      <td>85</td>\n",
       "      <td>130</td>\n",
       "      <td>Lions</td>\n",
       "      <td>Sunwolves</td>\n",
       "      <td>14</td>\n",
       "      <td>1</td>\n",
       "      <td>20</td>\n",
       "      <td>14</td>\n",
       "      <td>6</td>\n",
       "      <td>5</td>\n",
       "      <td>15</td>\n",
       "      <td>0</td>\n",
       "      <td>0</td>\n",
       "    </tr>\n",
       "  </tbody>\n",
       "</table>\n",
       "</div>"
      ],
      "text/plain": [
       "     carries1  carries2  clean_breaks1  clean_breaks2  conversion_accuracy1  \\\n",
       "733       142        91             39              5                  85.7   \n",
       "\n",
       "     conversion_accuracy2  conversions1  conversions2  defenders_beaten1  \\\n",
       "733                 100.0            14             1                 59   \n",
       "\n",
       "     defenders_beaten2  drop_goal_accuracy1  drop_goal_accuracy2  drop_goals1  \\\n",
       "733                 16                  0.0                  0.0            0   \n",
       "\n",
       "     drop_goals2  kicks_in_play1  kicks_in_play2  lineouts_lost1  \\\n",
       "733            0              21              19               1   \n",
       "\n",
       "     lineouts_lost2  lineouts_won1  lineouts_won2  match  mauls_won1  \\\n",
       "733               3              9              9      9           1   \n",
       "\n",
       "     mauls_won2  meters_carried1  meters_carried2  missed_tackels1  \\\n",
       "733           0             1214              303               16   \n",
       "\n",
       "     missed_tackels2  offloads1  offloads2  overall_pos1  overall_pos2  \\\n",
       "733               59          9         11          60.6          39.3   \n",
       "\n",
       "     passes1  passes2  penalties_conceded1  penalties_conceded2  \\\n",
       "733      183      136                    6                    3   \n",
       "\n",
       "     penalty_goal_accuracy1  penalty_goal_accuracy2  penalty_goals1  \\\n",
       "733                     0.0                     0.0               0   \n",
       "\n",
       "     penalty_goals2  red_cards1  red_cards2  rucks_lost1  rucks_lost2  \\\n",
       "733               0           0           0            1            2   \n",
       "\n",
       "     rucks_won1  rucks_won2  score1  score2  scrums_lost1  scrums_lost2  \\\n",
       "733          89          55      94       7             0             2   \n",
       "\n",
       "     scrums_won1  scrums_won2  season  tackles1  tackles2  team1      team2  \\\n",
       "733            4            9    2017        85       130  Lions  Sunwolves   \n",
       "\n",
       "     tries1  tries2  turnovers_conceded1  turnovers_conceded2  turnovers_won1  \\\n",
       "733      14       1                   20                   14               6   \n",
       "\n",
       "     turnovers_won2  week  yellow_cards1  yellow_cards2  \n",
       "733               5    15              0              0  "
      ]
     },
     "execution_count": 33,
     "metadata": {},
     "output_type": "execute_result"
    }
   ],
   "source": [
    "super_rugby_data[super_rugby_data.defenders_beaten1>50] # looks fine "
   ]
  },
  {
   "cell_type": "markdown",
   "metadata": {},
   "source": [
    "# defenders_beaten2"
   ]
  },
  {
   "cell_type": "code",
   "execution_count": 34,
   "metadata": {},
   "outputs": [
    {
     "data": {
      "text/plain": [
       "<matplotlib.axes._subplots.AxesSubplot at 0x120f757f0>"
      ]
     },
     "execution_count": 34,
     "metadata": {},
     "output_type": "execute_result"
    },
    {
     "data": {
      "image/png": "[encoded data removed]",
      "text/plain": [
       "<matplotlib.figure.Figure at 0x120f8a908>"
      ]
     },
     "metadata": {},
     "output_type": "display_data"
    }
   ],
   "source": [
    "super_rugby_data.defenders_beaten2.plot('hist', bins = 50)"
   ]
  },
  {
   "cell_type": "markdown",
   "metadata": {},
   "source": [
    "# drop_goal_accuracy1"
   ]
  },
  {
   "cell_type": "code",
   "execution_count": 36,
   "metadata": {},
   "outputs": [
    {
     "data": {
      "text/plain": [
       "<matplotlib.axes._subplots.AxesSubplot at 0x1210feef0>"
      ]
     },
     "execution_count": 36,
     "metadata": {},
     "output_type": "execute_result"
    },
    {
     "data": {
      "image/png": "[encoded data removed]",
      "text/plain": [
       "<matplotlib.figure.Figure at 0x121355630>"
      ]
     },
     "metadata": {},
     "output_type": "display_data"
    }
   ],
   "source": [
    "super_rugby_data.drop_goal_accuracy1.plot('hist', bins = 50)\n",
    "# lot of 0% as not having drop goals are marked as 0%"
   ]
  },
  {
   "cell_type": "markdown",
   "metadata": {},
   "source": [
    "# drop_goal_accuracy2"
   ]
  },
  {
   "cell_type": "code",
   "execution_count": 37,
   "metadata": {},
   "outputs": [
    {
     "data": {
      "text/plain": [
       "<matplotlib.axes._subplots.AxesSubplot at 0x121610cc0>"
      ]
     },
     "execution_count": 37,
     "metadata": {},
     "output_type": "execute_result"
    },
    {
     "data": {
      "image/png": "[encoded data removed]",
      "text/plain": [
       "<matplotlib.figure.Figure at 0x1216231d0>"
      ]
     },
     "metadata": {},
     "output_type": "display_data"
    }
   ],
   "source": [
    "super_rugby_data.drop_goal_accuracy2.plot('hist', bins = 50)\n",
    "# lot of 0% as not having drop goals are marked as 0%"
   ]
  },
  {
   "cell_type": "markdown",
   "metadata": {},
   "source": [
    "# drop_goals1"
   ]
  },
  {
   "cell_type": "code",
   "execution_count": 39,
   "metadata": {},
   "outputs": [
    {
     "data": {
      "text/plain": [
       "<matplotlib.axes._subplots.AxesSubplot at 0x121883fd0>"
      ]
     },
     "execution_count": 39,
     "metadata": {},
     "output_type": "execute_result"
    },
    {
     "data": {
      "image/png": "[encoded data removed]",
      "text/plain": [
       "<matplotlib.figure.Figure at 0x1217db4e0>"
      ]
     },
     "metadata": {},
     "output_type": "display_data"
    }
   ],
   "source": [
    "super_rugby_data.drop_goals1.plot('hist', bins=50)"
   ]
  },
  {
   "cell_type": "markdown",
   "metadata": {},
   "source": [
    "# drop_goals2"
   ]
  },
  {
   "cell_type": "code",
   "execution_count": 40,
   "metadata": {},
   "outputs": [
    {
     "data": {
      "text/plain": [
       "<matplotlib.axes._subplots.AxesSubplot at 0x121986240>"
      ]
     },
     "execution_count": 40,
     "metadata": {},
     "output_type": "execute_result"
    },
    {
     "data": {
      "image/png": "[encoded data removed]",
      "text/plain": [
       "<matplotlib.figure.Figure at 0x1215ed7f0>"
      ]
     },
     "metadata": {},
     "output_type": "display_data"
    }
   ],
   "source": [
    "super_rugby_data.drop_goals2.plot('hist', bins=50)"
   ]
  },
  {
   "cell_type": "markdown",
   "metadata": {},
   "source": [
    "# kicks_in_play1"
   ]
  },
  {
   "cell_type": "code",
   "execution_count": 41,
   "metadata": {},
   "outputs": [
    {
     "data": {
      "text/plain": [
       "<matplotlib.axes._subplots.AxesSubplot at 0x121da30f0>"
      ]
     },
     "execution_count": 41,
     "metadata": {},
     "output_type": "execute_result"
    },
    {
     "data": {
      "image/png": "[encoded data removed]",
      "text/plain": [
       "<matplotlib.figure.Figure at 0x121d8c780>"
      ]
     },
     "metadata": {},
     "output_type": "display_data"
    }
   ],
   "source": [
    "super_rugby_data.kicks_in_play1.plot('hist', bins=50)"
   ]
  },
  {
   "cell_type": "markdown",
   "metadata": {},
   "source": [
    "# kicks_in_play2"
   ]
  },
  {
   "cell_type": "code",
   "execution_count": 42,
   "metadata": {},
   "outputs": [
    {
     "data": {
      "text/plain": [
       "<matplotlib.axes._subplots.AxesSubplot at 0x121e497b8>"
      ]
     },
     "execution_count": 42,
     "metadata": {},
     "output_type": "execute_result"
    },
    {
     "data": {
      "image/png": "[encoded data removed]",
      "text/plain": [
       "<matplotlib.figure.Figure at 0x121da4c18>"
      ]
     },
     "metadata": {},
     "output_type": "display_data"
    }
   ],
   "source": [
    "super_rugby_data.kicks_in_play2.plot('hist', bins=50)"
   ]
  },
  {
   "cell_type": "markdown",
   "metadata": {},
   "source": [
    "# lineouts_lost1"
   ]
  },
  {
   "cell_type": "code",
   "execution_count": 43,
   "metadata": {},
   "outputs": [
    {
     "data": {
      "text/plain": [
       "<matplotlib.axes._subplots.AxesSubplot at 0x122097dd8>"
      ]
     },
     "execution_count": 43,
     "metadata": {},
     "output_type": "execute_result"
    },
    {
     "data": {
      "image/png": "[encoded data removed]",
      "text/plain": [
       "<matplotlib.figure.Figure at 0x121da3048>"
      ]
     },
     "metadata": {},
     "output_type": "display_data"
    }
   ],
   "source": [
    "super_rugby_data.lineouts_lost1.plot('hist', bins=50)"
   ]
  },
  {
   "cell_type": "markdown",
   "metadata": {},
   "source": [
    "# lineouts_lost2"
   ]
  },
  {
   "cell_type": "code",
   "execution_count": 44,
   "metadata": {},
   "outputs": [
    {
     "data": {
      "text/plain": [
       "<matplotlib.axes._subplots.AxesSubplot at 0x121f2a898>"
      ]
     },
     "execution_count": 44,
     "metadata": {},
     "output_type": "execute_result"
    },
    {
     "data": {
      "image/png": "[encoded data removed]",
      "text/plain": [
       "<matplotlib.figure.Figure at 0x1211df4e0>"
      ]
     },
     "metadata": {},
     "output_type": "display_data"
    }
   ],
   "source": [
    "super_rugby_data.lineouts_lost2.plot('hist', bins=50)"
   ]
  },
  {
   "cell_type": "markdown",
   "metadata": {},
   "source": [
    "# lineouts_won1"
   ]
  },
  {
   "cell_type": "code",
   "execution_count": 45,
   "metadata": {},
   "outputs": [
    {
     "data": {
      "text/plain": [
       "<matplotlib.axes._subplots.AxesSubplot at 0x1224f7908>"
      ]
     },
     "execution_count": 45,
     "metadata": {},
     "output_type": "execute_result"
    },
    {
     "data": {
      "image/png": "[encoded data removed]",
      "text/plain": [
       "<matplotlib.figure.Figure at 0x12183ba90>"
      ]
     },
     "metadata": {},
     "output_type": "display_data"
    }
   ],
   "source": [
    "super_rugby_data.lineouts_won1.plot('hist', bins=50)"
   ]
  },
  {
   "cell_type": "markdown",
   "metadata": {},
   "source": [
    "# lineouts_won2"
   ]
  },
  {
   "cell_type": "code",
   "execution_count": 46,
   "metadata": {},
   "outputs": [
    {
     "data": {
      "text/plain": [
       "<matplotlib.axes._subplots.AxesSubplot at 0x1225856d8>"
      ]
     },
     "execution_count": 46,
     "metadata": {},
     "output_type": "execute_result"
    },
    {
     "data": {
      "image/png": "[encoded data removed]",
      "text/plain": [
       "<matplotlib.figure.Figure at 0x122628ac8>"
      ]
     },
     "metadata": {},
     "output_type": "display_data"
    }
   ],
   "source": [
    "super_rugby_data.lineouts_won2.plot('hist', bins=50)"
   ]
  },
  {
   "cell_type": "markdown",
   "metadata": {},
   "source": [
    "# match"
   ]
  },
  {
   "cell_type": "code",
   "execution_count": 48,
   "metadata": {},
   "outputs": [
    {
     "data": {
      "text/plain": [
       "2    109\n",
       "1    109\n",
       "5    106\n",
       "4    106\n",
       "3    105\n",
       "6    103\n",
       "7     77\n",
       "8     23\n",
       "9     10\n",
       "Name: match, dtype: int64"
      ]
     },
     "execution_count": 48,
     "metadata": {},
     "output_type": "execute_result"
    }
   ],
   "source": [
    "super_rugby_data.match.value_counts()"
   ]
  },
  {
   "cell_type": "markdown",
   "metadata": {},
   "source": [
    "# mauls_won1"
   ]
  },
  {
   "cell_type": "code",
   "execution_count": 49,
   "metadata": {},
   "outputs": [
    {
     "data": {
      "text/plain": [
       "<matplotlib.axes._subplots.AxesSubplot at 0x122a15940>"
      ]
     },
     "execution_count": 49,
     "metadata": {},
     "output_type": "execute_result"
    },
    {
     "data": {
      "image/png": "[encoded data removed]",
      "text/plain": [
       "<matplotlib.figure.Figure at 0x122a08b70>"
      ]
     },
     "metadata": {},
     "output_type": "display_data"
    }
   ],
   "source": [
    "super_rugby_data.mauls_won1.plot('hist', bins=50)"
   ]
  },
  {
   "cell_type": "markdown",
   "metadata": {},
   "source": [
    "# mauls_won2"
   ]
  },
  {
   "cell_type": "code",
   "execution_count": 50,
   "metadata": {},
   "outputs": [
    {
     "data": {
      "text/plain": [
       "<matplotlib.axes._subplots.AxesSubplot at 0x122a16f60>"
      ]
     },
     "execution_count": 50,
     "metadata": {},
     "output_type": "execute_result"
    },
    {
     "data": {
      "image/png": "[encoded data removed]",
      "text/plain": [
       "<matplotlib.figure.Figure at 0x1229eae80>"
      ]
     },
     "metadata": {},
     "output_type": "display_data"
    }
   ],
   "source": [
    "super_rugby_data.mauls_won2.plot('hist', bins=50)"
   ]
  },
  {
   "cell_type": "markdown",
   "metadata": {},
   "source": [
    "# meters_carried1"
   ]
  },
  {
   "cell_type": "code",
   "execution_count": 51,
   "metadata": {},
   "outputs": [
    {
     "data": {
      "text/plain": [
       "<matplotlib.axes._subplots.AxesSubplot at 0x122d86be0>"
      ]
     },
     "execution_count": 51,
     "metadata": {},
     "output_type": "execute_result"
    },
    {
     "data": {
      "image/png": "[encoded data removed]",
      "text/plain": [
       "<matplotlib.figure.Figure at 0x1229c54a8>"
      ]
     },
     "metadata": {},
     "output_type": "display_data"
    }
   ],
   "source": [
    "super_rugby_data.meters_carried1.plot('hist', bins=50)"
   ]
  },
  {
   "cell_type": "code",
   "execution_count": 52,
   "metadata": {},
   "outputs": [
    {
     "data": {
      "text/html": [
       "<div>\n",
       "<style>\n",
       "    .dataframe thead tr:only-child th {\n",
       "        text-align: right;\n",
       "    }\n",
       "\n",
       "    .dataframe thead th {\n",
       "        text-align: left;\n",
       "    }\n",
       "\n",
       "    .dataframe tbody tr th {\n",
       "        vertical-align: top;\n",
       "    }\n",
       "</style>\n",
       "<table border=\"1\" class=\"dataframe\">\n",
       "  <thead>\n",
       "    <tr style=\"text-align: right;\">\n",
       "      <th></th>\n",
       "      <th>carries1</th>\n",
       "      <th>carries2</th>\n",
       "      <th>clean_breaks1</th>\n",
       "      <th>clean_breaks2</th>\n",
       "      <th>conversion_accuracy1</th>\n",
       "      <th>conversion_accuracy2</th>\n",
       "      <th>conversions1</th>\n",
       "      <th>conversions2</th>\n",
       "      <th>defenders_beaten1</th>\n",
       "      <th>defenders_beaten2</th>\n",
       "      <th>drop_goal_accuracy1</th>\n",
       "      <th>drop_goal_accuracy2</th>\n",
       "      <th>drop_goals1</th>\n",
       "      <th>drop_goals2</th>\n",
       "      <th>kicks_in_play1</th>\n",
       "      <th>kicks_in_play2</th>\n",
       "      <th>lineouts_lost1</th>\n",
       "      <th>lineouts_lost2</th>\n",
       "      <th>lineouts_won1</th>\n",
       "      <th>lineouts_won2</th>\n",
       "      <th>match</th>\n",
       "      <th>mauls_won1</th>\n",
       "      <th>mauls_won2</th>\n",
       "      <th>meters_carried1</th>\n",
       "      <th>meters_carried2</th>\n",
       "      <th>missed_tackels1</th>\n",
       "      <th>missed_tackels2</th>\n",
       "      <th>offloads1</th>\n",
       "      <th>offloads2</th>\n",
       "      <th>overall_pos1</th>\n",
       "      <th>overall_pos2</th>\n",
       "      <th>passes1</th>\n",
       "      <th>passes2</th>\n",
       "      <th>penalties_conceded1</th>\n",
       "      <th>penalties_conceded2</th>\n",
       "      <th>penalty_goal_accuracy1</th>\n",
       "      <th>penalty_goal_accuracy2</th>\n",
       "      <th>penalty_goals1</th>\n",
       "      <th>penalty_goals2</th>\n",
       "      <th>red_cards1</th>\n",
       "      <th>red_cards2</th>\n",
       "      <th>rucks_lost1</th>\n",
       "      <th>rucks_lost2</th>\n",
       "      <th>rucks_won1</th>\n",
       "      <th>rucks_won2</th>\n",
       "      <th>score1</th>\n",
       "      <th>score2</th>\n",
       "      <th>scrums_lost1</th>\n",
       "      <th>scrums_lost2</th>\n",
       "      <th>scrums_won1</th>\n",
       "      <th>scrums_won2</th>\n",
       "      <th>season</th>\n",
       "      <th>tackles1</th>\n",
       "      <th>tackles2</th>\n",
       "      <th>team1</th>\n",
       "      <th>team2</th>\n",
       "      <th>tries1</th>\n",
       "      <th>tries2</th>\n",
       "      <th>turnovers_conceded1</th>\n",
       "      <th>turnovers_conceded2</th>\n",
       "      <th>turnovers_won1</th>\n",
       "      <th>turnovers_won2</th>\n",
       "      <th>week</th>\n",
       "      <th>yellow_cards1</th>\n",
       "      <th>yellow_cards2</th>\n",
       "    </tr>\n",
       "  </thead>\n",
       "  <tbody>\n",
       "    <tr>\n",
       "      <th>733</th>\n",
       "      <td>142</td>\n",
       "      <td>91</td>\n",
       "      <td>39</td>\n",
       "      <td>5</td>\n",
       "      <td>85.7</td>\n",
       "      <td>100.0</td>\n",
       "      <td>14</td>\n",
       "      <td>1</td>\n",
       "      <td>59</td>\n",
       "      <td>16</td>\n",
       "      <td>0.0</td>\n",
       "      <td>0.0</td>\n",
       "      <td>0</td>\n",
       "      <td>0</td>\n",
       "      <td>21</td>\n",
       "      <td>19</td>\n",
       "      <td>1</td>\n",
       "      <td>3</td>\n",
       "      <td>9</td>\n",
       "      <td>9</td>\n",
       "      <td>9</td>\n",
       "      <td>1</td>\n",
       "      <td>0</td>\n",
       "      <td>1214</td>\n",
       "      <td>303</td>\n",
       "      <td>16</td>\n",
       "      <td>59</td>\n",
       "      <td>9</td>\n",
       "      <td>11</td>\n",
       "      <td>60.6</td>\n",
       "      <td>39.3</td>\n",
       "      <td>183</td>\n",
       "      <td>136</td>\n",
       "      <td>6</td>\n",
       "      <td>3</td>\n",
       "      <td>0.0</td>\n",
       "      <td>0.0</td>\n",
       "      <td>0</td>\n",
       "      <td>0</td>\n",
       "      <td>0</td>\n",
       "      <td>0</td>\n",
       "      <td>1</td>\n",
       "      <td>2</td>\n",
       "      <td>89</td>\n",
       "      <td>55</td>\n",
       "      <td>94</td>\n",
       "      <td>7</td>\n",
       "      <td>0</td>\n",
       "      <td>2</td>\n",
       "      <td>4</td>\n",
       "      <td>9</td>\n",
       "      <td>2017</td>\n",
       "      <td>85</td>\n",
       "      <td>130</td>\n",
       "      <td>Lions</td>\n",
       "      <td>Sunwolves</td>\n",
       "      <td>14</td>\n",
       "      <td>1</td>\n",
       "      <td>20</td>\n",
       "      <td>14</td>\n",
       "      <td>6</td>\n",
       "      <td>5</td>\n",
       "      <td>15</td>\n",
       "      <td>0</td>\n",
       "      <td>0</td>\n",
       "    </tr>\n",
       "  </tbody>\n",
       "</table>\n",
       "</div>"
      ],
      "text/plain": [
       "     carries1  carries2  clean_breaks1  clean_breaks2  conversion_accuracy1  \\\n",
       "733       142        91             39              5                  85.7   \n",
       "\n",
       "     conversion_accuracy2  conversions1  conversions2  defenders_beaten1  \\\n",
       "733                 100.0            14             1                 59   \n",
       "\n",
       "     defenders_beaten2  drop_goal_accuracy1  drop_goal_accuracy2  drop_goals1  \\\n",
       "733                 16                  0.0                  0.0            0   \n",
       "\n",
       "     drop_goals2  kicks_in_play1  kicks_in_play2  lineouts_lost1  \\\n",
       "733            0              21              19               1   \n",
       "\n",
       "     lineouts_lost2  lineouts_won1  lineouts_won2  match  mauls_won1  \\\n",
       "733               3              9              9      9           1   \n",
       "\n",
       "     mauls_won2  meters_carried1  meters_carried2  missed_tackels1  \\\n",
       "733           0             1214              303               16   \n",
       "\n",
       "     missed_tackels2  offloads1  offloads2  overall_pos1  overall_pos2  \\\n",
       "733               59          9         11          60.6          39.3   \n",
       "\n",
       "     passes1  passes2  penalties_conceded1  penalties_conceded2  \\\n",
       "733      183      136                    6                    3   \n",
       "\n",
       "     penalty_goal_accuracy1  penalty_goal_accuracy2  penalty_goals1  \\\n",
       "733                     0.0                     0.0               0   \n",
       "\n",
       "     penalty_goals2  red_cards1  red_cards2  rucks_lost1  rucks_lost2  \\\n",
       "733               0           0           0            1            2   \n",
       "\n",
       "     rucks_won1  rucks_won2  score1  score2  scrums_lost1  scrums_lost2  \\\n",
       "733          89          55      94       7             0             2   \n",
       "\n",
       "     scrums_won1  scrums_won2  season  tackles1  tackles2  team1      team2  \\\n",
       "733            4            9    2017        85       130  Lions  Sunwolves   \n",
       "\n",
       "     tries1  tries2  turnovers_conceded1  turnovers_conceded2  turnovers_won1  \\\n",
       "733      14       1                   20                   14               6   \n",
       "\n",
       "     turnovers_won2  week  yellow_cards1  yellow_cards2  \n",
       "733               5    15              0              0  "
      ]
     },
     "execution_count": 52,
     "metadata": {},
     "output_type": "execute_result"
    }
   ],
   "source": [
    "super_rugby_data[super_rugby_data.meters_carried1 > 1000]"
   ]
  },
  {
   "cell_type": "markdown",
   "metadata": {},
   "source": [
    "# meters_carried2"
   ]
  },
  {
   "cell_type": "code",
   "execution_count": 53,
   "metadata": {},
   "outputs": [
    {
     "data": {
      "text/plain": [
       "<matplotlib.axes._subplots.AxesSubplot at 0x1230be0b8>"
      ]
     },
     "execution_count": 53,
     "metadata": {},
     "output_type": "execute_result"
    },
    {
     "data": {
      "image/png": "[encoded data removed]",
      "text/plain": [
       "<matplotlib.figure.Figure at 0x1230c2d68>"
      ]
     },
     "metadata": {},
     "output_type": "display_data"
    }
   ],
   "source": [
    "super_rugby_data.meters_carried2.plot('hist', bins=50)"
   ]
  },
  {
   "cell_type": "markdown",
   "metadata": {},
   "source": [
    "# missed_tackels1"
   ]
  },
  {
   "cell_type": "code",
   "execution_count": 54,
   "metadata": {},
   "outputs": [
    {
     "data": {
      "text/plain": [
       "<matplotlib.axes._subplots.AxesSubplot at 0x123205be0>"
      ]
     },
     "execution_count": 54,
     "metadata": {},
     "output_type": "execute_result"
    },
    {
     "data": {
      "image/png": "[encoded data removed]",
      "text/plain": [
       "<matplotlib.figure.Figure at 0x12332dd68>"
      ]
     },
     "metadata": {},
     "output_type": "display_data"
    }
   ],
   "source": [
    "super_rugby_data.missed_tackels1.plot('hist', bins=50)"
   ]
  },
  {
   "cell_type": "markdown",
   "metadata": {},
   "source": [
    "# missed_tackels2"
   ]
  },
  {
   "cell_type": "code",
   "execution_count": 55,
   "metadata": {},
   "outputs": [
    {
     "data": {
      "text/plain": [
       "<matplotlib.axes._subplots.AxesSubplot at 0x123536320>"
      ]
     },
     "execution_count": 55,
     "metadata": {},
     "output_type": "execute_result"
    },
    {
     "data": {
      "image/png": "[encoded data removed]",
      "text/plain": [
       "<matplotlib.figure.Figure at 0x123047ef0>"
      ]
     },
     "metadata": {},
     "output_type": "display_data"
    }
   ],
   "source": [
    "super_rugby_data.missed_tackels2.plot('hist', bins=50)"
   ]
  },
  {
   "cell_type": "markdown",
   "metadata": {},
   "source": [
    "# offloads1"
   ]
  },
  {
   "cell_type": "code",
   "execution_count": 56,
   "metadata": {},
   "outputs": [
    {
     "data": {
      "text/plain": [
       "<matplotlib.axes._subplots.AxesSubplot at 0x12373f8d0>"
      ]
     },
     "execution_count": 56,
     "metadata": {},
     "output_type": "execute_result"
    },
    {
     "data": {
      "image/png": "[encoded data removed]",
      "text/plain": [
       "<matplotlib.figure.Figure at 0x123759358>"
      ]
     },
     "metadata": {},
     "output_type": "display_data"
    }
   ],
   "source": [
    "super_rugby_data.offloads1.plot('hist', bins=50)"
   ]
  },
  {
   "cell_type": "markdown",
   "metadata": {},
   "source": [
    "# offloads2"
   ]
  },
  {
   "cell_type": "code",
   "execution_count": 57,
   "metadata": {},
   "outputs": [
    {
     "data": {
      "text/plain": [
       "<matplotlib.axes._subplots.AxesSubplot at 0x1238c7a20>"
      ]
     },
     "execution_count": 57,
     "metadata": {},
     "output_type": "execute_result"
    },
    {
     "data": {
      "image/png": "[encoded data removed]",
      "text/plain": [
       "<matplotlib.figure.Figure at 0x123911160>"
      ]
     },
     "metadata": {},
     "output_type": "display_data"
    }
   ],
   "source": [
    "super_rugby_data.offloads2.plot('hist', bins=50)"
   ]
  },
  {
   "cell_type": "markdown",
   "metadata": {},
   "source": [
    "# overall_pos1"
   ]
  },
  {
   "cell_type": "code",
   "execution_count": 58,
   "metadata": {},
   "outputs": [
    {
     "data": {
      "text/plain": [
       "<matplotlib.axes._subplots.AxesSubplot at 0x123a48710>"
      ]
     },
     "execution_count": 58,
     "metadata": {},
     "output_type": "execute_result"
    },
    {
     "data": {
      "image/png": "[encoded data removed]",
      "text/plain": [
       "<matplotlib.figure.Figure at 0x1230586a0>"
      ]
     },
     "metadata": {},
     "output_type": "display_data"
    }
   ],
   "source": [
    "super_rugby_data.overall_pos1.plot('hist', bins=50)"
   ]
  },
  {
   "cell_type": "markdown",
   "metadata": {},
   "source": [
    "# overall_pos2"
   ]
  },
  {
   "cell_type": "code",
   "execution_count": 59,
   "metadata": {},
   "outputs": [
    {
     "data": {
      "text/plain": [
       "<matplotlib.axes._subplots.AxesSubplot at 0x123d2be10>"
      ]
     },
     "execution_count": 59,
     "metadata": {},
     "output_type": "execute_result"
    },
    {
     "data": {
      "image/png": "[encoded data removed]",
      "text/plain": [
       "<matplotlib.figure.Figure at 0x123b2a978>"
      ]
     },
     "metadata": {},
     "output_type": "display_data"
    }
   ],
   "source": [
    "super_rugby_data.overall_pos2.plot('hist', bins=50)"
   ]
  },
  {
   "cell_type": "code",
   "execution_count": 8,
   "metadata": {},
   "outputs": [
    {
     "data": {
      "text/html": [
       "<div>\n",
       "<style>\n",
       "    .dataframe thead tr:only-child th {\n",
       "        text-align: right;\n",
       "    }\n",
       "\n",
       "    .dataframe thead th {\n",
       "        text-align: left;\n",
       "    }\n",
       "\n",
       "    .dataframe tbody tr th {\n",
       "        vertical-align: top;\n",
       "    }\n",
       "</style>\n",
       "<table border=\"1\" class=\"dataframe\">\n",
       "  <thead>\n",
       "    <tr style=\"text-align: right;\">\n",
       "      <th></th>\n",
       "      <th>carries1</th>\n",
       "      <th>carries2</th>\n",
       "      <th>clean_breaks1</th>\n",
       "      <th>clean_breaks2</th>\n",
       "      <th>conversion_accuracy1</th>\n",
       "      <th>conversion_accuracy2</th>\n",
       "      <th>conversions1</th>\n",
       "      <th>conversions2</th>\n",
       "      <th>defenders_beaten1</th>\n",
       "      <th>defenders_beaten2</th>\n",
       "      <th>drop_goal_accuracy1</th>\n",
       "      <th>drop_goal_accuracy2</th>\n",
       "      <th>drop_goals1</th>\n",
       "      <th>drop_goals2</th>\n",
       "      <th>kicks_in_play1</th>\n",
       "      <th>kicks_in_play2</th>\n",
       "      <th>lineouts_lost1</th>\n",
       "      <th>lineouts_lost2</th>\n",
       "      <th>lineouts_won1</th>\n",
       "      <th>lineouts_won2</th>\n",
       "      <th>match</th>\n",
       "      <th>mauls_won1</th>\n",
       "      <th>mauls_won2</th>\n",
       "      <th>meters_carried1</th>\n",
       "      <th>meters_carried2</th>\n",
       "      <th>missed_tackels1</th>\n",
       "      <th>missed_tackels2</th>\n",
       "      <th>offloads1</th>\n",
       "      <th>offloads2</th>\n",
       "      <th>overall_pos1</th>\n",
       "      <th>overall_pos2</th>\n",
       "      <th>passes1</th>\n",
       "      <th>passes2</th>\n",
       "      <th>penalties_conceded1</th>\n",
       "      <th>penalties_conceded2</th>\n",
       "      <th>penalty_goal_accuracy1</th>\n",
       "      <th>penalty_goal_accuracy2</th>\n",
       "      <th>penalty_goals1</th>\n",
       "      <th>penalty_goals2</th>\n",
       "      <th>red_cards1</th>\n",
       "      <th>red_cards2</th>\n",
       "      <th>rucks_lost1</th>\n",
       "      <th>rucks_lost2</th>\n",
       "      <th>rucks_won1</th>\n",
       "      <th>rucks_won2</th>\n",
       "      <th>score1</th>\n",
       "      <th>score2</th>\n",
       "      <th>scrums_lost1</th>\n",
       "      <th>scrums_lost2</th>\n",
       "      <th>scrums_won1</th>\n",
       "      <th>scrums_won2</th>\n",
       "      <th>season</th>\n",
       "      <th>tackles1</th>\n",
       "      <th>tackles2</th>\n",
       "      <th>team1</th>\n",
       "      <th>team2</th>\n",
       "      <th>tries1</th>\n",
       "      <th>tries2</th>\n",
       "      <th>turnovers_conceded1</th>\n",
       "      <th>turnovers_conceded2</th>\n",
       "      <th>turnovers_won1</th>\n",
       "      <th>turnovers_won2</th>\n",
       "      <th>week</th>\n",
       "      <th>yellow_cards1</th>\n",
       "      <th>yellow_cards2</th>\n",
       "    </tr>\n",
       "  </thead>\n",
       "  <tbody>\n",
       "    <tr>\n",
       "      <th>98</th>\n",
       "      <td>79</td>\n",
       "      <td>114</td>\n",
       "      <td>5</td>\n",
       "      <td>2</td>\n",
       "      <td>100.0</td>\n",
       "      <td>50.0</td>\n",
       "      <td>1</td>\n",
       "      <td>2</td>\n",
       "      <td>11</td>\n",
       "      <td>14</td>\n",
       "      <td>0.0</td>\n",
       "      <td>0.0</td>\n",
       "      <td>0</td>\n",
       "      <td>0</td>\n",
       "      <td>18</td>\n",
       "      <td>22</td>\n",
       "      <td>4</td>\n",
       "      <td>0</td>\n",
       "      <td>10</td>\n",
       "      <td>9</td>\n",
       "      <td>5</td>\n",
       "      <td>0</td>\n",
       "      <td>0</td>\n",
       "      <td>262</td>\n",
       "      <td>243</td>\n",
       "      <td>14</td>\n",
       "      <td>11</td>\n",
       "      <td>5</td>\n",
       "      <td>12</td>\n",
       "      <td>66.3</td>\n",
       "      <td>133.7</td>\n",
       "      <td>90</td>\n",
       "      <td>115</td>\n",
       "      <td>11</td>\n",
       "      <td>10</td>\n",
       "      <td>100.0</td>\n",
       "      <td>100.0</td>\n",
       "      <td>4</td>\n",
       "      <td>5</td>\n",
       "      <td>0</td>\n",
       "      <td>0</td>\n",
       "      <td>2</td>\n",
       "      <td>1</td>\n",
       "      <td>57</td>\n",
       "      <td>92</td>\n",
       "      <td>19</td>\n",
       "      <td>27</td>\n",
       "      <td>1</td>\n",
       "      <td>0</td>\n",
       "      <td>5</td>\n",
       "      <td>8</td>\n",
       "      <td>2012</td>\n",
       "      <td>122</td>\n",
       "      <td>87</td>\n",
       "      <td>Rebels</td>\n",
       "      <td>Brumbies</td>\n",
       "      <td>1</td>\n",
       "      <td>2</td>\n",
       "      <td>8</td>\n",
       "      <td>6</td>\n",
       "      <td>0</td>\n",
       "      <td>0</td>\n",
       "      <td>15</td>\n",
       "      <td>1</td>\n",
       "      <td>0</td>\n",
       "    </tr>\n",
       "  </tbody>\n",
       "</table>\n",
       "</div>"
      ],
      "text/plain": [
       "    carries1  carries2  clean_breaks1  clean_breaks2  conversion_accuracy1  \\\n",
       "98        79       114              5              2                 100.0   \n",
       "\n",
       "    conversion_accuracy2  conversions1  conversions2  defenders_beaten1  \\\n",
       "98                  50.0             1             2                 11   \n",
       "\n",
       "    defenders_beaten2  drop_goal_accuracy1  drop_goal_accuracy2  drop_goals1  \\\n",
       "98                 14                  0.0                  0.0            0   \n",
       "\n",
       "    drop_goals2  kicks_in_play1  kicks_in_play2  lineouts_lost1  \\\n",
       "98            0              18              22               4   \n",
       "\n",
       "    lineouts_lost2  lineouts_won1  lineouts_won2  match  mauls_won1  \\\n",
       "98               0             10              9      5           0   \n",
       "\n",
       "    mauls_won2  meters_carried1  meters_carried2  missed_tackels1  \\\n",
       "98           0              262              243               14   \n",
       "\n",
       "    missed_tackels2  offloads1  offloads2  overall_pos1  overall_pos2  \\\n",
       "98               11          5         12          66.3         133.7   \n",
       "\n",
       "    passes1  passes2  penalties_conceded1  penalties_conceded2  \\\n",
       "98       90      115                   11                   10   \n",
       "\n",
       "    penalty_goal_accuracy1  penalty_goal_accuracy2  penalty_goals1  \\\n",
       "98                   100.0                   100.0               4   \n",
       "\n",
       "    penalty_goals2  red_cards1  red_cards2  rucks_lost1  rucks_lost2  \\\n",
       "98               5           0           0            2            1   \n",
       "\n",
       "    rucks_won1  rucks_won2  score1  score2  scrums_lost1  scrums_lost2  \\\n",
       "98          57          92      19      27             1             0   \n",
       "\n",
       "    scrums_won1  scrums_won2  season  tackles1  tackles2   team1     team2  \\\n",
       "98            5            8    2012       122        87  Rebels  Brumbies   \n",
       "\n",
       "    tries1  tries2  turnovers_conceded1  turnovers_conceded2  turnovers_won1  \\\n",
       "98       1       2                    8                    6               0   \n",
       "\n",
       "    turnovers_won2  week  yellow_cards1  yellow_cards2  \n",
       "98               0    15              1              0  "
      ]
     },
     "execution_count": 8,
     "metadata": {},
     "output_type": "execute_result"
    }
   ],
   "source": [
    "# overall possestion cannot be 0 or 100, also there is scenario where it is more than 100%\n",
    "# closer look at the scenario of more than 100% shows that this due to inconsistency in website\n",
    "# we can correct for that manually\n",
    "super_rugby_data[super_rugby_data.overall_pos2 > 100]"
   ]
  },
  {
   "cell_type": "code",
   "execution_count": 9,
   "metadata": {
    "collapsed": true
   },
   "outputs": [],
   "source": [
    "super_rugby_data.loc[98,'overall_pos1'] = 33.3\n",
    "super_rugby_data.loc[98,'overall_pos2'] = 66.7"
   ]
  },
  {
   "cell_type": "code",
   "execution_count": 10,
   "metadata": {
    "collapsed": true
   },
   "outputs": [],
   "source": [
    "# 0% and 100% has to be corrected with imputation\n",
    "super_rugby_data.overall_pos1 = super_rugby_data.overall_pos1.replace([0,100],np.nan)\n",
    "super_rugby_data.overall_pos2 = super_rugby_data.overall_pos2.replace([0,100],np.nan)"
   ]
  },
  {
   "cell_type": "code",
   "execution_count": 11,
   "metadata": {
    "collapsed": true
   },
   "outputs": [],
   "source": [
    "# let look at possestion difference and point difference\n",
    "point_diff = np.abs(super_rugby_data.score1 - super_rugby_data.score2)\n",
    "pos_diff = np.abs(super_rugby_data.overall_pos1 - super_rugby_data.overall_pos2)"
   ]
  },
  {
   "cell_type": "code",
   "execution_count": 12,
   "metadata": {},
   "outputs": [
    {
     "data": {
      "text/plain": [
       "<matplotlib.collections.PathCollection at 0x1a14dd3550>"
      ]
     },
     "execution_count": 12,
     "metadata": {},
     "output_type": "execute_result"
    },
    {
     "data": {
      "image/png": "[encoded data removed]",
      "text/plain": [
       "<matplotlib.figure.Figure at 0x1a0fe55e48>"
      ]
     },
     "metadata": {},
     "output_type": "display_data"
    }
   ],
   "source": [
    "plt.scatter(pos_diff, point_diff)"
   ]
  },
  {
   "cell_type": "code",
   "execution_count": 13,
   "metadata": {},
   "outputs": [
    {
     "data": {
      "text/plain": [
       "array([[ 1.        ,  0.10930864],\n",
       "       [ 0.10930864,  1.        ]])"
      ]
     },
     "execution_count": 13,
     "metadata": {},
     "output_type": "execute_result"
    }
   ],
   "source": [
    "np.corrcoef(pos_diff[~pos_diff.isnull()], point_diff[~pos_diff.isnull()])"
   ]
  },
  {
   "cell_type": "code",
   "execution_count": 14,
   "metadata": {
    "collapsed": true
   },
   "outputs": [],
   "source": [
    "met_diff = np.abs(super_rugby_data.meters_carried1 - super_rugby_data.meters_carried2)"
   ]
  },
  {
   "cell_type": "code",
   "execution_count": 15,
   "metadata": {},
   "outputs": [
    {
     "data": {
      "text/plain": [
       "<matplotlib.collections.PathCollection at 0x1a181c9ac8>"
      ]
     },
     "execution_count": 15,
     "metadata": {},
     "output_type": "execute_result"
    },
    {
     "data": {
      "image/png": "[encoded data removed]",
      "text/plain": [
       "<matplotlib.figure.Figure at 0x109dc2748>"
      ]
     },
     "metadata": {},
     "output_type": "display_data"
    }
   ],
   "source": [
    "plt.scatter(pos_diff, met_diff)"
   ]
  },
  {
   "cell_type": "code",
   "execution_count": 16,
   "metadata": {},
   "outputs": [
    {
     "data": {
      "text/plain": [
       "array([[ 1.        ,  0.09400226],\n",
       "       [ 0.09400226,  1.        ]])"
      ]
     },
     "execution_count": 16,
     "metadata": {},
     "output_type": "execute_result"
    }
   ],
   "source": [
    "np.corrcoef(pos_diff[~pos_diff.isnull()], met_diff[~pos_diff.isnull()])"
   ]
  },
  {
   "cell_type": "code",
   "execution_count": 22,
   "metadata": {},
   "outputs": [
    {
     "data": {
      "text/plain": [
       "LinearRegression(copy_X=True, fit_intercept=True, n_jobs=1, normalize=False)"
      ]
     },
     "execution_count": 22,
     "metadata": {},
     "output_type": "execute_result"
    }
   ],
   "source": [
    "# we will use linear regression between point difference and possesion difference\n",
    "# impute values\n",
    "lm = LinearRegression()\n",
    "X = point_diff[~pos_diff.isnull()].values.reshape(-1,1)\n",
    "y = pos_diff[~pos_diff.isnull()]\n",
    "lm.fit(X, y)"
   ]
  },
  {
   "cell_type": "code",
   "execution_count": 26,
   "metadata": {},
   "outputs": [],
   "source": [
    "# predictions of possestion differences\n",
    "pred_pos_diff = lm.predict(point_diff[pos_diff.isnull()].values.reshape(-1,1))"
   ]
  },
  {
   "cell_type": "code",
   "execution_count": 34,
   "metadata": {},
   "outputs": [],
   "source": [
    "pred_pos = []\n",
    "for ppd,sc1,sc2 in zip(pred_pos_diff, \n",
    "                       super_rugby_data.score1[pos_diff.isnull()], \n",
    "                       super_rugby_data.score2[pos_diff.isnull()]):\n",
    "    if sc1>sc2:\n",
    "        pos1 = (ppd+100)/2\n",
    "        pos2 = (100-pos1)\n",
    "        pred_pos.append([pos1, pos2])\n",
    "    elif sc2>sc1:\n",
    "        pos2 = (ppd+100)/2\n",
    "        pos1 = (100-pos2)\n",
    "        pred_pos.append([pos1, pos2])\n",
    "    else:\n",
    "        pred_pos.append([50,50])"
   ]
  },
  {
   "cell_type": "code",
   "execution_count": 36,
   "metadata": {},
   "outputs": [
    {
     "data": {
      "text/plain": [
       "array([ 58.20070606,  41.79929394])"
      ]
     },
     "execution_count": 36,
     "metadata": {},
     "output_type": "execute_result"
    }
   ],
   "source": [
    "pred_pos = np.array(pred_pos)\n",
    "pred_pos[0]"
   ]
  },
  {
   "cell_type": "code",
   "execution_count": 39,
   "metadata": {},
   "outputs": [
    {
     "data": {
      "text/plain": [
       "array([ 58.20070606,  57.99427175,  58.06308319,  58.20070606,\n",
       "        59.98980343,  41.59285962,  41.11117956,  59.98980343,\n",
       "        41.7304825 ,  41.179991  ,  59.02644331,  58.13189463,\n",
       "        59.3705005 ,  42.07453968,  40.69831094,  59.43931193,\n",
       "        41.66167106,  59.16406619,  59.09525475,  59.16406619,\n",
       "        60.74672924,  58.2695175 ,  58.2695175 ,  59.85218056,\n",
       "        41.52404819,  41.66167106,  58.20070606,  58.13189463,\n",
       "        59.3705005 ,  58.33832894,  39.80376226,  41.7304825 ,\n",
       "        58.820009  ,  57.92546032,  57.92546032,  58.2695175 ,\n",
       "        59.23287762,  41.79929394,  57.92546032,  42.00572825,\n",
       "        58.20070606,  59.57693481,  41.31761387])"
      ]
     },
     "execution_count": 39,
     "metadata": {},
     "output_type": "execute_result"
    }
   ],
   "source": [
    "pred_pos[:,0]"
   ]
  },
  {
   "cell_type": "code",
   "execution_count": 40,
   "metadata": {},
   "outputs": [
    {
     "name": "stderr",
     "output_type": "stream",
     "text": [
      "/Users/nis89mad/anaconda3/envs/python3/lib/python3.6/site-packages/ipykernel_launcher.py:2: SettingWithCopyWarning: \n",
      "A value is trying to be set on a copy of a slice from a DataFrame\n",
      "\n",
      "See the caveats in the documentation: http://pandas.pydata.org/pandas-docs/stable/indexing.html#indexing-view-versus-copy\n",
      "  \n",
      "/Users/nis89mad/anaconda3/envs/python3/lib/python3.6/site-packages/ipykernel_launcher.py:3: SettingWithCopyWarning: \n",
      "A value is trying to be set on a copy of a slice from a DataFrame\n",
      "\n",
      "See the caveats in the documentation: http://pandas.pydata.org/pandas-docs/stable/indexing.html#indexing-view-versus-copy\n",
      "  This is separate from the ipykernel package so we can avoid doing imports until\n"
     ]
    }
   ],
   "source": [
    "# we can substitute predicted possetion values\n",
    "super_rugby_data.overall_pos1[pos_diff.isnull()] = pred_pos[:,0] # get overall_pos1\n",
    "super_rugby_data.overall_pos2[pos_diff.isnull()] = pred_pos[:,1] # get overall_pos2"
   ]
  },
  {
   "cell_type": "code",
   "execution_count": 41,
   "metadata": {},
   "outputs": [
    {
     "data": {
      "text/plain": [
       "<matplotlib.axes._subplots.AxesSubplot at 0x1a180b9470>"
      ]
     },
     "execution_count": 41,
     "metadata": {},
     "output_type": "execute_result"
    },
    {
     "data": {
      "image/png": "[encoded data removed]",
      "text/plain": [
       "<matplotlib.figure.Figure at 0x1a1809cef0>"
      ]
     },
     "metadata": {},
     "output_type": "display_data"
    }
   ],
   "source": [
    "# corrected overall possestion 1\n",
    "super_rugby_data.overall_pos1.plot('hist', bins=50)"
   ]
  },
  {
   "cell_type": "code",
   "execution_count": 42,
   "metadata": {},
   "outputs": [
    {
     "data": {
      "text/plain": [
       "<matplotlib.axes._subplots.AxesSubplot at 0x1a18206f98>"
      ]
     },
     "execution_count": 42,
     "metadata": {},
     "output_type": "execute_result"
    },
    {
     "data": {
      "image/png": "[encoded data removed]",
      "text/plain": [
       "<matplotlib.figure.Figure at 0x1a1889c470>"
      ]
     },
     "metadata": {},
     "output_type": "display_data"
    }
   ],
   "source": [
    "# corrected overall possestion 2\n",
    "super_rugby_data.overall_pos2.plot('hist', bins=50)"
   ]
  },
  {
   "cell_type": "markdown",
   "metadata": {},
   "source": [
    "# passes1"
   ]
  },
  {
   "cell_type": "code",
   "execution_count": 46,
   "metadata": {},
   "outputs": [
    {
     "data": {
      "text/plain": [
       "<matplotlib.axes._subplots.AxesSubplot at 0x1a1899b400>"
      ]
     },
     "execution_count": 46,
     "metadata": {},
     "output_type": "execute_result"
    },
    {
     "data": {
      "image/png": "[encoded data removed]",
      "text/plain": [
       "<matplotlib.figure.Figure at 0x108624390>"
      ]
     },
     "metadata": {},
     "output_type": "display_data"
    }
   ],
   "source": [
    "super_rugby_data.passes1.plot('hist', bins=50)"
   ]
  },
  {
   "cell_type": "markdown",
   "metadata": {},
   "source": [
    "# passes2"
   ]
  },
  {
   "cell_type": "code",
   "execution_count": 47,
   "metadata": {},
   "outputs": [
    {
     "data": {
      "text/plain": [
       "<matplotlib.axes._subplots.AxesSubplot at 0x1a18e2ed68>"
      ]
     },
     "execution_count": 47,
     "metadata": {},
     "output_type": "execute_result"
    },
    {
     "data": {
      "image/png": "[encoded data removed]",
      "text/plain": [
       "<matplotlib.figure.Figure at 0x1a18adac88>"
      ]
     },
     "metadata": {},
     "output_type": "display_data"
    }
   ],
   "source": [
    "super_rugby_data.passes2.plot('hist', bins=50)"
   ]
  },
  {
   "cell_type": "markdown",
   "metadata": {},
   "source": [
    "# penalties_conceded1"
   ]
  },
  {
   "cell_type": "code",
   "execution_count": 48,
   "metadata": {},
   "outputs": [
    {
     "data": {
      "text/plain": [
       "<matplotlib.axes._subplots.AxesSubplot at 0x1a1915ffd0>"
      ]
     },
     "execution_count": 48,
     "metadata": {},
     "output_type": "execute_result"
    },
    {
     "data": {
      "image/png": "[encoded data removed]",
      "text/plain": [
       "<matplotlib.figure.Figure at 0x1a18e6da58>"
      ]
     },
     "metadata": {},
     "output_type": "display_data"
    }
   ],
   "source": [
    "super_rugby_data.penalties_conceded1.plot('hist', bins=50)"
   ]
  },
  {
   "cell_type": "markdown",
   "metadata": {},
   "source": [
    "# penalties_conceded2"
   ]
  },
  {
   "cell_type": "code",
   "execution_count": 49,
   "metadata": {},
   "outputs": [
    {
     "data": {
      "text/plain": [
       "<matplotlib.axes._subplots.AxesSubplot at 0x1a19374c50>"
      ]
     },
     "execution_count": 49,
     "metadata": {},
     "output_type": "execute_result"
    },
    {
     "data": {
      "image/png": "[encoded data removed]",
      "text/plain": [
       "<matplotlib.figure.Figure at 0x1a18d69320>"
      ]
     },
     "metadata": {},
     "output_type": "display_data"
    }
   ],
   "source": [
    "super_rugby_data.penalties_conceded2.plot('hist', bins=50)"
   ]
  },
  {
   "cell_type": "markdown",
   "metadata": {},
   "source": [
    "# penalty_goal_accuracy1"
   ]
  },
  {
   "cell_type": "code",
   "execution_count": 50,
   "metadata": {},
   "outputs": [
    {
     "data": {
      "text/plain": [
       "<matplotlib.axes._subplots.AxesSubplot at 0x1a19590b00>"
      ]
     },
     "execution_count": 50,
     "metadata": {},
     "output_type": "execute_result"
    },
    {
     "data": {
      "image/png": "[encoded data removed]",
      "text/plain": [
       "<matplotlib.figure.Figure at 0x1a18f64438>"
      ]
     },
     "metadata": {},
     "output_type": "display_data"
    }
   ],
   "source": [
    "super_rugby_data.penalty_goal_accuracy1.plot('hist', bins=50)"
   ]
  },
  {
   "cell_type": "markdown",
   "metadata": {},
   "source": [
    "# penalty_goal_accuracy2"
   ]
  },
  {
   "cell_type": "code",
   "execution_count": 51,
   "metadata": {},
   "outputs": [
    {
     "data": {
      "text/plain": [
       "<matplotlib.axes._subplots.AxesSubplot at 0x1a197a7550>"
      ]
     },
     "execution_count": 51,
     "metadata": {},
     "output_type": "execute_result"
    },
    {
     "data": {
      "image/png": "[encoded data removed]",
      "text/plain": [
       "<matplotlib.figure.Figure at 0x1a189b5fd0>"
      ]
     },
     "metadata": {},
     "output_type": "display_data"
    }
   ],
   "source": [
    "super_rugby_data.penalty_goal_accuracy2.plot('hist', bins=50)"
   ]
  },
  {
   "cell_type": "markdown",
   "metadata": {},
   "source": [
    "# penalty_goals1"
   ]
  },
  {
   "cell_type": "code",
   "execution_count": 52,
   "metadata": {},
   "outputs": [
    {
     "data": {
      "text/plain": [
       "<matplotlib.axes._subplots.AxesSubplot at 0x1a199c00f0>"
      ]
     },
     "execution_count": 52,
     "metadata": {},
     "output_type": "execute_result"
    },
    {
     "data": {
      "image/png": "[encoded data removed]",
      "text/plain": [
       "<matplotlib.figure.Figure at 0x1a18bff470>"
      ]
     },
     "metadata": {},
     "output_type": "display_data"
    }
   ],
   "source": [
    "super_rugby_data.penalty_goals1.plot('hist', bins=50)"
   ]
  },
  {
   "cell_type": "markdown",
   "metadata": {},
   "source": [
    "# penalty_goals2"
   ]
  },
  {
   "cell_type": "code",
   "execution_count": 53,
   "metadata": {},
   "outputs": [
    {
     "data": {
      "text/plain": [
       "<matplotlib.axes._subplots.AxesSubplot at 0x1a19bdac50>"
      ]
     },
     "execution_count": 53,
     "metadata": {},
     "output_type": "execute_result"
    },
    {
     "data": {
      "image/png": "[encoded data removed]",
      "text/plain": [
       "<matplotlib.figure.Figure at 0x1a191dd860>"
      ]
     },
     "metadata": {},
     "output_type": "display_data"
    }
   ],
   "source": [
    "super_rugby_data.penalty_goals2.plot('hist', bins=50)"
   ]
  },
  {
   "cell_type": "markdown",
   "metadata": {},
   "source": [
    "# red_cards1"
   ]
  },
  {
   "cell_type": "code",
   "execution_count": 54,
   "metadata": {},
   "outputs": [
    {
     "data": {
      "text/plain": [
       "<matplotlib.axes._subplots.AxesSubplot at 0x1a19e000b8>"
      ]
     },
     "execution_count": 54,
     "metadata": {},
     "output_type": "execute_result"
    },
    {
     "data": {
      "image/png": "[encoded data removed]",
      "text/plain": [
       "<matplotlib.figure.Figure at 0x1a19a0f668>"
      ]
     },
     "metadata": {},
     "output_type": "display_data"
    }
   ],
   "source": [
    "super_rugby_data.red_cards1.plot('hist', bins=50)"
   ]
  },
  {
   "cell_type": "markdown",
   "metadata": {},
   "source": [
    "# red_cards2"
   ]
  },
  {
   "cell_type": "code",
   "execution_count": 55,
   "metadata": {},
   "outputs": [
    {
     "data": {
      "text/plain": [
       "<matplotlib.axes._subplots.AxesSubplot at 0x1a1a027828>"
      ]
     },
     "execution_count": 55,
     "metadata": {},
     "output_type": "execute_result"
    },
    {
     "data": {
      "image/png": "[encoded data removed]",
      "text/plain": [
       "<matplotlib.figure.Figure at 0x1a19df0518>"
      ]
     },
     "metadata": {},
     "output_type": "display_data"
    }
   ],
   "source": [
    "super_rugby_data.red_cards2.plot('hist', bins=50)"
   ]
  },
  {
   "cell_type": "markdown",
   "metadata": {},
   "source": [
    "# rucks_lost1"
   ]
  },
  {
   "cell_type": "code",
   "execution_count": 56,
   "metadata": {},
   "outputs": [
    {
     "data": {
      "text/plain": [
       "<matplotlib.axes._subplots.AxesSubplot at 0x1a1a24f358>"
      ]
     },
     "execution_count": 56,
     "metadata": {},
     "output_type": "execute_result"
    },
    {
     "data": {
      "image/png": "[encoded data removed]",
      "text/plain": [
       "<matplotlib.figure.Figure at 0x1a18c21cc0>"
      ]
     },
     "metadata": {},
     "output_type": "display_data"
    }
   ],
   "source": [
    "super_rugby_data.rucks_lost1.plot('hist', bins=50)"
   ]
  },
  {
   "cell_type": "markdown",
   "metadata": {},
   "source": [
    "# rucks_lost2"
   ]
  },
  {
   "cell_type": "code",
   "execution_count": 57,
   "metadata": {},
   "outputs": [
    {
     "data": {
      "text/plain": [
       "<matplotlib.axes._subplots.AxesSubplot at 0x1a1a47c710>"
      ]
     },
     "execution_count": 57,
     "metadata": {},
     "output_type": "execute_result"
    },
    {
     "data": {
      "image/png": "[encoded data removed]",
      "text/plain": [
       "<matplotlib.figure.Figure at 0x1a1a31d9e8>"
      ]
     },
     "metadata": {},
     "output_type": "display_data"
    }
   ],
   "source": [
    "super_rugby_data.rucks_lost2.plot('hist', bins=50)"
   ]
  },
  {
   "cell_type": "markdown",
   "metadata": {},
   "source": [
    "# rucks_won1"
   ]
  },
  {
   "cell_type": "code",
   "execution_count": 58,
   "metadata": {},
   "outputs": [
    {
     "data": {
      "text/plain": [
       "<matplotlib.axes._subplots.AxesSubplot at 0x1a1a4d09b0>"
      ]
     },
     "execution_count": 58,
     "metadata": {},
     "output_type": "execute_result"
    },
    {
     "data": {
      "image/png": "[encoded data removed]",
      "text/plain": [
       "<matplotlib.figure.Figure at 0x1a18f58c18>"
      ]
     },
     "metadata": {},
     "output_type": "display_data"
    }
   ],
   "source": [
    "super_rugby_data.rucks_won1.plot('hist', bins=50)"
   ]
  },
  {
   "cell_type": "markdown",
   "metadata": {},
   "source": [
    "# rucks_won2"
   ]
  },
  {
   "cell_type": "code",
   "execution_count": 59,
   "metadata": {},
   "outputs": [
    {
     "data": {
      "text/plain": [
       "<matplotlib.axes._subplots.AxesSubplot at 0x1a1a8b3518>"
      ]
     },
     "execution_count": 59,
     "metadata": {},
     "output_type": "execute_result"
    },
    {
     "data": {
      "image/png": "[encoded data removed]",
      "text/plain": [
       "<matplotlib.figure.Figure at 0x1a1a5473c8>"
      ]
     },
     "metadata": {},
     "output_type": "display_data"
    }
   ],
   "source": [
    "super_rugby_data.rucks_won2.plot('hist', bins=50)"
   ]
  },
  {
   "cell_type": "markdown",
   "metadata": {},
   "source": [
    "# score1"
   ]
  },
  {
   "cell_type": "code",
   "execution_count": 60,
   "metadata": {},
   "outputs": [
    {
     "data": {
      "text/plain": [
       "<matplotlib.axes._subplots.AxesSubplot at 0x1a1aa37eb8>"
      ]
     },
     "execution_count": 60,
     "metadata": {},
     "output_type": "execute_result"
    },
    {
     "data": {
      "image/png": "[encoded data removed]",
      "text/plain": [
       "<matplotlib.figure.Figure at 0x1a1a3294e0>"
      ]
     },
     "metadata": {},
     "output_type": "display_data"
    }
   ],
   "source": [
    "super_rugby_data.score1.plot('hist', bins=50)"
   ]
  },
  {
   "cell_type": "markdown",
   "metadata": {},
   "source": [
    "# score2"
   ]
  },
  {
   "cell_type": "code",
   "execution_count": 61,
   "metadata": {},
   "outputs": [
    {
     "data": {
      "text/plain": [
       "<matplotlib.axes._subplots.AxesSubplot at 0x1a1ac4df98>"
      ]
     },
     "execution_count": 61,
     "metadata": {},
     "output_type": "execute_result"
    },
    {
     "data": {
      "image/png": "[encoded data removed]",
      "text/plain": [
       "<matplotlib.figure.Figure at 0x1a1ac0f780>"
      ]
     },
     "metadata": {},
     "output_type": "display_data"
    }
   ],
   "source": [
    "super_rugby_data.score2.plot('hist', bins=50)"
   ]
  },
  {
   "cell_type": "markdown",
   "metadata": {},
   "source": [
    "# scrums_lost1"
   ]
  },
  {
   "cell_type": "code",
   "execution_count": 62,
   "metadata": {},
   "outputs": [
    {
     "data": {
      "text/plain": [
       "<matplotlib.axes._subplots.AxesSubplot at 0x1a1aef79b0>"
      ]
     },
     "execution_count": 62,
     "metadata": {},
     "output_type": "execute_result"
    },
    {
     "data": {
      "image/png": "[encoded data removed]",
      "text/plain": [
       "<matplotlib.figure.Figure at 0x1a1af04978>"
      ]
     },
     "metadata": {},
     "output_type": "display_data"
    }
   ],
   "source": [
    "super_rugby_data.scrums_lost1.plot('hist', bins=50)"
   ]
  },
  {
   "cell_type": "markdown",
   "metadata": {},
   "source": [
    "# scrums_lost2"
   ]
  },
  {
   "cell_type": "code",
   "execution_count": 64,
   "metadata": {},
   "outputs": [
    {
     "data": {
      "text/plain": [
       "<matplotlib.axes._subplots.AxesSubplot at 0x1a1b328208>"
      ]
     },
     "execution_count": 64,
     "metadata": {},
     "output_type": "execute_result"
    },
    {
     "data": {
      "image/png": "[encoded data removed]",
      "text/plain": [
       "<matplotlib.figure.Figure at 0x1a1b33bf98>"
      ]
     },
     "metadata": {},
     "output_type": "display_data"
    }
   ],
   "source": [
    "super_rugby_data.scrums_lost2.plot('hist', bins=50)"
   ]
  },
  {
   "cell_type": "markdown",
   "metadata": {},
   "source": [
    "# scrums_won1"
   ]
  },
  {
   "cell_type": "code",
   "execution_count": 65,
   "metadata": {},
   "outputs": [
    {
     "data": {
      "text/plain": [
       "<matplotlib.axes._subplots.AxesSubplot at 0x1a1b489f60>"
      ]
     },
     "execution_count": 65,
     "metadata": {},
     "output_type": "execute_result"
    },
    {
     "data": {
      "image/png": "[encoded data removed]",
      "text/plain": [
       "<matplotlib.figure.Figure at 0x1a1b0edbe0>"
      ]
     },
     "metadata": {},
     "output_type": "display_data"
    }
   ],
   "source": [
    "super_rugby_data.scrums_won1.plot('hist', bins=50)"
   ]
  },
  {
   "cell_type": "markdown",
   "metadata": {},
   "source": [
    "# scrums_won2"
   ]
  },
  {
   "cell_type": "code",
   "execution_count": 66,
   "metadata": {},
   "outputs": [
    {
     "data": {
      "text/plain": [
       "<matplotlib.axes._subplots.AxesSubplot at 0x1a1b76c160>"
      ]
     },
     "execution_count": 66,
     "metadata": {},
     "output_type": "execute_result"
    },
    {
     "data": {
      "image/png": "[encoded data removed]",
      "text/plain": [
       "<matplotlib.figure.Figure at 0x1a1b1b4748>"
      ]
     },
     "metadata": {},
     "output_type": "display_data"
    }
   ],
   "source": [
    "super_rugby_data.scrums_won2.plot('hist', bins=50)"
   ]
  },
  {
   "cell_type": "markdown",
   "metadata": {},
   "source": [
    "# season"
   ]
  },
  {
   "cell_type": "code",
   "execution_count": 67,
   "metadata": {},
   "outputs": [
    {
     "data": {
      "text/plain": [
       "2017    135\n",
       "2016    135\n",
       "2015    120\n",
       "2014    120\n",
       "2012    120\n",
       "2013    118\n",
       "Name: season, dtype: int64"
      ]
     },
     "execution_count": 67,
     "metadata": {},
     "output_type": "execute_result"
    }
   ],
   "source": [
    "super_rugby_data.season.value_counts() # data for two matches missing from 2013"
   ]
  },
  {
   "cell_type": "markdown",
   "metadata": {},
   "source": [
    "# tackles1"
   ]
  },
  {
   "cell_type": "code",
   "execution_count": 68,
   "metadata": {},
   "outputs": [
    {
     "data": {
      "text/plain": [
       "<matplotlib.axes._subplots.AxesSubplot at 0x1a1bae6c50>"
      ]
     },
     "execution_count": 68,
     "metadata": {},
     "output_type": "execute_result"
    },
    {
     "data": {
      "image/png": "[encoded data removed]",
      "text/plain": [
       "<matplotlib.figure.Figure at 0x1a1ba034a8>"
      ]
     },
     "metadata": {},
     "output_type": "display_data"
    }
   ],
   "source": [
    "super_rugby_data.tackles1.plot('hist', bins=50)"
   ]
  },
  {
   "cell_type": "markdown",
   "metadata": {},
   "source": [
    "# tackles2"
   ]
  },
  {
   "cell_type": "code",
   "execution_count": 69,
   "metadata": {},
   "outputs": [
    {
     "data": {
      "text/plain": [
       "<matplotlib.axes._subplots.AxesSubplot at 0x1a1bb3bc18>"
      ]
     },
     "execution_count": 69,
     "metadata": {},
     "output_type": "execute_result"
    },
    {
     "data": {
      "image/png": "[encoded data removed]",
      "text/plain": [
       "<matplotlib.figure.Figure at 0x1a1b9f9208>"
      ]
     },
     "metadata": {},
     "output_type": "display_data"
    }
   ],
   "source": [
    "super_rugby_data.tackles2.plot('hist', bins=50)"
   ]
  },
  {
   "cell_type": "markdown",
   "metadata": {},
   "source": [
    "# team1"
   ]
  },
  {
   "cell_type": "code",
   "execution_count": 70,
   "metadata": {},
   "outputs": [
    {
     "data": {
      "text/plain": [
       "Hurricanes     47\n",
       "Highlanders    47\n",
       "Brumbies       47\n",
       "Cheetahs       47\n",
       "Chiefs         47\n",
       "Crusaders      47\n",
       "Force          47\n",
       "Blues          47\n",
       "Rebels         47\n",
       "Reds           47\n",
       "Sharks         47\n",
       "Stormers       47\n",
       "Bulls          46\n",
       "Waratahs       46\n",
       "Lions          39\n",
       "Kings          23\n",
       "Jaguares       15\n",
       "Sunwolves      15\n",
       "Name: team1, dtype: int64"
      ]
     },
     "execution_count": 70,
     "metadata": {},
     "output_type": "execute_result"
    }
   ],
   "source": [
    "super_rugby_data.team1.value_counts()\n",
    "# teams with less counts are new teams that joined the league"
   ]
  },
  {
   "cell_type": "markdown",
   "metadata": {},
   "source": [
    "# team2"
   ]
  },
  {
   "cell_type": "code",
   "execution_count": 71,
   "metadata": {},
   "outputs": [
    {
     "data": {
      "text/plain": [
       "Waratahs       47\n",
       "Highlanders    47\n",
       "Brumbies       47\n",
       "Bulls          47\n",
       "Cheetahs       47\n",
       "Chiefs         47\n",
       "Crusaders      47\n",
       "Blues          47\n",
       "Rebels         47\n",
       "Reds           47\n",
       "Sharks         47\n",
       "Stormers       47\n",
       "Force          46\n",
       "Hurricanes     46\n",
       "Lions          39\n",
       "Kings          23\n",
       "Jaguares       15\n",
       "Sunwolves      15\n",
       "Name: team2, dtype: int64"
      ]
     },
     "execution_count": 71,
     "metadata": {},
     "output_type": "execute_result"
    }
   ],
   "source": [
    "super_rugby_data.team2.value_counts()"
   ]
  },
  {
   "cell_type": "markdown",
   "metadata": {},
   "source": [
    "# tries1"
   ]
  },
  {
   "cell_type": "code",
   "execution_count": 72,
   "metadata": {},
   "outputs": [
    {
     "data": {
      "text/plain": [
       "<matplotlib.axes._subplots.AxesSubplot at 0x1a1be2e1d0>"
      ]
     },
     "execution_count": 72,
     "metadata": {},
     "output_type": "execute_result"
    },
    {
     "data": {
      "image/png": "[encoded data removed]",
      "text/plain": [
       "<matplotlib.figure.Figure at 0x1a1bc7bc50>"
      ]
     },
     "metadata": {},
     "output_type": "display_data"
    }
   ],
   "source": [
    "super_rugby_data.tries1.plot('hist', bins=50)"
   ]
  },
  {
   "cell_type": "markdown",
   "metadata": {},
   "source": [
    "# tries2"
   ]
  },
  {
   "cell_type": "code",
   "execution_count": 73,
   "metadata": {},
   "outputs": [
    {
     "data": {
      "text/plain": [
       "<matplotlib.axes._subplots.AxesSubplot at 0x1a1bed1eb8>"
      ]
     },
     "execution_count": 73,
     "metadata": {},
     "output_type": "execute_result"
    },
    {
     "data": {
      "image/png": "[encoded data removed]",
      "text/plain": [
       "<matplotlib.figure.Figure at 0x1a1c08c0b8>"
      ]
     },
     "metadata": {},
     "output_type": "display_data"
    }
   ],
   "source": [
    "super_rugby_data.tries2.plot('hist', bins=50)"
   ]
  },
  {
   "cell_type": "markdown",
   "metadata": {},
   "source": [
    "# turnovers_conceded1"
   ]
  },
  {
   "cell_type": "code",
   "execution_count": 74,
   "metadata": {},
   "outputs": [
    {
     "data": {
      "text/plain": [
       "<matplotlib.axes._subplots.AxesSubplot at 0x1a1c2a5da0>"
      ]
     },
     "execution_count": 74,
     "metadata": {},
     "output_type": "execute_result"
    },
    {
     "data": {
      "image/png": "[encoded data removed]",
      "text/plain": [
       "<matplotlib.figure.Figure at 0x1a1bb12a20>"
      ]
     },
     "metadata": {},
     "output_type": "display_data"
    }
   ],
   "source": [
    "super_rugby_data.turnovers_conceded1.plot('hist', bins=50)"
   ]
  },
  {
   "cell_type": "markdown",
   "metadata": {},
   "source": [
    "# turnovers_conceded2"
   ]
  },
  {
   "cell_type": "code",
   "execution_count": 75,
   "metadata": {},
   "outputs": [
    {
     "data": {
      "text/plain": [
       "<matplotlib.axes._subplots.AxesSubplot at 0x1a1c4bc6a0>"
      ]
     },
     "execution_count": 75,
     "metadata": {},
     "output_type": "execute_result"
    },
    {
     "data": {
      "image/png": "[encoded data removed]",
      "text/plain": [
       "<matplotlib.figure.Figure at 0x1a1c4d1438>"
      ]
     },
     "metadata": {},
     "output_type": "display_data"
    }
   ],
   "source": [
    "super_rugby_data.turnovers_conceded2.plot('hist', bins=50)"
   ]
  },
  {
   "cell_type": "markdown",
   "metadata": {},
   "source": [
    "# turnovers_won1"
   ]
  },
  {
   "cell_type": "code",
   "execution_count": 76,
   "metadata": {},
   "outputs": [
    {
     "data": {
      "text/plain": [
       "<matplotlib.axes._subplots.AxesSubplot at 0x1a1c630b70>"
      ]
     },
     "execution_count": 76,
     "metadata": {},
     "output_type": "execute_result"
    },
    {
     "data": {
      "image/png": "[encoded data removed]",
      "text/plain": [
       "<matplotlib.figure.Figure at 0x1a1c68a7f0>"
      ]
     },
     "metadata": {},
     "output_type": "display_data"
    }
   ],
   "source": [
    "super_rugby_data.turnovers_won1.plot('hist', bins=50)"
   ]
  },
  {
   "cell_type": "markdown",
   "metadata": {},
   "source": [
    "# turnovers_won2"
   ]
  },
  {
   "cell_type": "code",
   "execution_count": 77,
   "metadata": {},
   "outputs": [
    {
     "data": {
      "text/plain": [
       "<matplotlib.axes._subplots.AxesSubplot at 0x1a1c8824a8>"
      ]
     },
     "execution_count": 77,
     "metadata": {},
     "output_type": "execute_result"
    },
    {
     "data": {
      "image/png": "[encoded data removed]",
      "text/plain": [
       "<matplotlib.figure.Figure at 0x1a1bc7bda0>"
      ]
     },
     "metadata": {},
     "output_type": "display_data"
    }
   ],
   "source": [
    "super_rugby_data.turnovers_won2.plot('hist', bins=50)"
   ]
  },
  {
   "cell_type": "markdown",
   "metadata": {},
   "source": [
    "# week"
   ]
  },
  {
   "cell_type": "code",
   "execution_count": 78,
   "metadata": {},
   "outputs": [
    {
     "data": {
      "text/plain": [
       "2     45\n",
       "15    45\n",
       "14    43\n",
       "5     43\n",
       "4     42\n",
       "12    42\n",
       "11    42\n",
       "3     42\n",
       "10    41\n",
       "16    41\n",
       "13    41\n",
       "9     41\n",
       "6     41\n",
       "7     40\n",
       "17    39\n",
       "8     39\n",
       "1     36\n",
       "18    26\n",
       "19    12\n",
       "20     7\n",
       "Name: week, dtype: int64"
      ]
     },
     "execution_count": 78,
     "metadata": {},
     "output_type": "execute_result"
    }
   ],
   "source": [
    "super_rugby_data.week.value_counts()"
   ]
  },
  {
   "cell_type": "markdown",
   "metadata": {},
   "source": [
    "# yellow_cards1"
   ]
  },
  {
   "cell_type": "code",
   "execution_count": 79,
   "metadata": {},
   "outputs": [
    {
     "data": {
      "text/plain": [
       "<matplotlib.axes._subplots.AxesSubplot at 0x1a1caf4a90>"
      ]
     },
     "execution_count": 79,
     "metadata": {},
     "output_type": "execute_result"
    },
    {
     "data": {
      "image/png": "[encoded data removed]",
      "text/plain": [
       "<matplotlib.figure.Figure at 0x1a1caeecc0>"
      ]
     },
     "metadata": {},
     "output_type": "display_data"
    }
   ],
   "source": [
    "super_rugby_data.yellow_cards1.plot('hist', bins=50)"
   ]
  },
  {
   "cell_type": "markdown",
   "metadata": {},
   "source": [
    "# yellow_cards2"
   ]
  },
  {
   "cell_type": "code",
   "execution_count": 81,
   "metadata": {},
   "outputs": [
    {
     "data": {
      "text/plain": [
       "<matplotlib.axes._subplots.AxesSubplot at 0x1a1cedef28>"
      ]
     },
     "execution_count": 81,
     "metadata": {},
     "output_type": "execute_result"
    },
    {
     "data": {
      "image/png": "[encoded data removed]",
      "text/plain": [
       "<matplotlib.figure.Figure at 0x1a1cdbdd68>"
      ]
     },
     "metadata": {},
     "output_type": "display_data"
    }
   ],
   "source": [
    "super_rugby_data.yellow_cards2.plot('hist', bins=50)"
   ]
  },
  {
   "cell_type": "code",
   "execution_count": 86,
   "metadata": {},
   "outputs": [],
   "source": [
    "super_rugby_data.reset_index(drop=True).to_feather('super_rugby_data_cleaned')"
   ]
  }
 ],
 "metadata": {
  "kernelspec": {
   "display_name": "Python 3",
   "language": "python",
   "name": "python3"
  },
  "language_info": {
   "codemirror_mode": {
    "name": "ipython",
    "version": 3
   },
   "file_extension": ".py",
   "mimetype": "text/x-python",
   "name": "python",
   "nbconvert_exporter": "python",
   "pygments_lexer": "ipython3",
   "version": "3.6.2"
  }
 },
 "nbformat": 4,
 "nbformat_minor": 2
}
