{
 "cells": [
  {
   "cell_type": "code",
   "execution_count": 199,
   "metadata": {
    "collapsed": true
   },
   "outputs": [],
   "source": [
    "import numpy as np\n",
    "import pandas as pd\n",
    "import os\n",
    "import json"
   ]
  },
  {
   "cell_type": "code",
   "execution_count": 200,
   "metadata": {
    "collapsed": true
   },
   "outputs": [],
   "source": [
    "# These are the titles being parsed\n",
    "titles = ['architect',\n",
    "          'auditor',\n",
    "          'business strategist',\n",
    "          'recruiter',\n",
    "          'software architect',\n",
    "          'vp of engineering',\n",
    "          'vp of marketing',\n",
    "          'vp of operations',\n",
    "          'analyst',\n",
    "          'strategist',\n",
    "          'associate'\n",
    "          'manager',\n",
    "          'director',\n",
    "          'engineer',\n",
    "          'associate',\n",
    "          'scientist']"
   ]
  },
  {
   "cell_type": "code",
   "execution_count": 201,
   "metadata": {
    "collapsed": true
   },
   "outputs": [],
   "source": [
    "def job_extract(folder_profile_df, titles, destination_folder):\n",
    "        \"\"\"\n",
    "        :param folder_profile_df: This folder consist of all the files parse\n",
    "                                  from Indeed for different profiles\n",
    "        :param titles: list of all the titles to be extracted\n",
    "        :param destination_folder: This folder consist is the destination where\n",
    "                                  the extracted data will be saved in the form of multiple files\n",
    "        :return: saves the extracted data in the destination folder\n",
    "        \"\"\"\n",
    "        with open(destination_folder + \"data_extraction.json\", 'w') as outfile:\n",
    "            for file_item in os.listdir(folder_profile_df):\n",
    "                raw_text = pd.read_csv(folder_profile_df + str(file_item))\n",
    "                data = {}\n",
    "                data[\"Job_Title\"] = file_item.replace(\"_resume.csv\", \"\")\n",
    "                for i in range(raw_text.shape[0]):\n",
    "                    work_exp_example = raw_text[\"work_exp\"][i].replace(\"'\",'\"').\\\n",
    "                                       replace('u\"','').replace('\"]','').replace('[','').strip()\n",
    "                    v = work_exp_example.lower().replace(\"\\\\u2022\",'').replace(\"\\\\n\",',').strip().split(\"\\n\")\n",
    "                    v = [item.split(\",\") for item in v]\n",
    "                    v = [item for sublist in v for item in sublist]\n",
    "                    data[\"userID\"] = (file_item + \"_\" + str(i)).replace(\"_resume.csv\", \"\")\n",
    "                    data[\"Experience\"] = {}\n",
    "                    ct, k = 0, 0\n",
    "                    for item in v:\n",
    "                        ct = ct + 1\n",
    "                        if any(title in item for title in titles) and len(item) < 50:\n",
    "                            k = k + 1\n",
    "                            data[\"Experience\"][\"job\" + str(k)] = {}\n",
    "                            data[\"Experience\"][\"job\" + str(k)][\"designation\"] = item.replace('\"','').\\\n",
    "                                                                                          replace(']','').strip()\n",
    "                            try:\n",
    "                                if any(char.isdigit() for char in v[ct + 1]):\n",
    "                                    data[\"Experience\"][\"job\" + str(k)][\"year\"] = v[ct + 1].replace('\"','').\\\n",
    "                                                                                          replace(']','').strip()\n",
    "                                elif any(char.isdigit() for char in v[ct + 2]):\n",
    "                                    data[\"Experience\"][\"job\" + str(k)][\"year\"] = v[ct + 2].replace('\"','').\\\n",
    "                                                                                          replace(']','').strip()\n",
    "                                else:\n",
    "                                    data[\"Experience\"][\"job\" + str(k)][\"year\"] = \"Year_Not_Found\"\n",
    "                            except:\n",
    "                                data[\"Experience\"][\"job\" + str(k)][\"year\"] = \"Error\"\n",
    "                    data[\"Education\"] = {}\n",
    "                    degrees = raw_text[\"education_json\"][i].replace(\"'\",'\"').replace('u\"','').split(\",\")\n",
    "\n",
    "                    years = raw_text[\"univ\"][i].replace(\"'\",'\"').replace('u\"','').replace('\"','').split(\"\\\\n\")[1:]\n",
    "\n",
    "                    if len(degrees) == 0: \n",
    "                        data[\"Education\"] = \"degree not found\"\n",
    "                    elif len(years) == 0:\n",
    "                        for i in range(len(degrees)):\n",
    "                            data[\"Education\"][\"degree\"+str(i+1)] = {}\n",
    "                            data[\"Education\"][\"degree\"+str(i+1)][\"course\"] = degrees[i].replace(\"degree_%s : \"%str(i+1),\"\").\\\n",
    "                                                                            replace('\"','').strip(),\n",
    "                            data[\"Education\"][\"degree\"+str(i+1)][\"year\"] = \"Year not found\"\n",
    "                    else:\n",
    "                        for i in range(len(degrees)):\n",
    "                            data[\"Education\"][\"degree\"+str(i+1)] = {}\n",
    "                            data[\"Education\"][\"degree\"+str(i+1)][\"course\"] = degrees[i].replace(\"degree_%s : \"%str(i+1),\"\").\\\n",
    "                                                                        replace('\"','').strip()\n",
    "                            try:\n",
    "                                data[\"Education\"][\"degree\"+str(i+1)][\"year\"] = years[i].split(\",\")[0]\n",
    "                            except:\n",
    "                                data[\"Education\"][\"degree\"+str(i+1)][\"year\"] = \"Year not found\"\n",
    "                    outfile.write(\"%s\\n\" % data)"
   ]
  },
  {
   "cell_type": "code",
   "execution_count": 202,
   "metadata": {
    "collapsed": true
   },
   "outputs": [],
   "source": [
    "# home_path = \"/Users/alvira/Desktop/spring2/app_develop/findYourPath\"\n",
    "folder_profile_df = \"../Data/Profile_DFs/\"\n",
    "destination_folder = \"../Data/Resume_cleaned/\"\n",
    "job_extract(folder_profile_df,titles, destination_folder)"
   ]
  },
  {
   "cell_type": "code",
   "execution_count": null,
   "metadata": {
    "collapsed": true
   },
   "outputs": [],
   "source": []
  },
  {
   "cell_type": "code",
   "execution_count": null,
   "metadata": {
    "collapsed": true
   },
   "outputs": [],
   "source": []
  },
  {
   "cell_type": "code",
   "execution_count": null,
   "metadata": {
    "collapsed": true
   },
   "outputs": [],
   "source": []
  },
  {
   "cell_type": "code",
   "execution_count": null,
   "metadata": {
    "collapsed": true
   },
   "outputs": [],
   "source": []
  },
  {
   "cell_type": "code",
   "execution_count": null,
   "metadata": {
    "collapsed": true
   },
   "outputs": [],
   "source": []
  },
  {
   "cell_type": "code",
   "execution_count": null,
   "metadata": {
    "collapsed": true
   },
   "outputs": [],
   "source": []
  },
  {
   "cell_type": "code",
   "execution_count": null,
   "metadata": {
    "collapsed": true
   },
   "outputs": [],
   "source": []
  },
  {
   "cell_type": "code",
   "execution_count": null,
   "metadata": {
    "collapsed": true
   },
   "outputs": [],
   "source": []
  }
 ],
 "metadata": {
  "hide_input": false,
  "kernelspec": {
   "display_name": "Python 2",
   "language": "python",
   "name": "python2"
  },
  "language_info": {
   "codemirror_mode": {
    "name": "ipython",
    "version": 2
   },
   "file_extension": ".py",
   "mimetype": "text/x-python",
   "name": "python",
   "nbconvert_exporter": "python",
   "pygments_lexer": "ipython2",
   "version": "2.7.13"
  }
 },
 "nbformat": 4,
 "nbformat_minor": 2
}
