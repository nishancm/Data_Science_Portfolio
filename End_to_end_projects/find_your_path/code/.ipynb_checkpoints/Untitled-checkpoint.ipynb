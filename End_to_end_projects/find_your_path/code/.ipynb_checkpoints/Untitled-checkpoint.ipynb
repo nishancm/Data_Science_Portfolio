{
 "cells": [
  {
   "cell_type": "code",
   "execution_count": 6,
   "metadata": {},
   "outputs": [],
   "source": [
    "import numpy as np, pandas as pd\n",
    "import networkx as nx\n",
    "import matplotlib.pyplot as plt\n",
    "from itertools import islice\n",
    "from pymongo import MongoClient\n",
    "import re\n",
    "import pickle"
   ]
  },
  {
   "cell_type": "code",
   "execution_count": 7,
   "metadata": {
    "collapsed": true
   },
   "outputs": [],
   "source": [
    "def combine_two_graphs():\n",
    "    edges_time = pd.read_csv(\"../Data/graphs/time_based_graph.csv\")\n",
    "    edges_time = edges_time[[\"from\",\"to\", \"count\"]]\n",
    "    edges_time = edges_time.rename(columns = {\"count\":\"median_time\"})\n",
    "    edges_frequency = pd.read_csv(\"../Data/graphs/highest_frequency.csv\")\n",
    "    edges_frequency = edges_frequency[[\"from\",\"to\", \"count\"]]\n",
    "    \n",
    "    edges_time.dropna(inplace = True)\n",
    "    edges_frequency.dropna(inplace = True)\n",
    "    combined_df = pd.merge(edges_frequency, edges_time, how='inner', on=['from', 'to'])\n",
    "    combined_df[\"median_time\"] =  combined_df[\"median_time\"].apply(lambda x: x if x>0 else 1)\n",
    "    combined_df[\"weight1\"] = combined_df[\"median_time\"]/combined_df[\"count\"]\n",
    "    return combined_df"
   ]
  },
  {
   "cell_type": "code",
   "execution_count": 8,
   "metadata": {
    "collapsed": true
   },
   "outputs": [],
   "source": [
    "def create_graphs(combined_df, using=None):\n",
    "    if using == \"most_common\":\n",
    "        edges = [(combined_df.loc[i, \"from\"], combined_df.loc[i, \"to\"],\n",
    "                  combined_df.loc[i, \"count\"]) for i in range(combined_df.shape[0])]\n",
    "    elif using == \"shortest_time\":\n",
    "        edges = [(combined_df.loc[i, \"from\"], combined_df.loc[i, \"to\"],\n",
    "                  combined_df.loc[i, \"median_time\"]) for i in range(combined_df.shape[0])]\n",
    "    elif using == \"min_transitions\":\n",
    "        edges = [(combined_df.loc[i, \"from\"], combined_df.loc[i, \"to\"], 1)\n",
    "                 for i in range(combined_df.shape[0])]\n",
    "    else:\n",
    "        edges = [(combined_df.loc[i, \"from\"], combined_df.loc[i, \"to\"],\n",
    "                  combined_df.loc[i, \"weight1\"]) for i in range(combined_df.shape[0])]\n",
    "\n",
    "    g = nx.graph.Graph()\n",
    "    g.add_weighted_edges_from(edges)\n",
    "    return g"
   ]
  },
  {
   "cell_type": "code",
   "execution_count": 15,
   "metadata": {
    "collapsed": true
   },
   "outputs": [],
   "source": [
    "def save_graph(): \n",
    "    combined_df = combine_two_graphs()\n",
    "    for g in [\"most_common\", \"shortest_time\", \"min_transitions\", \"combination\"]:\n",
    "        graph = create_graphs(combined_df, g)\n",
    "        nx.write_gpickle(graph, '../Data/graphs/final_graphs/'+g)"
   ]
  },
  {
   "cell_type": "code",
   "execution_count": 16,
   "metadata": {},
   "outputs": [],
   "source": [
    "save_graph()"
   ]
  },
  {
   "cell_type": "code",
   "execution_count": null,
   "metadata": {
    "collapsed": true
   },
   "outputs": [],
   "source": []
  }
 ],
 "metadata": {
  "kernelspec": {
   "display_name": "Python 3",
   "language": "python",
   "name": "python3"
  },
  "language_info": {
   "codemirror_mode": {
    "name": "ipython",
    "version": 3
   },
   "file_extension": ".py",
   "mimetype": "text/x-python",
   "name": "python",
   "nbconvert_exporter": "python",
   "pygments_lexer": "ipython3",
   "version": "3.6.2"
  }
 },
 "nbformat": 4,
 "nbformat_minor": 2
}
