{
 "cells": [
  {
   "cell_type": "code",
   "execution_count": 1,
   "metadata": {
    "collapsed": true
   },
   "outputs": [],
   "source": [
    "import json\n",
    "from pprint import pprint\n",
    "import pandas as pd"
   ]
  },
  {
   "cell_type": "code",
   "execution_count": 2,
   "metadata": {
    "collapsed": true
   },
   "outputs": [],
   "source": [
    "folder = '../Data/Resume_cleaned/'"
   ]
  },
  {
   "cell_type": "code",
   "execution_count": 3,
   "metadata": {
    "collapsed": true
   },
   "outputs": [],
   "source": [
    "with open(folder + \"json_resume.json\", 'r') as f:\n",
    "    datastore = json.load(f)"
   ]
  },
  {
   "cell_type": "code",
   "execution_count": 18,
   "metadata": {
    "collapsed": false
   },
   "outputs": [],
   "source": [
    "i = 0\n",
    "job_title_list = []\n",
    "\n",
    "for deets in datastore['user_details']:\n",
    "    for experience in deets['Experience']:\n",
    "        job_title_list.append(experience['title'].strip())\n",
    "    \n",
    "    \n",
    "    "
   ]
  },
  {
   "cell_type": "code",
   "execution_count": null,
   "metadata": {
    "collapsed": true
   },
   "outputs": [],
   "source": []
  },
  {
   "cell_type": "code",
   "execution_count": 31,
   "metadata": {
    "collapsed": false
   },
   "outputs": [
    {
     "data": {
      "text/plain": [
       "[u'sr. software engineer',\n",
       " u'director corporate communications',\n",
       " u'Bachelors of Science in Finance',\n",
       " u'architect',\n",
       " u'\\\\u2022 engineering team: 12 in san francisco',\n",
       " u'operation analyst',\n",
       " u'Bachelors',\n",
       " u\"architecture and design documents'\",\n",
       " u'business architect',\n",
       " u'sr. software engineer / software architect']"
      ]
     },
     "execution_count": 31,
     "metadata": {},
     "output_type": "execute_result"
    }
   ],
   "source": [
    "list(set(job_title_list))[60:70]"
   ]
  },
  {
   "cell_type": "code",
   "execution_count": null,
   "metadata": {
    "collapsed": true
   },
   "outputs": [],
   "source": [
    "title_map = {}\n",
    "title_map['compter'] = 'computer'\n",
    "title_map['marketing strategist'] = 'marketing'\n",
    "title_map['indstrial'] = 'industrial'\n",
    "title_map['bsiness'] = 'business'\n",
    "title_map['compter'] = 'computer'\n",
    "title_map['night auditor'] = 'auditor'\n",
    "title_map['administration/marketing'] = 'administration'\n",
    "\n",
    "title_map['marketing & communications'] = 'marketing'\n",
    "title_map['sr '] = 'senior'\n",
    "title_map['sr.'] = 'senior'\n",
    "title_map['bs'] = 'bachelor of science'\n",
    "title_map['acconting'] = 'accounting'\n",
    "title_map['engineering team: 105 in palo alto'] = 'engineer'\n",
    "\n",
    "title_map['in '] = ''\n",
    "title_map['data scientist intern'] = 'data science'\n",
    "title_map['led the team of engineers and designers'] = 'engineering lead'\n",
    "title_map['docs; 40 engineers in sunnyvale/ca'] = 'engineering lead' \n",
    "title_map['degree_2 :'] = '' \n",
    "title_map['u\"'] = '' \n",
    "title_map['High School in Psychology'] = 'psychology'\n",
    "title_map['including engineering.'] = 'engineering'\n",
    "title_map['data analyst'] = 'data science'\n",
    "\n",
    "title_map['degree_1 :'] = ''\n",
    "title_map['Bachelor of Technology'] = 'bachelor of science'\n",
    "title_map['data scientist and ai intern (co-op)'] = 'data science'\n",
    "title_map['technical recruiter'] = 'recruiter'\n",
    "title_map['vpe: came on board as vp engineering'] = 'vp of engineering'\n",
    "\n",
    "title_map['B.Eng.'] = 'bachelor of science'\n",
    "title_map['software engineer intern'] = 'software engineering'\n",
    "title_map['to lead a team of five engineers and offload'] = 'engineering lead'\n",
    "title_map['due to distributed architecture.'] = 'engineering'\n",
    "title_map['engineering team: 12 in san francisco'] = 'engineering lead'\n",
    "title_map['architecture and design documents'] = 'architecture'\n",
    "\n",
    "\n",
    "\n",
    "\n"
   ]
  }
 ],
 "metadata": {
  "kernelspec": {
   "display_name": "Python 2",
   "language": "python",
   "name": "python2"
  },
  "language_info": {
   "codemirror_mode": {
    "name": "ipython",
    "version": 2
   },
   "file_extension": ".py",
   "mimetype": "text/x-python",
   "name": "python",
   "nbconvert_exporter": "python",
   "pygments_lexer": "ipython2",
   "version": "2.7.13"
  }
 },
 "nbformat": 4,
 "nbformat_minor": 2
}
