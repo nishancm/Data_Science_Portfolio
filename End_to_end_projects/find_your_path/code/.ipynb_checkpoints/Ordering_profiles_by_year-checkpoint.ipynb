{
 "cells": [
  {
   "cell_type": "code",
   "execution_count": 1,
   "metadata": {
    "collapsed": true
   },
   "outputs": [],
   "source": [
    "import json\n",
    "import ast\n",
    "import re\n",
    "import numpy as np\n",
    "import pandas as pd"
   ]
  },
  {
   "cell_type": "code",
   "execution_count": 2,
   "metadata": {
    "collapsed": true
   },
   "outputs": [],
   "source": [
    "with open('../Data/Resume_cleaned/data_extraction.json') as f:\n",
    "    resume_cleaned = f.readlines()"
   ]
  },
  {
   "cell_type": "code",
   "execution_count": 3,
   "metadata": {
    "collapsed": true
   },
   "outputs": [],
   "source": [
    "for i in range(len(resume_cleaned)):\n",
    "    resume_cleaned[i] = resume_cleaned[i].strip()\n",
    "    resume_cleaned[i] = ast.literal_eval(resume_cleaned[i])"
   ]
  },
  {
   "cell_type": "code",
   "execution_count": 4,
   "metadata": {
    "collapsed": false
   },
   "outputs": [
    {
     "data": {
      "text/plain": [
       "12049"
      ]
     },
     "execution_count": 4,
     "metadata": {},
     "output_type": "execute_result"
    }
   ],
   "source": [
    "len(resume_cleaned)"
   ]
  },
  {
   "cell_type": "code",
   "execution_count": 5,
   "metadata": {
    "collapsed": false
   },
   "outputs": [
    {
     "data": {
      "text/plain": [
       "{'Education': {'degree1': {'course': 'Bachelor of Architectre in Architectre',\n",
       "   'year': 'January 2007'},\n",
       "  'degree2': {'course': 'Associate of Science', 'year': 'January 2001'},\n",
       "  'degree3': {'course': '', 'year': 'Year not found'}},\n",
       " 'Experience': {'job1': {'designation': 'junior architect',\n",
       "   'year': 'february 2017 to may 2017'},\n",
       "  'job2': {'designation': 'assistant architect',\n",
       "   'year': 'june 2007 to march 2009'},\n",
       "  'job3': {'designation': 'chaney architects - pune',\n",
       "   'year': 'june 2007 to march 2009'},\n",
       "  'job4': {'designation': 'junior architect', 'year': 'july 2006 to may 2007'},\n",
       "  'job5': {'designation': 'prashant deshmukh & associates - pune',\n",
       "   'year': 'july 2006 to may 2007'},\n",
       "  'job6': {'designation': 'trainee architect',\n",
       "   'year': 'june 2005 to november 2005'},\n",
       "  'job7': {'designation': 'i.m. kadri architects - mumbai',\n",
       "   'year': 'june 2005 to november 2005'}},\n",
       " 'Job_Title': 'architect',\n",
       " 'userID': 'architect_107'}"
      ]
     },
     "execution_count": 5,
     "metadata": {},
     "output_type": "execute_result"
    }
   ],
   "source": [
    "resume_cleaned[107]"
   ]
  },
  {
   "cell_type": "code",
   "execution_count": 6,
   "metadata": {
    "collapsed": false
   },
   "outputs": [
    {
     "data": {
      "text/plain": [
       "{'Education': {'degree1': {'course': 'Diploma in Bsiness Commnication',\n",
       "   'year': 'September 1972 to May 1974'},\n",
       "  'degree2': {'course': 'in Basic Corses', 'year': 'April 1991]'}},\n",
       " 'Experience': {'job1': {'designation': 'auditor',\n",
       "   'year': 'july 2016 to present'}},\n",
       " 'Job_Title': 'auditor',\n",
       " 'userID': 'auditor_375'}"
      ]
     },
     "execution_count": 6,
     "metadata": {},
     "output_type": "execute_result"
    }
   ],
   "source": [
    "resume_cleaned[908]"
   ]
  },
  {
   "cell_type": "code",
   "execution_count": 7,
   "metadata": {
    "collapsed": false
   },
   "outputs": [
    {
     "data": {
      "text/plain": [
       "{'Education': {'degree1': {'course': ('High school or eqivalent',),\n",
       "   'year': 'Year not found'}},\n",
       " 'Experience': {'job1': {'designation': 'night auditor',\n",
       "   'year': 'Year_Not_Found'}},\n",
       " 'Job_Title': 'auditor',\n",
       " 'userID': 'auditor_467'}"
      ]
     },
     "execution_count": 7,
     "metadata": {},
     "output_type": "execute_result"
    }
   ],
   "source": [
    "resume_cleaned[1000]"
   ]
  },
  {
   "cell_type": "code",
   "execution_count": 8,
   "metadata": {
    "collapsed": false
   },
   "outputs": [
    {
     "data": {
      "text/plain": [
       "12049"
      ]
     },
     "execution_count": 8,
     "metadata": {},
     "output_type": "execute_result"
    }
   ],
   "source": [
    "len(resume_cleaned)"
   ]
  },
  {
   "cell_type": "code",
   "execution_count": 22,
   "metadata": {
    "collapsed": true
   },
   "outputs": [],
   "source": [
    "title_map = {\n",
    "    u'amin and shah associates - ahmedabad': '',\n",
    " u'software engineer & architect' : 'software engineer',\n",
    " u'data science' : 'data science',\n",
    " u'u\"financial analyst' : 'financial analyst',\n",
    " u'u\"vp of marketing & business development': 'vp marketing',\n",
    " u'engineering': 'engineer',\n",
    " u'engineering manager': 'engineer manager',\n",
    " u'in advertising' : 'advertising',\n",
    " u'sales associate' : 'sales',\n",
    " u'lead technical / business strategist / dmts' : 'business analyst',\n",
    " u'strategy director / dmts' : 'business analyst',\n",
    " u'product architects' : 'product architect',\n",
    " u'PharmD' : 'doctor',\n",
    " u'microprocessor engineer - team lead' : 'engineer',\n",
    " u'B.S. in Electrical & Electronics' : 'Bachelor of Science in Electrical & Electronics',\n",
    " u'recruiter' : 'recruiter',\n",
    " u'director of facilities & plant operations' : 'director of operations',\n",
    " u'M.S. in Statistics' : 'Master of Science in Data science',\n",
    " u'B.S. in Mechanical Engineering in With a focs in Mechatronics' : 'Bachelor of Science in Mechanical Engineering',\n",
    " u'junior architect' : 'architect',\n",
    " u'staff it auditor' : 'auditor',\n",
    " u'bachelor of arts in economics' : 'bachelor of arts',\n",
    " u'design and marketing director' : 'marketing director',\n",
    " u'it auditor': 'auditor',\n",
    " u'\"Bachelors in Healthcare Management/Administration\"' : 'Bachelors in Administration',\n",
    " u'thousands of data analysts' : 'data science',\n",
    " u'business analyst': 'business analyst',\n",
    " u'and backend engineers' : 'software engineer',\n",
    " u'u\"recruiter' : 'recuiter',\n",
    " u'bachelor of science in medical technology' : 'bachelor of science in medicine',\n",
    " u'associate' : 'associate',\n",
    " u'vp of operations' : 'vp of operations',\n",
    " u'degree_2 :' : '',\n",
    " u'diploma' : '',\n",
    " u'software engineer' : 'software engineer',\n",
    " u'u\"sales associate' : 'sales',\n",
    " u'bachelor of science in mechanical engineering' : 'bachelor of science in mechanical engineering',\n",
    " u'high school or eqivalent' : '',\n",
    " u'managed and developed junior analyst' : 'data science',\n",
    " u'supervise recruiter' : 'recruiter',\n",
    " u'degree_1 :' : '',\n",
    " u'engineers' : 'engineer',\n",
    " u'b.s in fashion design' : 'bachelor of science in fashion',\n",
    " u'product and engineering teams' : 'engineer',\n",
    " u'u\"senior systems engineer' : 'software engineer',\n",
    " u'senior revenue analyst' : 'business analyst',\n",
    " u'lead technical / business strategist/ dmts':'business analyst',\n",
    " u'mechanical design engineer':'engineer',\n",
    " u'\"bachelors\"' : 'bachelor of science in mechanical engineering',\n",
    " u'b.s. in electrical engineering' : 'bachelor of science in electrical engineering',\n",
    " u'\"Masters in Compter Science\"' : 'master of science in computer science',\n",
    " u'u\"decision scientist' : 'business analyst',\n",
    " u'Bachelor of Engineering in Engineering' : 'bachelor of science in electrical engineering',\n",
    " u'High School' : '',\n",
    " u'Bachelors of Science in Hman Resorce Management' :'Bachelors in Administration',\n",
    " u'director of engineering & facilities' : 'director of engineering',\n",
    " u'human resource director' : 'recuiter',\n",
    " u'architect / lead systems engineer' : 'software engineer',\n",
    " u'BS in Bsiness Administration' : 'Bachelors in Administration',\n",
    " u'u\"customer system engineer / advocate' : 'software engineer',\n",
    " u'\"Bachelors in Bsiness Management\"': 'Bachelors in Administration'\n",
    "}"
   ]
  },
  {
   "cell_type": "code",
   "execution_count": 9,
   "metadata": {
    "collapsed": true
   },
   "outputs": [],
   "source": [
    "resume_new = []\n",
    "for r in resume_cleaned:\n",
    "    try:\n",
    "        if len(r['Experience']) == 0: # no experince data\n",
    "            continue\n",
    "    except KeyError:\n",
    "        continue\n",
    "        \n",
    "    try:\n",
    "        if len(r['Education']) == 0: # no education data\n",
    "            continue\n",
    "    except KeyError:\n",
    "        continue\n",
    "    \n",
    "    r_dict = {}\n",
    "    r_dict['Job_Title'] = r['Job_Title']\n",
    "    r_dict['userID'] = r['userID']\n",
    "    \n",
    "    \n",
    "    education = []\n",
    "    dup_ey = 0  # find out duplicated education year\n",
    "    e = len(r['Education']) # number of education qualitifications\n",
    "    for ei in range(1, e+1):\n",
    "        degree = 'degree'+str(ei)\n",
    "        \n",
    "        try:\n",
    "            ey = r['Education'][degree]['year']\n",
    "        except KeyError:  # no year\n",
    "            continue\n",
    "        \n",
    "        y = re.findall(' [0-9]{4}', ey)\n",
    "        if len(y) == 0:  # no education year\n",
    "            continue\n",
    "        elif dup_ey == y[-1]:  # year is duplcated\n",
    "            continue\n",
    "        else:\n",
    "            dup_ey = y[-1]\n",
    "            education.append((y[-1], r['Education'][degree]['course'].lower().replace(key, title_map[key].lower()))) # get the end year of degree\n",
    "    r_dict['education'] = education\n",
    "    \n",
    "    \n",
    "    experience = []\n",
    "    dup_xy = 0  # find out duplicated experince year\n",
    "    x = len(r['Experience']) # number of experiences\n",
    "    for xi in range(1, x+1):\n",
    "        job = 'job'+str(xi)\n",
    "        \n",
    "        try:\n",
    "            xy = r['Experience'][job]['year']\n",
    "        except KeyError:  # no year\n",
    "            continue\n",
    "\n",
    "        y = re.findall(' [0-9]{4}', xy)\n",
    "        if len(y) == 0: # no experience years\n",
    "            continue\n",
    "        elif dup_xy == y[0]:  # year duplicated\n",
    "            continue\n",
    "        else:\n",
    "            dup_xy = y[0]\n",
    "            experience.append((y[0], r['Experience'][job]['designation'].lower().replace(key, title_map[key].lower())))  # get the job start  year\n",
    "    r_dict['experience'] = experience\n",
    "    \n",
    "    resume_new.append(r_dict)"
   ]
  },
  {
   "cell_type": "code",
   "execution_count": 10,
   "metadata": {
    "collapsed": false
   },
   "outputs": [
    {
     "data": {
      "text/plain": [
       "10125"
      ]
     },
     "execution_count": 10,
     "metadata": {},
     "output_type": "execute_result"
    }
   ],
   "source": [
    "# Also remove profiles where education OR experince is empty\n",
    "len(resume_new)"
   ]
  },
  {
   "cell_type": "code",
   "execution_count": 11,
   "metadata": {
    "collapsed": false
   },
   "outputs": [
    {
     "data": {
      "text/plain": [
       "{'Job_Title': 'architect',\n",
       " 'education': [],\n",
       " 'experience': [(' 2012', 'junior architect'),\n",
       "  (' 2008', 'project architect'),\n",
       "  (' 2009', 'architect')],\n",
       " 'userID': 'architect_458'}"
      ]
     },
     "execution_count": 11,
     "metadata": {},
     "output_type": "execute_result"
    }
   ],
   "source": [
    "resume_new[458]"
   ]
  },
  {
   "cell_type": "code",
   "execution_count": 12,
   "metadata": {
    "collapsed": true
   },
   "outputs": [],
   "source": [
    "profiles = []\n",
    "for r in resume_new:\n",
    "    if len(r['education']) == 0:\n",
    "        continue\n",
    "    elif len(r['experience']) == 0:\n",
    "        continue\n",
    "    else:\n",
    "        profiles.append(r)"
   ]
  },
  {
   "cell_type": "code",
   "execution_count": 13,
   "metadata": {
    "collapsed": false
   },
   "outputs": [
    {
     "data": {
      "text/plain": [
       "5623"
      ]
     },
     "execution_count": 13,
     "metadata": {},
     "output_type": "execute_result"
    }
   ],
   "source": [
    "len(profiles)"
   ]
  },
  {
   "cell_type": "code",
   "execution_count": 14,
   "metadata": {
    "collapsed": true
   },
   "outputs": [],
   "source": [
    "titles = [p['Job_Title'] for p in profiles]"
   ]
  },
  {
   "cell_type": "code",
   "execution_count": 15,
   "metadata": {
    "collapsed": false
   },
   "outputs": [
    {
     "data": {
      "text/plain": [
       "23"
      ]
     },
     "execution_count": 15,
     "metadata": {},
     "output_type": "execute_result"
    }
   ],
   "source": [
    "len(np.unique(titles))"
   ]
  },
  {
   "cell_type": "code",
   "execution_count": 16,
   "metadata": {
    "collapsed": false
   },
   "outputs": [
    {
     "data": {
      "text/plain": [
       "{'Job_Title': 'architect',\n",
       " 'education': [(' 2009', 'Master of Science in Architectre in Architectre')],\n",
       " 'experience': [(' 2012', 'architect'), (' 2010', 'architect')],\n",
       " 'userID': 'architect_98'}"
      ]
     },
     "execution_count": 16,
     "metadata": {},
     "output_type": "execute_result"
    }
   ],
   "source": [
    "profiles[67]"
   ]
  },
  {
   "cell_type": "code",
   "execution_count": 17,
   "metadata": {
    "collapsed": true
   },
   "outputs": [],
   "source": [
    "# convert year to intergers \n",
    "#  add everything in to a single list of tuples\n",
    "profiles_new = []\n",
    "for p in profiles:\n",
    "    edu = []\n",
    "    for ei in p['education']:\n",
    "        edu.append((int(ei[0]), ei[1], 0)) # 0 indicator for education\n",
    "    \n",
    "    exp = []\n",
    "    for xi in p['experience']:\n",
    "        exp.append((int(xi[0]), xi[1], 1)) # 1 is indicator for experince\n",
    "        \n",
    "    events = edu+exp\n",
    "    events = sorted(events, key = lambda x: (x[0], x[2]))\n",
    "    \n",
    "    profiles_new.append({'Job_Title':p['Job_Title'], 'userID': p['userID'], \n",
    "                         'events':events})"
   ]
  },
  {
   "cell_type": "code",
   "execution_count": 18,
   "metadata": {
    "collapsed": false
   },
   "outputs": [
    {
     "data": {
      "text/plain": [
       "{'Job_Title': 'Operation Analyst.csv',\n",
       " 'events': [(2009, 'BA in General English', 0),\n",
       "  (2009, 'data analyst & operation assistant', 1),\n",
       "  (2011, 'data analyst & wholesale manager assistant', 1),\n",
       "  (2017, 'Certification in CIT - Database Certification', 0),\n",
       "  (2017, 'data analyst', 1)],\n",
       " 'userID': 'Operation Analyst.csv_323'}"
      ]
     },
     "execution_count": 18,
     "metadata": {},
     "output_type": "execute_result"
    }
   ],
   "source": [
    "profiles_new[3540]"
   ]
  },
  {
   "cell_type": "code",
   "execution_count": 19,
   "metadata": {
    "collapsed": false
   },
   "outputs": [
    {
     "data": {
      "text/plain": [
       "5623"
      ]
     },
     "execution_count": 19,
     "metadata": {},
     "output_type": "execute_result"
    }
   ],
   "source": [
    "len(profiles_new)"
   ]
  },
  {
   "cell_type": "code",
   "execution_count": 20,
   "metadata": {
    "collapsed": false
   },
   "outputs": [
    {
     "data": {
      "text/plain": [
       "{'Job_Title': 'architect',\n",
       " 'events': [(2010, 'Bachelor of Science in Architectre', 0),\n",
       "  (2010, 'architect', 1)],\n",
       " 'userID': 'architect_0'}"
      ]
     },
     "execution_count": 20,
     "metadata": {},
     "output_type": "execute_result"
    }
   ],
   "source": [
    "profiles_new[0]"
   ]
  },
  {
   "cell_type": "code",
   "execution_count": 192,
   "metadata": {
    "collapsed": true
   },
   "outputs": [],
   "source": [
    "with open('../Data/Resume_cleaned/ordered_profiles', 'w') as f:\n",
    "    for p in profiles_new:\n",
    "        f.write(str(p)+'\\n')"
   ]
  },
  {
   "cell_type": "code",
   "execution_count": null,
   "metadata": {
    "collapsed": true
   },
   "outputs": [],
   "source": []
  }
 ],
 "metadata": {
  "kernelspec": {
   "display_name": "Python 2",
   "language": "python",
   "name": "python2"
  },
  "language_info": {
   "codemirror_mode": {
    "name": "ipython",
    "version": 2
   },
   "file_extension": ".py",
   "mimetype": "text/x-python",
   "name": "python",
   "nbconvert_exporter": "python",
   "pygments_lexer": "ipython2",
   "version": "2.7.13"
  }
 },
 "nbformat": 4,
 "nbformat_minor": 2
}
