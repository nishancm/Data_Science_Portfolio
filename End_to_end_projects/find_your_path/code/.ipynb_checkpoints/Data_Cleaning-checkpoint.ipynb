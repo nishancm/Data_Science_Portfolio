{
 "cells": [
  {
   "cell_type": "code",
   "execution_count": 2,
   "metadata": {
    "collapsed": true
   },
   "outputs": [],
   "source": [
    "import numpy as np, pandas as pd\n",
    "import json, os"
   ]
  },
  {
   "cell_type": "code",
   "execution_count": 3,
   "metadata": {
    "collapsed": false
   },
   "outputs": [],
   "source": [
    "folder_profile_df = \"../Data/Profile_DFs/\"\n",
    "destination_folder = \"../Data/Resume_cleaned/\"\n",
    "files = os.listdir(folder_profile_df)"
   ]
  },
  {
   "cell_type": "code",
   "execution_count": 119,
   "metadata": {
    "collapsed": true
   },
   "outputs": [],
   "source": [
    "titles = ['architect',\n",
    "          'auditor',\n",
    "          'business strategist',\n",
    "          'recruiter',\n",
    "          'software architect',\n",
    "          'vp of engineering',\n",
    "          'vp of marketing',\n",
    "          'vp of operations',\n",
    "          'analyst',\n",
    "          'strategist',\n",
    "          'associate'\n",
    "          'manager',\n",
    "          'director',\n",
    "          'engineer',\n",
    "          'associate',\n",
    "          'scientist']"
   ]
  },
  {
   "cell_type": "code",
   "execution_count": 120,
   "metadata": {
    "collapsed": true
   },
   "outputs": [],
   "source": [
    "def job_extract(folder_profile_df, titles, destination_folder):\n",
    "    \"\"\"\n",
    "    :param folder_profile_df: This folder consist of all the files parsed\n",
    "                              from Indeed for different profiles\n",
    "    :param titles: list of all the titles to be extracted\n",
    "    :param destination_folder: This folder consist is the destination where\n",
    "                               the extracted data will be saved in teh form\n",
    "                               of multiple files\n",
    "    :return: saves the extracted data in the destination folder\n",
    "    \"\"\"\n",
    "\n",
    "    with open(destination_folder + \"data_extraction.json\", 'w') as outfile:\n",
    "\n",
    "        for file_item in os.listdir(folder_profile_df):\n",
    "            raw_text = pd.read_csv(folder_profile_df + str(file_item))\n",
    "            data = {}\n",
    "            data[\"Job_Title\"] = file_item.replace(\"_resume.csv\", \"\")\n",
    "            for i in range(raw_text.shape[0]):\n",
    "                work_exp_example = raw_text[\"work_exp\"][i]\n",
    "                v = work_exp_example.lower()[1:].split(\",\")\n",
    "                v = [item.split(\"\\\\n\") for item in v]\n",
    "                v = [item for sublist in v for item in sublist]\n",
    "                data[\"userID\"] = (file_item + \"_\" + str(i)).replace(\"_resume.csv\", \"\")\n",
    "                data[\"Experience\"] = {}\n",
    "                ct, k = 0, 0\n",
    "                for item in v:\n",
    "                    ct = ct + 1\n",
    "                    if any(title in item for title in titles) and len(item) < 50:\n",
    "                        k = k + 1\n",
    "                        data[\"Experience\"][\"job\" + str(k)] = {}\n",
    "                        data[\"Experience\"][\"job\" + str(k)][\"designation\"] = item.strip()\n",
    "                        try:\n",
    "                            if any(char.isdigit() for char in v[ct + 1]):\n",
    "                                data[\"Experience\"][\"job\" + str(k)][\"year\"] = v[ct + 1].strip()\n",
    "                            elif any(char.isdigit() for char in v[ct + 2]):\n",
    "                                data[\"Experience\"][\"job\" + str(k)][\"year\"] = v[ct + 2].strip()\n",
    "                            else:\n",
    "                                data[\"Experience\"][\"job\" + str(k)][\"year\"] = \"Year_Not_Found\"\n",
    "                        except:\n",
    "                            data[\"Experience\"][\"job\" + str(k)][\"year\"] = \"Error\"\n",
    "                            \n",
    "                data[\"Education\"] = {}\n",
    "                degrees = raw_text[\"education_json\"][i].split(\",\")\n",
    "                years = raw_text[\"univ\"][i].replace(\"'\",\"\").replace('u', '').\\\n",
    "                                              replace('[','').replace(']','').split(\"\\\\n\")[1:]\n",
    "\n",
    "                if len(degrees) == 0: data[\"Education\"] = \"degree not found\"\n",
    "\n",
    "                elif len(years) == 0: \n",
    "                    for i in range(len(degrees)):\n",
    "                        data[\"Education\"][\"degree\"+str(i+1)] = degrees[i].strip().replace(\"degree_%s : \"%str(i+1),\"\")\n",
    "                        data[\"Education\"][\"year\"+str(i+1)] = \"Year not found\"\n",
    "\n",
    "                else:\n",
    "                    for i in range(len(degrees)):\n",
    "                        data[\"Education\"][\"degree\"+str(i+1)] = degrees[i].strip().replace(\"degree_%s : \"%str(i+1),\"\")\n",
    "                        try:\n",
    "                            data[\"Education\"][\"year\"+str(i+1)] = years[i].split(\",\")[0].replace('\"','')\n",
    "                        except:\n",
    "                            data[\"Education\"][\"year\"+str(i+1)] = \"Year not found\"\n",
    "                outfile.write(\"%s\\n\" % data)"
   ]
  },
  {
   "cell_type": "code",
   "execution_count": 121,
   "metadata": {
    "collapsed": true
   },
   "outputs": [],
   "source": [
    "job_extract(folder_profile_df,titles, destination_folder)"
   ]
  },
  {
   "cell_type": "code",
   "execution_count": null,
   "metadata": {
    "collapsed": true
   },
   "outputs": [],
   "source": []
  },
  {
   "cell_type": "code",
   "execution_count": null,
   "metadata": {
    "collapsed": true
   },
   "outputs": [],
   "source": []
  },
  {
   "cell_type": "code",
   "execution_count": null,
   "metadata": {
    "collapsed": true
   },
   "outputs": [],
   "source": []
  },
  {
   "cell_type": "code",
   "execution_count": null,
   "metadata": {
    "collapsed": true
   },
   "outputs": [],
   "source": []
  }
 ],
 "metadata": {
  "hide_input": false,
  "kernelspec": {
   "display_name": "Python 2",
   "language": "python",
   "name": "python2"
  },
  "language_info": {
   "codemirror_mode": {
    "name": "ipython",
    "version": 2
   },
   "file_extension": ".py",
   "mimetype": "text/x-python",
   "name": "python",
   "nbconvert_exporter": "python",
   "pygments_lexer": "ipython2",
   "version": "2.7.13"
  }
 },
 "nbformat": 4,
 "nbformat_minor": 2
}
