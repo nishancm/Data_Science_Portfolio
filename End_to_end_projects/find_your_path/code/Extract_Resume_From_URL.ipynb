{
 "cells": [
  {
   "cell_type": "code",
   "execution_count": 1,
   "metadata": {
    "collapsed": true
   },
   "outputs": [],
   "source": [
    "import time\n",
    "from selenium import webdriver\n",
    "import pandas as pd"
   ]
  },
  {
   "cell_type": "markdown",
   "metadata": {},
   "source": [
    "    Architects"
   ]
  },
  {
   "cell_type": "code",
   "execution_count": 6,
   "metadata": {
    "collapsed": false
   },
   "outputs": [],
   "source": [
    "txt_file = '../Data/Profile_URLs/Architect.txt'\n",
    "\n",
    "resume_list = open(txt_file).read().splitlines()\n",
    "\n",
    "driver = webdriver.Chrome('/usr/local/bin/chromedriver')  \n",
    "\n",
    "work_exp_list = []\n",
    "education = []\n",
    "university = []\n",
    "\n",
    "architect_resume = pd.DataFrame()\n",
    "# architect_resume.columns = ['work_experience', 'education', 'university']\n",
    "\n",
    "i=1\n",
    "for resume in resume_list:\n",
    "    i += 1\n",
    "    driver.get(resume)\n",
    "    \n",
    "    individual_work_exp = []\n",
    "    for e in driver.find_elements_by_class_name(\"rezemp-WorkExperience\"):\n",
    "        individual_work_exp.append(e.text)\n",
    "    work_exp_list.append(individual_work_exp)\n",
    "    \n",
    "    individual_education = []\n",
    "    for e in driver.find_elements_by_class_name(\"rezemp-ResumeDisplay-itemTitle\"):\n",
    "        individual_education.append(e.text)\n",
    "    education.append(individual_education)\n",
    "    \n",
    "    individual_university = []\n",
    "    for e in driver.find_elements_by_class_name(\"rezemp-ResumeDisplay-university\"):\n",
    "        individual_university.append(e.text)\n",
    "    university.append(individual_university)\n",
    "    \n",
    "    table = [resume, individual_work_exp, individual_education, individual_university]\n",
    "    df = pd.DataFrame(table)\n",
    "    df = df.transpose()\n",
    "    df.columns = ['resume', 'work_exp', 'edu', 'univ']\n",
    "\n",
    "    architect_resume = architect_resume.append(df)"
   ]
  },
  {
   "cell_type": "code",
   "execution_count": 81,
   "metadata": {
    "collapsed": false
   },
   "outputs": [],
   "source": [
    "architect_resume.to_csv('../Data/Profile_DFs/architect_resume.csv')"
   ]
  },
  {
   "cell_type": "markdown",
   "metadata": {},
   "source": [
    "    Auditor"
   ]
  },
  {
   "cell_type": "code",
   "execution_count": 83,
   "metadata": {
    "collapsed": true
   },
   "outputs": [],
   "source": [
    "txt_file = '../Data/Profile_URLs/Auditor.txt'\n",
    "\n",
    "resume_list = open(txt_file).read().splitlines()\n",
    "\n",
    "driver = webdriver.Chrome('/usr/local/bin/chromedriver')  \n",
    "\n",
    "work_exp_list = []\n",
    "education = []\n",
    "university = []\n",
    "\n",
    "auditor_resume = pd.DataFrame()\n",
    "# architect_resume.columns = ['work_experience', 'education', 'university']\n",
    "\n",
    "i=1\n",
    "for resume in resume_list:\n",
    "    i += 1\n",
    "    driver.get(resume)\n",
    "    \n",
    "    individual_work_exp = []\n",
    "    for e in driver.find_elements_by_class_name(\"rezemp-WorkExperience\"):\n",
    "        individual_work_exp.append(e.text)\n",
    "    work_exp_list.append(individual_work_exp)\n",
    "    \n",
    "    individual_education = []\n",
    "    for e in driver.find_elements_by_class_name(\"rezemp-ResumeDisplay-itemTitle\"):\n",
    "        individual_education.append(e.text)\n",
    "    education.append(individual_education)\n",
    "    \n",
    "    individual_university = []\n",
    "    for e in driver.find_elements_by_class_name(\"rezemp-ResumeDisplay-university\"):\n",
    "        individual_university.append(e.text)\n",
    "    university.append(individual_university)\n",
    "    \n",
    "    table = [resume, individual_work_exp, individual_education, individual_university]\n",
    "    df = pd.DataFrame(table)\n",
    "    df = df.transpose()\n",
    "    df.columns = ['resume', 'work_exp', 'edu', 'univ']\n",
    "\n",
    "    auditor_resume = auditor_resume.append(df)"
   ]
  },
  {
   "cell_type": "code",
   "execution_count": 84,
   "metadata": {
    "collapsed": true
   },
   "outputs": [],
   "source": [
    "auditor_resume.to_csv('../Data/Profile_DFs/auditor_resume.csv')"
   ]
  },
  {
   "cell_type": "markdown",
   "metadata": {},
   "source": [
    "    Business Analyst"
   ]
  },
  {
   "cell_type": "code",
   "execution_count": 85,
   "metadata": {
    "collapsed": true
   },
   "outputs": [],
   "source": [
    "txt_file = '../Data/Profile_URLs/Business Analyst.txt'\n",
    "\n",
    "resume_list = open(txt_file).read().splitlines()\n",
    "\n",
    "driver = webdriver.Chrome('/usr/local/bin/chromedriver')  \n",
    "\n",
    "work_exp_list = []\n",
    "education = []\n",
    "university = []\n",
    "\n",
    "business_analyst_resume = pd.DataFrame()\n",
    "# architect_resume.columns = ['work_experience', 'education', 'university']\n",
    "\n",
    "i=1\n",
    "for resume in resume_list:\n",
    "    i += 1\n",
    "    driver.get(resume)\n",
    "    \n",
    "    individual_work_exp = []\n",
    "    for e in driver.find_elements_by_class_name(\"rezemp-WorkExperience\"):\n",
    "        individual_work_exp.append(e.text)\n",
    "    work_exp_list.append(individual_work_exp)\n",
    "    \n",
    "    individual_education = []\n",
    "    for e in driver.find_elements_by_class_name(\"rezemp-ResumeDisplay-itemTitle\"):\n",
    "        individual_education.append(e.text)\n",
    "    education.append(individual_education)\n",
    "    \n",
    "    individual_university = []\n",
    "    for e in driver.find_elements_by_class_name(\"rezemp-ResumeDisplay-university\"):\n",
    "        individual_university.append(e.text)\n",
    "    university.append(individual_university)\n",
    "    \n",
    "    table = [resume, individual_work_exp, individual_education, individual_university]\n",
    "    df = pd.DataFrame(table)\n",
    "    df = df.transpose()\n",
    "    df.columns = ['resume', 'work_exp', 'edu', 'univ']\n",
    "\n",
    "    business_analyst_resume = business_analyst_resume.append(df)"
   ]
  },
  {
   "cell_type": "code",
   "execution_count": 86,
   "metadata": {
    "collapsed": true
   },
   "outputs": [],
   "source": [
    "business_analyst_resume.to_csv('../Data/Profile_DFs/business_analyst_resume.csv')"
   ]
  },
  {
   "cell_type": "markdown",
   "metadata": {},
   "source": [
    "    Business Strategist"
   ]
  },
  {
   "cell_type": "code",
   "execution_count": 87,
   "metadata": {
    "collapsed": true
   },
   "outputs": [],
   "source": [
    "txt_file = '../Data/Profile_URLs/Business Strategist.txt'\n",
    "\n",
    "resume_list = open(txt_file).read().splitlines()\n",
    "\n",
    "driver = webdriver.Chrome('/usr/local/bin/chromedriver')  \n",
    "\n",
    "work_exp_list = []\n",
    "education = []\n",
    "university = []\n",
    "\n",
    "business_strategist_resume = pd.DataFrame()\n",
    "# architect_resume.columns = ['work_experience', 'education', 'university']\n",
    "\n",
    "i=1\n",
    "for resume in resume_list:\n",
    "    i += 1\n",
    "    driver.get(resume)\n",
    "    \n",
    "    individual_work_exp = []\n",
    "    for e in driver.find_elements_by_class_name(\"rezemp-WorkExperience\"):\n",
    "        individual_work_exp.append(e.text)\n",
    "    work_exp_list.append(individual_work_exp)\n",
    "    \n",
    "    individual_education = []\n",
    "    for e in driver.find_elements_by_class_name(\"rezemp-ResumeDisplay-itemTitle\"):\n",
    "        individual_education.append(e.text)\n",
    "    education.append(individual_education)\n",
    "    \n",
    "    individual_university = []\n",
    "    for e in driver.find_elements_by_class_name(\"rezemp-ResumeDisplay-university\"):\n",
    "        individual_university.append(e.text)\n",
    "    university.append(individual_university)\n",
    "    \n",
    "    table = [resume, individual_work_exp, individual_education, individual_university]\n",
    "    df = pd.DataFrame(table)\n",
    "    df = df.transpose()\n",
    "    df.columns = ['resume', 'work_exp', 'edu', 'univ']\n",
    "\n",
    "    business_strategist_resume = business_strategist_resume.append(df)"
   ]
  },
  {
   "cell_type": "code",
   "execution_count": 88,
   "metadata": {
    "collapsed": true
   },
   "outputs": [],
   "source": [
    "business_strategist_resume.to_csv('../Data/Profile_DFs/business_strategist_resume.csv')"
   ]
  },
  {
   "cell_type": "markdown",
   "metadata": {},
   "source": [
    "    Data Analyst"
   ]
  },
  {
   "cell_type": "code",
   "execution_count": 89,
   "metadata": {
    "collapsed": true
   },
   "outputs": [],
   "source": [
    "txt_file = '../Data/Profile_URLs/Data Analyst.txt'\n",
    "\n",
    "resume_list = open(txt_file).read().splitlines()\n",
    "\n",
    "driver = webdriver.Chrome('/usr/local/bin/chromedriver')  \n",
    "\n",
    "work_exp_list = []\n",
    "education = []\n",
    "university = []\n",
    "\n",
    "data_analyst_resume = pd.DataFrame()\n",
    "\n",
    "i=1\n",
    "for resume in resume_list:\n",
    "    i += 1\n",
    "    driver.get(resume)\n",
    "    \n",
    "    individual_work_exp = []\n",
    "    for e in driver.find_elements_by_class_name(\"rezemp-WorkExperience\"):\n",
    "        individual_work_exp.append(e.text)\n",
    "    work_exp_list.append(individual_work_exp)\n",
    "    \n",
    "    individual_education = []\n",
    "    for e in driver.find_elements_by_class_name(\"rezemp-ResumeDisplay-itemTitle\"):\n",
    "        individual_education.append(e.text)\n",
    "    education.append(individual_education)\n",
    "    \n",
    "    individual_university = []\n",
    "    for e in driver.find_elements_by_class_name(\"rezemp-ResumeDisplay-university\"):\n",
    "        individual_university.append(e.text)\n",
    "    university.append(individual_university)\n",
    "    \n",
    "    table = [resume, individual_work_exp, individual_education, individual_university]\n",
    "    df = pd.DataFrame(table)\n",
    "    df = df.transpose()\n",
    "    df.columns = ['resume', 'work_exp', 'edu', 'univ']\n",
    "\n",
    "    data_analyst_resume = data_analyst_resume.append(df)"
   ]
  },
  {
   "cell_type": "code",
   "execution_count": 90,
   "metadata": {
    "collapsed": true
   },
   "outputs": [],
   "source": [
    "data_analyst_resume.to_csv('../Data/Profile_DFs/data_analyst_resume.csv')"
   ]
  },
  {
   "cell_type": "markdown",
   "metadata": {},
   "source": [
    "    Data Engineer"
   ]
  },
  {
   "cell_type": "code",
   "execution_count": 91,
   "metadata": {
    "collapsed": true
   },
   "outputs": [],
   "source": [
    "txt_file = '../Data/Profile_URLs/Data Engineer.txt'\n",
    "\n",
    "resume_list = open(txt_file).read().splitlines()\n",
    "\n",
    "driver = webdriver.Chrome('/usr/local/bin/chromedriver')  \n",
    "\n",
    "work_exp_list = []\n",
    "education = []\n",
    "university = []\n",
    "\n",
    "data_engineer_resume = pd.DataFrame()\n",
    "\n",
    "i=1\n",
    "for resume in resume_list:\n",
    "    i += 1\n",
    "    driver.get(resume)\n",
    "    \n",
    "    individual_work_exp = []\n",
    "    for e in driver.find_elements_by_class_name(\"rezemp-WorkExperience\"):\n",
    "        individual_work_exp.append(e.text)\n",
    "    work_exp_list.append(individual_work_exp)\n",
    "    \n",
    "    individual_education = []\n",
    "    for e in driver.find_elements_by_class_name(\"rezemp-ResumeDisplay-itemTitle\"):\n",
    "        individual_education.append(e.text)\n",
    "    education.append(individual_education)\n",
    "    \n",
    "    individual_university = []\n",
    "    for e in driver.find_elements_by_class_name(\"rezemp-ResumeDisplay-university\"):\n",
    "        individual_university.append(e.text)\n",
    "    university.append(individual_university)\n",
    "    \n",
    "    table = [resume, individual_work_exp, individual_education, individual_university]\n",
    "    df = pd.DataFrame(table)\n",
    "    df = df.transpose()\n",
    "    df.columns = ['resume', 'work_exp', 'edu', 'univ']\n",
    "\n",
    "    data_engineer_resume = data_engineer_resume.append(df)"
   ]
  },
  {
   "cell_type": "code",
   "execution_count": 92,
   "metadata": {
    "collapsed": true
   },
   "outputs": [],
   "source": [
    "data_engineer_resume.to_csv('../Data/Profile_DFs/data_engineer_resume.csv')"
   ]
  },
  {
   "cell_type": "markdown",
   "metadata": {},
   "source": [
    "    Data Scientist"
   ]
  },
  {
   "cell_type": "code",
   "execution_count": 93,
   "metadata": {
    "collapsed": true
   },
   "outputs": [],
   "source": [
    "txt_file = '../Data/Profile_URLs/Data Scientist.txt'\n",
    "\n",
    "resume_list = open(txt_file).read().splitlines()\n",
    "\n",
    "driver = webdriver.Chrome('/usr/local/bin/chromedriver')  \n",
    "\n",
    "work_exp_list = []\n",
    "education = []\n",
    "university = []\n",
    "\n",
    "data_scientist_resume = pd.DataFrame()\n",
    "\n",
    "i=1\n",
    "for resume in resume_list:\n",
    "    i += 1\n",
    "    driver.get(resume)\n",
    "    \n",
    "    individual_work_exp = []\n",
    "    for e in driver.find_elements_by_class_name(\"rezemp-WorkExperience\"):\n",
    "        individual_work_exp.append(e.text)\n",
    "    work_exp_list.append(individual_work_exp)\n",
    "    \n",
    "    individual_education = []\n",
    "    for e in driver.find_elements_by_class_name(\"rezemp-ResumeDisplay-itemTitle\"):\n",
    "        individual_education.append(e.text)\n",
    "    education.append(individual_education)\n",
    "    \n",
    "    individual_university = []\n",
    "    for e in driver.find_elements_by_class_name(\"rezemp-ResumeDisplay-university\"):\n",
    "        individual_university.append(e.text)\n",
    "    university.append(individual_university)\n",
    "    \n",
    "    table = [resume, individual_work_exp, individual_education, individual_university]\n",
    "    df = pd.DataFrame(table)\n",
    "    df = df.transpose()\n",
    "    df.columns = ['resume', 'work_exp', 'edu', 'univ']\n",
    "\n",
    "    data_scientist_resume = data_scientist_resume.append(df)"
   ]
  },
  {
   "cell_type": "code",
   "execution_count": 94,
   "metadata": {
    "collapsed": true
   },
   "outputs": [],
   "source": [
    "data_scientist_resume.to_csv('../Data/Profile_DFs/data_scientist_resume.csv')"
   ]
  },
  {
   "cell_type": "code",
   "execution_count": 97,
   "metadata": {
    "collapsed": true
   },
   "outputs": [],
   "source": [
    "job_titles = [ \n",
    "              'Software Architect', 'Human Resource Manager', 'Recruiter',\n",
    "              'Marketing Director']"
   ]
  },
  {
   "cell_type": "code",
   "execution_count": 98,
   "metadata": {
    "collapsed": false
   },
   "outputs": [
    {
     "name": "stdout",
     "output_type": "stream",
     "text": [
      "../Data/Profile_URLs/Software Architect.txt\n",
      "../Data/Profile_URLs/Human Resource Manager.txt\n",
      "../Data/Profile_URLs/Recruiter.txt\n",
      "../Data/Profile_URLs/Marketing Director.txt\n"
     ]
    }
   ],
   "source": [
    "for f in job_titles:\n",
    "    txt_file = '../Data/Profile_URLs/' + f +'.txt'\n",
    "    print txt_file\n",
    "\n",
    "    resume_list = open(txt_file).read().splitlines()\n",
    "\n",
    "    driver = webdriver.Chrome('/usr/local/bin/chromedriver')  \n",
    "\n",
    "    work_exp_list = []\n",
    "    education = []\n",
    "    university = []\n",
    "\n",
    "    output_df = pd.DataFrame()\n",
    "\n",
    "    i=1\n",
    "    for resume in resume_list:\n",
    "        i += 1\n",
    "        driver.get(resume)\n",
    "\n",
    "        individual_work_exp = []\n",
    "        for e in driver.find_elements_by_class_name(\"rezemp-WorkExperience\"):\n",
    "            individual_work_exp.append(e.text)\n",
    "        work_exp_list.append(individual_work_exp)\n",
    "\n",
    "        individual_education = []\n",
    "        for e in driver.find_elements_by_class_name(\"rezemp-ResumeDisplay-itemTitle\"):\n",
    "            individual_education.append(e.text)\n",
    "        education.append(individual_education)\n",
    "\n",
    "        individual_university = []\n",
    "        for e in driver.find_elements_by_class_name(\"rezemp-ResumeDisplay-university\"):\n",
    "            individual_university.append(e.text)\n",
    "        university.append(individual_university)\n",
    "\n",
    "        table = [resume, individual_work_exp, individual_education, individual_university]\n",
    "        df = pd.DataFrame(table)\n",
    "        df = df.transpose()\n",
    "        df.columns = ['resume', 'work_exp', 'edu', 'univ']\n",
    "\n",
    "        output_df = output_df.append(df)\n",
    "        \n",
    "    output_df.to_csv('../Data/Profile_DFs/' + f + '.csv')"
   ]
  },
  {
   "cell_type": "code",
   "execution_count": null,
   "metadata": {
    "collapsed": true
   },
   "outputs": [],
   "source": [
    ""
   ]
  }
 ],
 "metadata": {
  "kernelspec": {
   "display_name": "Python 2",
   "language": "python",
   "name": "python2"
  },
  "language_info": {
   "codemirror_mode": {
    "name": "ipython",
    "version": 2.0
   },
   "file_extension": ".py",
   "mimetype": "text/x-python",
   "name": "python",
   "nbconvert_exporter": "python",
   "pygments_lexer": "ipython2",
   "version": "2.7.13"
  }
 },
 "nbformat": 4,
 "nbformat_minor": 0
}