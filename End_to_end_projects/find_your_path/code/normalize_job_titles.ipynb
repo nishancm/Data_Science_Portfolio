{
 "cells": [
  {
   "cell_type": "code",
   "execution_count": 1,
   "metadata": {
    "collapsed": true
   },
   "outputs": [],
   "source": [
    "import json\n",
    "from pprint import pprint\n",
    "import pandas as pd"
   ]
  },
  {
   "cell_type": "code",
   "execution_count": 2,
   "metadata": {
    "collapsed": true
   },
   "outputs": [],
   "source": [
    "folder = '../Data/Resume_cleaned/'"
   ]
  },
  {
   "cell_type": "code",
   "execution_count": 32,
   "metadata": {
    "collapsed": false
   },
   "outputs": [],
   "source": [
    "# with open(folder + 'ordered_profiles') as f:\n",
    "#     resume = f.readlines()\n",
    "#     print resume\n",
    "#     print '*****************'"
   ]
  },
  {
   "cell_type": "code",
   "execution_count": null,
   "metadata": {
    "collapsed": true
   },
   "outputs": [],
   "source": []
  },
  {
   "cell_type": "code",
   "execution_count": null,
   "metadata": {
    "collapsed": true
   },
   "outputs": [],
   "source": []
  },
  {
   "cell_type": "code",
   "execution_count": null,
   "metadata": {
    "collapsed": true
   },
   "outputs": [],
   "source": []
  },
  {
   "cell_type": "code",
   "execution_count": 3,
   "metadata": {
    "collapsed": true
   },
   "outputs": [],
   "source": [
    "with open(folder + \"json_resume.json\", 'r') as f:\n",
    "    datastore = json.load(f)"
   ]
  },
  {
   "cell_type": "code",
   "execution_count": 4,
   "metadata": {
    "collapsed": false
   },
   "outputs": [],
   "source": [
    "i = 0\n",
    "job_title_list = []\n",
    "\n",
    "for deets in datastore['user_details']:\n",
    "    for experience in deets['Experience']:\n",
    "        job_title_list.append(experience['title'].strip())\n",
    "    \n",
    "    \n",
    "    "
   ]
  },
  {
   "cell_type": "code",
   "execution_count": 11,
   "metadata": {
    "collapsed": false
   },
   "outputs": [],
   "source": [
    "title_map = {\n",
    "    u'amin and shah associates - ahmedabad': '',\n",
    " u'software engineer & architect' : 'software engineer',\n",
    " u'data science' : 'data science',\n",
    " u'u\"financial analyst' : 'financial analyst',\n",
    " u'u\"vp of marketing & business development': 'vp marketing',\n",
    " u'engineering': 'engineer',\n",
    " u'engineering manager': 'engineer manager',\n",
    " u'in advertising' : 'advertising',\n",
    " u'sales associate' : 'sales',\n",
    " u'lead technical / business strategist / dmts' : 'business analyst',\n",
    " u'strategy director / dmts' : 'business analyst',\n",
    " u'product architects' : 'product architect',\n",
    " u'PharmD' : 'doctor',\n",
    " u'microprocessor engineer - team lead' : 'engineer',\n",
    " u'B.S. in Electrical & Electronics' : 'Bachelor of Science in Electrical & Electronics',\n",
    " u'recruiter' : 'recruiter',\n",
    " u'director of facilities & plant operations' : 'director of operations',\n",
    " u'M.S. in Statistics' : 'Master of Science in Data science',\n",
    " u'B.S. in Mechanical Engineering in With a focs in Mechatronics' : 'Bachelor of Science in Mechanical Engineering',\n",
    " u'junior architect' : 'architect',\n",
    " u'staff it auditor' : 'auditor',\n",
    " u'bachelor of arts in economics' : 'bachelor of arts',\n",
    " u'design and marketing director' : 'marketing director',\n",
    " u'it auditor': 'auditor',\n",
    " u'\"Bachelors in Healthcare Management/Administration\"' : 'Bachelors in Administration',\n",
    " u'thousands of data analysts' : 'data science',\n",
    " u'business analyst': 'business analyst',\n",
    " u'and backend engineers' : 'software engineer',\n",
    " u'u\"recruiter' : 'recuiter',\n",
    " u'bachelor of science in medical technology' : 'bachelor of science in medicine',\n",
    " u'associate' : 'associate',\n",
    " u'vp of operations' : 'vp of operations',\n",
    " u'degree_2 :' : '',\n",
    " u'diploma' : '',\n",
    " u'software engineer' : 'software engineer',\n",
    " u'u\"sales associate' : 'sales',\n",
    " u'bachelor of science in mechanical engineering' : 'bachelor of science in mechanical engineering',\n",
    " u'high school or eqivalent' : '',\n",
    " u'managed and developed junior analyst' : 'data science',\n",
    " u'supervise recruiter' : 'recruiter',\n",
    " u'degree_1 :' : '',\n",
    " u'engineers' : 'engineer',\n",
    " u'b.s in fashion design' : 'bachelor of science in fashion',\n",
    " u'product and engineering teams' : 'engineer',\n",
    " u'u\"senior systems engineer' : 'software engineer',\n",
    " u'senior revenue analyst' : 'business analyst',\n",
    " u'lead technical / business strategist/ dmts':'business analyst',\n",
    " u'mechanical design engineer':'engineer',\n",
    " u'\"bachelors\"' : 'bachelor of science in mechanical engineering',\n",
    " u'b.s. in electrical engineering' : 'bachelor of science in electrical engineering',\n",
    " u'\"Masters in Compter Science\"' : 'master of science in computer science',\n",
    " u'u\"decision scientist' : 'business analyst',\n",
    " u'Bachelor of Engineering in Engineering' : 'bachelor of science in electrical engineering',\n",
    " u'High School' : '',\n",
    " u'Bachelors of Science in Hman Resorce Management' :'Bachelors in Administration',\n",
    " u'director of engineering & facilities' : 'director of engineering',\n",
    " u'human resource director' : 'recuiter',\n",
    " u'architect / lead systems engineer' : 'software engineer',\n",
    " u'BS in Bsiness Administration' : 'Bachelors in Administration',\n",
    " u'u\"customer system engineer / advocate' : 'software engineer',\n",
    " u'\"Bachelors in Bsiness Management\"': 'Bachelors in Administration'\n",
    "}\n"
   ]
  },
  {
   "cell_type": "code",
   "execution_count": 12,
   "metadata": {
    "collapsed": false
   },
   "outputs": [
    {
     "data": {
      "text/plain": [
       "{u'\"Bachelors in Bsiness Management\"': 'Bachelors in Administration',\n",
       " u'\"Bachelors in Healthcare Management/Administration\"': 'Bachelors in Administration',\n",
       " u'\"Masters in Compter Science\"': 'master of science in computer science',\n",
       " u'\"bachelors\"': 'bachelor of science in mechanical engineering',\n",
       " u'B.S. in Electrical & Electronics': 'Bachelor of Science in Electrical & Electronics',\n",
       " u'B.S. in Mechanical Engineering in With a focs in Mechatronics': 'Bachelor of Science in Mechanical Engineering',\n",
       " u'BS in Bsiness Administration': 'Bachelors in Administration',\n",
       " u'Bachelor of Engineering in Engineering': 'bachelor of science in electrical engineering',\n",
       " u'Bachelors of Science in Hman Resorce Management': 'Bachelors in Administration',\n",
       " u'High School': '',\n",
       " u'M.S. in Statistics': 'Master of Science in Data science',\n",
       " u'PharmD': 'doctor',\n",
       " u'amin and shah associates - ahmedabad': '',\n",
       " u'and backend engineers': 'software engineer',\n",
       " u'architect / lead systems engineer': 'software engineer',\n",
       " u'associate': 'associate',\n",
       " u'b.s in fashion design': 'bachelor of science in fashion',\n",
       " u'b.s. in electrical engineering': 'bachelor of science in electrical engineering',\n",
       " u'bachelor of arts in economics': 'bachelor of arts',\n",
       " u'bachelor of science in mechanical engineering': 'bachelor of science in mechanical engineering',\n",
       " u'bachelor of science in medical technology': 'bachelor of science in medicine',\n",
       " u'business analyst': 'business analyst',\n",
       " u'data science': 'data science',\n",
       " u'degree_1 :': '',\n",
       " u'degree_2 :': '',\n",
       " u'design and marketing director': 'marketing director',\n",
       " u'diploma': '',\n",
       " u'director of engineering & facilities': 'director of engineering',\n",
       " u'director of facilities & plant operations': 'director of operations',\n",
       " u'engineering': 'engineer',\n",
       " u'engineering manager': 'engineer manager',\n",
       " u'engineers': 'engineer',\n",
       " u'high school or eqivalent': '',\n",
       " u'human resource director': 'recuiter',\n",
       " u'in advertising': 'advertising',\n",
       " u'it auditor': 'auditor',\n",
       " u'junior architect': 'architect',\n",
       " u'lead technical / business strategist / dmts': 'business analyst',\n",
       " u'lead technical / business strategist/ dmts': 'business analyst',\n",
       " u'managed and developed junior analyst': 'data science',\n",
       " u'mechanical design engineer': 'engineer',\n",
       " u'microprocessor engineer - team lead': 'engineer',\n",
       " u'product and engineering teams': 'engineer',\n",
       " u'product architects': 'product architect',\n",
       " u'recruiter': 'recruiter',\n",
       " u'sales associate': 'sales',\n",
       " u'senior revenue analyst': 'business analyst',\n",
       " u'software engineer': 'software engineer',\n",
       " u'software engineer & architect': 'software engineer',\n",
       " u'staff it auditor': 'auditor',\n",
       " u'strategy director / dmts': 'business analyst',\n",
       " u'supervise recruiter': 'recruiter',\n",
       " u'thousands of data analysts': 'data science',\n",
       " u'u\"customer system engineer / advocate': 'software engineer',\n",
       " u'u\"decision scientist': 'business analyst',\n",
       " u'u\"financial analyst': 'financial analyst',\n",
       " u'u\"recruiter': 'recuiter',\n",
       " u'u\"sales associate': 'sales',\n",
       " u'u\"senior systems engineer': 'software engineer',\n",
       " u'u\"vp of marketing & business development': 'vp marketing',\n",
       " u'vp of operations': 'vp of operations'}"
      ]
     },
     "execution_count": 12,
     "metadata": {},
     "output_type": "execute_result"
    }
   ],
   "source": [
    "title_map"
   ]
  },
  {
   "cell_type": "code",
   "execution_count": 35,
   "metadata": {
    "collapsed": true
   },
   "outputs": [],
   "source": [
    "# creating dictionary of job and education title maps"
   ]
  },
  {
   "cell_type": "code",
   "execution_count": 33,
   "metadata": {
    "collapsed": true
   },
   "outputs": [],
   "source": [
    "title_map = {}\n",
    "title_map['compter'] = 'computer'\n",
    "title_map['marketing strategist'] = 'marketing'\n",
    "title_map['indstrial'] = 'industrial'\n",
    "title_map['bsiness'] = 'business'\n",
    "title_map['compter'] = 'computer'\n",
    "title_map['night auditor'] = 'auditor'\n",
    "title_map['administration/marketing'] = 'administration'\n",
    "\n",
    "title_map['marketing & communications'] = 'marketing'\n",
    "title_map['sr '] = 'senior'\n",
    "title_map['sr.'] = 'senior'\n",
    "title_map['bs'] = 'bachelor of science'\n",
    "title_map['acconting'] = 'accounting'\n",
    "title_map['engineering team: 105 in palo alto'] = 'engineer'\n",
    "\n",
    "title_map['in '] = ''\n",
    "title_map['data scientist intern'] = 'data science'\n",
    "title_map['led the team of engineers and designers'] = 'engineering lead'\n",
    "title_map['docs; 40 engineers in sunnyvale/ca'] = 'engineering lead' \n",
    "title_map['degree_2 :'] = '' \n",
    "title_map['u\"'] = '' \n",
    "title_map['High School in Psychology'] = 'psychology'\n",
    "title_map['including engineering.'] = 'engineering'\n",
    "title_map['data analyst'] = 'data science'\n",
    "\n",
    "title_map['degree_1 :'] = ''\n",
    "title_map['Bachelor of Technology'] = 'bachelor of science'\n",
    "title_map['data scientist and ai intern (co-op)'] = 'data science'\n",
    "title_map['technical recruiter'] = 'recruiter'\n",
    "title_map['vpe: came on board as vp engineering'] = 'vp of engineering'\n",
    "\n",
    "title_map['B.Eng.'] = 'bachelor of science'\n",
    "title_map['software engineer intern'] = 'software engineering'\n",
    "title_map['to lead a team of five engineers and offload'] = 'engineering lead'\n",
    "title_map['due to distributed architecture.'] = 'engineering'\n",
    "title_map['engineering team: 12 in san francisco'] = 'engineering lead'\n",
    "title_map['architecture and design documents'] = 'architecture'\n"
   ]
  },
  {
   "cell_type": "code",
   "execution_count": 7,
   "metadata": {
    "collapsed": true
   },
   "outputs": [],
   "source": [
    "import ast\n",
    "resumes = []"
   ]
  },
  {
   "cell_type": "code",
   "execution_count": 8,
   "metadata": {
    "collapsed": false
   },
   "outputs": [],
   "source": [
    "with open('../Data/Resume_cleaned/ordered_profiles') as f:\n",
    "    for line in f:\n",
    "        line = line.strip()\n",
    "        line = ast.literal_eval(line)\n",
    "        resumes.append(line)"
   ]
  },
  {
   "cell_type": "code",
   "execution_count": 49,
   "metadata": {
    "collapsed": true
   },
   "outputs": [],
   "source": [
    "operations_analyst_resume = []\n",
    "operations_manager_resume = []\n",
    "product_resume = []\n",
    "recuiter_resume = []\n",
    "sales_resume = []"
   ]
  },
  {
   "cell_type": "code",
   "execution_count": 50,
   "metadata": {
    "collapsed": false
   },
   "outputs": [],
   "source": [
    "for resume in resumes:\n",
    "    if 'operation' in resume['Job_Title'].lower() and 'analyst' in resume['Job_Title'].lower():\n",
    "        operations_analyst_resume.append(resume)\n",
    "    if 'operation' in resume['Job_Title'].lower() and 'manager' in resume['Job_Title'].lower():\n",
    "        operations_analyst_resume.append(resume)\n",
    "    if 'product' in resume['Job_Title'].lower():\n",
    "        product_resume.append(resume)\n",
    "    if 'recruiter' in resume['Job_Title'].lower():\n",
    "        recuiter_resume.append(resume)\n",
    "    if 'sales' in resume['Job_Title'].lower():\n",
    "        sales_resume.append(resume)\n",
    "    "
   ]
  },
  {
   "cell_type": "code",
   "execution_count": 41,
   "metadata": {
    "collapsed": false
   },
   "outputs": [],
   "source": [
    "for i, r in enumerate(operations_analyst_resume):\n",
    "    print i, r['events']"
   ]
  },
  {
   "cell_type": "code",
   "execution_count": 34,
   "metadata": {
    "collapsed": false
   },
   "outputs": [],
   "source": [
    "oar = [2,11,21,30,59,\n",
    "28,68,110,35,48,\n",
    "122,130,161,83,90,\n",
    "199,177,138,76]\n",
    "\n",
    "operations_analyst = []\n",
    "for o in oar:\n",
    "    operations_analyst.append(operations_analyst_resume[o])"
   ]
  },
  {
   "cell_type": "code",
   "execution_count": 37,
   "metadata": {
    "collapsed": false
   },
   "outputs": [],
   "source": [
    "with open('../Data/job_profiles/operations_analyst', 'w') as f:\n",
    "    for p in operations_analyst:\n",
    "        f.write(str(p)+'\\n')"
   ]
  },
  {
   "cell_type": "code",
   "execution_count": 45,
   "metadata": {
    "collapsed": false
   },
   "outputs": [],
   "source": [
    "for i, r in enumerate(product_resume):\n",
    "    print i, r['events']"
   ]
  },
  {
   "cell_type": "code",
   "execution_count": 43,
   "metadata": {
    "collapsed": false
   },
   "outputs": [],
   "source": [
    "pm = [3,5,6,11,12,\n",
    "      25,48,50,59,76,\n",
    "     48,97,66,65,64,54]\n",
    "product_manager = []\n",
    "for p in pm:\n",
    "    product_manager.append(product_resume[p])"
   ]
  },
  {
   "cell_type": "code",
   "execution_count": 44,
   "metadata": {
    "collapsed": true
   },
   "outputs": [],
   "source": [
    "with open('../Data/job_profiles/product_manager', 'w') as f:\n",
    "    for p in product_manager:\n",
    "        f.write(str(p)+'\\n')"
   ]
  },
  {
   "cell_type": "code",
   "execution_count": 52,
   "metadata": {
    "collapsed": false,
    "scrolled": true
   },
   "outputs": [],
   "source": [
    "for i, r in enumerate(recuiter_resume):\n",
    "    print i, r['events']"
   ]
  },
  {
   "cell_type": "code",
   "execution_count": 53,
   "metadata": {
    "collapsed": false
   },
   "outputs": [],
   "source": [
    "r = [0,2,7,13,25,\n",
    "     37,41,49,62,74,\n",
    "    128,147,164,171,150,\n",
    "    166,171,124,101,90]\n",
    "\n",
    "recruiter = []\n",
    "for rr in r:\n",
    "    recruiter.append(recuiter_resume[rr])"
   ]
  },
  {
   "cell_type": "code",
   "execution_count": 54,
   "metadata": {
    "collapsed": true
   },
   "outputs": [],
   "source": [
    "with open('../Data/job_profiles/recruiter', 'w') as f:\n",
    "    for p in recruiter:\n",
    "        f.write(str(p)+'\\n')"
   ]
  },
  {
   "cell_type": "code",
   "execution_count": 55,
   "metadata": {
    "collapsed": false
   },
   "outputs": [
    {
     "name": "stdout",
     "output_type": "stream",
     "text": [
      "0 [(2014, 'high school diploma', 0), (2014, 'sales', 1), (2016, 'associates of arts degree', 0), (2017, 'bachelors of applied science in organizational management in organizational management', 0)]\n",
      "1 [(2014, '', 0), (2014, 'sales', 1), (2017, 'sales', 1)]\n",
      "2 [(2015, 'sales', 1), (2016, 'crrent stdent in psychology', 0), (2017, 'sales', 1)]\n",
      "3 [(2016, '', 0), (2016, 'sales', 1)]\n",
      "4 [(2012, '', 0), (2015, 'sales', 1), (2016, '', 0)]\n",
      "5 [(2015, 'bachelors in forensic science', 0), (2016, 'sales', 1), (2017, 'sales', 1)]\n",
      "6 [(2014, 'sales', 1), (2015, 'sales', 1), (2016, 'high school diploma', 0)]\n",
      "7 [(2016, 'sales', 1), (2017, 'associate in aviation', 0)]\n",
      "8 [(2013, 'sales', 1), (2016, 'sales', 1), (2019, 'associates in bsiness', 0)]\n",
      "9 [(2014, 'sales', 1), (2017, 'bachelors of arts in interior design in interior design', 0), (2018, 'bachelors of art in interdisciplinary art & design stdies in art', 0)]\n",
      "10 [(2013, 'sales', 1), (2015, 'certificate in medical assisting w/ phlebotomy', 0), (2016, 'sales', 1)]\n",
      "11 [(2017, 'sales', 1), (2019, 'bachelors in criminal jstice', 0)]\n",
      "12 [(2011, 'high school diploma', 0), (2012, 'sales', 1), (2013, 'in general edcation', 0), (2015, 'sales', 1), (2016, 'in general ed to transfer to 4 yr', 0)]\n",
      "13 [(2014, 'sales', 1), (2017, 'sales', 1), (2018, '', 0)]\n",
      "14 [(2013, 'high school diploma', 0), (2016, 'sales', 1), (2017, 'associate of science in health information management', 0), (2017, 'sales', 1)]\n",
      "15 [(2012, 'vocational diploma in visal commnication', 0), (2015, 'sales', 1)]\n",
      "16 [(2008, 'high school diploma', 0), (2010, '', 0), (2012, 'sales', 1), (2016, 'sales', 1)]\n",
      "17 [(2017, 'sales', 1), (2018, '', 0)]\n",
      "18 [(2014, '', 0), (2015, 'sales', 1), (2017, 'sales', 1)]\n",
      "19 [(1989, 'skin care permanent makep in skin care', 0), (2005, 'sales', 1), (2014, 'sales', 1)]\n",
      "20 [(2012, 'sales', 1), (2013, 'sales', 1), (2018, 'in insrance', 0)]\n",
      "21 [(2014, 'sales', 1), (2015, 'sales', 1), (2017, 'in aesthetic', 0)]\n",
      "22 [(2013, 'high school', 0), (2013, 'sales', 1), (2015, 'sales', 1)]\n",
      "23 [(2011, 'bachelor of science in virtal technology and design', 0), (2011, 'sales', 1), (2015, 'sales', 1)]\n",
      "24 [(2010, 'high school diploma', 0), (2011, 'sales', 1)]\n",
      "25 [(2015, 'high school diploma', 0), (2017, 'sales', 1), (2019, 'in exercise science', 0)]\n",
      "26 [(2016, 'certificate of completion in bsiness management', 0), (2017, 'high school diploma', 0), (2017, 'sales', 1), (2021, 'bachelors in secondary edcation', 0)]\n",
      "27 [(2016, 'n/a in fashion marketing and merchandsing', 0), (2016, 'sales', 1)]\n",
      "28 [(2004, '', 0), (2007, '', 0), (2017, 'sales', 1), (2018, 'sales', 1)]\n",
      "29 [(2013, '', 0), (2013, 'sales', 1), (2017, 'sales', 1)]\n",
      "30 [(2016, 'in high school', 0), (2016, 'sales', 1), (2018, 'sales', 1)]\n",
      "31 [(2016, '', 0), (2016, 'sales', 1), (2017, 'sales', 1), (2018, 'associate in welding and fabrication', 0)]\n",
      "32 [(2014, 'high school diploma', 0), (2014, 'sales', 1), (2017, 'sales', 1)]\n",
      "33 [(2013, 'bachelors in general economics minor in political science', 0), (2015, 'sales', 1)]\n",
      "34 [(2007, '', 0), (2007, 'sales', 1), (2010, '', 0), (2015, 'sales', 1)]\n",
      "35 [(2014, '', 0), (2016, '', 0), (2016, 'sales', 1)]\n",
      "36 [(2015, '', 0), (2015, 'sales', 1), (2016, 'sales', 1), (2017, '', 0)]\n",
      "37 [(2015, '', 0), (2015, 'sales', 1), (2017, 'sales', 1)]\n",
      "38 [(2006, '', 0), (2008, 'sales', 1), (2011, 'sales', 1)]\n",
      "39 [(2014, 'high school diploma', 0), (2014, 'sales', 1), (2015, 'sales', 1), (2017, 'sales', 1)]\n",
      "40 [(2015, 'sales', 1), (2016, 'sales', 1), (2021, 'in psychology', 0)]\n",
      "41 [(1983, 'aa in psychology/emt', 0), (2015, 'sales', 1)]\n",
      "42 [(1977, 'high school or eqivalent in fabric service', 0), (1978, 'sales', 1), (2017, 'sales', 1)]\n",
      "43 [(2013, 'sales', 1), (2016, 'sales', 1), (2019, 'associate in biology', 0)]\n",
      "44 [(2013, 'sales', 1), (2017, 'sales', 1), (2018, 'bachelor of science in conseling & hman services', 0)]\n",
      "45 [(2012, 'sales', 1), (2016, 'in administrative office management', 0), (2016, 'sales', 1)]\n",
      "46 [(2008, 'sales', 1), (2013, 'in dental assisting', 0), (2014, 'sales', 1), (2016, 'cda in dental assisting', 0), (2017, 'efda', 0)]\n",
      "47 [(2015, 'sales', 1), (2017, 'sales', 1), (2019, 'in medical', 0)]\n",
      "48 [(2015, 'high school diploma in general', 0), (2016, 'sales', 1)]\n",
      "49 [(2016, 'high school diploma', 0), (2016, 'sales', 1), (2017, 'associate degree', 0)]\n",
      "50 [(2013, '', 0), (2015, 'sales', 1), (2016, 'sales', 1)]\n",
      "51 [(2013, '', 0), (2013, 'sales', 1), (2017, 'sales', 1)]\n",
      "52 [(2017, '', 0), (2017, 'sales', 1)]\n",
      "53 [(2014, 'sales', 1), (2015, 'sales', 1), (2019, 'bachelor of science in family and consmer science', 0)]\n",
      "54 [(2014, 'bachelors of arts in video game design in serios game design', 0), (2016, 'sales', 1), (2017, 'sales', 1)]\n",
      "55 [(2005, 'in bsiness administration', 0), (2005, 'sales', 1), (2006, 'sales', 1)]\n",
      "56 [(2015, '', 0), (2015, 'sales', 1), (2016, 'sales', 1), (2017, '', 0)]\n",
      "57 [(2015, 'in biology', 0), (2016, 'sales', 1)]\n",
      "58 [(2013, 'sales', 1), (2016, 'associate in bsiness', 0), (2019, 'bachelors in hman resorces', 0)]\n",
      "59 [(2017, 'sales', 1), (2019, 'associate in health sciences/radiology', 0)]\n",
      "60 [(2015, 'sales', 1), (2016, 'bachelors in psychology', 0), (2017, 'sales', 1)]\n",
      "61 [(2013, '', 0), (2016, 'sales', 1)]\n",
      "62 [(2015, '', 0), (2015, 'sales', 1), (2017, '', 0), (2017, 'sales', 1)]\n",
      "63 [(2016, 'sales', 1), (2017, 'sales', 1), (2021, 'high school or eqivalent in psychology', 0)]\n",
      "64 [(2014, 'bachelor of science in psychology', 0), (2014, 'sales', 1)]\n",
      "65 [(2011, '', 0), (2013, 'in psychology', 0), (2014, 'sales', 1), (2015, 'sales', 1)]\n",
      "66 [(2013, 'in general edcation', 0), (2013, 'high school diploma', 0), (2015, 'sales', 1), (2017, 'in varios bsiness and medical', 0)]\n",
      "67 [(2017, 'in vet', 0), (2017, 'sales', 1)]\n",
      "68 [(2013, 'ba in economics', 0), (2015, 'sales', 1)]\n",
      "69 [(2014, 'sales', 1), (2017, '', 0)]\n",
      "70 [(2015, 'sales', 1), (2016, 'sales', 1), (2017, 'certificate in dental assisting', 0)]\n",
      "71 [(1987, 'diploma in electronic technician', 0), (1989, 'high school diploma', 0), (2002, 'lab tech in laboratory tech', 0), (2004, 'sales', 1), (2005, 'sales', 1)]\n",
      "72 [(2016, 'high school diploma', 0), (2016, 'sales', 1), (2017, 'sales', 1)]\n",
      "73 [(2012, '', 0), (2014, 'sales', 1), (2015, 'sales', 1), (2017, 'associate of science in health administration services', 0)]\n",
      "74 [(2015, 'high school diploma', 0), (2015, 'sales', 1), (2017, 'sales', 1)]\n",
      "75 [(2011, 'sales', 1), (2015, 'bachelor of science in health and hman performance', 0), (2015, 'sales', 1)]\n",
      "76 [(2017, '', 0), (2017, 'sales', 1)]\n",
      "77 [(2016, 'sales', 1), (2021, 'bachelors in biology pre-medicine', 0)]\n",
      "78 [(2011, 'sales', 1), (2014, 'bachelors of science in acconting and compter information systems', 0), (2016, 'sales', 1), (2017, 'bachelors of bsiness administration in acconting and management information systems', 0), (2018, 'bachelors of science in compter information systems', 0)]\n",
      "79 [(2015, 'sales', 1), (2016, 'high school diploma', 0), (2017, 'sales', 1)]\n",
      "80 [(2013, 'high school diploma in academy of health', 0), (2016, 'sales', 1), (2017, 'sales', 1)]\n",
      "81 [(2017, 'high school diploma', 0), (2017, 'sales', 1)]\n",
      "82 [(2013, 'high school diploma', 0), (2013, 'sales', 1), (2015, 'associate of art', 0), (2015, 'sales', 1), (2018, 'bachelors of art in criminal jstice', 0)]\n",
      "83 [(2013, 'sales', 1), (2014, 'sales', 1), (2018, 'in accontant', 0)]\n",
      "84 [(2006, 'sales', 1), (2012, 'sales', 1), (2013, 'associates in office administration', 0)]\n",
      "85 [(2016, '', 0), (2016, 'sales', 1), (2017, 'sales', 1), (2019, 'in biology/pre med', 0), (2020, 'in criminolgy', 0)]\n",
      "86 [(2013, 'sales', 1), (2014, 'sales', 1), (2017, 'bachelors degree in fashion marketing', 0)]\n",
      "87 [(2011, 'sales', 1), (2017, 'high school or eqivalent in general', 0), (2017, 'sales', 1)]\n",
      "88 [(2016, 'sales', 1), (2017, 'sales', 1), (2020, 'in bsiness admin', 0)]\n",
      "89 [(2013, '', 0), (2014, 'sales', 1)]\n",
      "90 [(2017, 'sales', 1), (2018, 'high school in arts', 0)]\n",
      "91 [(2016, 'in bsiness', 0), (2016, 'sales', 1), (2017, 'sales', 1)]\n",
      "92 [(2017, 'sales', 1), (2018, '', 0)]\n",
      "93 [(2008, '', 0), (2010, 'sales', 1)]\n",
      "94 [(2012, 'high school diploma', 0), (2013, 'sales', 1), (2014, 'sales', 1), (2017, 'in hman services', 0)]\n",
      "95 [(2016, '', 0), (2016, 'sales', 1), (2017, 'sales', 1)]\n",
      "96 [(2016, 'ged', 0), (2017, 'sales', 1)]\n",
      "97 [(2011, 'high school', 0), (2013, 'sales', 1), (2014, 'sales', 1)]\n",
      "98 [(2013, '', 0), (2015, 'sales', 1), (2017, 'sales', 1)]\n",
      "99 [(2015, 'in compter science', 0), (2016, 'sales', 1)]\n",
      "100 [(2012, 'sales', 1), (2016, 'sales', 1), (2020, 'bachelor of arts in marketing and acconting', 0)]\n",
      "101 [(2016, 'high school or eqivalent in senior', 0), (2017, 'sales', 1)]\n",
      "102 [(2014, 'sales', 1), (2016, '', 0), (2016, 'sales', 1)]\n",
      "103 [(2017, 'ged', 0), (2017, 'sales', 1)]\n",
      "104 [(2012, 'sales', 1), (2016, '', 0), (2016, 'sales', 1)]\n",
      "105 [(2016, 'sales', 1), (2017, 'sales', 1), (2018, '', 0)]\n",
      "106 [(2012, 'sales', 1), (2013, '', 0), (2015, 'sales', 1)]\n",
      "107 [(2011, 'sales', 1), (2012, 'sales', 1), (2017, 'associates of science', 0), (2019, 'bachelors of arts in psychology', 0)]\n",
      "108 [(2015, '', 0), (2016, 'sales', 1), (2017, 'sales', 1)]\n",
      "109 [(2014, 'sales', 1), (2015, 'associates in liberal arts', 0), (2016, 'sales', 1), (2017, 'bachelors in commnications', 0)]\n",
      "110 [(2016, 'in msic', 0), (2016, 'sales', 1), (2017, 'sales', 1)]\n",
      "111 [(2017, '', 0), (2017, 'sales', 1)]\n",
      "112 [(2003, '', 0), (2010, 'sales', 1), (2011, 'sales', 1)]\n",
      "113 [(2014, 'sales', 1), (2016, 'sales', 1), (2017, '', 0)]\n",
      "114 [(2013, '', 0), (2013, 'sales', 1), (2015, 'high school diploma in english composition & literatre', 0), (2015, 'sales', 1), (2017, 'bachelor of arts in political science', 0)]\n",
      "115 [(2014, 'sales', 1), (2016, 'sales', 1), (2019, 'in mltimedia reporting', 0)]\n",
      "116 [(2016, 'high school or eqivalent in none', 0), (2016, 'sales', 1)]\n",
      "117 [(2013, 'sales', 1), (2014, 'diploma in general stdies', 0)]\n",
      "118 [(2008, '', 0), (2015, 'sales', 1)]\n",
      "119 [(2013, 'sales', 1), (2016, 'in liberal arts', 0), (2016, 'sales', 1)]\n",
      "120 [(2014, 'high school diploma', 0), (2014, 'sales', 1), (2015, 'sales', 1), (2017, 'associates degree', 0)]\n",
      "121 [(2004, 'high school diploma', 0), (2013, 'sales', 1), (2016, 'sales', 1)]\n",
      "122 [(2011, 'sales', 1), (2014, 'sales', 1), (2018, 'diploma in medical', 0)]\n",
      "123 [(2012, '', 0), (2012, 'sales', 1), (2013, 'in bsiness management', 0), (2016, 'sales', 1)]\n",
      "124 [(2013, '', 0), (2017, 'jazz stdies in msic', 0), (2017, 'sales', 1)]\n",
      "125 [(2015, 'sales', 1), (2016, '', 0), (2016, 'sales', 1)]\n",
      "126 [(2016, 'associates in bsiness', 0), (2016, 'sales', 1), (2017, 'sales', 1)]\n",
      "127 [(2010, 'sales', 1), (2014, '', 0), (2014, 'sales', 1), (2018, '', 0)]\n",
      "128 [(2016, 'sales', 1), (2017, 'sales', 1), (2021, 'in bsiness entreprenership', 0)]\n",
      "129 [(2014, '', 0), (2014, 'sales', 1), (2016, '', 0), (2016, 'sales', 1)]\n",
      "130 [(2014, '', 0), (2015, 'sales', 1), (2016, '', 0), (2016, 'sales', 1), (2017, 'in esthetics (skin care)', 0)]\n",
      "131 [(2017, 'high school diploma in achievements', 0), (2017, 'sales', 1), (2019, 'electrical and electronic systems technology service in electrical and electronic systems technology', 0)]\n",
      "132 [(2015, 'sales', 1), (2017, 'sales', 1), (2018, 'bachelor of behavioral science in psychology', 0)]\n",
      "133 [(2014, 'sales', 1), (2017, 'college in criminal jstice', 0), (2017, 'sales', 1)]\n",
      "134 [(2007, 'associate degree in cerminal jstices', 0), (2009, 'sales', 1), (2013, 'sales', 1)]\n",
      "135 [(2015, 'associates in arts degree in math', 0), (2015, 'sales', 1), (2017, 'associates in arts degree', 0), (2017, 'sales', 1)]\n",
      "136 [(2010, 'sales', 1), (2012, 'sales', 1), (2016, 'bachelors in bsiness finance', 0)]\n",
      "137 [(2008, '', 0), (2009, 'sales', 1), (2015, 'sales', 1)]\n",
      "138 [(2014, 'sales', 1), (2015, 'sales', 1), (2019, 'ba in mltimedia jornalism', 0)]\n",
      "139 [(2015, 'high school diploma', 0), (2015, 'sales', 1)]\n",
      "140 [(2013, 'high school diploma in mathematics', 0), (2015, 'sales', 1), (2016, 'sales', 1)]\n",
      "141 [(2015, 'sales', 1), (2016, 'sales', 1), (2018, 'in psychology', 0)]\n",
      "142 [(2006, 'sales', 1), (2009, '', 0), (2015, 'sales', 1)]\n",
      "143 [(2016, 'sales', 1), (2017, '', 0)]\n",
      "144 [(2015, 'sales', 1), (2017, 'sales', 1), (2021, 'college stdent crrently in criminology', 0)]\n",
      "145 [(2015, '', 0), (2016, 'in undergradate', 0), (2016, 'sales', 1), (2017, 'in design', 0), (2017, 'sales', 1)]\n",
      "146 [(2008, '', 0), (2008, 'sales', 1), (2010, '', 0), (2010, 'sales', 1)]\n",
      "147 [(2014, 'sales', 1), (2016, '', 0), (2021, 'in biology', 0)]\n",
      "148 [(2015, 'sales', 1), (2017, 'sales', 1), (2019, 'bachelor of history in history', 0)]\n",
      "149 [(2013, 'associate', 1), (2014, 'sales', 1), (2015, 'store associate', 1), (2018, '', 0)]\n",
      "150 [(2012, '', 0), (2014, 'sales', 1), (2015, 'sales', 1)]\n",
      "151 [(2014, 'in digital mltimedia graphic design', 0), (2016, 'sales', 1), (2017, 'sales', 1)]\n",
      "152 [(2016, 'sales', 1), (2017, 'sales', 1), (2018, '', 0)]\n",
      "153 [(2015, 'sales', 1), (2016, 'sales', 1), (2018, 'high school diploma in high school', 0)]\n",
      "154 [(2015, 'sales', 1), (2016, 'sales', 1), (2018, 'bachelor of arts in mathematics', 0)]\n",
      "155 [(2011, 'sales', 1), (2013, 'sales', 1), (2017, 'bachelor of science in bsiness administration', 0)]\n",
      "156 [(2013, 'high school diploma', 0), (2013, 'sales', 1), (2016, 'sales', 1), (2017, 'in general edcation', 0)]\n",
      "157 [(2016, 'sales', 1), (2017, 'sales', 1), (2019, 'bachelors of political science in political science', 0)]\n",
      "158 [(2014, 'sales', 1), (2016, '', 0), (2016, 'sales', 1), (2020, 'as in prodction management', 0)]\n",
      "159 [(2014, '', 0), (2016, 'in animation', 0), (2016, 'sales', 1), (2017, 'sales', 1), (2019, 'in grapic design', 0)]\n",
      "160 [(2016, 'sales', 1), (2017, '', 0), (2017, 'sales', 1)]\n",
      "161 [(2014, 'sales', 1), (2015, 'high school diploma', 0), (2017, 'sales', 1)]\n",
      "162 [(2012, 'sales', 1), (2013, 'in medical', 0), (2014, 'sales', 1)]\n",
      "163 [(2016, 'diploma in college prep. ap', 0), (2016, 'sales', 1), (2017, 'sales', 1)]\n",
      "164 [(2009, 'in high school', 0), (2010, 'sales', 1), (2012, 'sales', 1)]\n",
      "165 [(2015, 'in criminal jstice', 0), (2016, 'sales', 1), (2017, 'sales', 1)]\n",
      "166 [(2015, 'high school diploma', 0), (2015, 'sales', 1), (2016, 'sales', 1), (2017, 'associate of arts', 0), (2020, 'bachelors in healthcare management', 0)]\n",
      "167 [(1999, '', 0), (2003, 'sales', 1), (2017, 'sales', 1)]\n",
      "168 [(2012, 'sales', 1), (2013, 'in nrsing', 0), (2014, 'sales', 1)]\n",
      "169 [(2015, 'high school diploma', 0), (2015, 'sales', 1), (2016, 'sales', 1), (2017, 'sales', 1)]\n",
      "170 [(2013, 'sales', 1), (2015, 'sales', 1), (2017, 'bachelors in organizational leadership', 0)]\n",
      "171 [(2016, 'high school diploma', 0), (2016, 'sales', 1), (2017, 'sales', 1), (2021, 'bachelor in media commnications', 0)]\n",
      "172 [(2017, 'sales', 1), (2019, 'hight school in beginner groomer', 0)]\n",
      "173 [(2007, '', 0), (2009, 'in information technology', 0), (2014, 'sales', 1), (2016, 'sales', 1)]\n",
      "174 [(2010, 'sales', 1), (2012, '', 0), (2017, 'sales', 1), (2018, 'bachelor of arts', 0)]\n",
      "175 [(1987, 'sales', 1), (1990, 'associates in bsiness administration and office atomation', 0), (1991, 'sales', 1)]\n",
      "176 [(2017, 'high school', 0), (2017, 'sales', 1), (2019, 'associate in medical', 0)]\n",
      "177 [(2010, '', 0), (2014, '', 0), (2015, 'in bsiness', 0), (2016, 'sales', 1)]\n",
      "178 [(2002, 'in bsiness technology', 0), (2010, 'sales', 1), (2012, 'sales', 1), (2016, 'in english', 0)]\n",
      "179 [(2010, 'in bsiness administrative technology', 0), (2013, 'sales', 1), (2016, 'sales', 1)]\n",
      "180 [(2015, 'sales', 1), (2016, 'sales', 1), (2017, '', 0), (2018, 'associated degree in environmental sciences', 0)]\n",
      "181 [(2009, '', 0), (2011, 'sales', 1), (2016, 'sales', 1), (2018, 'bachelors in marketing', 0)]\n",
      "182 [(2012, '', 0), (2012, 'sales', 1), (2015, 'sales', 1)]\n",
      "183 [(2014, 'sales', 1), (2015, '', 0), (2016, 'sales', 1)]\n",
      "184 [(2016, 'sales', 1), (2017, 'sales', 1), (2018, 'crrent in medical assisting', 0)]\n",
      "185 [(2016, 'sales', 1), (2019, 'associate in nrsing', 0)]\n",
      "186 [(2011, 'sales', 1), (2016, 'sales', 1), (2019, 'aas in nrsing', 0)]\n",
      "187 [(2015, 'associate of arts in bsiness administration', 0), (2017, 'sales', 1)]\n",
      "188 [(2015, 'high school diploma', 0), (2015, 'sales', 1), (2017, 'sales', 1)]\n",
      "189 [(2015, 'sales', 1), (2016, 'sales', 1), (2017, 'in general stdies', 0)]\n",
      "190 [(2016, 'sales', 1), (2017, 'sales', 1), (2018, '', 0)]\n",
      "191 [(2017, 'gradated 2017', 0), (2017, 'sales', 1)]\n",
      "192 [(2015, 'advanced regents diploma', 0), (2015, 'sales', 1), (2016, 'sales', 1), (2019, 'bs in biology', 0)]\n",
      "193 [(2002, '', 0), (2015, 'sales', 1), (2016, 'sales', 1)]\n",
      "194 [(2013, 'sales', 1), (2015, '', 0), (2017, 'sales', 1)]\n",
      "195 [(2011, 'sales', 1), (2012, 'sales', 1), (2017, '', 0)]\n",
      "196 [(2015, '', 0), (2016, '', 0), (2016, 'sales', 1)]\n",
      "197 [(2013, 'sales', 1), (2016, 'in business', 0), (2016, 'sales', 1)]\n",
      "198 [(2013, '', 0), (2013, 'sales', 1), (2015, 'sales', 1)]\n",
      "199 [(2012, 'high school diploma', 0), (2017, 'sales', 1)]\n",
      "200 [(2008, 'sales', 1), (2014, '', 0), (2015, 'sales', 1)]\n",
      "201 [(2016, 'sales', 1), (2017, 'high school diploma', 0), (2017, 'sales', 1)]\n",
      "202 [(2012, 'bachelors in compter science', 0), (2018, 'sales', 1)]\n",
      "203 [(2015, 'sales', 1), (2016, 'associates in arts in articlated architectre', 0), (2017, 'sales', 1)]\n",
      "204 [(2014, 'sales', 1), (2017, 'bachelor of arts in sociology', 0)]\n",
      "205 [(2014, '', 0), (2015, 'sales', 1), (2016, '', 0), (2016, 'sales', 1), (2017, '', 0)]\n",
      "206 [(2009, 'sales', 1), (2012, '', 0), (2013, 'sales', 1)]\n",
      "207 [(2016, 'sales', 1), (2017, 'bachelors of arts degree in commnication', 0), (2017, 'sales', 1)]\n",
      "208 [(2015, 'high school diploma', 0), (2016, 'sales', 1), (2017, 'sales', 1)]\n",
      "209 [(2017, 'high school diploma', 0), (2017, 'sales', 1)]\n",
      "210 [(2013, 'sales', 1), (2014, 'sales', 1), (2017, 'associate of science in behavioral sciences', 0)]\n",
      "211 [(2012, 'sales', 1), (2014, 'sales', 1), (2015, 'n/a in n/a', 0)]\n",
      "212 [(2016, 'sales', 1), (2017, 'in finance and acconting', 0), (2017, 'sales', 1)]\n",
      "213 [(1983, 'high school or eqivalent in distribtive edcation', 0), (1990, 'sales', 1), (2005, 'sales', 1)]\n",
      "214 [(2008, '', 0), (2008, 'sales', 1), (2009, 'sales', 1), (2012, 'a.a general edcation in general edcation', 0)]\n",
      "215 [(2014, 'in graphic design', 0), (2016, 'sales', 1)]\n",
      "216 [(2014, 'sales', 1), (2015, 'sales', 1), (2018, '', 0)]\n",
      "217 [(2008, '', 0), (2010, 'sales', 1), (2011, 'sales', 1), (2017, 'bachelors in bsiness administration', 0)]\n",
      "218 [(1990, 'aa in bsiness administration', 0), (2016, 'sales', 1)]\n",
      "219 [(2015, 'sales', 1), (2017, 'sales', 1), (2018, 'none in gen ed', 0)]\n",
      "220 [(2017, 'sales', 1), (2020, 'in clinary arts', 0)]\n",
      "221 [(2015, 'sales', 1), (2017, 'bachelor of science in mathematics', 0), (2017, 'sales', 1)]\n",
      "222 [(2014, 'high school in general', 0), (2014, 'sales', 1), (2018, 'sales', 1)]\n",
      "223 [(2006, 'in cosmetology', 0), (2007, 'sales', 1), (2018, 'sales', 1)]\n",
      "224 [(2017, 'high school diploma in bsiness', 0), (2017, 'sales', 1), (2019, 'bba in acconting', 0)]\n",
      "225 [(2010, 'advanced diploma in general stdies', 0), (2014, 'sales', 1), (2015, 'sales', 1), (2016, 'associate in general stdies', 0)]\n",
      "226 [(2015, 'high school or eqivalent in n/a', 0), (2016, 'sales', 1), (2017, 'sales', 1)]\n",
      "227 [(1988, '', 0), (2012, 'sales', 1), (2015, 'sales', 1)]\n",
      "228 [(1990, 'high school', 0), (2011, 'sales', 1), (2017, 'sales', 1)]\n",
      "229 [(2015, 'sales', 1), (2016, 'sales', 1), (2020, 'in nrsing', 0)]\n",
      "230 [(2013, 'sales', 1), (2014, 'sales', 1), (2018, 'bachelor of science in bsiness administration', 0)]\n",
      "231 [(2016, 'high school diploma', 0), (2016, 'sales', 1)]\n",
      "232 [(2016, 'sales', 1), (2018, '', 0)]\n",
      "233 [(2016, 'associate in arts in psychology', 0), (2017, 'sales', 1)]\n",
      "234 [(2015, '', 0), (2015, 'sales', 1)]\n",
      "235 [(1983, '9th grade in general', 0), (2015, 'sales', 1), (2017, 'sales', 1)]\n",
      "236 [(2016, 'sales', 1), (2017, 'in dental assistant', 0), (2017, 'sales', 1)]\n",
      "237 [(2017, 'high school diploma', 0), (2017, 'sales', 1), (2018, '', 0)]\n",
      "238 [(2014, 'associates in acconting', 0), (2014, 'sales', 1), (2015, 'sales', 1)]\n",
      "239 [(2016, 'sales', 1), (2017, '', 0), (2017, 'sales', 1), (2018, 'in sales', 0)]\n",
      "240 [(2013, 'high school diploma', 0), (2014, 'in psychology and criminal jstice', 0), (2015, 'sales', 1)]\n",
      "241 [(2014, 'sales', 1), (2017, 'associate in jornalism in jornalism', 0), (2017, 'sales', 1)]\n",
      "242 [(2016, 'high school diploma', 0), (2016, 'sales', 1)]\n",
      "243 [(2015, 'sales', 1), (2016, 'sales', 1), (2018, 'in liberal arts', 0)]\n",
      "244 [(2010, 'high school diploma', 0), (2012, 'sales', 1), (2013, 'sales', 1), (2014, 'in bsiness', 0)]\n",
      "245 [(2010, '', 0), (2014, 'sales', 1)]\n",
      "246 [(2012, 'high school diploma', 0), (2012, 'sales', 1), (2014, 'sales', 1)]\n",
      "247 [(2016, 'sales', 1), (2017, '', 0), (2019, 'associate in pre-law', 0)]\n",
      "248 [(2008, 'high school diploma', 0), (2012, 'sales', 1), (2015, 'sales', 1)]\n",
      "249 [(2010, '', 0), (2013, 'sales', 1), (2015, 'sales', 1)]\n",
      "250 [(2011, 'sales', 1), (2015, 'sociology', 0), (2015, 'sales', 1), (2018, 'ba in psychology', 0)]\n",
      "251 [(2013, '', 0), (2014, 'sales', 1), (2017, 'e.g in medical assistance', 0)]\n",
      "252 [(2015, 'sales', 1), (2016, '', 0), (2017, 'sales', 1)]\n",
      "253 [(2013, 'sales', 1), (2015, 'sales', 1), (2016, 'high school diploma in general', 0)]\n",
      "254 [(2011, 'diploma in general', 0), (2012, 'crrent in art associate', 0), (2014, 'sales', 1), (9330, 'sales', 1)]\n",
      "255 [(2011, 'sales', 1), (2012, 'in political science', 0), (2012, 'sales', 1)]\n",
      "256 [(2015, 'sales', 1), (2016, 'in biology', 0), (2016, 'sales', 1), (2018, 'in veterinary technician', 0)]\n",
      "257 [(2015, 'high school diploma', 0), (2015, 'sales', 1), (2017, 'associate in liberal arts', 0), (2019, 'bachelors in chemical bioscience (pre-pharmacy)', 0)]\n",
      "258 [(2013, 'sales', 1), (2016, 'sales', 1), (2017, 'certification', 0)]\n",
      "259 [(2016, 'sales', 1), (2017, 'high school diploma', 0), (2017, 'sales', 1), (2019, 'associate in liberal arts', 0)]\n",
      "260 [(2015, 'sales', 1), (2018, 'bachelor of science in fashion merchandising', 0)]\n",
      "261 [(2015, 'sales', 1), (2017, 'sales', 1), (2019, 'in nrsing', 0)]\n",
      "262 [(2013, 'sales', 1), (2014, 'sales', 1), (2015, 'associates', 0), (2018, '', 0)]\n",
      "263 [(2014, 'in highschool diploma', 0), (2014, 'sales', 1), (2015, 'in liberal arts', 0)]\n",
      "264 [(2015, 'sales', 1), (2017, 'sales', 1), (2019, 'associate of science', 0)]\n",
      "265 [(2016, 'in health assistance', 0), (2017, '', 0), (2017, 'sales', 1)]\n",
      "266 [(2012, 'sales', 1), (2014, 'sales', 1), (2018, 'in neroscience', 0)]\n",
      "267 [(2010, 'sales', 1), (2012, '', 0), (2013, 'sales', 1)]\n",
      "268 [(2012, 'high school diploma', 0), (2013, 'sales', 1)]\n",
      "269 [(2013, '', 0), (2014, 'sales', 1), (2016, 'sales', 1)]\n",
      "270 [(2014, '', 0), (2015, 'sales', 1), (2017, 'sales', 1)]\n",
      "271 [(2015, 'associates of science in science', 0), (2015, 'sales', 1), (2016, 'sales', 1), (2018, 'bachelors in constrction management/ indstrial safety', 0)]\n",
      "272 [(2015, 'sales', 1), (2017, 'e.g.', 0), (2017, 'sales', 1)]\n",
      "273 [(2013, 'high school diploma', 0), (2013, 'sales', 1)]\n",
      "274 [(2016, 'sales', 1), (2017, '', 0), (2017, 'sales', 1)]\n",
      "275 [(2016, 'high school diploma', 0), (2016, 'sales', 1), (2017, 'sales', 1), (2019, 'associates of bsiness management in bsiness management', 0)]\n",
      "276 [(2011, 'sales', 1), (2013, 'sales', 1), (2020, 'aa in acconting', 0)]\n",
      "277 [(2015, 'sales', 1), (2016, 'child development in child development', 0), (2016, 'sales', 1), (2017, 'high school diploma', 0)]\n",
      "278 [(2016, 'sales', 1), (2017, 'sales', 1), (2021, 'process in nrsing', 0)]\n",
      "279 [(2016, 'sales', 1), (2017, 'sales', 1), (2018, 'high school or eqivalent in n/a', 0)]\n",
      "280 [(2014, 'sales', 1), (2015, 'sales', 1), (2021, 'bs in anthropology', 0)]\n",
      "281 [(2007, 'sales', 1), (2008, '', 0), (2016, 'sales', 1)]\n",
      "282 [(2014, 'high school diploma', 0), (2014, 'sales', 1), (2017, 'sales', 1)]\n",
      "283 [(2015, 'high school diploma', 0), (2015, 'sales', 1), (2016, 'sales', 1)]\n",
      "284 [(1988, 'in health assistant', 0), (2005, 'sales', 1)]\n",
      "285 [(2013, 'sales', 1), (2014, 'diploma in general stdies', 0), (2015, 'sales', 1), (2016, 'pending in general stdies', 0)]\n",
      "286 [(2015, 'sales', 1), (2016, 'certification in medical', 0), (2016, 'sales', 1)]\n",
      "287 [(1997, 'associate in ato parts', 0), (2016, 'sales', 1)]\n",
      "288 [(2013, 'high school diploma', 0), (2015, 'sales', 1), (2016, 'sales', 1)]\n",
      "289 [(2016, 'sales', 1), (2018, 'bachelors in arts in history', 0)]\n",
      "290 [(2012, 'bachelors of science in compter information systems', 0), (2014, 'sales', 1), (2016, 'sales', 1)]\n",
      "291 [(2015, '', 0), (2015, 'sales', 1), (2016, 'sales', 1)]\n",
      "292 [(2015, 'sales', 1), (2017, '', 0), (2017, 'sales', 1)]\n",
      "293 [(2010, 'sales', 1), (2015, 'some college in nrsing rn', 0), (2015, 'sales', 1)]\n",
      "294 [(2016, 'high school diploma', 0), (2016, 'sales', 1), (2017, 'sales', 1)]\n",
      "295 [(2014, 'high school diploma', 0), (2014, 'sales', 1), (2015, 'sales', 1), (2016, 'associate in science in psychology', 0)]\n",
      "296 [(2016, 'high school diploma in none right now', 0), (2016, 'sales', 1), (2017, 'associate', 1)]\n",
      "297 [(2014, 'sales', 1), (2016, 'sales', 1), (2017, 'in liberal stdies', 0)]\n",
      "298 [(2015, '', 0), (2015, 'sales', 1), (2016, 'sales', 1)]\n",
      "299 [(2011, 'sales', 1), (2012, '', 0), (2012, 'sales', 1), (2017, '', 0), (2018, '', 0)]\n",
      "300 [(2016, 'in commnication', 0), (2016, 'sales', 1), (2017, 'sales', 1)]\n",
      "301 [(2014, 'sales', 1), (2015, 'msic prodction & manegment in engineering & prodcing', 0), (2017, 'sales', 1)]\n",
      "302 [(2015, 'high school diploma', 0), (2016, 'sales', 1), (2017, 'associates degree in cad', 0)]\n",
      "303 [(2015, 'sales', 1), (2016, 'sales', 1), (2017, '', 0), (2022, 'in pre-nrsing', 0)]\n",
      "304 [(2009, 'diploma in general stdies', 0), (2011, 'sales', 1), (2013, 'certificate in medical coding and billing', 0), (2016, 'sales', 1)]\n",
      "305 [(2008, 'high school diploma', 0), (2009, 'sales', 1), (2012, 'sales', 1), (2013, 'in civil engineering', 0), (2017, 'bachelor of science in civil engineering', 0)]\n",
      "306 [(2011, 'sales', 1), (2014, 'sales', 1), (2018, 'n/a in commnication', 0)]\n",
      "307 [(2011, 'sales', 1), (2014, 'sales', 1), (2017, 'bachelors in merchandising', 0)]\n",
      "308 [(2007, '', 0), (2016, 'diploma in radiologic technology', 0), (2016, 'sales', 1)]\n",
      "309 [(2010, '', 0), (2015, 'sales', 1), (2018, 'crrent in radiology/psychology', 0)]\n",
      "310 [(2015, 'n/a in english', 0), (2015, 'sales', 1)]\n",
      "311 [(2012, 'hs diploma', 0), (2016, 'sales', 1)]\n",
      "312 [(1999, 'high school diploma', 0), (2017, 'sales', 1)]\n",
      "313 [(2012, '', 0), (2016, 'sales', 1)]\n",
      "314 [(2012, 'eastport associates llc - ofallon', 1), (2013, 'ged in basic', 0)]\n",
      "315 [(1999, 'high school diploma', 0), (2017, 'sales director', 1)]\n",
      "316 [(2001, 'in bsiness', 0), (2003, 'sales', 1)]\n",
      "317 [(1987, 'bachelor of science', 0), (2011, 'sales manager/ engineer', 1)]\n",
      "318 [(2010, 'bachelor of arts in sociology', 0), (2017, 'sales', 1)]\n",
      "319 [(2012, 'sales', 1), (2016, 'b.s. in biomedical engineering', 0)]\n",
      "320 [(1994, 'diploma in bsiness', 0), (2017, 'diploma in bsiness leadership', 0), (2017, 'sales', 1)]\n",
      "321 [(2007, 'associate in science in bsiness administration in bsiness administration', 0), (2012, 'sales director', 1)]\n",
      "322 [(2016, 'bachelor in marketing', 0), (2017, 'and architects', 1)]\n",
      "323 [(1977, 'b.s. in bsiness administration', 0), (1984, 'sales manager/sales analyst', 1)]\n",
      "324 [(2014, 'sales', 1), (2016, 'master gradate in leadership and relationship bilding', 0)]\n",
      "325 [(2013, 'sales', 1), (2016, 'bachelor of arts in bsiness management leadership in resorces & hospitality management', 0)]\n",
      "326 [(2012, 'sales', 1), (2017, '', 0)]\n",
      "327 [(2003, 'sales', 1), (2019, 'associate', 0)]\n",
      "328 [(1979, '', 0), (1983, 'associates in compter hardware engineering', 0), (2008, 'sales', 1)]\n",
      "329 [(1994, 'bsn in bsiness commnication', 0), (2014, 'sales', 1)]\n",
      "330 [(2014, 'sales', 1), (2016, '', 0), (2019, 'bachelor of bsiness administration in marketing', 0)]\n",
      "331 [(1993, 'in criminal jstice', 0), (1997, 'sales', 1)]\n",
      "332 [(1984, 'high school diploma', 0), (2014, 'sales', 1)]\n",
      "333 [(1985, '', 0), (1989, '', 0), (1990, 'sales', 1)]\n",
      "334 [(2016, '', 0), (2016, 'sales', 1)]\n",
      "335 [(2009, 'associate in bsiness', 0), (2014, 'sales', 1), (2015, 'entreprenerial bsiness minor', 0), (2018, 'bachelors in economics', 0)]\n",
      "336 [(2005, 'in digital media', 0), (2005, 'sales', 1)]\n",
      "337 [(2013, 'sales', 1), (2014, '', 0)]\n"
     ]
    }
   ],
   "source": [
    "for i, r in enumerate(sales_resume):\n",
    "    print i, r['events']"
   ]
  },
  {
   "cell_type": "code",
   "execution_count": null,
   "metadata": {
    "collapsed": true
   },
   "outputs": [],
   "source": []
  }
 ],
 "metadata": {
  "kernelspec": {
   "display_name": "Python 2",
   "language": "python",
   "name": "python2"
  },
  "language_info": {
   "codemirror_mode": {
    "name": "ipython",
    "version": 2
   },
   "file_extension": ".py",
   "mimetype": "text/x-python",
   "name": "python",
   "nbconvert_exporter": "python",
   "pygments_lexer": "ipython2",
   "version": "2.7.13"
  }
 },
 "nbformat": 4,
 "nbformat_minor": 2
}
