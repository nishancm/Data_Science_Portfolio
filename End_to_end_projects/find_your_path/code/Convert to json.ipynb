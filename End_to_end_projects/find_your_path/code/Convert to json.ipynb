{
 "cells": [
  {
   "cell_type": "code",
   "execution_count": 33,
   "metadata": {
    "collapsed": false
   },
   "outputs": [],
   "source": [
    "import json\n",
    "from pprint import pprint"
   ]
  },
  {
   "cell_type": "code",
   "execution_count": 140,
   "metadata": {
    "collapsed": false
   },
   "outputs": [],
   "source": [
    "source_file = '../Data/Profile_DFs/'\n",
    "destination_folder = '../Data/Resume_cleaned/'"
   ]
  },
  {
   "cell_type": "code",
   "execution_count": 101,
   "metadata": {
    "collapsed": true
   },
   "outputs": [],
   "source": [
    "titles = ['architect',\n",
    "          'auditor',\n",
    "          'business strategist',\n",
    "          'recruiter',\n",
    "          'software architect',\n",
    "          'vp of engineering',\n",
    "          'vp of marketing',\n",
    "          'vp of operations',\n",
    "          'analyst',\n",
    "          'strategist',\n",
    "          'associate'\n",
    "          'manager',\n",
    "          'director',\n",
    "          'engineer',\n",
    "          'associate',\n",
    "          'scientist']"
   ]
  },
  {
   "cell_type": "code",
   "execution_count": 189,
   "metadata": {
    "collapsed": false
   },
   "outputs": [],
   "source": [
    "user_detail_dict = {}\n",
    "user_detail_list = []\n",
    "\n",
    "with open(destination_folder + \"json_resume.json\", 'w') as outfile:\n",
    "    for file_item in os.listdir(source_file):\n",
    "        raw_text = pd.read_csv(source_file + str(file_item))\n",
    "\n",
    "        data = {}\n",
    "        for index, row in raw_text.iterrows():\n",
    "\n",
    "            d = {}\n",
    "            d['id'] = str(row['resume'].split('/')[-1])\n",
    "            data['user'] = d\n",
    "\n",
    "            job = {}\n",
    "            job_list = []\n",
    "\n",
    "            # get job from work_experience\n",
    "            v = row['work_exp'].lower()[1:].split(\",\")\n",
    "            v = [item.split(\"\\\\n\") for item in v]\n",
    "            v = [item for sublist in v for item in sublist]\n",
    "            j = {}\n",
    "            ct, k = 0, 0\n",
    "            for item in v:\n",
    "                j = {}\n",
    "                ct = ct + 1\n",
    "                if any(title in item for title in titles) and len(item) < 50:\n",
    "                    k = k + 1\n",
    "                    j['title'] = item.strip().replace(\"u'\", \"\") # extracted job title\n",
    "\n",
    "                    # extracting year from jobs\n",
    "                    try:\n",
    "                        if any(char.isdigit() for char in v[ct + 1]):\n",
    "                            j['year'] = v[ct + 1].strip().replace(\"'\", \"\").replace(\"]\", \"\").replace(\"[\", \"\")\n",
    "                        elif any(char.isdigit() for char in v[ct + 2]):\n",
    "                            j['year']= v[ct + 2].strip().replace(\"'\", \"\").replace(\"]\", \"\").replace(\"[\", \"\")\n",
    "                        else:\n",
    "                            j['year'] = \"NA\"\n",
    "                    except:\n",
    "                        j['year'] = \"NA\"\n",
    "\n",
    "                    j['is_job'] = 'Y'\n",
    "                    job_list.append(j)\n",
    "\n",
    "\n",
    "            # get degrees from education\n",
    "            degrees = row[\"education_json\"].split(\",\")\n",
    "            years = row['univ'].replace(\"'\",\"\").replace('u', '').\\\n",
    "                                    replace('[','').replace(']','').split(\"\\\\n\")[1:]\n",
    "\n",
    "            if len(years) == 0: \n",
    "                j = {}\n",
    "                for i in range(len(degrees)):\n",
    "                    j['title'] = degrees[i].strip().replace(\"degree_%s : \"%str(i+1),\"\")\n",
    "                    j['year'] = 'NA'\n",
    "                    j['is_job'] = 'N'\n",
    "                    job_list.append(j)\n",
    "            else:\n",
    "                j = {}\n",
    "                for i in range(len(degrees)):\n",
    "                    j['title'] = degrees[i].strip().replace(\"degree_%s : \"%str(i+1),\"\")\n",
    "                    try:\n",
    "                        j['year'] = years[i].split(\",\")[0].replace('\"','')\n",
    "                    except:\n",
    "                        j['year'] = \"NA\"\n",
    "                    j['is_job'] = 'N'\n",
    "                    job_list.append(j)\n",
    "\n",
    "\n",
    "            data['Experience'] = job_list\n",
    "            user_detail_list.append(data)\n",
    "\n",
    "    user_detail_dict['user_details'] =   user_detail_list\n",
    "    json.dump(user_detail_dict, outfile)\n",
    "        "
   ]
  },
  {
   "cell_type": "code",
   "execution_count": 191,
   "metadata": {
    "collapsed": false
   },
   "outputs": [],
   "source": [
    "with open(destination_folder + \"json_resume.json\", 'r') as f:\n",
    "    datastore = json.load(f)"
   ]
  },
  {
   "cell_type": "code",
   "execution_count": 202,
   "metadata": {
    "collapsed": false
   },
   "outputs": [
    {
     "data": {
      "text/plain": [
       "[{u'is_job': u'Y',\n",
       "  u'title': u'business architect',\n",
       "  u'year': u'june 2015 to present'},\n",
       " {u'is_job': u'N',\n",
       "  u'title': u' Bachelor of Science in Indstrial Engineering',\n",
       "  u'year': u'NA'},\n",
       " {u'is_job': u'N',\n",
       "  u'title': u' Bachelor of Science in Indstrial Engineering',\n",
       "  u'year': u'NA'}]"
      ]
     },
     "execution_count": 202,
     "metadata": {},
     "output_type": "execute_result"
    }
   ],
   "source": [
    "datastore['user_details'][1]['Experience']"
   ]
  },
  {
   "cell_type": "code",
   "execution_count": null,
   "metadata": {
    "collapsed": true
   },
   "outputs": [],
   "source": []
  }
 ],
 "metadata": {
  "kernelspec": {
   "display_name": "Python 2",
   "language": "python",
   "name": "python2"
  },
  "language_info": {
   "codemirror_mode": {
    "name": "ipython",
    "version": 2
   },
   "file_extension": ".py",
   "mimetype": "text/x-python",
   "name": "python",
   "nbconvert_exporter": "python",
   "pygments_lexer": "ipython2",
   "version": "2.7.13"
  }
 },
 "nbformat": 4,
 "nbformat_minor": 2
}
