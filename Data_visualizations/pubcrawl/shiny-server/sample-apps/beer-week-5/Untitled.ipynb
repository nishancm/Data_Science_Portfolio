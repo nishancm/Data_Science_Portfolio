{
 "cells": [
  {
   "cell_type": "code",
   "execution_count": 1,
   "metadata": {
    "collapsed": true
   },
   "outputs": [],
   "source": [
    "import get_route_plan\n",
    "import sys\n",
    "import pandas as pd\n",
    "import calendar\n",
    "import datetime\n",
    "\n",
    "def get_routes(input_string):\n",
    "\t# Expected input format 'starting_brewery=20 crawl_starts_at=19:00 minutes_per_bar=20 crawl_duration=3 dow_name=Monday'\n",
    "\tinp_list = input_string.split(' ')\n",
    "\t## Get Day of week\n",
    "\tdow_name = inp_list[4].split(\"=\")[1]\n",
    "\tfn_args = {e.split('=')[0]:e.split('=')[1] for e in inp_list[:4]}\n",
    "\n",
    "\n",
    "\t# load data from static reference files\n",
    "\tbrewery_data_fpath = 'data/BreweryData.csv'  # path for main brewery file\n",
    "\tfname_trav_times = 'data/timesMatrix.csv'\n",
    "\n",
    "\t### Load Data\n",
    "\t# Opening and Closing Times of Breweries\n",
    "\tdef import_data(filepath, day):\n",
    "\t    \"\"\"Import opening and closing times for all breweries\"\"\"\n",
    "\n",
    "\t    # Note that all times are reported in seconds\n",
    "\t    daymap = {'Monday': 'hour_m',\n",
    "\t              'Tuesday': 'hour_tu',\n",
    "\t              'Wednesday': 'hour_wed',\n",
    "\t              'Thursday': 'hour_th',\n",
    "\t              'Friday': 'hour_fr',\n",
    "\t              'Saturday': 'hour_sat',\n",
    "\t              'Sunday': 'hour_sun'}\n",
    "\n",
    "\t    #book = pd.ExcelFile(filepath)\n",
    "\t    data = pd.read_csv(filepath)\n",
    "\t    #data = book.parse(skiprows=1, header=1).dropna(subset=['brewery'])\n",
    "\n",
    "\t    time = data[daymap[day]].apply(lambda x: str(x).split('-')) \\\n",
    "\t        .map(\n",
    "\t        lambda x: ['-1:00', '-1:00'] if x[0] == '' or x[0] == 'nan' else x)\n",
    "\n",
    "\t    data['opentime'] = time.map(lambda x: x[0]) \\\n",
    "\t        .map(lambda x: x.split(':')) \\\n",
    "\t        .map(lambda x: int(x[0]) * 3600 + int(x[1]) * 60) \\\n",
    "\t        .map(lambda x: 0 if x < 0 else x)\n",
    "\n",
    "\t    data['closetime'] = time.map(lambda x: x[1]) \\\n",
    "\t        .map(lambda x: x.split(':')) \\\n",
    "\t        .map(lambda x: int(x[0]) * 3600 + int(x[1]) * 60) \\\n",
    "\t        .map(lambda x: 100000 if x < 0 else x)\n",
    "\t    # 100000 (s) arbitrary close time if close time is unknown\n",
    "\t    return data.loc[:, ['brewery', 'opentime', 'closetime', 'dog_friendly', 'serves_food', 'reservations', 'outdoor']]\n",
    "\n",
    "\n",
    "\t# Travel Times Matrix & Other Inputs\n",
    "\tdef get_data(fname_trav_times, brewery_timings):\n",
    "\t    # Matrix of travel times (seconds) from every bar to every other bar\n",
    "\t    bars = list(brewery_timings.brewery.values)\n",
    "\t    trav_times = pd.read_csv(fname_trav_times)\n",
    "\t    trav_times = trav_times[trav_times['origin_name'].isin(bars)]\n",
    "\t    trav_times = trav_times[bars]\n",
    "\t    trav_times = trav_times.as_matrix()\n",
    "\n",
    "\t    # how long do you have to wait for the bar to open\n",
    "\t    start_times = brewery_timings.opentime.values\n",
    "\t    # bar closing times\n",
    "\t    end_times = brewery_timings.closetime.values\n",
    "\n",
    "\t    # demand is an arbitrary, unit-less number that must be low enough that\n",
    "\t    # it never exceeds 'capacity'\n",
    "\t    # when the vehicle visits a location, it 'meets the demand' at that\n",
    "\t    # location - the solver tries to maximize the\n",
    "\t    # demand met, while staying within the vehicle's 'capacity'\n",
    "\t    demands = [1] * len(start_times)\n",
    "\n",
    "\t    data = [demands, start_times, end_times, trav_times, bars]\n",
    "\t    return data\n",
    "\n",
    "\n",
    "\n",
    "\tbrewery_timings = import_data(brewery_data_fpath, day=dow_name)\n",
    "\tstart_brew = brewery_timings.iloc[int(fn_args['starting_brewery'])-1, 0]\n",
    "\n",
    "\tif len(inp_list) > 5:\n",
    "\t    for e in inp_list[5:]:\n",
    "\t        fil = e.split('=')\n",
    "\t        brewery_timings = brewery_timings[brewery_timings[fil[0]] == 1.0]\n",
    "\t    brewery_timings = brewery_timings.loc[:, ['brewery', 'opentime', 'closetime']]\n",
    "\n",
    "\tbrewery_timings.reset_index(inplace=True)\n",
    "\tfn_args['starting_brewery'] = list(brewery_timings[brewery_timings['brewery'] == start_brew].index)[0]\n",
    "\tdata = get_data(fname_trav_times, brewery_timings)\n",
    "\tres = get_route_plan.generate_route_plan(data, brewery_timings, **fn_args)\n",
    "\treturn res\n",
    "\n"
   ]
  },
  {
   "cell_type": "code",
   "execution_count": 9,
   "metadata": {
    "collapsed": true
   },
   "outputs": [],
   "source": [
    "def create_counter(time):\n",
    "    # generate input strings cycling thru every bar set as the starting point\n",
    "    input_string_list = []\n",
    "\n",
    "    for bar_num in range(1, 35):\n",
    "\n",
    "        # For a 5 hr crawl on a Friday, starting at 7 PM\n",
    "        input_string = 'starting_brewery={} crawl_starts_at={} minutes_per_bar=45 crawl_duration=4 dow_name=Friday'.format(bar_num, time)\n",
    "        input_string_list += [input_string]\n",
    "\n",
    "    res = []\n",
    "    for item in input_string_list:\n",
    "        # ignore the first bar, which is always the starting bar\n",
    "        res += get_routes(item)[1:]\n",
    "\n",
    "    from collections import Counter\n",
    "    from pprint import pprint\n",
    "\n",
    "    res_bar_name_only = [item[0] for item in res]\n",
    "    return Counter(res_bar_name_only)"
   ]
  },
  {
   "cell_type": "code",
   "execution_count": 10,
   "metadata": {
    "collapsed": true
   },
   "outputs": [],
   "source": [
    "Brewery = ['21st Amendment Brewery', 'Barebottle Brewing', 'Barrel Head Brewhouse',\n",
    "        'Bartlett Hall', 'Beach Chalet Restaurant & Brewery', 'Black Hammer Brewing', \n",
    "        'Black Sands Brewery', 'Cellarmaker Brewing Co.', 'Emporium', 'Ferment.Drink.Repeat',\n",
    "        'Harmonic Brewing', 'Laughing Monk Brewing Co.', 'Local Brewing Co.',\n",
    "        'Magnolia Brewing Co.', 'Mikkeller Bar', 'Old Bus Tavern', 'Public House',\n",
    "         'Rogue Ales Public House', 'SMOKESTACK at Magnolia Brewing Co.',\n",
    "         'Seven Stills - Brewery & Distillery', 'Smugglers Cove', \n",
    "        'Social Kitchen & Brewery', 'Southpaw BBQ & Brewery', \n",
    "        'Speakeasy Ales and Lagers', 'Standard Deviant Brewing',\n",
    "        'Sunset Reservoir Brewing Co.', 'ThirstyBear Organic Brewery',\n",
    "        'Triple Voodoo Brewery','Woods Cerveceria', 'Woods Outbound',\n",
    "        'Woods Polk Station']"
   ]
  },
  {
   "cell_type": "code",
   "execution_count": 11,
   "metadata": {
    "collapsed": true
   },
   "outputs": [],
   "source": [
    "c = create_counter('19:00')"
   ]
  },
  {
   "cell_type": "code",
   "execution_count": 12,
   "metadata": {},
   "outputs": [
    {
     "data": {
      "text/plain": [
       "Counter({'21st Amendment Brewery': 6,\n",
       "         'Barebottle Brewing': 2,\n",
       "         'Barrel Head Brewhouse': 5,\n",
       "         'Bartlett Hall': 2,\n",
       "         'Beach Chalet Restaurant & Brewery': 2,\n",
       "         'Black Hammer Brewing': 8,\n",
       "         'Black Sands Brewery': 4,\n",
       "         'Cellarmaker Brewing Co.': 6,\n",
       "         'Emporium': 6,\n",
       "         'Ferment.Drink.Repeat': 7,\n",
       "         'Harmonic Brewing': 5,\n",
       "         'Laughing Monk Brewing Co.': 5,\n",
       "         'Local Brewing Co.': 2,\n",
       "         'Magnolia Brewing Co.': 5,\n",
       "         'Mikkeller Bar': 1,\n",
       "         'Public House': 2,\n",
       "         'Rogue Ales Public House': 2,\n",
       "         'SMOKESTACK at Magnolia Brewing Co.': 5,\n",
       "         'Seven Stills - Brewery & Distillery': 5,\n",
       "         'Smugglers Cove': 2,\n",
       "         'Social Kitchen & Brewery': 3,\n",
       "         'Southpaw BBQ & Brewery': 2,\n",
       "         'Standard Deviant Brewing': 2,\n",
       "         'Sunset Reservoir Brewing Co.': 2,\n",
       "         'ThirstyBear Organic Brewery': 5,\n",
       "         'Triple Voodoo Brewery': 5,\n",
       "         'Woods Cerveceria': 1,\n",
       "         'Woods Outbound': 2,\n",
       "         'Woods Polk Station': 2})"
      ]
     },
     "execution_count": 12,
     "metadata": {},
     "output_type": "execute_result"
    }
   ],
   "source": [
    "c"
   ]
  },
  {
   "cell_type": "code",
   "execution_count": 13,
   "metadata": {},
   "outputs": [
    {
     "data": {
      "text/plain": [
       "29"
      ]
     },
     "execution_count": 13,
     "metadata": {},
     "output_type": "execute_result"
    }
   ],
   "source": [
    "len(c)"
   ]
  },
  {
   "cell_type": "code",
   "execution_count": 14,
   "metadata": {},
   "outputs": [
    {
     "data": {
      "text/plain": [
       "[6,\n",
       " 2,\n",
       " 5,\n",
       " 2,\n",
       " 2,\n",
       " 8,\n",
       " 4,\n",
       " 6,\n",
       " 6,\n",
       " 7,\n",
       " 5,\n",
       " 5,\n",
       " 2,\n",
       " 5,\n",
       " 1,\n",
       " 0,\n",
       " 2,\n",
       " 2,\n",
       " 5,\n",
       " 5,\n",
       " 2,\n",
       " 3,\n",
       " 2,\n",
       " 0,\n",
       " 2,\n",
       " 2,\n",
       " 5,\n",
       " 5,\n",
       " 1,\n",
       " 2,\n",
       " 2]"
      ]
     },
     "execution_count": 14,
     "metadata": {},
     "output_type": "execute_result"
    }
   ],
   "source": [
    "arr = [c[b] for b in Brewery]\n",
    "arr"
   ]
  },
  {
   "cell_type": "code",
   "execution_count": 15,
   "metadata": {},
   "outputs": [
    {
     "data": {
      "text/plain": [
       "31"
      ]
     },
     "execution_count": 15,
     "metadata": {},
     "output_type": "execute_result"
    }
   ],
   "source": [
    "len(arr)"
   ]
  },
  {
   "cell_type": "code",
   "execution_count": 16,
   "metadata": {},
   "outputs": [
    {
     "data": {
      "text/plain": [
       "Counter({'21st Amendment Brewery': 6,\n",
       "         'Barebottle Brewing': 2,\n",
       "         'Barrel Head Brewhouse': 5,\n",
       "         'Bartlett Hall': 2,\n",
       "         'Beach Chalet Restaurant & Brewery': 2,\n",
       "         'Black Hammer Brewing': 8,\n",
       "         'Black Sands Brewery': 4,\n",
       "         'Cellarmaker Brewing Co.': 6,\n",
       "         'Emporium': 6,\n",
       "         'Ferment.Drink.Repeat': 7,\n",
       "         'Harmonic Brewing': 5,\n",
       "         'Laughing Monk Brewing Co.': 5,\n",
       "         'Local Brewing Co.': 2,\n",
       "         'Magnolia Brewing Co.': 5,\n",
       "         'Mikkeller Bar': 1,\n",
       "         'Public House': 2,\n",
       "         'Rogue Ales Public House': 2,\n",
       "         'SMOKESTACK at Magnolia Brewing Co.': 5,\n",
       "         'Seven Stills - Brewery & Distillery': 5,\n",
       "         'Smugglers Cove': 2,\n",
       "         'Social Kitchen & Brewery': 3,\n",
       "         'Southpaw BBQ & Brewery': 2,\n",
       "         'Standard Deviant Brewing': 2,\n",
       "         'Sunset Reservoir Brewing Co.': 2,\n",
       "         'ThirstyBear Organic Brewery': 5,\n",
       "         'Triple Voodoo Brewery': 5,\n",
       "         'Woods Cerveceria': 1,\n",
       "         'Woods Outbound': 2,\n",
       "         'Woods Polk Station': 2})"
      ]
     },
     "execution_count": 16,
     "metadata": {},
     "output_type": "execute_result"
    }
   ],
   "source": [
    "c"
   ]
  },
  {
   "cell_type": "code",
   "execution_count": 17,
   "metadata": {},
   "outputs": [
    {
     "data": {
      "text/plain": [
       "31"
      ]
     },
     "execution_count": 17,
     "metadata": {},
     "output_type": "execute_result"
    }
   ],
   "source": [
    "len(arr)"
   ]
  },
  {
   "cell_type": "code",
   "execution_count": 18,
   "metadata": {},
   "outputs": [
    {
     "data": {
      "text/plain": [
       "31"
      ]
     },
     "execution_count": 18,
     "metadata": {},
     "output_type": "execute_result"
    }
   ],
   "source": [
    "len(Brewery)"
   ]
  },
  {
   "cell_type": "code",
   "execution_count": 19,
   "metadata": {
    "collapsed": true
   },
   "outputs": [],
   "source": [
    "import matplotlib.pyplot as plt"
   ]
  },
  {
   "cell_type": "code",
   "execution_count": 20,
   "metadata": {
    "collapsed": true
   },
   "outputs": [],
   "source": [
    "import numpy as np"
   ]
  },
  {
   "cell_type": "code",
   "execution_count": 21,
   "metadata": {
    "collapsed": true
   },
   "outputs": [],
   "source": [
    "ind = np.argsort(arr)"
   ]
  },
  {
   "cell_type": "code",
   "execution_count": 22,
   "metadata": {},
   "outputs": [
    {
     "data": {
      "text/plain": [
       "array([15, 23, 28, 14, 25, 24, 22, 20, 17, 16, 29, 12, 30,  1,  3,  4, 21,\n",
       "        6, 27, 26,  2, 13, 19, 18, 10, 11,  7,  8,  0,  9,  5])"
      ]
     },
     "execution_count": 22,
     "metadata": {},
     "output_type": "execute_result"
    }
   ],
   "source": [
    "ind"
   ]
  },
  {
   "cell_type": "code",
   "execution_count": 23,
   "metadata": {},
   "outputs": [
    {
     "data": {
      "text/plain": [
       "array([0, 0, 1, 1, 2, 2, 2, 2, 2, 2, 2, 2, 2, 2, 2, 2, 3, 4, 5, 5, 5, 5, 5,\n",
       "       5, 5, 5, 6, 6, 6, 7, 8])"
      ]
     },
     "execution_count": 23,
     "metadata": {},
     "output_type": "execute_result"
    }
   ],
   "source": [
    "arr_s = np.array(arr)[ind]\n",
    "arr_s"
   ]
  },
  {
   "cell_type": "code",
   "execution_count": 24,
   "metadata": {},
   "outputs": [
    {
     "data": {
      "text/plain": [
       "array(['Old Bus Tavern', 'Speakeasy Ales and Lagers', 'Woods Cerveceria',\n",
       "       'Mikkeller Bar', 'Sunset Reservoir Brewing Co.',\n",
       "       'Standard Deviant Brewing', 'Southpaw BBQ & Brewery',\n",
       "       'Smugglers Cove', 'Rogue Ales Public House', 'Public House',\n",
       "       'Woods Outbound', 'Local Brewing Co.', 'Woods Polk Station',\n",
       "       'Barebottle Brewing', 'Bartlett Hall',\n",
       "       'Beach Chalet Restaurant & Brewery', 'Social Kitchen & Brewery',\n",
       "       'Black Sands Brewery', 'Triple Voodoo Brewery',\n",
       "       'ThirstyBear Organic Brewery', 'Barrel Head Brewhouse',\n",
       "       'Magnolia Brewing Co.', 'Seven Stills - Brewery & Distillery',\n",
       "       'SMOKESTACK at Magnolia Brewing Co.', 'Harmonic Brewing',\n",
       "       'Laughing Monk Brewing Co.', 'Cellarmaker Brewing Co.', 'Emporium',\n",
       "       '21st Amendment Brewery', 'Ferment.Drink.Repeat',\n",
       "       'Black Hammer Brewing'],\n",
       "      dtype='|S35')"
      ]
     },
     "execution_count": 24,
     "metadata": {},
     "output_type": "execute_result"
    }
   ],
   "source": [
    "brewery_s = np.array(Brewery)[ind]\n",
    "brewery_s"
   ]
  },
  {
   "cell_type": "code",
   "execution_count": 26,
   "metadata": {},
   "outputs": [
    {
     "data": {
      "text/plain": [
       "array([5, 5, 5, 5, 5, 5, 5, 5, 6, 6, 6, 7, 8])"
      ]
     },
     "execution_count": 26,
     "metadata": {},
     "output_type": "execute_result"
    }
   ],
   "source": [
    "arr_s[-13:]"
   ]
  },
  {
   "cell_type": "code",
   "execution_count": 54,
   "metadata": {
    "collapsed": true
   },
   "outputs": [],
   "source": [
    "zipy = zip(np.arange(13), arr_s[-13:]+1)"
   ]
  },
  {
   "cell_type": "code",
   "execution_count": 27,
   "metadata": {},
   "outputs": [
    {
     "data": {
      "image/png": "[encoded data removed]",
      "text/plain": [
       "<matplotlib.figure.Figure at 0x114a096d0>"
      ]
     },
     "metadata": {},
     "output_type": "display_data"
    }
   ],
   "source": [
    "plt.scatter(np.arange(13),arr_s[-13:])\n",
    "plt.xticks(np.arange(13), brewery_s[-13:], rotation = 90)\n",
    "plt.savefig('bre', bbox_inches = 'tight', dpi = 100)\n",
    "plt.show()"
   ]
  },
  {
   "cell_type": "code",
   "execution_count": 28,
   "metadata": {},
   "outputs": [
    {
     "data": {
      "text/plain": [
       "2.0"
      ]
     },
     "execution_count": 28,
     "metadata": {},
     "output_type": "execute_result"
    }
   ],
   "source": [
    "np.median(arr_s)"
   ]
  },
  {
   "cell_type": "code",
   "execution_count": null,
   "metadata": {
    "collapsed": true
   },
   "outputs": [],
   "source": []
  },
  {
   "cell_type": "code",
   "execution_count": null,
   "metadata": {
    "collapsed": true
   },
   "outputs": [],
   "source": []
  },
  {
   "cell_type": "code",
   "execution_count": 19,
   "metadata": {
    "collapsed": true
   },
   "outputs": [],
   "source": [
    "Time = ['17:00','17:30', '18:00', '18:30', '19:00', '19:30', '20:00',\n",
    "       '20:30', '21:00', '21:30', '22:00', '22:30']"
   ]
  },
  {
   "cell_type": "code",
   "execution_count": 20,
   "metadata": {
    "collapsed": true
   },
   "outputs": [],
   "source": [
    "arr = []\n",
    "for t in Time:\n",
    "    c = create_counter(t)\n",
    "    arr.append([f[b] for b in Brewery])"
   ]
  },
  {
   "cell_type": "code",
   "execution_count": 22,
   "metadata": {
    "collapsed": true
   },
   "outputs": [],
   "source": [
    "import numpy as np"
   ]
  },
  {
   "cell_type": "code",
   "execution_count": 23,
   "metadata": {},
   "outputs": [
    {
     "data": {
      "text/plain": [
       "(12, 31)"
      ]
     },
     "execution_count": 23,
     "metadata": {},
     "output_type": "execute_result"
    }
   ],
   "source": [
    "np.array(arr).shape"
   ]
  },
  {
   "cell_type": "code",
   "execution_count": 26,
   "metadata": {},
   "outputs": [
    {
     "data": {
      "text/plain": [
       "array([[6, 6, 6, 6, 6, 6, 6, 6, 6, 6, 6, 6],\n",
       "       [3, 3, 3, 3, 3, 3, 3, 3, 3, 3, 3, 3],\n",
       "       [5, 5, 5, 5, 5, 5, 5, 5, 5, 5, 5, 5],\n",
       "       [3, 3, 3, 3, 3, 3, 3, 3, 3, 3, 3, 3],\n",
       "       [2, 2, 2, 2, 2, 2, 2, 2, 2, 2, 2, 2],\n",
       "       [5, 5, 5, 5, 5, 5, 5, 5, 5, 5, 5, 5],\n",
       "       [4, 4, 4, 4, 4, 4, 4, 4, 4, 4, 4, 4],\n",
       "       [1, 1, 1, 1, 1, 1, 1, 1, 1, 1, 1, 1],\n",
       "       [7, 7, 7, 7, 7, 7, 7, 7, 7, 7, 7, 7],\n",
       "       [5, 5, 5, 5, 5, 5, 5, 5, 5, 5, 5, 5],\n",
       "       [4, 4, 4, 4, 4, 4, 4, 4, 4, 4, 4, 4],\n",
       "       [5, 5, 5, 5, 5, 5, 5, 5, 5, 5, 5, 5],\n",
       "       [5, 5, 5, 5, 5, 5, 5, 5, 5, 5, 5, 5],\n",
       "       [5, 5, 5, 5, 5, 5, 5, 5, 5, 5, 5, 5],\n",
       "       [2, 2, 2, 2, 2, 2, 2, 2, 2, 2, 2, 2],\n",
       "       [1, 1, 1, 1, 1, 1, 1, 1, 1, 1, 1, 1],\n",
       "       [5, 5, 5, 5, 5, 5, 5, 5, 5, 5, 5, 5],\n",
       "       [3, 3, 3, 3, 3, 3, 3, 3, 3, 3, 3, 3],\n",
       "       [4, 4, 4, 4, 4, 4, 4, 4, 4, 4, 4, 4],\n",
       "       [5, 5, 5, 5, 5, 5, 5, 5, 5, 5, 5, 5],\n",
       "       [2, 2, 2, 2, 2, 2, 2, 2, 2, 2, 2, 2],\n",
       "       [3, 3, 3, 3, 3, 3, 3, 3, 3, 3, 3, 3],\n",
       "       [2, 2, 2, 2, 2, 2, 2, 2, 2, 2, 2, 2],\n",
       "       [3, 3, 3, 3, 3, 3, 3, 3, 3, 3, 3, 3],\n",
       "       [2, 2, 2, 2, 2, 2, 2, 2, 2, 2, 2, 2],\n",
       "       [2, 2, 2, 2, 2, 2, 2, 2, 2, 2, 2, 2],\n",
       "       [1, 1, 1, 1, 1, 1, 1, 1, 1, 1, 1, 1],\n",
       "       [4, 4, 4, 4, 4, 4, 4, 4, 4, 4, 4, 4],\n",
       "       [2, 2, 2, 2, 2, 2, 2, 2, 2, 2, 2, 2],\n",
       "       [2, 2, 2, 2, 2, 2, 2, 2, 2, 2, 2, 2],\n",
       "       [3, 3, 3, 3, 3, 3, 3, 3, 3, 3, 3, 3]])"
      ]
     },
     "execution_count": 26,
     "metadata": {},
     "output_type": "execute_result"
    }
   ],
   "source": [
    "np.array(arr).T"
   ]
  },
  {
   "cell_type": "code",
   "execution_count": 30,
   "metadata": {},
   "outputs": [
    {
     "data": {
      "text/plain": [
       "<matplotlib.axes._subplots.AxesSubplot at 0x1a21bb28d0>"
      ]
     },
     "execution_count": 30,
     "metadata": {},
     "output_type": "execute_result"
    },
    {
     "data": {
      "image/png": "[encoded data removed]",
      "text/plain": [
       "<matplotlib.figure.Figure at 0x1a2149d810>"
      ]
     },
     "metadata": {},
     "output_type": "display_data"
    }
   ],
   "source": [
    "import numpy as np \n",
    "from pandas import DataFrame\n",
    "import seaborn as sns\n",
    "%matplotlib inline\n",
    "import matplotlib.pyplot as plt\n",
    "\n",
    "Index= Brewery\n",
    "Cols = Time\n",
    "input = np.array(arr).T\n",
    "df = DataFrame(input, index=Index, columns=Cols)\n",
    "\n",
    "fig, ax = plt.subplots(figsize=(10,10))\n",
    "sns.heatmap(df, annot=True)"
   ]
  },
  {
   "cell_type": "code",
   "execution_count": null,
   "metadata": {
    "collapsed": true
   },
   "outputs": [],
   "source": []
  }
 ],
 "metadata": {
  "kernelspec": {
   "display_name": "Python 2",
   "language": "python",
   "name": "python2"
  },
  "language_info": {
   "codemirror_mode": {
    "name": "ipython",
    "version": 2
   },
   "file_extension": ".py",
   "mimetype": "text/x-python",
   "name": "python",
   "nbconvert_exporter": "python",
   "pygments_lexer": "ipython2",
   "version": "2.7.13"
  }
 },
 "nbformat": 4,
 "nbformat_minor": 2
}
