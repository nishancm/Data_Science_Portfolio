{
 "cells": [
  {
   "cell_type": "code",
   "execution_count": 1,
   "metadata": {
    "collapsed": true
   },
   "outputs": [],
   "source": [
    "import numpy as np\n",
    "import pandas as pd\n",
    "import os"
   ]
  },
  {
   "cell_type": "code",
   "execution_count": 2,
   "metadata": {
    "collapsed": true
   },
   "outputs": [],
   "source": [
    "pd.options.display.max_rows = 100"
   ]
  },
  {
   "cell_type": "markdown",
   "metadata": {},
   "source": [
    "We downloaded data from WHO website morbidity dat (http://ghdx.healthdata.org/gbd-results-tool). For this exercise we are extracting suicide rates from 1985 to 2016"
   ]
  },
  {
   "cell_type": "markdown",
   "metadata": {},
   "source": [
    "# Extracting suicide data"
   ]
  },
  {
   "cell_type": "code",
   "execution_count": 188,
   "metadata": {
    "collapsed": true
   },
   "outputs": [],
   "source": [
    "# get both sex suicide rate\n",
    "suicide = pd.read_csv('Data/raw_data/IHME-GBD_2016_DATA-a0328ea1-1.csv')"
   ]
  },
  {
   "cell_type": "code",
   "execution_count": 189,
   "metadata": {},
   "outputs": [
    {
     "data": {
      "text/plain": [
       "(11016, 10)"
      ]
     },
     "execution_count": 189,
     "metadata": {},
     "output_type": "execute_result"
    }
   ],
   "source": [
    "suicide.shape"
   ]
  },
  {
   "cell_type": "code",
   "execution_count": 190,
   "metadata": {},
   "outputs": [
    {
     "data": {
      "text/html": [
       "<div>\n",
       "<style>\n",
       "    .dataframe thead tr:only-child th {\n",
       "        text-align: right;\n",
       "    }\n",
       "\n",
       "    .dataframe thead th {\n",
       "        text-align: left;\n",
       "    }\n",
       "\n",
       "    .dataframe tbody tr th {\n",
       "        vertical-align: top;\n",
       "    }\n",
       "</style>\n",
       "<table border=\"1\" class=\"dataframe\">\n",
       "  <thead>\n",
       "    <tr style=\"text-align: right;\">\n",
       "      <th></th>\n",
       "      <th>measure</th>\n",
       "      <th>location</th>\n",
       "      <th>sex</th>\n",
       "      <th>age</th>\n",
       "      <th>cause</th>\n",
       "      <th>metric</th>\n",
       "      <th>year</th>\n",
       "      <th>val</th>\n",
       "      <th>upper</th>\n",
       "      <th>lower</th>\n",
       "    </tr>\n",
       "  </thead>\n",
       "  <tbody>\n",
       "    <tr>\n",
       "      <th>0</th>\n",
       "      <td>Deaths</td>\n",
       "      <td>Paraguay</td>\n",
       "      <td>Both</td>\n",
       "      <td>All Ages</td>\n",
       "      <td>Self-harm</td>\n",
       "      <td>Rate</td>\n",
       "      <td>1990</td>\n",
       "      <td>3.090264</td>\n",
       "      <td>3.569958</td>\n",
       "      <td>2.503277</td>\n",
       "    </tr>\n",
       "    <tr>\n",
       "      <th>1</th>\n",
       "      <td>Deaths</td>\n",
       "      <td>The Bahamas</td>\n",
       "      <td>Both</td>\n",
       "      <td>All Ages</td>\n",
       "      <td>Self-harm</td>\n",
       "      <td>Rate</td>\n",
       "      <td>1990</td>\n",
       "      <td>2.594551</td>\n",
       "      <td>3.099456</td>\n",
       "      <td>2.056983</td>\n",
       "    </tr>\n",
       "    <tr>\n",
       "      <th>2</th>\n",
       "      <td>Deaths</td>\n",
       "      <td>Sub-Saharan Africa</td>\n",
       "      <td>Both</td>\n",
       "      <td>All Ages</td>\n",
       "      <td>Self-harm</td>\n",
       "      <td>Rate</td>\n",
       "      <td>1990</td>\n",
       "      <td>6.799710</td>\n",
       "      <td>7.468458</td>\n",
       "      <td>6.063704</td>\n",
       "    </tr>\n",
       "    <tr>\n",
       "      <th>3</th>\n",
       "      <td>Deaths</td>\n",
       "      <td>Bermuda</td>\n",
       "      <td>Both</td>\n",
       "      <td>All Ages</td>\n",
       "      <td>Self-harm</td>\n",
       "      <td>Rate</td>\n",
       "      <td>1990</td>\n",
       "      <td>7.009099</td>\n",
       "      <td>8.207439</td>\n",
       "      <td>5.448092</td>\n",
       "    </tr>\n",
       "    <tr>\n",
       "      <th>4</th>\n",
       "      <td>Deaths</td>\n",
       "      <td>Belgium</td>\n",
       "      <td>Both</td>\n",
       "      <td>All Ages</td>\n",
       "      <td>Self-harm</td>\n",
       "      <td>Rate</td>\n",
       "      <td>1990</td>\n",
       "      <td>22.653395</td>\n",
       "      <td>27.411047</td>\n",
       "      <td>20.994526</td>\n",
       "    </tr>\n",
       "  </tbody>\n",
       "</table>\n",
       "</div>"
      ],
      "text/plain": [
       "  measure            location   sex       age      cause metric  year  \\\n",
       "0  Deaths            Paraguay  Both  All Ages  Self-harm   Rate  1990   \n",
       "1  Deaths         The Bahamas  Both  All Ages  Self-harm   Rate  1990   \n",
       "2  Deaths  Sub-Saharan Africa  Both  All Ages  Self-harm   Rate  1990   \n",
       "3  Deaths             Bermuda  Both  All Ages  Self-harm   Rate  1990   \n",
       "4  Deaths             Belgium  Both  All Ages  Self-harm   Rate  1990   \n",
       "\n",
       "         val      upper      lower  \n",
       "0   3.090264   3.569958   2.503277  \n",
       "1   2.594551   3.099456   2.056983  \n",
       "2   6.799710   7.468458   6.063704  \n",
       "3   7.009099   8.207439   5.448092  \n",
       "4  22.653395  27.411047  20.994526  "
      ]
     },
     "execution_count": 190,
     "metadata": {},
     "output_type": "execute_result"
    }
   ],
   "source": [
    "suicide.head()"
   ]
  },
  {
   "cell_type": "code",
   "execution_count": 191,
   "metadata": {
    "collapsed": true
   },
   "outputs": [],
   "source": [
    "suicide = suicide[['location', 'year', 'val']]"
   ]
  },
  {
   "cell_type": "code",
   "execution_count": 192,
   "metadata": {
    "collapsed": true
   },
   "outputs": [],
   "source": [
    "# country data\n",
    "country = pd.read_excel('Data/raw_data/IHME_GBD_2016_LOCATION_HIERARCHY_Y2018M04D10.XLSX')"
   ]
  },
  {
   "cell_type": "code",
   "execution_count": 193,
   "metadata": {},
   "outputs": [
    {
     "data": {
      "text/plain": [
       "(374, 6)"
      ]
     },
     "execution_count": 193,
     "metadata": {},
     "output_type": "execute_result"
    }
   ],
   "source": [
    "country.shape"
   ]
  },
  {
   "cell_type": "code",
   "execution_count": 194,
   "metadata": {},
   "outputs": [
    {
     "data": {
      "text/html": [
       "<div>\n",
       "<style>\n",
       "    .dataframe thead tr:only-child th {\n",
       "        text-align: right;\n",
       "    }\n",
       "\n",
       "    .dataframe thead th {\n",
       "        text-align: left;\n",
       "    }\n",
       "\n",
       "    .dataframe tbody tr th {\n",
       "        vertical-align: top;\n",
       "    }\n",
       "</style>\n",
       "<table border=\"1\" class=\"dataframe\">\n",
       "  <thead>\n",
       "    <tr style=\"text-align: right;\">\n",
       "      <th></th>\n",
       "      <th>location_id</th>\n",
       "      <th>location_name</th>\n",
       "      <th>parent_id</th>\n",
       "      <th>level</th>\n",
       "      <th>sort_order</th>\n",
       "      <th>subnational_location</th>\n",
       "    </tr>\n",
       "  </thead>\n",
       "  <tbody>\n",
       "    <tr>\n",
       "      <th>0</th>\n",
       "      <td>1</td>\n",
       "      <td>Global</td>\n",
       "      <td>1</td>\n",
       "      <td>0</td>\n",
       "      <td>1.0</td>\n",
       "      <td>0</td>\n",
       "    </tr>\n",
       "    <tr>\n",
       "      <th>1</th>\n",
       "      <td>44635</td>\n",
       "      <td>High SDI</td>\n",
       "      <td>1</td>\n",
       "      <td>1</td>\n",
       "      <td>2.0</td>\n",
       "      <td>0</td>\n",
       "    </tr>\n",
       "    <tr>\n",
       "      <th>2</th>\n",
       "      <td>44634</td>\n",
       "      <td>High-middle SDI</td>\n",
       "      <td>1</td>\n",
       "      <td>1</td>\n",
       "      <td>3.0</td>\n",
       "      <td>0</td>\n",
       "    </tr>\n",
       "    <tr>\n",
       "      <th>3</th>\n",
       "      <td>44639</td>\n",
       "      <td>Middle SDI</td>\n",
       "      <td>1</td>\n",
       "      <td>1</td>\n",
       "      <td>4.0</td>\n",
       "      <td>0</td>\n",
       "    </tr>\n",
       "    <tr>\n",
       "      <th>4</th>\n",
       "      <td>44636</td>\n",
       "      <td>Low-middle SDI</td>\n",
       "      <td>1</td>\n",
       "      <td>1</td>\n",
       "      <td>5.0</td>\n",
       "      <td>0</td>\n",
       "    </tr>\n",
       "  </tbody>\n",
       "</table>\n",
       "</div>"
      ],
      "text/plain": [
       "   location_id    location_name  parent_id  level  sort_order  \\\n",
       "0            1           Global          1      0         1.0   \n",
       "1        44635         High SDI          1      1         2.0   \n",
       "2        44634  High-middle SDI          1      1         3.0   \n",
       "3        44639       Middle SDI          1      1         4.0   \n",
       "4        44636   Low-middle SDI          1      1         5.0   \n",
       "\n",
       "   subnational_location  \n",
       "0                     0  \n",
       "1                     0  \n",
       "2                     0  \n",
       "3                     0  \n",
       "4                     0  "
      ]
     },
     "execution_count": 194,
     "metadata": {},
     "output_type": "execute_result"
    }
   ],
   "source": [
    "country.head()"
   ]
  },
  {
   "cell_type": "code",
   "execution_count": 195,
   "metadata": {
    "collapsed": true
   },
   "outputs": [],
   "source": [
    "# only countries\n",
    "country = pd.DataFrame({'location': country[country.level == 3]['location_name']})"
   ]
  },
  {
   "cell_type": "code",
   "execution_count": 196,
   "metadata": {
    "collapsed": true
   },
   "outputs": [],
   "source": [
    "# filter out for countries\n",
    "suicide = suicide.merge(country, on='location')"
   ]
  },
  {
   "cell_type": "code",
   "execution_count": 197,
   "metadata": {
    "collapsed": true
   },
   "outputs": [],
   "source": [
    "suicide = suicide.rename(columns={'location': 'country', 'val': 'deaths'})"
   ]
  },
  {
   "cell_type": "code",
   "execution_count": 198,
   "metadata": {
    "collapsed": true
   },
   "outputs": [],
   "source": [
    "# removing Geogia since country has values duplicated for each year\n",
    "suicide = suicide[suicide.country != 'Georgia']"
   ]
  },
  {
   "cell_type": "code",
   "execution_count": 199,
   "metadata": {},
   "outputs": [
    {
     "data": {
      "text/plain": [
       "(5211, 3)"
      ]
     },
     "execution_count": 199,
     "metadata": {},
     "output_type": "execute_result"
    }
   ],
   "source": [
    "suicide.shape"
   ]
  },
  {
   "cell_type": "code",
   "execution_count": 200,
   "metadata": {},
   "outputs": [
    {
     "data": {
      "text/html": [
       "<div>\n",
       "<style>\n",
       "    .dataframe thead tr:only-child th {\n",
       "        text-align: right;\n",
       "    }\n",
       "\n",
       "    .dataframe thead th {\n",
       "        text-align: left;\n",
       "    }\n",
       "\n",
       "    .dataframe tbody tr th {\n",
       "        vertical-align: top;\n",
       "    }\n",
       "</style>\n",
       "<table border=\"1\" class=\"dataframe\">\n",
       "  <thead>\n",
       "    <tr style=\"text-align: right;\">\n",
       "      <th></th>\n",
       "      <th>country</th>\n",
       "      <th>year</th>\n",
       "      <th>deaths</th>\n",
       "    </tr>\n",
       "  </thead>\n",
       "  <tbody>\n",
       "    <tr>\n",
       "      <th>0</th>\n",
       "      <td>Paraguay</td>\n",
       "      <td>1990</td>\n",
       "      <td>3.090264</td>\n",
       "    </tr>\n",
       "    <tr>\n",
       "      <th>1</th>\n",
       "      <td>Paraguay</td>\n",
       "      <td>1991</td>\n",
       "      <td>3.236037</td>\n",
       "    </tr>\n",
       "    <tr>\n",
       "      <th>2</th>\n",
       "      <td>Paraguay</td>\n",
       "      <td>1992</td>\n",
       "      <td>3.441868</td>\n",
       "    </tr>\n",
       "    <tr>\n",
       "      <th>3</th>\n",
       "      <td>Paraguay</td>\n",
       "      <td>1994</td>\n",
       "      <td>3.480025</td>\n",
       "    </tr>\n",
       "    <tr>\n",
       "      <th>4</th>\n",
       "      <td>Paraguay</td>\n",
       "      <td>1995</td>\n",
       "      <td>3.568877</td>\n",
       "    </tr>\n",
       "  </tbody>\n",
       "</table>\n",
       "</div>"
      ],
      "text/plain": [
       "    country  year    deaths\n",
       "0  Paraguay  1990  3.090264\n",
       "1  Paraguay  1991  3.236037\n",
       "2  Paraguay  1992  3.441868\n",
       "3  Paraguay  1994  3.480025\n",
       "4  Paraguay  1995  3.568877"
      ]
     },
     "execution_count": 200,
     "metadata": {},
     "output_type": "execute_result"
    }
   ],
   "source": [
    "suicide.head()"
   ]
  },
  {
   "cell_type": "code",
   "execution_count": 201,
   "metadata": {
    "collapsed": true
   },
   "outputs": [],
   "source": [
    "# get male data\n",
    "male_suicide = pd.read_csv('Data/raw_data/IHME-GBD_2016_DATA-0cc86948-1.csv')"
   ]
  },
  {
   "cell_type": "code",
   "execution_count": 202,
   "metadata": {},
   "outputs": [
    {
     "data": {
      "text/html": [
       "<div>\n",
       "<style>\n",
       "    .dataframe thead tr:only-child th {\n",
       "        text-align: right;\n",
       "    }\n",
       "\n",
       "    .dataframe thead th {\n",
       "        text-align: left;\n",
       "    }\n",
       "\n",
       "    .dataframe tbody tr th {\n",
       "        vertical-align: top;\n",
       "    }\n",
       "</style>\n",
       "<table border=\"1\" class=\"dataframe\">\n",
       "  <thead>\n",
       "    <tr style=\"text-align: right;\">\n",
       "      <th></th>\n",
       "      <th>measure</th>\n",
       "      <th>location</th>\n",
       "      <th>sex</th>\n",
       "      <th>age</th>\n",
       "      <th>cause</th>\n",
       "      <th>metric</th>\n",
       "      <th>year</th>\n",
       "      <th>val</th>\n",
       "      <th>upper</th>\n",
       "      <th>lower</th>\n",
       "    </tr>\n",
       "  </thead>\n",
       "  <tbody>\n",
       "    <tr>\n",
       "      <th>0</th>\n",
       "      <td>Deaths</td>\n",
       "      <td>Connecticut</td>\n",
       "      <td>Male</td>\n",
       "      <td>All Ages</td>\n",
       "      <td>Self-harm</td>\n",
       "      <td>Rate</td>\n",
       "      <td>1990</td>\n",
       "      <td>18.970019</td>\n",
       "      <td>26.531676</td>\n",
       "      <td>16.415131</td>\n",
       "    </tr>\n",
       "    <tr>\n",
       "      <th>1</th>\n",
       "      <td>Deaths</td>\n",
       "      <td>The Bahamas</td>\n",
       "      <td>Male</td>\n",
       "      <td>All Ages</td>\n",
       "      <td>Self-harm</td>\n",
       "      <td>Rate</td>\n",
       "      <td>1990</td>\n",
       "      <td>4.219567</td>\n",
       "      <td>5.259001</td>\n",
       "      <td>3.184587</td>\n",
       "    </tr>\n",
       "    <tr>\n",
       "      <th>2</th>\n",
       "      <td>Deaths</td>\n",
       "      <td>Bulgaria</td>\n",
       "      <td>Male</td>\n",
       "      <td>All Ages</td>\n",
       "      <td>Self-harm</td>\n",
       "      <td>Rate</td>\n",
       "      <td>1990</td>\n",
       "      <td>26.098966</td>\n",
       "      <td>31.542195</td>\n",
       "      <td>21.818262</td>\n",
       "    </tr>\n",
       "    <tr>\n",
       "      <th>3</th>\n",
       "      <td>Deaths</td>\n",
       "      <td>Guatemala</td>\n",
       "      <td>Male</td>\n",
       "      <td>All Ages</td>\n",
       "      <td>Self-harm</td>\n",
       "      <td>Rate</td>\n",
       "      <td>1991</td>\n",
       "      <td>11.591724</td>\n",
       "      <td>14.582495</td>\n",
       "      <td>7.568108</td>\n",
       "    </tr>\n",
       "    <tr>\n",
       "      <th>4</th>\n",
       "      <td>Deaths</td>\n",
       "      <td>Bermuda</td>\n",
       "      <td>Male</td>\n",
       "      <td>All Ages</td>\n",
       "      <td>Self-harm</td>\n",
       "      <td>Rate</td>\n",
       "      <td>1990</td>\n",
       "      <td>10.718675</td>\n",
       "      <td>13.028930</td>\n",
       "      <td>7.594876</td>\n",
       "    </tr>\n",
       "  </tbody>\n",
       "</table>\n",
       "</div>"
      ],
      "text/plain": [
       "  measure     location   sex       age      cause metric  year        val  \\\n",
       "0  Deaths  Connecticut  Male  All Ages  Self-harm   Rate  1990  18.970019   \n",
       "1  Deaths  The Bahamas  Male  All Ages  Self-harm   Rate  1990   4.219567   \n",
       "2  Deaths     Bulgaria  Male  All Ages  Self-harm   Rate  1990  26.098966   \n",
       "3  Deaths    Guatemala  Male  All Ages  Self-harm   Rate  1991  11.591724   \n",
       "4  Deaths      Bermuda  Male  All Ages  Self-harm   Rate  1990  10.718675   \n",
       "\n",
       "       upper      lower  \n",
       "0  26.531676  16.415131  \n",
       "1   5.259001   3.184587  \n",
       "2  31.542195  21.818262  \n",
       "3  14.582495   7.568108  \n",
       "4  13.028930   7.594876  "
      ]
     },
     "execution_count": 202,
     "metadata": {},
     "output_type": "execute_result"
    }
   ],
   "source": [
    "male_suicide.head()"
   ]
  },
  {
   "cell_type": "code",
   "execution_count": 203,
   "metadata": {
    "collapsed": true
   },
   "outputs": [],
   "source": [
    "male_suicide = male_suicide[['location', 'year', 'val']]"
   ]
  },
  {
   "cell_type": "code",
   "execution_count": 204,
   "metadata": {
    "collapsed": true
   },
   "outputs": [],
   "source": [
    "male_suicide = male_suicide.rename(columns={'location':'country'})"
   ]
  },
  {
   "cell_type": "code",
   "execution_count": 205,
   "metadata": {
    "collapsed": true
   },
   "outputs": [],
   "source": [
    "suicide = suicide.merge(male_suicide, how='left', on=['country', 'year'])\\\n",
    "        .rename(columns = {'val':'m_val'})"
   ]
  },
  {
   "cell_type": "code",
   "execution_count": 206,
   "metadata": {},
   "outputs": [
    {
     "data": {
      "text/html": [
       "<div>\n",
       "<style>\n",
       "    .dataframe thead tr:only-child th {\n",
       "        text-align: right;\n",
       "    }\n",
       "\n",
       "    .dataframe thead th {\n",
       "        text-align: left;\n",
       "    }\n",
       "\n",
       "    .dataframe tbody tr th {\n",
       "        vertical-align: top;\n",
       "    }\n",
       "</style>\n",
       "<table border=\"1\" class=\"dataframe\">\n",
       "  <thead>\n",
       "    <tr style=\"text-align: right;\">\n",
       "      <th></th>\n",
       "      <th>country</th>\n",
       "      <th>year</th>\n",
       "      <th>deaths</th>\n",
       "      <th>m_val</th>\n",
       "    </tr>\n",
       "  </thead>\n",
       "  <tbody>\n",
       "    <tr>\n",
       "      <th>0</th>\n",
       "      <td>Paraguay</td>\n",
       "      <td>1990</td>\n",
       "      <td>3.090264</td>\n",
       "      <td>4.140640</td>\n",
       "    </tr>\n",
       "    <tr>\n",
       "      <th>1</th>\n",
       "      <td>Paraguay</td>\n",
       "      <td>1991</td>\n",
       "      <td>3.236037</td>\n",
       "      <td>4.333980</td>\n",
       "    </tr>\n",
       "    <tr>\n",
       "      <th>2</th>\n",
       "      <td>Paraguay</td>\n",
       "      <td>1992</td>\n",
       "      <td>3.441868</td>\n",
       "      <td>4.605536</td>\n",
       "    </tr>\n",
       "    <tr>\n",
       "      <th>3</th>\n",
       "      <td>Paraguay</td>\n",
       "      <td>1994</td>\n",
       "      <td>3.480025</td>\n",
       "      <td>4.751509</td>\n",
       "    </tr>\n",
       "    <tr>\n",
       "      <th>4</th>\n",
       "      <td>Paraguay</td>\n",
       "      <td>1995</td>\n",
       "      <td>3.568877</td>\n",
       "      <td>4.885321</td>\n",
       "    </tr>\n",
       "  </tbody>\n",
       "</table>\n",
       "</div>"
      ],
      "text/plain": [
       "    country  year    deaths     m_val\n",
       "0  Paraguay  1990  3.090264  4.140640\n",
       "1  Paraguay  1991  3.236037  4.333980\n",
       "2  Paraguay  1992  3.441868  4.605536\n",
       "3  Paraguay  1994  3.480025  4.751509\n",
       "4  Paraguay  1995  3.568877  4.885321"
      ]
     },
     "execution_count": 206,
     "metadata": {},
     "output_type": "execute_result"
    }
   ],
   "source": [
    "suicide.head()"
   ]
  },
  {
   "cell_type": "code",
   "execution_count": 207,
   "metadata": {},
   "outputs": [
    {
     "data": {
      "text/plain": [
       "(5211, 4)"
      ]
     },
     "execution_count": 207,
     "metadata": {},
     "output_type": "execute_result"
    }
   ],
   "source": [
    "suicide.shape"
   ]
  },
  {
   "cell_type": "code",
   "execution_count": 208,
   "metadata": {
    "collapsed": true
   },
   "outputs": [],
   "source": [
    "# get female data\n",
    "female_suicide = pd.read_csv('Data/raw_data/IHME-GBD_2016_DATA-cd6fc99d-1.csv')"
   ]
  },
  {
   "cell_type": "code",
   "execution_count": 209,
   "metadata": {},
   "outputs": [
    {
     "data": {
      "text/html": [
       "<div>\n",
       "<style>\n",
       "    .dataframe thead tr:only-child th {\n",
       "        text-align: right;\n",
       "    }\n",
       "\n",
       "    .dataframe thead th {\n",
       "        text-align: left;\n",
       "    }\n",
       "\n",
       "    .dataframe tbody tr th {\n",
       "        vertical-align: top;\n",
       "    }\n",
       "</style>\n",
       "<table border=\"1\" class=\"dataframe\">\n",
       "  <thead>\n",
       "    <tr style=\"text-align: right;\">\n",
       "      <th></th>\n",
       "      <th>measure</th>\n",
       "      <th>location</th>\n",
       "      <th>sex</th>\n",
       "      <th>age</th>\n",
       "      <th>cause</th>\n",
       "      <th>metric</th>\n",
       "      <th>year</th>\n",
       "      <th>val</th>\n",
       "      <th>upper</th>\n",
       "      <th>lower</th>\n",
       "    </tr>\n",
       "  </thead>\n",
       "  <tbody>\n",
       "    <tr>\n",
       "      <th>0</th>\n",
       "      <td>Deaths</td>\n",
       "      <td>Bulgaria</td>\n",
       "      <td>Female</td>\n",
       "      <td>All Ages</td>\n",
       "      <td>Self-harm</td>\n",
       "      <td>Rate</td>\n",
       "      <td>1990</td>\n",
       "      <td>10.467904</td>\n",
       "      <td>11.287120</td>\n",
       "      <td>9.724681</td>\n",
       "    </tr>\n",
       "    <tr>\n",
       "      <th>1</th>\n",
       "      <td>Deaths</td>\n",
       "      <td>Bermuda</td>\n",
       "      <td>Female</td>\n",
       "      <td>All Ages</td>\n",
       "      <td>Self-harm</td>\n",
       "      <td>Rate</td>\n",
       "      <td>1990</td>\n",
       "      <td>3.348141</td>\n",
       "      <td>3.841101</td>\n",
       "      <td>2.883893</td>\n",
       "    </tr>\n",
       "    <tr>\n",
       "      <th>2</th>\n",
       "      <td>Deaths</td>\n",
       "      <td>Belgium</td>\n",
       "      <td>Female</td>\n",
       "      <td>All Ages</td>\n",
       "      <td>Self-harm</td>\n",
       "      <td>Rate</td>\n",
       "      <td>1990</td>\n",
       "      <td>13.372433</td>\n",
       "      <td>14.339844</td>\n",
       "      <td>12.414561</td>\n",
       "    </tr>\n",
       "    <tr>\n",
       "      <th>3</th>\n",
       "      <td>Deaths</td>\n",
       "      <td>Myanmar</td>\n",
       "      <td>Female</td>\n",
       "      <td>All Ages</td>\n",
       "      <td>Self-harm</td>\n",
       "      <td>Rate</td>\n",
       "      <td>1990</td>\n",
       "      <td>9.393961</td>\n",
       "      <td>14.657273</td>\n",
       "      <td>5.566897</td>\n",
       "    </tr>\n",
       "    <tr>\n",
       "      <th>4</th>\n",
       "      <td>Deaths</td>\n",
       "      <td>Philippines</td>\n",
       "      <td>Female</td>\n",
       "      <td>All Ages</td>\n",
       "      <td>Self-harm</td>\n",
       "      <td>Rate</td>\n",
       "      <td>1990</td>\n",
       "      <td>4.170841</td>\n",
       "      <td>4.611486</td>\n",
       "      <td>3.773571</td>\n",
       "    </tr>\n",
       "  </tbody>\n",
       "</table>\n",
       "</div>"
      ],
      "text/plain": [
       "  measure     location     sex       age      cause metric  year        val  \\\n",
       "0  Deaths     Bulgaria  Female  All Ages  Self-harm   Rate  1990  10.467904   \n",
       "1  Deaths      Bermuda  Female  All Ages  Self-harm   Rate  1990   3.348141   \n",
       "2  Deaths      Belgium  Female  All Ages  Self-harm   Rate  1990  13.372433   \n",
       "3  Deaths      Myanmar  Female  All Ages  Self-harm   Rate  1990   9.393961   \n",
       "4  Deaths  Philippines  Female  All Ages  Self-harm   Rate  1990   4.170841   \n",
       "\n",
       "       upper      lower  \n",
       "0  11.287120   9.724681  \n",
       "1   3.841101   2.883893  \n",
       "2  14.339844  12.414561  \n",
       "3  14.657273   5.566897  \n",
       "4   4.611486   3.773571  "
      ]
     },
     "execution_count": 209,
     "metadata": {},
     "output_type": "execute_result"
    }
   ],
   "source": [
    "female_suicide.head()"
   ]
  },
  {
   "cell_type": "code",
   "execution_count": 210,
   "metadata": {
    "collapsed": true
   },
   "outputs": [],
   "source": [
    "female_suicide = female_suicide[['location', 'year', 'val']]"
   ]
  },
  {
   "cell_type": "code",
   "execution_count": 211,
   "metadata": {
    "collapsed": true
   },
   "outputs": [],
   "source": [
    "female_suicide = female_suicide.rename(columns={'location':'country'})"
   ]
  },
  {
   "cell_type": "code",
   "execution_count": 212,
   "metadata": {
    "collapsed": true
   },
   "outputs": [],
   "source": [
    "suicide = suicide.merge(female_suicide, how='left', on=['country', 'year'])\\\n",
    "        .rename(columns = {'val':'f_val'})"
   ]
  },
  {
   "cell_type": "code",
   "execution_count": 213,
   "metadata": {},
   "outputs": [
    {
     "data": {
      "text/html": [
       "<div>\n",
       "<style>\n",
       "    .dataframe thead tr:only-child th {\n",
       "        text-align: right;\n",
       "    }\n",
       "\n",
       "    .dataframe thead th {\n",
       "        text-align: left;\n",
       "    }\n",
       "\n",
       "    .dataframe tbody tr th {\n",
       "        vertical-align: top;\n",
       "    }\n",
       "</style>\n",
       "<table border=\"1\" class=\"dataframe\">\n",
       "  <thead>\n",
       "    <tr style=\"text-align: right;\">\n",
       "      <th></th>\n",
       "      <th>country</th>\n",
       "      <th>year</th>\n",
       "      <th>deaths</th>\n",
       "      <th>m_val</th>\n",
       "      <th>f_val</th>\n",
       "    </tr>\n",
       "  </thead>\n",
       "  <tbody>\n",
       "    <tr>\n",
       "      <th>0</th>\n",
       "      <td>Paraguay</td>\n",
       "      <td>1990</td>\n",
       "      <td>3.090264</td>\n",
       "      <td>4.140640</td>\n",
       "      <td>2.015915</td>\n",
       "    </tr>\n",
       "    <tr>\n",
       "      <th>1</th>\n",
       "      <td>Paraguay</td>\n",
       "      <td>1991</td>\n",
       "      <td>3.236037</td>\n",
       "      <td>4.333980</td>\n",
       "      <td>2.112999</td>\n",
       "    </tr>\n",
       "    <tr>\n",
       "      <th>2</th>\n",
       "      <td>Paraguay</td>\n",
       "      <td>1992</td>\n",
       "      <td>3.441868</td>\n",
       "      <td>4.605536</td>\n",
       "      <td>2.251465</td>\n",
       "    </tr>\n",
       "    <tr>\n",
       "      <th>3</th>\n",
       "      <td>Paraguay</td>\n",
       "      <td>1994</td>\n",
       "      <td>3.480025</td>\n",
       "      <td>4.751509</td>\n",
       "      <td>2.178807</td>\n",
       "    </tr>\n",
       "    <tr>\n",
       "      <th>4</th>\n",
       "      <td>Paraguay</td>\n",
       "      <td>1995</td>\n",
       "      <td>3.568877</td>\n",
       "      <td>4.885321</td>\n",
       "      <td>2.221319</td>\n",
       "    </tr>\n",
       "  </tbody>\n",
       "</table>\n",
       "</div>"
      ],
      "text/plain": [
       "    country  year    deaths     m_val     f_val\n",
       "0  Paraguay  1990  3.090264  4.140640  2.015915\n",
       "1  Paraguay  1991  3.236037  4.333980  2.112999\n",
       "2  Paraguay  1992  3.441868  4.605536  2.251465\n",
       "3  Paraguay  1994  3.480025  4.751509  2.178807\n",
       "4  Paraguay  1995  3.568877  4.885321  2.221319"
      ]
     },
     "execution_count": 213,
     "metadata": {},
     "output_type": "execute_result"
    }
   ],
   "source": [
    "suicide.head()"
   ]
  },
  {
   "cell_type": "code",
   "execution_count": 214,
   "metadata": {},
   "outputs": [
    {
     "data": {
      "text/plain": [
       "(5211, 5)"
      ]
     },
     "execution_count": 214,
     "metadata": {},
     "output_type": "execute_result"
    }
   ],
   "source": [
    "suicide.shape"
   ]
  },
  {
   "cell_type": "code",
   "execution_count": 215,
   "metadata": {
    "collapsed": true
   },
   "outputs": [],
   "source": [
    "# male female ratio\n",
    "suicide['mf_ratio'] = suicide.m_val/suicide.f_val\n",
    "suicide = suicide.drop(['m_val', 'f_val'], axis=1)"
   ]
  },
  {
   "cell_type": "code",
   "execution_count": 216,
   "metadata": {},
   "outputs": [
    {
     "data": {
      "text/html": [
       "<div>\n",
       "<style>\n",
       "    .dataframe thead tr:only-child th {\n",
       "        text-align: right;\n",
       "    }\n",
       "\n",
       "    .dataframe thead th {\n",
       "        text-align: left;\n",
       "    }\n",
       "\n",
       "    .dataframe tbody tr th {\n",
       "        vertical-align: top;\n",
       "    }\n",
       "</style>\n",
       "<table border=\"1\" class=\"dataframe\">\n",
       "  <thead>\n",
       "    <tr style=\"text-align: right;\">\n",
       "      <th></th>\n",
       "      <th>country</th>\n",
       "      <th>year</th>\n",
       "      <th>deaths</th>\n",
       "      <th>mf_ratio</th>\n",
       "    </tr>\n",
       "  </thead>\n",
       "  <tbody>\n",
       "    <tr>\n",
       "      <th>0</th>\n",
       "      <td>Paraguay</td>\n",
       "      <td>1990</td>\n",
       "      <td>3.090264</td>\n",
       "      <td>2.053975</td>\n",
       "    </tr>\n",
       "    <tr>\n",
       "      <th>1</th>\n",
       "      <td>Paraguay</td>\n",
       "      <td>1991</td>\n",
       "      <td>3.236037</td>\n",
       "      <td>2.051104</td>\n",
       "    </tr>\n",
       "    <tr>\n",
       "      <th>2</th>\n",
       "      <td>Paraguay</td>\n",
       "      <td>1992</td>\n",
       "      <td>3.441868</td>\n",
       "      <td>2.045573</td>\n",
       "    </tr>\n",
       "    <tr>\n",
       "      <th>3</th>\n",
       "      <td>Paraguay</td>\n",
       "      <td>1994</td>\n",
       "      <td>3.480025</td>\n",
       "      <td>2.180785</td>\n",
       "    </tr>\n",
       "    <tr>\n",
       "      <th>4</th>\n",
       "      <td>Paraguay</td>\n",
       "      <td>1995</td>\n",
       "      <td>3.568877</td>\n",
       "      <td>2.199288</td>\n",
       "    </tr>\n",
       "  </tbody>\n",
       "</table>\n",
       "</div>"
      ],
      "text/plain": [
       "    country  year    deaths  mf_ratio\n",
       "0  Paraguay  1990  3.090264  2.053975\n",
       "1  Paraguay  1991  3.236037  2.051104\n",
       "2  Paraguay  1992  3.441868  2.045573\n",
       "3  Paraguay  1994  3.480025  2.180785\n",
       "4  Paraguay  1995  3.568877  2.199288"
      ]
     },
     "execution_count": 216,
     "metadata": {},
     "output_type": "execute_result"
    }
   ],
   "source": [
    "suicide.head()"
   ]
  },
  {
   "cell_type": "code",
   "execution_count": 217,
   "metadata": {},
   "outputs": [
    {
     "data": {
      "text/plain": [
       "country     False\n",
       "year        False\n",
       "deaths      False\n",
       "mf_ratio    False\n",
       "dtype: bool"
      ]
     },
     "execution_count": 217,
     "metadata": {},
     "output_type": "execute_result"
    }
   ],
   "source": [
    "suicide.isnull().any()"
   ]
  },
  {
   "cell_type": "markdown",
   "metadata": {},
   "source": [
    "# Extracting population data"
   ]
  },
  {
   "cell_type": "markdown",
   "metadata": {},
   "source": [
    "Population data is extracted from world bank website (https://data.worldbank.org/indicator/SP.POP.TOTL)"
   ]
  },
  {
   "cell_type": "code",
   "execution_count": 218,
   "metadata": {
    "collapsed": true
   },
   "outputs": [],
   "source": [
    "# get population data\n",
    "population = pd.read_csv('Data/raw_data/API_SP.POP.TOTL_DS2_en_csv_v2.csv')"
   ]
  },
  {
   "cell_type": "code",
   "execution_count": 219,
   "metadata": {},
   "outputs": [
    {
     "data": {
      "text/html": [
       "<div>\n",
       "<style>\n",
       "    .dataframe thead tr:only-child th {\n",
       "        text-align: right;\n",
       "    }\n",
       "\n",
       "    .dataframe thead th {\n",
       "        text-align: left;\n",
       "    }\n",
       "\n",
       "    .dataframe tbody tr th {\n",
       "        vertical-align: top;\n",
       "    }\n",
       "</style>\n",
       "<table border=\"1\" class=\"dataframe\">\n",
       "  <thead>\n",
       "    <tr style=\"text-align: right;\">\n",
       "      <th></th>\n",
       "      <th>Country Name</th>\n",
       "      <th>Country Code</th>\n",
       "      <th>Indicator Name</th>\n",
       "      <th>Indicator Code</th>\n",
       "      <th>1959</th>\n",
       "      <th>1960</th>\n",
       "      <th>1961</th>\n",
       "      <th>1962</th>\n",
       "      <th>1963</th>\n",
       "      <th>1964</th>\n",
       "      <th>...</th>\n",
       "      <th>2009</th>\n",
       "      <th>2010</th>\n",
       "      <th>2011</th>\n",
       "      <th>2012</th>\n",
       "      <th>2013</th>\n",
       "      <th>2014</th>\n",
       "      <th>2015</th>\n",
       "      <th>2016</th>\n",
       "      <th>2017</th>\n",
       "      <th>Unnamed: 63</th>\n",
       "    </tr>\n",
       "  </thead>\n",
       "  <tbody>\n",
       "    <tr>\n",
       "      <th>0</th>\n",
       "      <td>Aruba</td>\n",
       "      <td>ABW</td>\n",
       "      <td>Population, total</td>\n",
       "      <td>SP.POP.TOTL</td>\n",
       "      <td>52531.0</td>\n",
       "      <td>54211.0</td>\n",
       "      <td>55438.0</td>\n",
       "      <td>56225.0</td>\n",
       "      <td>56695.0</td>\n",
       "      <td>57032.0</td>\n",
       "      <td>...</td>\n",
       "      <td>101453.0</td>\n",
       "      <td>101669.0</td>\n",
       "      <td>102053.0</td>\n",
       "      <td>102577.0</td>\n",
       "      <td>103187.0</td>\n",
       "      <td>103795.0</td>\n",
       "      <td>104341.0</td>\n",
       "      <td>104822.0</td>\n",
       "      <td>NaN</td>\n",
       "      <td>NaN</td>\n",
       "    </tr>\n",
       "    <tr>\n",
       "      <th>1</th>\n",
       "      <td>Afghanistan</td>\n",
       "      <td>AFG</td>\n",
       "      <td>Population, total</td>\n",
       "      <td>SP.POP.TOTL</td>\n",
       "      <td>8834445.0</td>\n",
       "      <td>8996351.0</td>\n",
       "      <td>9166764.0</td>\n",
       "      <td>9345868.0</td>\n",
       "      <td>9533954.0</td>\n",
       "      <td>9731361.0</td>\n",
       "      <td>...</td>\n",
       "      <td>28004331.0</td>\n",
       "      <td>28803167.0</td>\n",
       "      <td>29708599.0</td>\n",
       "      <td>30696958.0</td>\n",
       "      <td>31731688.0</td>\n",
       "      <td>32758020.0</td>\n",
       "      <td>33736494.0</td>\n",
       "      <td>34656032.0</td>\n",
       "      <td>NaN</td>\n",
       "      <td>NaN</td>\n",
       "    </tr>\n",
       "    <tr>\n",
       "      <th>2</th>\n",
       "      <td>Angola</td>\n",
       "      <td>AGO</td>\n",
       "      <td>Population, total</td>\n",
       "      <td>SP.POP.TOTL</td>\n",
       "      <td>5536779.0</td>\n",
       "      <td>5643182.0</td>\n",
       "      <td>5753024.0</td>\n",
       "      <td>5866061.0</td>\n",
       "      <td>5980417.0</td>\n",
       "      <td>6093321.0</td>\n",
       "      <td>...</td>\n",
       "      <td>22549547.0</td>\n",
       "      <td>23369131.0</td>\n",
       "      <td>24218565.0</td>\n",
       "      <td>25096150.0</td>\n",
       "      <td>25998340.0</td>\n",
       "      <td>26920466.0</td>\n",
       "      <td>27859305.0</td>\n",
       "      <td>28813463.0</td>\n",
       "      <td>NaN</td>\n",
       "      <td>NaN</td>\n",
       "    </tr>\n",
       "    <tr>\n",
       "      <th>3</th>\n",
       "      <td>Albania</td>\n",
       "      <td>ALB</td>\n",
       "      <td>Population, total</td>\n",
       "      <td>SP.POP.TOTL</td>\n",
       "      <td>1561012.0</td>\n",
       "      <td>1608800.0</td>\n",
       "      <td>1659800.0</td>\n",
       "      <td>1711319.0</td>\n",
       "      <td>1762621.0</td>\n",
       "      <td>1814135.0</td>\n",
       "      <td>...</td>\n",
       "      <td>2927519.0</td>\n",
       "      <td>2913021.0</td>\n",
       "      <td>2905195.0</td>\n",
       "      <td>2900401.0</td>\n",
       "      <td>2895092.0</td>\n",
       "      <td>2889104.0</td>\n",
       "      <td>2880703.0</td>\n",
       "      <td>2876101.0</td>\n",
       "      <td>NaN</td>\n",
       "      <td>NaN</td>\n",
       "    </tr>\n",
       "    <tr>\n",
       "      <th>4</th>\n",
       "      <td>Andorra</td>\n",
       "      <td>AND</td>\n",
       "      <td>Population, total</td>\n",
       "      <td>SP.POP.TOTL</td>\n",
       "      <td>12498.0</td>\n",
       "      <td>13411.0</td>\n",
       "      <td>14375.0</td>\n",
       "      <td>15370.0</td>\n",
       "      <td>16412.0</td>\n",
       "      <td>17469.0</td>\n",
       "      <td>...</td>\n",
       "      <td>84462.0</td>\n",
       "      <td>84449.0</td>\n",
       "      <td>83751.0</td>\n",
       "      <td>82431.0</td>\n",
       "      <td>80788.0</td>\n",
       "      <td>79223.0</td>\n",
       "      <td>78014.0</td>\n",
       "      <td>77281.0</td>\n",
       "      <td>NaN</td>\n",
       "      <td>NaN</td>\n",
       "    </tr>\n",
       "  </tbody>\n",
       "</table>\n",
       "<p>5 rows × 64 columns</p>\n",
       "</div>"
      ],
      "text/plain": [
       "  Country Name Country Code     Indicator Name Indicator Code       1959  \\\n",
       "0        Aruba          ABW  Population, total    SP.POP.TOTL    52531.0   \n",
       "1  Afghanistan          AFG  Population, total    SP.POP.TOTL  8834445.0   \n",
       "2       Angola          AGO  Population, total    SP.POP.TOTL  5536779.0   \n",
       "3      Albania          ALB  Population, total    SP.POP.TOTL  1561012.0   \n",
       "4      Andorra          AND  Population, total    SP.POP.TOTL    12498.0   \n",
       "\n",
       "        1960       1961       1962       1963       1964     ...       \\\n",
       "0    54211.0    55438.0    56225.0    56695.0    57032.0     ...        \n",
       "1  8996351.0  9166764.0  9345868.0  9533954.0  9731361.0     ...        \n",
       "2  5643182.0  5753024.0  5866061.0  5980417.0  6093321.0     ...        \n",
       "3  1608800.0  1659800.0  1711319.0  1762621.0  1814135.0     ...        \n",
       "4    13411.0    14375.0    15370.0    16412.0    17469.0     ...        \n",
       "\n",
       "         2009        2010        2011        2012        2013        2014  \\\n",
       "0    101453.0    101669.0    102053.0    102577.0    103187.0    103795.0   \n",
       "1  28004331.0  28803167.0  29708599.0  30696958.0  31731688.0  32758020.0   \n",
       "2  22549547.0  23369131.0  24218565.0  25096150.0  25998340.0  26920466.0   \n",
       "3   2927519.0   2913021.0   2905195.0   2900401.0   2895092.0   2889104.0   \n",
       "4     84462.0     84449.0     83751.0     82431.0     80788.0     79223.0   \n",
       "\n",
       "         2015        2016  2017  Unnamed: 63  \n",
       "0    104341.0    104822.0   NaN          NaN  \n",
       "1  33736494.0  34656032.0   NaN          NaN  \n",
       "2  27859305.0  28813463.0   NaN          NaN  \n",
       "3   2880703.0   2876101.0   NaN          NaN  \n",
       "4     78014.0     77281.0   NaN          NaN  \n",
       "\n",
       "[5 rows x 64 columns]"
      ]
     },
     "execution_count": 219,
     "metadata": {},
     "output_type": "execute_result"
    }
   ],
   "source": [
    "population.head()"
   ]
  },
  {
   "cell_type": "code",
   "execution_count": 220,
   "metadata": {
    "collapsed": true
   },
   "outputs": [],
   "source": [
    "population = population.drop(['Indicator Name', \n",
    "                 'Indicator Code', 'Unnamed: 63'], axis=1)"
   ]
  },
  {
   "cell_type": "code",
   "execution_count": 221,
   "metadata": {
    "collapsed": true
   },
   "outputs": [],
   "source": [
    "population.columns = ['country', 'country_code']+['Y'+str(y) for y in population.columns[2:]]"
   ]
  },
  {
   "cell_type": "code",
   "execution_count": 222,
   "metadata": {},
   "outputs": [
    {
     "data": {
      "text/html": [
       "<div>\n",
       "<style>\n",
       "    .dataframe thead tr:only-child th {\n",
       "        text-align: right;\n",
       "    }\n",
       "\n",
       "    .dataframe thead th {\n",
       "        text-align: left;\n",
       "    }\n",
       "\n",
       "    .dataframe tbody tr th {\n",
       "        vertical-align: top;\n",
       "    }\n",
       "</style>\n",
       "<table border=\"1\" class=\"dataframe\">\n",
       "  <thead>\n",
       "    <tr style=\"text-align: right;\">\n",
       "      <th></th>\n",
       "      <th>country</th>\n",
       "      <th>country_code</th>\n",
       "      <th>Y1959</th>\n",
       "      <th>Y1960</th>\n",
       "      <th>Y1961</th>\n",
       "      <th>Y1962</th>\n",
       "      <th>Y1963</th>\n",
       "      <th>Y1964</th>\n",
       "      <th>Y1965</th>\n",
       "      <th>Y1966</th>\n",
       "      <th>...</th>\n",
       "      <th>Y2008</th>\n",
       "      <th>Y2009</th>\n",
       "      <th>Y2010</th>\n",
       "      <th>Y2011</th>\n",
       "      <th>Y2012</th>\n",
       "      <th>Y2013</th>\n",
       "      <th>Y2014</th>\n",
       "      <th>Y2015</th>\n",
       "      <th>Y2016</th>\n",
       "      <th>Y2017</th>\n",
       "    </tr>\n",
       "  </thead>\n",
       "  <tbody>\n",
       "    <tr>\n",
       "      <th>0</th>\n",
       "      <td>Aruba</td>\n",
       "      <td>ABW</td>\n",
       "      <td>52531.0</td>\n",
       "      <td>54211.0</td>\n",
       "      <td>55438.0</td>\n",
       "      <td>56225.0</td>\n",
       "      <td>56695.0</td>\n",
       "      <td>57032.0</td>\n",
       "      <td>57360.0</td>\n",
       "      <td>57715.0</td>\n",
       "      <td>...</td>\n",
       "      <td>101353.0</td>\n",
       "      <td>101453.0</td>\n",
       "      <td>101669.0</td>\n",
       "      <td>102053.0</td>\n",
       "      <td>102577.0</td>\n",
       "      <td>103187.0</td>\n",
       "      <td>103795.0</td>\n",
       "      <td>104341.0</td>\n",
       "      <td>104822.0</td>\n",
       "      <td>NaN</td>\n",
       "    </tr>\n",
       "    <tr>\n",
       "      <th>1</th>\n",
       "      <td>Afghanistan</td>\n",
       "      <td>AFG</td>\n",
       "      <td>8834445.0</td>\n",
       "      <td>8996351.0</td>\n",
       "      <td>9166764.0</td>\n",
       "      <td>9345868.0</td>\n",
       "      <td>9533954.0</td>\n",
       "      <td>9731361.0</td>\n",
       "      <td>9938414.0</td>\n",
       "      <td>10152331.0</td>\n",
       "      <td>...</td>\n",
       "      <td>27294031.0</td>\n",
       "      <td>28004331.0</td>\n",
       "      <td>28803167.0</td>\n",
       "      <td>29708599.0</td>\n",
       "      <td>30696958.0</td>\n",
       "      <td>31731688.0</td>\n",
       "      <td>32758020.0</td>\n",
       "      <td>33736494.0</td>\n",
       "      <td>34656032.0</td>\n",
       "      <td>NaN</td>\n",
       "    </tr>\n",
       "    <tr>\n",
       "      <th>2</th>\n",
       "      <td>Angola</td>\n",
       "      <td>AGO</td>\n",
       "      <td>5536779.0</td>\n",
       "      <td>5643182.0</td>\n",
       "      <td>5753024.0</td>\n",
       "      <td>5866061.0</td>\n",
       "      <td>5980417.0</td>\n",
       "      <td>6093321.0</td>\n",
       "      <td>6203299.0</td>\n",
       "      <td>6309770.0</td>\n",
       "      <td>...</td>\n",
       "      <td>21759420.0</td>\n",
       "      <td>22549547.0</td>\n",
       "      <td>23369131.0</td>\n",
       "      <td>24218565.0</td>\n",
       "      <td>25096150.0</td>\n",
       "      <td>25998340.0</td>\n",
       "      <td>26920466.0</td>\n",
       "      <td>27859305.0</td>\n",
       "      <td>28813463.0</td>\n",
       "      <td>NaN</td>\n",
       "    </tr>\n",
       "    <tr>\n",
       "      <th>3</th>\n",
       "      <td>Albania</td>\n",
       "      <td>ALB</td>\n",
       "      <td>1561012.0</td>\n",
       "      <td>1608800.0</td>\n",
       "      <td>1659800.0</td>\n",
       "      <td>1711319.0</td>\n",
       "      <td>1762621.0</td>\n",
       "      <td>1814135.0</td>\n",
       "      <td>1864791.0</td>\n",
       "      <td>1914573.0</td>\n",
       "      <td>...</td>\n",
       "      <td>2947314.0</td>\n",
       "      <td>2927519.0</td>\n",
       "      <td>2913021.0</td>\n",
       "      <td>2905195.0</td>\n",
       "      <td>2900401.0</td>\n",
       "      <td>2895092.0</td>\n",
       "      <td>2889104.0</td>\n",
       "      <td>2880703.0</td>\n",
       "      <td>2876101.0</td>\n",
       "      <td>NaN</td>\n",
       "    </tr>\n",
       "    <tr>\n",
       "      <th>4</th>\n",
       "      <td>Andorra</td>\n",
       "      <td>AND</td>\n",
       "      <td>12498.0</td>\n",
       "      <td>13411.0</td>\n",
       "      <td>14375.0</td>\n",
       "      <td>15370.0</td>\n",
       "      <td>16412.0</td>\n",
       "      <td>17469.0</td>\n",
       "      <td>18549.0</td>\n",
       "      <td>19647.0</td>\n",
       "      <td>...</td>\n",
       "      <td>83861.0</td>\n",
       "      <td>84462.0</td>\n",
       "      <td>84449.0</td>\n",
       "      <td>83751.0</td>\n",
       "      <td>82431.0</td>\n",
       "      <td>80788.0</td>\n",
       "      <td>79223.0</td>\n",
       "      <td>78014.0</td>\n",
       "      <td>77281.0</td>\n",
       "      <td>NaN</td>\n",
       "    </tr>\n",
       "  </tbody>\n",
       "</table>\n",
       "<p>5 rows × 61 columns</p>\n",
       "</div>"
      ],
      "text/plain": [
       "       country country_code      Y1959      Y1960      Y1961      Y1962  \\\n",
       "0        Aruba          ABW    52531.0    54211.0    55438.0    56225.0   \n",
       "1  Afghanistan          AFG  8834445.0  8996351.0  9166764.0  9345868.0   \n",
       "2       Angola          AGO  5536779.0  5643182.0  5753024.0  5866061.0   \n",
       "3      Albania          ALB  1561012.0  1608800.0  1659800.0  1711319.0   \n",
       "4      Andorra          AND    12498.0    13411.0    14375.0    15370.0   \n",
       "\n",
       "       Y1963      Y1964      Y1965       Y1966  ...         Y2008       Y2009  \\\n",
       "0    56695.0    57032.0    57360.0     57715.0  ...      101353.0    101453.0   \n",
       "1  9533954.0  9731361.0  9938414.0  10152331.0  ...    27294031.0  28004331.0   \n",
       "2  5980417.0  6093321.0  6203299.0   6309770.0  ...    21759420.0  22549547.0   \n",
       "3  1762621.0  1814135.0  1864791.0   1914573.0  ...     2947314.0   2927519.0   \n",
       "4    16412.0    17469.0    18549.0     19647.0  ...       83861.0     84462.0   \n",
       "\n",
       "        Y2010       Y2011       Y2012       Y2013       Y2014       Y2015  \\\n",
       "0    101669.0    102053.0    102577.0    103187.0    103795.0    104341.0   \n",
       "1  28803167.0  29708599.0  30696958.0  31731688.0  32758020.0  33736494.0   \n",
       "2  23369131.0  24218565.0  25096150.0  25998340.0  26920466.0  27859305.0   \n",
       "3   2913021.0   2905195.0   2900401.0   2895092.0   2889104.0   2880703.0   \n",
       "4     84449.0     83751.0     82431.0     80788.0     79223.0     78014.0   \n",
       "\n",
       "        Y2016  Y2017  \n",
       "0    104822.0    NaN  \n",
       "1  34656032.0    NaN  \n",
       "2  28813463.0    NaN  \n",
       "3   2876101.0    NaN  \n",
       "4     77281.0    NaN  \n",
       "\n",
       "[5 rows x 61 columns]"
      ]
     },
     "execution_count": 222,
     "metadata": {},
     "output_type": "execute_result"
    }
   ],
   "source": [
    "population.head()"
   ]
  },
  {
   "cell_type": "code",
   "execution_count": 223,
   "metadata": {
    "collapsed": true
   },
   "outputs": [],
   "source": [
    "population = pd.wide_to_long(population, 'Y', ['country', 'country_code'], 'year').reset_index()\\\n",
    "        .rename(columns = {'Y':'population'})"
   ]
  },
  {
   "cell_type": "code",
   "execution_count": 224,
   "metadata": {},
   "outputs": [
    {
     "data": {
      "text/html": [
       "<div>\n",
       "<style>\n",
       "    .dataframe thead tr:only-child th {\n",
       "        text-align: right;\n",
       "    }\n",
       "\n",
       "    .dataframe thead th {\n",
       "        text-align: left;\n",
       "    }\n",
       "\n",
       "    .dataframe tbody tr th {\n",
       "        vertical-align: top;\n",
       "    }\n",
       "</style>\n",
       "<table border=\"1\" class=\"dataframe\">\n",
       "  <thead>\n",
       "    <tr style=\"text-align: right;\">\n",
       "      <th></th>\n",
       "      <th>country</th>\n",
       "      <th>country_code</th>\n",
       "      <th>year</th>\n",
       "      <th>population</th>\n",
       "    </tr>\n",
       "  </thead>\n",
       "  <tbody>\n",
       "    <tr>\n",
       "      <th>0</th>\n",
       "      <td>Aruba</td>\n",
       "      <td>ABW</td>\n",
       "      <td>1959</td>\n",
       "      <td>52531.0</td>\n",
       "    </tr>\n",
       "    <tr>\n",
       "      <th>1</th>\n",
       "      <td>Aruba</td>\n",
       "      <td>ABW</td>\n",
       "      <td>1960</td>\n",
       "      <td>54211.0</td>\n",
       "    </tr>\n",
       "    <tr>\n",
       "      <th>2</th>\n",
       "      <td>Aruba</td>\n",
       "      <td>ABW</td>\n",
       "      <td>1961</td>\n",
       "      <td>55438.0</td>\n",
       "    </tr>\n",
       "    <tr>\n",
       "      <th>3</th>\n",
       "      <td>Aruba</td>\n",
       "      <td>ABW</td>\n",
       "      <td>1962</td>\n",
       "      <td>56225.0</td>\n",
       "    </tr>\n",
       "    <tr>\n",
       "      <th>4</th>\n",
       "      <td>Aruba</td>\n",
       "      <td>ABW</td>\n",
       "      <td>1963</td>\n",
       "      <td>56695.0</td>\n",
       "    </tr>\n",
       "  </tbody>\n",
       "</table>\n",
       "</div>"
      ],
      "text/plain": [
       "  country country_code  year  population\n",
       "0   Aruba          ABW  1959     52531.0\n",
       "1   Aruba          ABW  1960     54211.0\n",
       "2   Aruba          ABW  1961     55438.0\n",
       "3   Aruba          ABW  1962     56225.0\n",
       "4   Aruba          ABW  1963     56695.0"
      ]
     },
     "execution_count": 224,
     "metadata": {},
     "output_type": "execute_result"
    }
   ],
   "source": [
    "population.head()"
   ]
  },
  {
   "cell_type": "code",
   "execution_count": 225,
   "metadata": {
    "collapsed": true
   },
   "outputs": [],
   "source": [
    "population.year = population.year.astype(int)"
   ]
  },
  {
   "cell_type": "code",
   "execution_count": 226,
   "metadata": {
    "collapsed": true
   },
   "outputs": [],
   "source": [
    "population = population[(population.year >= 1990) & (population.year <= 2016)]"
   ]
  },
  {
   "cell_type": "code",
   "execution_count": 227,
   "metadata": {},
   "outputs": [
    {
     "data": {
      "text/html": [
       "<div>\n",
       "<style>\n",
       "    .dataframe thead tr:only-child th {\n",
       "        text-align: right;\n",
       "    }\n",
       "\n",
       "    .dataframe thead th {\n",
       "        text-align: left;\n",
       "    }\n",
       "\n",
       "    .dataframe tbody tr th {\n",
       "        vertical-align: top;\n",
       "    }\n",
       "</style>\n",
       "<table border=\"1\" class=\"dataframe\">\n",
       "  <thead>\n",
       "    <tr style=\"text-align: right;\">\n",
       "      <th></th>\n",
       "      <th>country</th>\n",
       "      <th>country_code</th>\n",
       "      <th>year</th>\n",
       "      <th>population</th>\n",
       "    </tr>\n",
       "  </thead>\n",
       "  <tbody>\n",
       "    <tr>\n",
       "      <th>31</th>\n",
       "      <td>Aruba</td>\n",
       "      <td>ABW</td>\n",
       "      <td>1990</td>\n",
       "      <td>62149.0</td>\n",
       "    </tr>\n",
       "    <tr>\n",
       "      <th>32</th>\n",
       "      <td>Aruba</td>\n",
       "      <td>ABW</td>\n",
       "      <td>1991</td>\n",
       "      <td>64622.0</td>\n",
       "    </tr>\n",
       "    <tr>\n",
       "      <th>33</th>\n",
       "      <td>Aruba</td>\n",
       "      <td>ABW</td>\n",
       "      <td>1992</td>\n",
       "      <td>68235.0</td>\n",
       "    </tr>\n",
       "    <tr>\n",
       "      <th>34</th>\n",
       "      <td>Aruba</td>\n",
       "      <td>ABW</td>\n",
       "      <td>1993</td>\n",
       "      <td>72504.0</td>\n",
       "    </tr>\n",
       "    <tr>\n",
       "      <th>35</th>\n",
       "      <td>Aruba</td>\n",
       "      <td>ABW</td>\n",
       "      <td>1994</td>\n",
       "      <td>76700.0</td>\n",
       "    </tr>\n",
       "  </tbody>\n",
       "</table>\n",
       "</div>"
      ],
      "text/plain": [
       "   country country_code  year  population\n",
       "31   Aruba          ABW  1990     62149.0\n",
       "32   Aruba          ABW  1991     64622.0\n",
       "33   Aruba          ABW  1992     68235.0\n",
       "34   Aruba          ABW  1993     72504.0\n",
       "35   Aruba          ABW  1994     76700.0"
      ]
     },
     "execution_count": 227,
     "metadata": {},
     "output_type": "execute_result"
    }
   ],
   "source": [
    "population.head()"
   ]
  },
  {
   "cell_type": "code",
   "execution_count": 228,
   "metadata": {
    "collapsed": true
   },
   "outputs": [],
   "source": [
    "# merge with population data\n",
    "change_from = [n for n in suicide.country.unique() if n not in population.country.unique()]"
   ]
  },
  {
   "cell_type": "code",
   "execution_count": 229,
   "metadata": {
    "collapsed": true
   },
   "outputs": [],
   "source": [
    "change_to = ['Bahamas, The', 'Korea, Rep.', 'Taiwan', 'Venezuela, RB', 'Macedonia, FYR',\n",
    "'Slovak Republic', 'Syrian Arab Republic', 'Yemen, Rep.', 'Palestine', 'Kyrgyz Republic',\n",
    "'Brunei Darussalam', 'Cabo Verde', 'Gambia, The', 'Congo, Dem. Rep.', \n",
    "'Korea, Dem. People’s Rep.', 'Virgin Islands (U.S.)', 'Egypt, Arab Rep.', \n",
    "'Iran, Islamic Rep.', 'St. Vincent and the Grenadines', 'Congo, Rep.', \n",
    "'Lao PDR', 'St. Lucia', 'Micronesia, Fed. Sts.']"
   ]
  },
  {
   "cell_type": "code",
   "execution_count": 230,
   "metadata": {
    "collapsed": true
   },
   "outputs": [],
   "source": [
    "# normalize the names\n",
    "for i in range(len(change_from)):\n",
    "    suicide.country.replace(change_from[i], change_to[i],inplace=True)"
   ]
  },
  {
   "cell_type": "code",
   "execution_count": 237,
   "metadata": {
    "collapsed": true
   },
   "outputs": [],
   "source": [
    "suicide = suicide.merge(population, 'left', on = ['country', 'year'])"
   ]
  },
  {
   "cell_type": "code",
   "execution_count": 238,
   "metadata": {},
   "outputs": [
    {
     "data": {
      "text/plain": [
       "(5211, 6)"
      ]
     },
     "execution_count": 238,
     "metadata": {},
     "output_type": "execute_result"
    }
   ],
   "source": [
    "suicide.shape"
   ]
  },
  {
   "cell_type": "code",
   "execution_count": 239,
   "metadata": {},
   "outputs": [
    {
     "data": {
      "text/html": [
       "<div>\n",
       "<style>\n",
       "    .dataframe thead tr:only-child th {\n",
       "        text-align: right;\n",
       "    }\n",
       "\n",
       "    .dataframe thead th {\n",
       "        text-align: left;\n",
       "    }\n",
       "\n",
       "    .dataframe tbody tr th {\n",
       "        vertical-align: top;\n",
       "    }\n",
       "</style>\n",
       "<table border=\"1\" class=\"dataframe\">\n",
       "  <thead>\n",
       "    <tr style=\"text-align: right;\">\n",
       "      <th></th>\n",
       "      <th>country</th>\n",
       "      <th>year</th>\n",
       "      <th>deaths</th>\n",
       "      <th>mf_ratio</th>\n",
       "      <th>country_code</th>\n",
       "      <th>population</th>\n",
       "    </tr>\n",
       "  </thead>\n",
       "  <tbody>\n",
       "    <tr>\n",
       "      <th>0</th>\n",
       "      <td>Paraguay</td>\n",
       "      <td>1990</td>\n",
       "      <td>3.090264</td>\n",
       "      <td>2.053975</td>\n",
       "      <td>PRY</td>\n",
       "      <td>4213742.0</td>\n",
       "    </tr>\n",
       "    <tr>\n",
       "      <th>1</th>\n",
       "      <td>Paraguay</td>\n",
       "      <td>1991</td>\n",
       "      <td>3.236037</td>\n",
       "      <td>2.051104</td>\n",
       "      <td>PRY</td>\n",
       "      <td>4323410.0</td>\n",
       "    </tr>\n",
       "    <tr>\n",
       "      <th>2</th>\n",
       "      <td>Paraguay</td>\n",
       "      <td>1992</td>\n",
       "      <td>3.441868</td>\n",
       "      <td>2.045573</td>\n",
       "      <td>PRY</td>\n",
       "      <td>4432736.0</td>\n",
       "    </tr>\n",
       "    <tr>\n",
       "      <th>3</th>\n",
       "      <td>Paraguay</td>\n",
       "      <td>1994</td>\n",
       "      <td>3.480025</td>\n",
       "      <td>2.180785</td>\n",
       "      <td>PRY</td>\n",
       "      <td>4651225.0</td>\n",
       "    </tr>\n",
       "    <tr>\n",
       "      <th>4</th>\n",
       "      <td>Paraguay</td>\n",
       "      <td>1995</td>\n",
       "      <td>3.568877</td>\n",
       "      <td>2.199288</td>\n",
       "      <td>PRY</td>\n",
       "      <td>4760850.0</td>\n",
       "    </tr>\n",
       "  </tbody>\n",
       "</table>\n",
       "</div>"
      ],
      "text/plain": [
       "    country  year    deaths  mf_ratio country_code  population\n",
       "0  Paraguay  1990  3.090264  2.053975          PRY   4213742.0\n",
       "1  Paraguay  1991  3.236037  2.051104          PRY   4323410.0\n",
       "2  Paraguay  1992  3.441868  2.045573          PRY   4432736.0\n",
       "3  Paraguay  1994  3.480025  2.180785          PRY   4651225.0\n",
       "4  Paraguay  1995  3.568877  2.199288          PRY   4760850.0"
      ]
     },
     "execution_count": 239,
     "metadata": {},
     "output_type": "execute_result"
    }
   ],
   "source": [
    "suicide.head()"
   ]
  },
  {
   "cell_type": "code",
   "execution_count": 240,
   "metadata": {},
   "outputs": [
    {
     "data": {
      "text/plain": [
       "country         False\n",
       "year            False\n",
       "deaths          False\n",
       "mf_ratio        False\n",
       "country_code     True\n",
       "population       True\n",
       "dtype: bool"
      ]
     },
     "execution_count": 240,
     "metadata": {},
     "output_type": "execute_result"
    }
   ],
   "source": [
    "suicide.isnull().any()"
   ]
  },
  {
   "cell_type": "markdown",
   "metadata": {},
   "source": [
    "# Extracting per_capita income data"
   ]
  },
  {
   "cell_type": "markdown",
   "metadata": {},
   "source": [
    "Per_capita income data is extracted from world bank website (http://databank.worldbank.org/data/reports.aspx?source=2&series=NY.GDP.MKTP.KD.ZG&country=)"
   ]
  },
  {
   "cell_type": "code",
   "execution_count": 242,
   "metadata": {
    "collapsed": true
   },
   "outputs": [],
   "source": [
    "income = pd.read_csv('Data/raw_data/per_capita.csv')"
   ]
  },
  {
   "cell_type": "code",
   "execution_count": 244,
   "metadata": {
    "collapsed": true
   },
   "outputs": [],
   "source": [
    "income = income.drop(['Series Name', 'Series Code', 'Country Code'], axis=1)"
   ]
  },
  {
   "cell_type": "code",
   "execution_count": 245,
   "metadata": {},
   "outputs": [
    {
     "data": {
      "text/html": [
       "<div>\n",
       "<style>\n",
       "    .dataframe thead tr:only-child th {\n",
       "        text-align: right;\n",
       "    }\n",
       "\n",
       "    .dataframe thead th {\n",
       "        text-align: left;\n",
       "    }\n",
       "\n",
       "    .dataframe tbody tr th {\n",
       "        vertical-align: top;\n",
       "    }\n",
       "</style>\n",
       "<table border=\"1\" class=\"dataframe\">\n",
       "  <thead>\n",
       "    <tr style=\"text-align: right;\">\n",
       "      <th></th>\n",
       "      <th>Country Name</th>\n",
       "      <th>1985 [YR1985]</th>\n",
       "      <th>1986 [YR1986]</th>\n",
       "      <th>1987 [YR1987]</th>\n",
       "      <th>1988 [YR1988]</th>\n",
       "      <th>1989 [YR1989]</th>\n",
       "      <th>1990 [YR1990]</th>\n",
       "      <th>1991 [YR1991]</th>\n",
       "      <th>1992 [YR1992]</th>\n",
       "      <th>1993 [YR1993]</th>\n",
       "      <th>...</th>\n",
       "      <th>2008 [YR2008]</th>\n",
       "      <th>2009 [YR2009]</th>\n",
       "      <th>2010 [YR2010]</th>\n",
       "      <th>2011 [YR2011]</th>\n",
       "      <th>2012 [YR2012]</th>\n",
       "      <th>2013 [YR2013]</th>\n",
       "      <th>2014 [YR2014]</th>\n",
       "      <th>2015 [YR2015]</th>\n",
       "      <th>2016 [YR2016]</th>\n",
       "      <th>2017 [YR2017]</th>\n",
       "    </tr>\n",
       "  </thead>\n",
       "  <tbody>\n",
       "    <tr>\n",
       "      <th>0</th>\n",
       "      <td>Afghanistan</td>\n",
       "      <td>..</td>\n",
       "      <td>..</td>\n",
       "      <td>..</td>\n",
       "      <td>..</td>\n",
       "      <td>..</td>\n",
       "      <td>..</td>\n",
       "      <td>..</td>\n",
       "      <td>..</td>\n",
       "      <td>..</td>\n",
       "      <td>...</td>\n",
       "      <td>373.361116300036</td>\n",
       "      <td>445.893297923744</td>\n",
       "      <td>553.300289383064</td>\n",
       "      <td>603.53702306241</td>\n",
       "      <td>669.009050888028</td>\n",
       "      <td>638.61254321276</td>\n",
       "      <td>629.345250343771</td>\n",
       "      <td>569.577922915754</td>\n",
       "      <td>561.778746269502</td>\n",
       "      <td>..</td>\n",
       "    </tr>\n",
       "    <tr>\n",
       "      <th>1</th>\n",
       "      <td>Albania</td>\n",
       "      <td>662.914792567128</td>\n",
       "      <td>719.157295703914</td>\n",
       "      <td>699.384292086697</td>\n",
       "      <td>676.566732520011</td>\n",
       "      <td>723.409610237851</td>\n",
       "      <td>639.463899289892</td>\n",
       "      <td>348.711317786982</td>\n",
       "      <td>218.492165902633</td>\n",
       "      <td>380.527371084275</td>\n",
       "      <td>...</td>\n",
       "      <td>4370.53964653148</td>\n",
       "      <td>4114.13654490945</td>\n",
       "      <td>4094.35883191918</td>\n",
       "      <td>4437.17806843608</td>\n",
       "      <td>4247.61430826246</td>\n",
       "      <td>4413.08169670601</td>\n",
       "      <td>4578.66672753259</td>\n",
       "      <td>3934.89539413158</td>\n",
       "      <td>4124.98239042866</td>\n",
       "      <td>..</td>\n",
       "    </tr>\n",
       "    <tr>\n",
       "      <th>2</th>\n",
       "      <td>Algeria</td>\n",
       "      <td>2567.49590456016</td>\n",
       "      <td>2740.65472375228</td>\n",
       "      <td>2790.47391888994</td>\n",
       "      <td>2402.82562714757</td>\n",
       "      <td>2202.55809013399</td>\n",
       "      <td>2394.42038015197</td>\n",
       "      <td>1721.57869577876</td>\n",
       "      <td>1766.05467841426</td>\n",
       "      <td>1797.52356051118</td>\n",
       "      <td>...</td>\n",
       "      <td>4905.25486576261</td>\n",
       "      <td>3868.83123040908</td>\n",
       "      <td>4463.39467488951</td>\n",
       "      <td>5432.41331978116</td>\n",
       "      <td>5565.13452104848</td>\n",
       "      <td>5471.12338878709</td>\n",
       "      <td>5466.42577841535</td>\n",
       "      <td>4160.22006671831</td>\n",
       "      <td>3916.88157088626</td>\n",
       "      <td>..</td>\n",
       "    </tr>\n",
       "    <tr>\n",
       "      <th>3</th>\n",
       "      <td>American Samoa</td>\n",
       "      <td>..</td>\n",
       "      <td>..</td>\n",
       "      <td>..</td>\n",
       "      <td>..</td>\n",
       "      <td>..</td>\n",
       "      <td>..</td>\n",
       "      <td>..</td>\n",
       "      <td>..</td>\n",
       "      <td>..</td>\n",
       "      <td>...</td>\n",
       "      <td>9871.99719445906</td>\n",
       "      <td>12058.26382343</td>\n",
       "      <td>10352.8227618312</td>\n",
       "      <td>10375.9942154736</td>\n",
       "      <td>11660.329531052</td>\n",
       "      <td>11589.8530023324</td>\n",
       "      <td>11598.7517362051</td>\n",
       "      <td>11865.9632317194</td>\n",
       "      <td>11834.7452292307</td>\n",
       "      <td>..</td>\n",
       "    </tr>\n",
       "    <tr>\n",
       "      <th>4</th>\n",
       "      <td>Andorra</td>\n",
       "      <td>7774.39382903478</td>\n",
       "      <td>10361.8159820255</td>\n",
       "      <td>12616.167565929</td>\n",
       "      <td>14304.3569645785</td>\n",
       "      <td>15166.437850754</td>\n",
       "      <td>18878.5059692988</td>\n",
       "      <td>19532.5401504525</td>\n",
       "      <td>20547.7117897897</td>\n",
       "      <td>16516.4710272204</td>\n",
       "      <td>...</td>\n",
       "      <td>47785.6590856793</td>\n",
       "      <td>43339.3798746543</td>\n",
       "      <td>39736.3540626699</td>\n",
       "      <td>41098.7669417228</td>\n",
       "      <td>38391.0808669785</td>\n",
       "      <td>40619.7112977795</td>\n",
       "      <td>42294.9947269717</td>\n",
       "      <td>36038.2676044596</td>\n",
       "      <td>36988.6220301891</td>\n",
       "      <td>..</td>\n",
       "    </tr>\n",
       "  </tbody>\n",
       "</table>\n",
       "<p>5 rows × 34 columns</p>\n",
       "</div>"
      ],
      "text/plain": [
       "     Country Name     1985 [YR1985]     1986 [YR1986]     1987 [YR1987]  \\\n",
       "0     Afghanistan                ..                ..                ..   \n",
       "1         Albania  662.914792567128  719.157295703914  699.384292086697   \n",
       "2         Algeria  2567.49590456016  2740.65472375228  2790.47391888994   \n",
       "3  American Samoa                ..                ..                ..   \n",
       "4         Andorra  7774.39382903478  10361.8159820255   12616.167565929   \n",
       "\n",
       "      1988 [YR1988]     1989 [YR1989]     1990 [YR1990]     1991 [YR1991]  \\\n",
       "0                ..                ..                ..                ..   \n",
       "1  676.566732520011  723.409610237851  639.463899289892  348.711317786982   \n",
       "2  2402.82562714757  2202.55809013399  2394.42038015197  1721.57869577876   \n",
       "3                ..                ..                ..                ..   \n",
       "4  14304.3569645785   15166.437850754  18878.5059692988  19532.5401504525   \n",
       "\n",
       "      1992 [YR1992]     1993 [YR1993]      ...          2008 [YR2008]  \\\n",
       "0                ..                ..      ...       373.361116300036   \n",
       "1  218.492165902633  380.527371084275      ...       4370.53964653148   \n",
       "2  1766.05467841426  1797.52356051118      ...       4905.25486576261   \n",
       "3                ..                ..      ...       9871.99719445906   \n",
       "4  20547.7117897897  16516.4710272204      ...       47785.6590856793   \n",
       "\n",
       "      2009 [YR2009]     2010 [YR2010]     2011 [YR2011]     2012 [YR2012]  \\\n",
       "0  445.893297923744  553.300289383064   603.53702306241  669.009050888028   \n",
       "1  4114.13654490945  4094.35883191918  4437.17806843608  4247.61430826246   \n",
       "2  3868.83123040908  4463.39467488951  5432.41331978116  5565.13452104848   \n",
       "3    12058.26382343  10352.8227618312  10375.9942154736   11660.329531052   \n",
       "4  43339.3798746543  39736.3540626699  41098.7669417228  38391.0808669785   \n",
       "\n",
       "      2013 [YR2013]     2014 [YR2014]     2015 [YR2015]     2016 [YR2016]  \\\n",
       "0   638.61254321276  629.345250343771  569.577922915754  561.778746269502   \n",
       "1  4413.08169670601  4578.66672753259  3934.89539413158  4124.98239042866   \n",
       "2  5471.12338878709  5466.42577841535  4160.22006671831  3916.88157088626   \n",
       "3  11589.8530023324  11598.7517362051  11865.9632317194  11834.7452292307   \n",
       "4  40619.7112977795  42294.9947269717  36038.2676044596  36988.6220301891   \n",
       "\n",
       "  2017 [YR2017]  \n",
       "0            ..  \n",
       "1            ..  \n",
       "2            ..  \n",
       "3            ..  \n",
       "4            ..  \n",
       "\n",
       "[5 rows x 34 columns]"
      ]
     },
     "execution_count": 245,
     "metadata": {},
     "output_type": "execute_result"
    }
   ],
   "source": [
    "income.head()"
   ]
  },
  {
   "cell_type": "code",
   "execution_count": 246,
   "metadata": {
    "collapsed": true
   },
   "outputs": [],
   "source": [
    "income.columns = ['Country Name']+['per_capita'+str(v) for v in np.arange(1985, 2018)]"
   ]
  },
  {
   "cell_type": "code",
   "execution_count": 248,
   "metadata": {},
   "outputs": [
    {
     "data": {
      "text/plain": [
       "(269, 34)"
      ]
     },
     "execution_count": 248,
     "metadata": {},
     "output_type": "execute_result"
    }
   ],
   "source": [
    "income.shape"
   ]
  },
  {
   "cell_type": "code",
   "execution_count": 249,
   "metadata": {
    "collapsed": true
   },
   "outputs": [],
   "source": [
    "# remove NaN columns at the end\n",
    "income = income.dropna()"
   ]
  },
  {
   "cell_type": "code",
   "execution_count": 251,
   "metadata": {},
   "outputs": [
    {
     "data": {
      "text/plain": [
       "(264, 34)"
      ]
     },
     "execution_count": 251,
     "metadata": {},
     "output_type": "execute_result"
    }
   ],
   "source": [
    "income.shape"
   ]
  },
  {
   "cell_type": "code",
   "execution_count": 252,
   "metadata": {
    "collapsed": true
   },
   "outputs": [],
   "source": [
    "income = pd.wide_to_long(income, 'per_capita', 'Country Name', 'Year').reset_index()"
   ]
  },
  {
   "cell_type": "code",
   "execution_count": 253,
   "metadata": {
    "collapsed": true
   },
   "outputs": [],
   "source": [
    "income = income.replace('..', np.NaN)"
   ]
  },
  {
   "cell_type": "code",
   "execution_count": 258,
   "metadata": {
    "collapsed": true
   },
   "outputs": [],
   "source": [
    "income = income.rename(columns={'Country Name': 'country', 'Year' : 'year'})"
   ]
  },
  {
   "cell_type": "code",
   "execution_count": 270,
   "metadata": {
    "collapsed": true
   },
   "outputs": [],
   "source": [
    "income.year = income.year.astype(int)\n",
    "income.per_capita = income.per_capita.astype(float)"
   ]
  },
  {
   "cell_type": "code",
   "execution_count": 271,
   "metadata": {},
   "outputs": [
    {
     "data": {
      "text/html": [
       "<div>\n",
       "<style>\n",
       "    .dataframe thead tr:only-child th {\n",
       "        text-align: right;\n",
       "    }\n",
       "\n",
       "    .dataframe thead th {\n",
       "        text-align: left;\n",
       "    }\n",
       "\n",
       "    .dataframe tbody tr th {\n",
       "        vertical-align: top;\n",
       "    }\n",
       "</style>\n",
       "<table border=\"1\" class=\"dataframe\">\n",
       "  <thead>\n",
       "    <tr style=\"text-align: right;\">\n",
       "      <th></th>\n",
       "      <th>country</th>\n",
       "      <th>year</th>\n",
       "      <th>per_capita</th>\n",
       "    </tr>\n",
       "  </thead>\n",
       "  <tbody>\n",
       "    <tr>\n",
       "      <th>0</th>\n",
       "      <td>Afghanistan</td>\n",
       "      <td>1985</td>\n",
       "      <td>NaN</td>\n",
       "    </tr>\n",
       "    <tr>\n",
       "      <th>1</th>\n",
       "      <td>Albania</td>\n",
       "      <td>1985</td>\n",
       "      <td>662.914793</td>\n",
       "    </tr>\n",
       "    <tr>\n",
       "      <th>2</th>\n",
       "      <td>Algeria</td>\n",
       "      <td>1985</td>\n",
       "      <td>2567.495905</td>\n",
       "    </tr>\n",
       "    <tr>\n",
       "      <th>3</th>\n",
       "      <td>American Samoa</td>\n",
       "      <td>1985</td>\n",
       "      <td>NaN</td>\n",
       "    </tr>\n",
       "    <tr>\n",
       "      <th>4</th>\n",
       "      <td>Andorra</td>\n",
       "      <td>1985</td>\n",
       "      <td>7774.393829</td>\n",
       "    </tr>\n",
       "  </tbody>\n",
       "</table>\n",
       "</div>"
      ],
      "text/plain": [
       "          country  year   per_capita\n",
       "0     Afghanistan  1985          NaN\n",
       "1         Albania  1985   662.914793\n",
       "2         Algeria  1985  2567.495905\n",
       "3  American Samoa  1985          NaN\n",
       "4         Andorra  1985  7774.393829"
      ]
     },
     "execution_count": 271,
     "metadata": {},
     "output_type": "execute_result"
    }
   ],
   "source": [
    "income.head()"
   ]
  },
  {
   "cell_type": "code",
   "execution_count": 272,
   "metadata": {},
   "outputs": [
    {
     "data": {
      "text/plain": [
       "(8712, 3)"
      ]
     },
     "execution_count": 272,
     "metadata": {},
     "output_type": "execute_result"
    }
   ],
   "source": [
    "income.shape"
   ]
  },
  {
   "cell_type": "code",
   "execution_count": 274,
   "metadata": {
    "collapsed": true
   },
   "outputs": [],
   "source": [
    "# merging with income data\n",
    "suicide = suicide.merge(income, 'left', ['country', 'year'])"
   ]
  },
  {
   "cell_type": "code",
   "execution_count": 275,
   "metadata": {},
   "outputs": [
    {
     "data": {
      "text/plain": [
       "(5211, 7)"
      ]
     },
     "execution_count": 275,
     "metadata": {},
     "output_type": "execute_result"
    }
   ],
   "source": [
    "suicide.shape"
   ]
  },
  {
   "cell_type": "code",
   "execution_count": 278,
   "metadata": {},
   "outputs": [
    {
     "data": {
      "text/html": [
       "<div>\n",
       "<style>\n",
       "    .dataframe thead tr:only-child th {\n",
       "        text-align: right;\n",
       "    }\n",
       "\n",
       "    .dataframe thead th {\n",
       "        text-align: left;\n",
       "    }\n",
       "\n",
       "    .dataframe tbody tr th {\n",
       "        vertical-align: top;\n",
       "    }\n",
       "</style>\n",
       "<table border=\"1\" class=\"dataframe\">\n",
       "  <thead>\n",
       "    <tr style=\"text-align: right;\">\n",
       "      <th></th>\n",
       "      <th>country</th>\n",
       "      <th>year</th>\n",
       "      <th>deaths</th>\n",
       "      <th>mf_ratio</th>\n",
       "      <th>country_code</th>\n",
       "      <th>population</th>\n",
       "      <th>per_capita</th>\n",
       "    </tr>\n",
       "  </thead>\n",
       "  <tbody>\n",
       "    <tr>\n",
       "      <th>0</th>\n",
       "      <td>Paraguay</td>\n",
       "      <td>1990</td>\n",
       "      <td>3.090264</td>\n",
       "      <td>2.053975</td>\n",
       "      <td>PRY</td>\n",
       "      <td>4213742.0</td>\n",
       "      <td>1351.578137</td>\n",
       "    </tr>\n",
       "    <tr>\n",
       "      <th>1</th>\n",
       "      <td>Paraguay</td>\n",
       "      <td>1991</td>\n",
       "      <td>3.236037</td>\n",
       "      <td>2.051104</td>\n",
       "      <td>PRY</td>\n",
       "      <td>4323410.0</td>\n",
       "      <td>1615.476618</td>\n",
       "    </tr>\n",
       "    <tr>\n",
       "      <th>2</th>\n",
       "      <td>Paraguay</td>\n",
       "      <td>1992</td>\n",
       "      <td>3.441868</td>\n",
       "      <td>2.045573</td>\n",
       "      <td>PRY</td>\n",
       "      <td>4432736.0</td>\n",
       "      <td>1614.674104</td>\n",
       "    </tr>\n",
       "    <tr>\n",
       "      <th>3</th>\n",
       "      <td>Paraguay</td>\n",
       "      <td>1994</td>\n",
       "      <td>3.480025</td>\n",
       "      <td>2.180785</td>\n",
       "      <td>PRY</td>\n",
       "      <td>4651225.0</td>\n",
       "      <td>1692.238533</td>\n",
       "    </tr>\n",
       "    <tr>\n",
       "      <th>4</th>\n",
       "      <td>Paraguay</td>\n",
       "      <td>1995</td>\n",
       "      <td>3.568877</td>\n",
       "      <td>2.199288</td>\n",
       "      <td>PRY</td>\n",
       "      <td>4760850.0</td>\n",
       "      <td>1903.469193</td>\n",
       "    </tr>\n",
       "  </tbody>\n",
       "</table>\n",
       "</div>"
      ],
      "text/plain": [
       "    country  year    deaths  mf_ratio country_code  population   per_capita\n",
       "0  Paraguay  1990  3.090264  2.053975          PRY   4213742.0  1351.578137\n",
       "1  Paraguay  1991  3.236037  2.051104          PRY   4323410.0  1615.476618\n",
       "2  Paraguay  1992  3.441868  2.045573          PRY   4432736.0  1614.674104\n",
       "3  Paraguay  1994  3.480025  2.180785          PRY   4651225.0  1692.238533\n",
       "4  Paraguay  1995  3.568877  2.199288          PRY   4760850.0  1903.469193"
      ]
     },
     "execution_count": 278,
     "metadata": {},
     "output_type": "execute_result"
    }
   ],
   "source": [
    "suicide.head()"
   ]
  },
  {
   "cell_type": "code",
   "execution_count": 277,
   "metadata": {},
   "outputs": [
    {
     "data": {
      "text/plain": [
       "country         False\n",
       "year            False\n",
       "deaths          False\n",
       "mf_ratio        False\n",
       "country_code     True\n",
       "population       True\n",
       "per_capita       True\n",
       "dtype: bool"
      ]
     },
     "execution_count": 277,
     "metadata": {},
     "output_type": "execute_result"
    }
   ],
   "source": [
    "suicide.isnull().any()"
   ]
  },
  {
   "cell_type": "markdown",
   "metadata": {},
   "source": [
    "## Get temperature data"
   ]
  },
  {
   "cell_type": "code",
   "execution_count": 284,
   "metadata": {
    "collapsed": true
   },
   "outputs": [],
   "source": [
    "t_files = os.listdir('Data/raw_data/temp/')"
   ]
  },
  {
   "cell_type": "code",
   "execution_count": 286,
   "metadata": {
    "collapsed": true
   },
   "outputs": [],
   "source": [
    "t_dfs = []\n",
    "for f in t_files:\n",
    "    t_dfs.append(pd.read_excel('Data/raw_data/temp/'+f))"
   ]
  },
  {
   "cell_type": "code",
   "execution_count": 312,
   "metadata": {
    "collapsed": true
   },
   "outputs": [],
   "source": [
    "temperature = pd.concat(t_dfs)"
   ]
  },
  {
   "cell_type": "code",
   "execution_count": 313,
   "metadata": {},
   "outputs": [
    {
     "data": {
      "text/plain": [
       "Index(['tas', '\\tYear', ' Month', ' Country', ' ISO3', ' ISO2'], dtype='object')"
      ]
     },
     "execution_count": 313,
     "metadata": {},
     "output_type": "execute_result"
    }
   ],
   "source": [
    "temperature.columns"
   ]
  },
  {
   "cell_type": "code",
   "execution_count": 314,
   "metadata": {
    "collapsed": true
   },
   "outputs": [],
   "source": [
    "temperature = temperature.drop([' ISO3', ' ISO2'], axis=1).\\\n",
    "    rename(columns = {'\\tYear':'year', ' Country':'country_code'})"
   ]
  },
  {
   "cell_type": "code",
   "execution_count": 315,
   "metadata": {},
   "outputs": [
    {
     "data": {
      "text/plain": [
       "(57000, 4)"
      ]
     },
     "execution_count": 315,
     "metadata": {},
     "output_type": "execute_result"
    }
   ],
   "source": [
    "temperature.shape"
   ]
  },
  {
   "cell_type": "code",
   "execution_count": 316,
   "metadata": {},
   "outputs": [
    {
     "data": {
      "text/html": [
       "<div>\n",
       "<style>\n",
       "    .dataframe thead tr:only-child th {\n",
       "        text-align: right;\n",
       "    }\n",
       "\n",
       "    .dataframe thead th {\n",
       "        text-align: left;\n",
       "    }\n",
       "\n",
       "    .dataframe tbody tr th {\n",
       "        vertical-align: top;\n",
       "    }\n",
       "</style>\n",
       "<table border=\"1\" class=\"dataframe\">\n",
       "  <thead>\n",
       "    <tr style=\"text-align: right;\">\n",
       "      <th></th>\n",
       "      <th>tas</th>\n",
       "      <th>year</th>\n",
       "      <th>Month</th>\n",
       "      <th>country_code</th>\n",
       "    </tr>\n",
       "  </thead>\n",
       "  <tbody>\n",
       "    <tr>\n",
       "      <th>0</th>\n",
       "      <td>23.1112</td>\n",
       "      <td>1991</td>\n",
       "      <td>1</td>\n",
       "      <td>TZA</td>\n",
       "    </tr>\n",
       "    <tr>\n",
       "      <th>1</th>\n",
       "      <td>23.6897</td>\n",
       "      <td>1991</td>\n",
       "      <td>2</td>\n",
       "      <td>TZA</td>\n",
       "    </tr>\n",
       "    <tr>\n",
       "      <th>2</th>\n",
       "      <td>23.7830</td>\n",
       "      <td>1991</td>\n",
       "      <td>3</td>\n",
       "      <td>TZA</td>\n",
       "    </tr>\n",
       "    <tr>\n",
       "      <th>3</th>\n",
       "      <td>23.0193</td>\n",
       "      <td>1991</td>\n",
       "      <td>4</td>\n",
       "      <td>TZA</td>\n",
       "    </tr>\n",
       "    <tr>\n",
       "      <th>4</th>\n",
       "      <td>22.3202</td>\n",
       "      <td>1991</td>\n",
       "      <td>5</td>\n",
       "      <td>TZA</td>\n",
       "    </tr>\n",
       "  </tbody>\n",
       "</table>\n",
       "</div>"
      ],
      "text/plain": [
       "       tas  year   Month country_code\n",
       "0  23.1112  1991       1          TZA\n",
       "1  23.6897  1991       2          TZA\n",
       "2  23.7830  1991       3          TZA\n",
       "3  23.0193  1991       4          TZA\n",
       "4  22.3202  1991       5          TZA"
      ]
     },
     "execution_count": 316,
     "metadata": {},
     "output_type": "execute_result"
    }
   ],
   "source": [
    "temperature.head()"
   ]
  },
  {
   "cell_type": "code",
   "execution_count": 318,
   "metadata": {
    "collapsed": true
   },
   "outputs": [],
   "source": [
    "# get average yearly temperature\n",
    "temperature = temperature.groupby(['country_code', 'year'])['tas'].mean().reset_index().\\\n",
    "    rename(columns = {'tas':'temperature'})"
   ]
  },
  {
   "cell_type": "code",
   "execution_count": 319,
   "metadata": {},
   "outputs": [
    {
     "data": {
      "text/plain": [
       "(4750, 3)"
      ]
     },
     "execution_count": 319,
     "metadata": {},
     "output_type": "execute_result"
    }
   ],
   "source": [
    "temperature.shape"
   ]
  },
  {
   "cell_type": "code",
   "execution_count": 320,
   "metadata": {},
   "outputs": [
    {
     "data": {
      "text/html": [
       "<div>\n",
       "<style>\n",
       "    .dataframe thead tr:only-child th {\n",
       "        text-align: right;\n",
       "    }\n",
       "\n",
       "    .dataframe thead th {\n",
       "        text-align: left;\n",
       "    }\n",
       "\n",
       "    .dataframe tbody tr th {\n",
       "        vertical-align: top;\n",
       "    }\n",
       "</style>\n",
       "<table border=\"1\" class=\"dataframe\">\n",
       "  <thead>\n",
       "    <tr style=\"text-align: right;\">\n",
       "      <th></th>\n",
       "      <th>country_code</th>\n",
       "      <th>year</th>\n",
       "      <th>temperature</th>\n",
       "    </tr>\n",
       "  </thead>\n",
       "  <tbody>\n",
       "    <tr>\n",
       "      <th>0</th>\n",
       "      <td>AFG</td>\n",
       "      <td>1991</td>\n",
       "      <td>13.118033</td>\n",
       "    </tr>\n",
       "    <tr>\n",
       "      <th>1</th>\n",
       "      <td>AFG</td>\n",
       "      <td>1992</td>\n",
       "      <td>12.655889</td>\n",
       "    </tr>\n",
       "    <tr>\n",
       "      <th>2</th>\n",
       "      <td>AFG</td>\n",
       "      <td>1993</td>\n",
       "      <td>12.905315</td>\n",
       "    </tr>\n",
       "    <tr>\n",
       "      <th>3</th>\n",
       "      <td>AFG</td>\n",
       "      <td>1994</td>\n",
       "      <td>13.142707</td>\n",
       "    </tr>\n",
       "    <tr>\n",
       "      <th>4</th>\n",
       "      <td>AFG</td>\n",
       "      <td>1995</td>\n",
       "      <td>13.124963</td>\n",
       "    </tr>\n",
       "  </tbody>\n",
       "</table>\n",
       "</div>"
      ],
      "text/plain": [
       "  country_code  year  temperature\n",
       "0          AFG  1991    13.118033\n",
       "1          AFG  1992    12.655889\n",
       "2          AFG  1993    12.905315\n",
       "3          AFG  1994    13.142707\n",
       "4          AFG  1995    13.124963"
      ]
     },
     "execution_count": 320,
     "metadata": {},
     "output_type": "execute_result"
    }
   ],
   "source": [
    "temperature.head()"
   ]
  },
  {
   "cell_type": "code",
   "execution_count": 322,
   "metadata": {
    "collapsed": true
   },
   "outputs": [],
   "source": [
    "suicide = suicide.merge(temperature, 'left', ['country_code', 'year'])"
   ]
  },
  {
   "cell_type": "code",
   "execution_count": 323,
   "metadata": {},
   "outputs": [
    {
     "data": {
      "text/html": [
       "<div>\n",
       "<style>\n",
       "    .dataframe thead tr:only-child th {\n",
       "        text-align: right;\n",
       "    }\n",
       "\n",
       "    .dataframe thead th {\n",
       "        text-align: left;\n",
       "    }\n",
       "\n",
       "    .dataframe tbody tr th {\n",
       "        vertical-align: top;\n",
       "    }\n",
       "</style>\n",
       "<table border=\"1\" class=\"dataframe\">\n",
       "  <thead>\n",
       "    <tr style=\"text-align: right;\">\n",
       "      <th></th>\n",
       "      <th>country</th>\n",
       "      <th>year</th>\n",
       "      <th>deaths</th>\n",
       "      <th>mf_ratio</th>\n",
       "      <th>country_code</th>\n",
       "      <th>population</th>\n",
       "      <th>per_capita</th>\n",
       "      <th>temperature</th>\n",
       "    </tr>\n",
       "  </thead>\n",
       "  <tbody>\n",
       "    <tr>\n",
       "      <th>0</th>\n",
       "      <td>Paraguay</td>\n",
       "      <td>1990</td>\n",
       "      <td>3.090264</td>\n",
       "      <td>2.053975</td>\n",
       "      <td>PRY</td>\n",
       "      <td>4213742.0</td>\n",
       "      <td>1351.578137</td>\n",
       "      <td>NaN</td>\n",
       "    </tr>\n",
       "    <tr>\n",
       "      <th>1</th>\n",
       "      <td>Paraguay</td>\n",
       "      <td>1991</td>\n",
       "      <td>3.236037</td>\n",
       "      <td>2.051104</td>\n",
       "      <td>PRY</td>\n",
       "      <td>4323410.0</td>\n",
       "      <td>1615.476618</td>\n",
       "      <td>23.646150</td>\n",
       "    </tr>\n",
       "    <tr>\n",
       "      <th>2</th>\n",
       "      <td>Paraguay</td>\n",
       "      <td>1992</td>\n",
       "      <td>3.441868</td>\n",
       "      <td>2.045573</td>\n",
       "      <td>PRY</td>\n",
       "      <td>4432736.0</td>\n",
       "      <td>1614.674104</td>\n",
       "      <td>22.790292</td>\n",
       "    </tr>\n",
       "    <tr>\n",
       "      <th>3</th>\n",
       "      <td>Paraguay</td>\n",
       "      <td>1994</td>\n",
       "      <td>3.480025</td>\n",
       "      <td>2.180785</td>\n",
       "      <td>PRY</td>\n",
       "      <td>4651225.0</td>\n",
       "      <td>1692.238533</td>\n",
       "      <td>24.120992</td>\n",
       "    </tr>\n",
       "    <tr>\n",
       "      <th>4</th>\n",
       "      <td>Paraguay</td>\n",
       "      <td>1995</td>\n",
       "      <td>3.568877</td>\n",
       "      <td>2.199288</td>\n",
       "      <td>PRY</td>\n",
       "      <td>4760850.0</td>\n",
       "      <td>1903.469193</td>\n",
       "      <td>23.614717</td>\n",
       "    </tr>\n",
       "  </tbody>\n",
       "</table>\n",
       "</div>"
      ],
      "text/plain": [
       "    country  year    deaths  mf_ratio country_code  population   per_capita  \\\n",
       "0  Paraguay  1990  3.090264  2.053975          PRY   4213742.0  1351.578137   \n",
       "1  Paraguay  1991  3.236037  2.051104          PRY   4323410.0  1615.476618   \n",
       "2  Paraguay  1992  3.441868  2.045573          PRY   4432736.0  1614.674104   \n",
       "3  Paraguay  1994  3.480025  2.180785          PRY   4651225.0  1692.238533   \n",
       "4  Paraguay  1995  3.568877  2.199288          PRY   4760850.0  1903.469193   \n",
       "\n",
       "   temperature  \n",
       "0          NaN  \n",
       "1    23.646150  \n",
       "2    22.790292  \n",
       "3    24.120992  \n",
       "4    23.614717  "
      ]
     },
     "execution_count": 323,
     "metadata": {},
     "output_type": "execute_result"
    }
   ],
   "source": [
    "suicide.head()"
   ]
  },
  {
   "cell_type": "code",
   "execution_count": 324,
   "metadata": {},
   "outputs": [
    {
     "data": {
      "text/plain": [
       "(5211, 8)"
      ]
     },
     "execution_count": 324,
     "metadata": {},
     "output_type": "execute_result"
    }
   ],
   "source": [
    "suicide.shape"
   ]
  },
  {
   "cell_type": "markdown",
   "metadata": {},
   "source": [
    "# Get percentage of students enrolling secondary education"
   ]
  },
  {
   "cell_type": "markdown",
   "metadata": {},
   "source": [
    "This data is exracted from the world bank data repository http://databank.worldbank.org/data/reports.aspx?source=world-development-indicators&Type=TABLE&preview=on#"
   ]
  },
  {
   "cell_type": "code",
   "execution_count": 4,
   "metadata": {
    "collapsed": true
   },
   "outputs": [],
   "source": [
    "secondary = pd.read_csv('Data/raw_data/secondary_education.csv')"
   ]
  },
  {
   "cell_type": "code",
   "execution_count": 5,
   "metadata": {},
   "outputs": [
    {
     "data": {
      "text/plain": [
       "(269, 32)"
      ]
     },
     "execution_count": 5,
     "metadata": {},
     "output_type": "execute_result"
    }
   ],
   "source": [
    "secondary.shape"
   ]
  },
  {
   "cell_type": "code",
   "execution_count": 6,
   "metadata": {},
   "outputs": [
    {
     "data": {
      "text/html": [
       "<div>\n",
       "<style>\n",
       "    .dataframe thead tr:only-child th {\n",
       "        text-align: right;\n",
       "    }\n",
       "\n",
       "    .dataframe thead th {\n",
       "        text-align: left;\n",
       "    }\n",
       "\n",
       "    .dataframe tbody tr th {\n",
       "        vertical-align: top;\n",
       "    }\n",
       "</style>\n",
       "<table border=\"1\" class=\"dataframe\">\n",
       "  <thead>\n",
       "    <tr style=\"text-align: right;\">\n",
       "      <th></th>\n",
       "      <th>Country Name</th>\n",
       "      <th>Country Code</th>\n",
       "      <th>Series Name</th>\n",
       "      <th>Series Code</th>\n",
       "      <th>1990 [YR1990]</th>\n",
       "      <th>1991 [YR1991]</th>\n",
       "      <th>1992 [YR1992]</th>\n",
       "      <th>1993 [YR1993]</th>\n",
       "      <th>1994 [YR1994]</th>\n",
       "      <th>1995 [YR1995]</th>\n",
       "      <th>...</th>\n",
       "      <th>2008 [YR2008]</th>\n",
       "      <th>2009 [YR2009]</th>\n",
       "      <th>2010 [YR2010]</th>\n",
       "      <th>2011 [YR2011]</th>\n",
       "      <th>2012 [YR2012]</th>\n",
       "      <th>2013 [YR2013]</th>\n",
       "      <th>2014 [YR2014]</th>\n",
       "      <th>2015 [YR2015]</th>\n",
       "      <th>2016 [YR2016]</th>\n",
       "      <th>2017 [YR2017]</th>\n",
       "    </tr>\n",
       "  </thead>\n",
       "  <tbody>\n",
       "    <tr>\n",
       "      <th>0</th>\n",
       "      <td>Argentina</td>\n",
       "      <td>ARG</td>\n",
       "      <td>School enrollment, secondary (% gross)</td>\n",
       "      <td>SE.SEC.ENRR</td>\n",
       "      <td>71.1518325805664</td>\n",
       "      <td>71.6378936767578</td>\n",
       "      <td>..</td>\n",
       "      <td>..</td>\n",
       "      <td>68.7304763793945</td>\n",
       "      <td>..</td>\n",
       "      <td>...</td>\n",
       "      <td>95.248176574707</td>\n",
       "      <td>98.8311767578125</td>\n",
       "      <td>101.800773620605</td>\n",
       "      <td>103.603286743164</td>\n",
       "      <td>105.196243286133</td>\n",
       "      <td>106.324806213379</td>\n",
       "      <td>106.778343200684</td>\n",
       "      <td>107.07502746582</td>\n",
       "      <td>..</td>\n",
       "      <td>..</td>\n",
       "    </tr>\n",
       "    <tr>\n",
       "      <th>1</th>\n",
       "      <td>Australia</td>\n",
       "      <td>AUS</td>\n",
       "      <td>School enrollment, secondary (% gross)</td>\n",
       "      <td>SE.SEC.ENRR</td>\n",
       "      <td>..</td>\n",
       "      <td>..</td>\n",
       "      <td>..</td>\n",
       "      <td>133.714279174805</td>\n",
       "      <td>131.992706298828</td>\n",
       "      <td>142.569519042969</td>\n",
       "      <td>...</td>\n",
       "      <td>..</td>\n",
       "      <td>..</td>\n",
       "      <td>..</td>\n",
       "      <td>..</td>\n",
       "      <td>..</td>\n",
       "      <td>..</td>\n",
       "      <td>..</td>\n",
       "      <td>158.147186279297</td>\n",
       "      <td>153.848266601563</td>\n",
       "      <td>..</td>\n",
       "    </tr>\n",
       "    <tr>\n",
       "      <th>2</th>\n",
       "      <td>Brazil</td>\n",
       "      <td>BRA</td>\n",
       "      <td>School enrollment, secondary (% gross)</td>\n",
       "      <td>SE.SEC.ENRR</td>\n",
       "      <td>..</td>\n",
       "      <td>..</td>\n",
       "      <td>..</td>\n",
       "      <td>..</td>\n",
       "      <td>..</td>\n",
       "      <td>..</td>\n",
       "      <td>...</td>\n",
       "      <td>96.7201232910156</td>\n",
       "      <td>96.6654815673828</td>\n",
       "      <td>..</td>\n",
       "      <td>95.2633819580078</td>\n",
       "      <td>95.5837326049805</td>\n",
       "      <td>101.868072509766</td>\n",
       "      <td>101.950897216797</td>\n",
       "      <td>99.6509704589844</td>\n",
       "      <td>..</td>\n",
       "      <td>..</td>\n",
       "    </tr>\n",
       "    <tr>\n",
       "      <th>3</th>\n",
       "      <td>China</td>\n",
       "      <td>CHN</td>\n",
       "      <td>School enrollment, secondary (% gross)</td>\n",
       "      <td>SE.SEC.ENRR</td>\n",
       "      <td>37.4352111816406</td>\n",
       "      <td>39.693489074707</td>\n",
       "      <td>42.7265014648438</td>\n",
       "      <td>45.4694404602051</td>\n",
       "      <td>46.9014892578125</td>\n",
       "      <td>50.4073791503906</td>\n",
       "      <td>...</td>\n",
       "      <td>79.8158798217773</td>\n",
       "      <td>84.0127487182617</td>\n",
       "      <td>88.0304412841797</td>\n",
       "      <td>91.0833435058594</td>\n",
       "      <td>92.5681304931641</td>\n",
       "      <td>95.0299530029297</td>\n",
       "      <td>..</td>\n",
       "      <td>..</td>\n",
       "      <td>..</td>\n",
       "      <td>..</td>\n",
       "    </tr>\n",
       "    <tr>\n",
       "      <th>4</th>\n",
       "      <td>France</td>\n",
       "      <td>FRA</td>\n",
       "      <td>School enrollment, secondary (% gross)</td>\n",
       "      <td>SE.SEC.ENRR</td>\n",
       "      <td>96.6559600830078</td>\n",
       "      <td>101.195777893066</td>\n",
       "      <td>104.901252746582</td>\n",
       "      <td>105.505592346191</td>\n",
       "      <td>113.829856872559</td>\n",
       "      <td>113.907012939453</td>\n",
       "      <td>...</td>\n",
       "      <td>113.004669189453</td>\n",
       "      <td>112.355903625488</td>\n",
       "      <td>112.396942138672</td>\n",
       "      <td>112.278358459473</td>\n",
       "      <td>112.308311462402</td>\n",
       "      <td>111.430679321289</td>\n",
       "      <td>111.243690490723</td>\n",
       "      <td>111.067039489746</td>\n",
       "      <td>..</td>\n",
       "      <td>..</td>\n",
       "    </tr>\n",
       "  </tbody>\n",
       "</table>\n",
       "<p>5 rows × 32 columns</p>\n",
       "</div>"
      ],
      "text/plain": [
       "  Country Name Country Code                             Series Name  \\\n",
       "0    Argentina          ARG  School enrollment, secondary (% gross)   \n",
       "1    Australia          AUS  School enrollment, secondary (% gross)   \n",
       "2       Brazil          BRA  School enrollment, secondary (% gross)   \n",
       "3        China          CHN  School enrollment, secondary (% gross)   \n",
       "4       France          FRA  School enrollment, secondary (% gross)   \n",
       "\n",
       "   Series Code     1990 [YR1990]     1991 [YR1991]     1992 [YR1992]  \\\n",
       "0  SE.SEC.ENRR  71.1518325805664  71.6378936767578                ..   \n",
       "1  SE.SEC.ENRR                ..                ..                ..   \n",
       "2  SE.SEC.ENRR                ..                ..                ..   \n",
       "3  SE.SEC.ENRR  37.4352111816406   39.693489074707  42.7265014648438   \n",
       "4  SE.SEC.ENRR  96.6559600830078  101.195777893066  104.901252746582   \n",
       "\n",
       "      1993 [YR1993]     1994 [YR1994]     1995 [YR1995]      ...       \\\n",
       "0                ..  68.7304763793945                ..      ...        \n",
       "1  133.714279174805  131.992706298828  142.569519042969      ...        \n",
       "2                ..                ..                ..      ...        \n",
       "3  45.4694404602051  46.9014892578125  50.4073791503906      ...        \n",
       "4  105.505592346191  113.829856872559  113.907012939453      ...        \n",
       "\n",
       "      2008 [YR2008]     2009 [YR2009]     2010 [YR2010]     2011 [YR2011]  \\\n",
       "0   95.248176574707  98.8311767578125  101.800773620605  103.603286743164   \n",
       "1                ..                ..                ..                ..   \n",
       "2  96.7201232910156  96.6654815673828                ..  95.2633819580078   \n",
       "3  79.8158798217773  84.0127487182617  88.0304412841797  91.0833435058594   \n",
       "4  113.004669189453  112.355903625488  112.396942138672  112.278358459473   \n",
       "\n",
       "      2012 [YR2012]     2013 [YR2013]     2014 [YR2014]     2015 [YR2015]  \\\n",
       "0  105.196243286133  106.324806213379  106.778343200684   107.07502746582   \n",
       "1                ..                ..                ..  158.147186279297   \n",
       "2  95.5837326049805  101.868072509766  101.950897216797  99.6509704589844   \n",
       "3  92.5681304931641  95.0299530029297                ..                ..   \n",
       "4  112.308311462402  111.430679321289  111.243690490723  111.067039489746   \n",
       "\n",
       "      2016 [YR2016] 2017 [YR2017]  \n",
       "0                ..            ..  \n",
       "1  153.848266601563            ..  \n",
       "2                ..            ..  \n",
       "3                ..            ..  \n",
       "4                ..            ..  \n",
       "\n",
       "[5 rows x 32 columns]"
      ]
     },
     "execution_count": 6,
     "metadata": {},
     "output_type": "execute_result"
    }
   ],
   "source": [
    "secondary.head()"
   ]
  },
  {
   "cell_type": "code",
   "execution_count": 8,
   "metadata": {
    "collapsed": true
   },
   "outputs": [],
   "source": [
    "secondary = secondary.drop(['Series Name', 'Series Code', 'Country Name', \n",
    "                           '2017 [YR2017]'], axis=1)"
   ]
  },
  {
   "cell_type": "code",
   "execution_count": 9,
   "metadata": {},
   "outputs": [
    {
     "data": {
      "text/html": [
       "<div>\n",
       "<style>\n",
       "    .dataframe thead tr:only-child th {\n",
       "        text-align: right;\n",
       "    }\n",
       "\n",
       "    .dataframe thead th {\n",
       "        text-align: left;\n",
       "    }\n",
       "\n",
       "    .dataframe tbody tr th {\n",
       "        vertical-align: top;\n",
       "    }\n",
       "</style>\n",
       "<table border=\"1\" class=\"dataframe\">\n",
       "  <thead>\n",
       "    <tr style=\"text-align: right;\">\n",
       "      <th></th>\n",
       "      <th>Country Code</th>\n",
       "      <th>1990 [YR1990]</th>\n",
       "      <th>1991 [YR1991]</th>\n",
       "      <th>1992 [YR1992]</th>\n",
       "      <th>1993 [YR1993]</th>\n",
       "      <th>1994 [YR1994]</th>\n",
       "      <th>1995 [YR1995]</th>\n",
       "      <th>1996 [YR1996]</th>\n",
       "      <th>1997 [YR1997]</th>\n",
       "      <th>1998 [YR1998]</th>\n",
       "      <th>...</th>\n",
       "      <th>2007 [YR2007]</th>\n",
       "      <th>2008 [YR2008]</th>\n",
       "      <th>2009 [YR2009]</th>\n",
       "      <th>2010 [YR2010]</th>\n",
       "      <th>2011 [YR2011]</th>\n",
       "      <th>2012 [YR2012]</th>\n",
       "      <th>2013 [YR2013]</th>\n",
       "      <th>2014 [YR2014]</th>\n",
       "      <th>2015 [YR2015]</th>\n",
       "      <th>2016 [YR2016]</th>\n",
       "    </tr>\n",
       "  </thead>\n",
       "  <tbody>\n",
       "    <tr>\n",
       "      <th>0</th>\n",
       "      <td>ARG</td>\n",
       "      <td>71.1518325805664</td>\n",
       "      <td>71.6378936767578</td>\n",
       "      <td>..</td>\n",
       "      <td>..</td>\n",
       "      <td>68.7304763793945</td>\n",
       "      <td>..</td>\n",
       "      <td>78.3769302368164</td>\n",
       "      <td>75.1688079833984</td>\n",
       "      <td>81.4302825927734</td>\n",
       "      <td>...</td>\n",
       "      <td>93.7097015380859</td>\n",
       "      <td>95.248176574707</td>\n",
       "      <td>98.8311767578125</td>\n",
       "      <td>101.800773620605</td>\n",
       "      <td>103.603286743164</td>\n",
       "      <td>105.196243286133</td>\n",
       "      <td>106.324806213379</td>\n",
       "      <td>106.778343200684</td>\n",
       "      <td>107.07502746582</td>\n",
       "      <td>..</td>\n",
       "    </tr>\n",
       "    <tr>\n",
       "      <th>1</th>\n",
       "      <td>AUS</td>\n",
       "      <td>..</td>\n",
       "      <td>..</td>\n",
       "      <td>..</td>\n",
       "      <td>133.714279174805</td>\n",
       "      <td>131.992706298828</td>\n",
       "      <td>142.569519042969</td>\n",
       "      <td>147.948013305664</td>\n",
       "      <td>152.246307373047</td>\n",
       "      <td>..</td>\n",
       "      <td>...</td>\n",
       "      <td>..</td>\n",
       "      <td>..</td>\n",
       "      <td>..</td>\n",
       "      <td>..</td>\n",
       "      <td>..</td>\n",
       "      <td>..</td>\n",
       "      <td>..</td>\n",
       "      <td>..</td>\n",
       "      <td>158.147186279297</td>\n",
       "      <td>153.848266601563</td>\n",
       "    </tr>\n",
       "    <tr>\n",
       "      <th>2</th>\n",
       "      <td>BRA</td>\n",
       "      <td>..</td>\n",
       "      <td>..</td>\n",
       "      <td>..</td>\n",
       "      <td>..</td>\n",
       "      <td>..</td>\n",
       "      <td>..</td>\n",
       "      <td>..</td>\n",
       "      <td>..</td>\n",
       "      <td>..</td>\n",
       "      <td>...</td>\n",
       "      <td>95.1699981689453</td>\n",
       "      <td>96.7201232910156</td>\n",
       "      <td>96.6654815673828</td>\n",
       "      <td>..</td>\n",
       "      <td>95.2633819580078</td>\n",
       "      <td>95.5837326049805</td>\n",
       "      <td>101.868072509766</td>\n",
       "      <td>101.950897216797</td>\n",
       "      <td>99.6509704589844</td>\n",
       "      <td>..</td>\n",
       "    </tr>\n",
       "    <tr>\n",
       "      <th>3</th>\n",
       "      <td>CHN</td>\n",
       "      <td>37.4352111816406</td>\n",
       "      <td>39.693489074707</td>\n",
       "      <td>42.7265014648438</td>\n",
       "      <td>45.4694404602051</td>\n",
       "      <td>46.9014892578125</td>\n",
       "      <td>50.4073791503906</td>\n",
       "      <td>54.5773010253906</td>\n",
       "      <td>56.9693984985352</td>\n",
       "      <td>..</td>\n",
       "      <td>...</td>\n",
       "      <td>75.0220794677734</td>\n",
       "      <td>79.8158798217773</td>\n",
       "      <td>84.0127487182617</td>\n",
       "      <td>88.0304412841797</td>\n",
       "      <td>91.0833435058594</td>\n",
       "      <td>92.5681304931641</td>\n",
       "      <td>95.0299530029297</td>\n",
       "      <td>..</td>\n",
       "      <td>..</td>\n",
       "      <td>..</td>\n",
       "    </tr>\n",
       "    <tr>\n",
       "      <th>4</th>\n",
       "      <td>FRA</td>\n",
       "      <td>96.6559600830078</td>\n",
       "      <td>101.195777893066</td>\n",
       "      <td>104.901252746582</td>\n",
       "      <td>105.505592346191</td>\n",
       "      <td>113.829856872559</td>\n",
       "      <td>113.907012939453</td>\n",
       "      <td>112.434349060059</td>\n",
       "      <td>111.233757019043</td>\n",
       "      <td>110.22078704834</td>\n",
       "      <td>...</td>\n",
       "      <td>113.48014831543</td>\n",
       "      <td>113.004669189453</td>\n",
       "      <td>112.355903625488</td>\n",
       "      <td>112.396942138672</td>\n",
       "      <td>112.278358459473</td>\n",
       "      <td>112.308311462402</td>\n",
       "      <td>111.430679321289</td>\n",
       "      <td>111.243690490723</td>\n",
       "      <td>111.067039489746</td>\n",
       "      <td>..</td>\n",
       "    </tr>\n",
       "  </tbody>\n",
       "</table>\n",
       "<p>5 rows × 28 columns</p>\n",
       "</div>"
      ],
      "text/plain": [
       "  Country Code     1990 [YR1990]     1991 [YR1991]     1992 [YR1992]  \\\n",
       "0          ARG  71.1518325805664  71.6378936767578                ..   \n",
       "1          AUS                ..                ..                ..   \n",
       "2          BRA                ..                ..                ..   \n",
       "3          CHN  37.4352111816406   39.693489074707  42.7265014648438   \n",
       "4          FRA  96.6559600830078  101.195777893066  104.901252746582   \n",
       "\n",
       "      1993 [YR1993]     1994 [YR1994]     1995 [YR1995]     1996 [YR1996]  \\\n",
       "0                ..  68.7304763793945                ..  78.3769302368164   \n",
       "1  133.714279174805  131.992706298828  142.569519042969  147.948013305664   \n",
       "2                ..                ..                ..                ..   \n",
       "3  45.4694404602051  46.9014892578125  50.4073791503906  54.5773010253906   \n",
       "4  105.505592346191  113.829856872559  113.907012939453  112.434349060059   \n",
       "\n",
       "      1997 [YR1997]     1998 [YR1998]        ...            2007 [YR2007]  \\\n",
       "0  75.1688079833984  81.4302825927734        ...         93.7097015380859   \n",
       "1  152.246307373047                ..        ...                       ..   \n",
       "2                ..                ..        ...         95.1699981689453   \n",
       "3  56.9693984985352                ..        ...         75.0220794677734   \n",
       "4  111.233757019043   110.22078704834        ...          113.48014831543   \n",
       "\n",
       "      2008 [YR2008]     2009 [YR2009]     2010 [YR2010]     2011 [YR2011]  \\\n",
       "0   95.248176574707  98.8311767578125  101.800773620605  103.603286743164   \n",
       "1                ..                ..                ..                ..   \n",
       "2  96.7201232910156  96.6654815673828                ..  95.2633819580078   \n",
       "3  79.8158798217773  84.0127487182617  88.0304412841797  91.0833435058594   \n",
       "4  113.004669189453  112.355903625488  112.396942138672  112.278358459473   \n",
       "\n",
       "      2012 [YR2012]     2013 [YR2013]     2014 [YR2014]     2015 [YR2015]  \\\n",
       "0  105.196243286133  106.324806213379  106.778343200684   107.07502746582   \n",
       "1                ..                ..                ..  158.147186279297   \n",
       "2  95.5837326049805  101.868072509766  101.950897216797  99.6509704589844   \n",
       "3  92.5681304931641  95.0299530029297                ..                ..   \n",
       "4  112.308311462402  111.430679321289  111.243690490723  111.067039489746   \n",
       "\n",
       "      2016 [YR2016]  \n",
       "0                ..  \n",
       "1  153.848266601563  \n",
       "2                ..  \n",
       "3                ..  \n",
       "4                ..  \n",
       "\n",
       "[5 rows x 28 columns]"
      ]
     },
     "execution_count": 9,
     "metadata": {},
     "output_type": "execute_result"
    }
   ],
   "source": [
    "secondary.head()"
   ]
  },
  {
   "cell_type": "code",
   "execution_count": 10,
   "metadata": {
    "collapsed": true
   },
   "outputs": [],
   "source": [
    "secondary.columns = ['Country Code']+['enrollment'+str(v) for v in np.arange(1990, 2017)]"
   ]
  },
  {
   "cell_type": "code",
   "execution_count": 12,
   "metadata": {
    "collapsed": true
   },
   "outputs": [],
   "source": [
    "# remove NaN columns at the end\n",
    "secondary = secondary.dropna()"
   ]
  },
  {
   "cell_type": "code",
   "execution_count": 13,
   "metadata": {
    "collapsed": true
   },
   "outputs": [],
   "source": [
    "secondary = pd.wide_to_long(secondary, 'enrollment', 'Country Code', 'Year').reset_index()"
   ]
  },
  {
   "cell_type": "code",
   "execution_count": 14,
   "metadata": {},
   "outputs": [
    {
     "data": {
      "text/html": [
       "<div>\n",
       "<style>\n",
       "    .dataframe thead tr:only-child th {\n",
       "        text-align: right;\n",
       "    }\n",
       "\n",
       "    .dataframe thead th {\n",
       "        text-align: left;\n",
       "    }\n",
       "\n",
       "    .dataframe tbody tr th {\n",
       "        vertical-align: top;\n",
       "    }\n",
       "</style>\n",
       "<table border=\"1\" class=\"dataframe\">\n",
       "  <thead>\n",
       "    <tr style=\"text-align: right;\">\n",
       "      <th></th>\n",
       "      <th>Country Code</th>\n",
       "      <th>Year</th>\n",
       "      <th>enrollment</th>\n",
       "    </tr>\n",
       "  </thead>\n",
       "  <tbody>\n",
       "    <tr>\n",
       "      <th>0</th>\n",
       "      <td>ARG</td>\n",
       "      <td>1990</td>\n",
       "      <td>71.1518325805664</td>\n",
       "    </tr>\n",
       "    <tr>\n",
       "      <th>1</th>\n",
       "      <td>AUS</td>\n",
       "      <td>1990</td>\n",
       "      <td>..</td>\n",
       "    </tr>\n",
       "    <tr>\n",
       "      <th>2</th>\n",
       "      <td>BRA</td>\n",
       "      <td>1990</td>\n",
       "      <td>..</td>\n",
       "    </tr>\n",
       "    <tr>\n",
       "      <th>3</th>\n",
       "      <td>CHN</td>\n",
       "      <td>1990</td>\n",
       "      <td>37.4352111816406</td>\n",
       "    </tr>\n",
       "    <tr>\n",
       "      <th>4</th>\n",
       "      <td>FRA</td>\n",
       "      <td>1990</td>\n",
       "      <td>96.6559600830078</td>\n",
       "    </tr>\n",
       "  </tbody>\n",
       "</table>\n",
       "</div>"
      ],
      "text/plain": [
       "  Country Code  Year        enrollment\n",
       "0          ARG  1990  71.1518325805664\n",
       "1          AUS  1990                ..\n",
       "2          BRA  1990                ..\n",
       "3          CHN  1990  37.4352111816406\n",
       "4          FRA  1990  96.6559600830078"
      ]
     },
     "execution_count": 14,
     "metadata": {},
     "output_type": "execute_result"
    }
   ],
   "source": [
    "secondary.head()"
   ]
  },
  {
   "cell_type": "code",
   "execution_count": 15,
   "metadata": {
    "collapsed": true
   },
   "outputs": [],
   "source": [
    "secondary = secondary.replace('..', np.NaN)"
   ]
  },
  {
   "cell_type": "code",
   "execution_count": 16,
   "metadata": {
    "collapsed": true
   },
   "outputs": [],
   "source": [
    "secondary = secondary.rename(columns={'Country Code': 'country_code', 'Year' : 'year'})"
   ]
  },
  {
   "cell_type": "code",
   "execution_count": 18,
   "metadata": {
    "collapsed": true
   },
   "outputs": [],
   "source": [
    "secondary.year = secondary.year.astype(int)\n",
    "secondary.enrollment = secondary.enrollment.astype(float)"
   ]
  },
  {
   "cell_type": "code",
   "execution_count": 19,
   "metadata": {},
   "outputs": [
    {
     "data": {
      "text/html": [
       "<div>\n",
       "<style>\n",
       "    .dataframe thead tr:only-child th {\n",
       "        text-align: right;\n",
       "    }\n",
       "\n",
       "    .dataframe thead th {\n",
       "        text-align: left;\n",
       "    }\n",
       "\n",
       "    .dataframe tbody tr th {\n",
       "        vertical-align: top;\n",
       "    }\n",
       "</style>\n",
       "<table border=\"1\" class=\"dataframe\">\n",
       "  <thead>\n",
       "    <tr style=\"text-align: right;\">\n",
       "      <th></th>\n",
       "      <th>country_code</th>\n",
       "      <th>year</th>\n",
       "      <th>enrollment</th>\n",
       "    </tr>\n",
       "  </thead>\n",
       "  <tbody>\n",
       "    <tr>\n",
       "      <th>0</th>\n",
       "      <td>ARG</td>\n",
       "      <td>1990</td>\n",
       "      <td>71.151833</td>\n",
       "    </tr>\n",
       "    <tr>\n",
       "      <th>1</th>\n",
       "      <td>AUS</td>\n",
       "      <td>1990</td>\n",
       "      <td>NaN</td>\n",
       "    </tr>\n",
       "    <tr>\n",
       "      <th>2</th>\n",
       "      <td>BRA</td>\n",
       "      <td>1990</td>\n",
       "      <td>NaN</td>\n",
       "    </tr>\n",
       "    <tr>\n",
       "      <th>3</th>\n",
       "      <td>CHN</td>\n",
       "      <td>1990</td>\n",
       "      <td>37.435211</td>\n",
       "    </tr>\n",
       "    <tr>\n",
       "      <th>4</th>\n",
       "      <td>FRA</td>\n",
       "      <td>1990</td>\n",
       "      <td>96.655960</td>\n",
       "    </tr>\n",
       "  </tbody>\n",
       "</table>\n",
       "</div>"
      ],
      "text/plain": [
       "  country_code  year  enrollment\n",
       "0          ARG  1990   71.151833\n",
       "1          AUS  1990         NaN\n",
       "2          BRA  1990         NaN\n",
       "3          CHN  1990   37.435211\n",
       "4          FRA  1990   96.655960"
      ]
     },
     "execution_count": 19,
     "metadata": {},
     "output_type": "execute_result"
    }
   ],
   "source": [
    "secondary.head()"
   ]
  },
  {
   "cell_type": "code",
   "execution_count": 21,
   "metadata": {
    "collapsed": true
   },
   "outputs": [],
   "source": [
    "# merging with enrollment data\n",
    "suicide = suicide.merge(secondary, 'left', ['country_code', 'year'])"
   ]
  },
  {
   "cell_type": "code",
   "execution_count": 22,
   "metadata": {},
   "outputs": [
    {
     "data": {
      "text/html": [
       "<div>\n",
       "<style>\n",
       "    .dataframe thead tr:only-child th {\n",
       "        text-align: right;\n",
       "    }\n",
       "\n",
       "    .dataframe thead th {\n",
       "        text-align: left;\n",
       "    }\n",
       "\n",
       "    .dataframe tbody tr th {\n",
       "        vertical-align: top;\n",
       "    }\n",
       "</style>\n",
       "<table border=\"1\" class=\"dataframe\">\n",
       "  <thead>\n",
       "    <tr style=\"text-align: right;\">\n",
       "      <th></th>\n",
       "      <th>country</th>\n",
       "      <th>year</th>\n",
       "      <th>deaths</th>\n",
       "      <th>mf_ratio</th>\n",
       "      <th>country_code</th>\n",
       "      <th>population</th>\n",
       "      <th>per_capita</th>\n",
       "      <th>temperature</th>\n",
       "      <th>enrollment</th>\n",
       "    </tr>\n",
       "  </thead>\n",
       "  <tbody>\n",
       "    <tr>\n",
       "      <th>0</th>\n",
       "      <td>Paraguay</td>\n",
       "      <td>1990</td>\n",
       "      <td>3.090264</td>\n",
       "      <td>2.053975</td>\n",
       "      <td>PRY</td>\n",
       "      <td>4213742.0</td>\n",
       "      <td>1351.578137</td>\n",
       "      <td>NaN</td>\n",
       "      <td>31.009640</td>\n",
       "    </tr>\n",
       "    <tr>\n",
       "      <th>1</th>\n",
       "      <td>Paraguay</td>\n",
       "      <td>1991</td>\n",
       "      <td>3.236037</td>\n",
       "      <td>2.051104</td>\n",
       "      <td>PRY</td>\n",
       "      <td>4323410.0</td>\n",
       "      <td>1615.476618</td>\n",
       "      <td>23.646150</td>\n",
       "      <td>31.109859</td>\n",
       "    </tr>\n",
       "    <tr>\n",
       "      <th>2</th>\n",
       "      <td>Paraguay</td>\n",
       "      <td>1992</td>\n",
       "      <td>3.441868</td>\n",
       "      <td>2.045573</td>\n",
       "      <td>PRY</td>\n",
       "      <td>4432736.0</td>\n",
       "      <td>1614.674104</td>\n",
       "      <td>22.790292</td>\n",
       "      <td>34.308071</td>\n",
       "    </tr>\n",
       "    <tr>\n",
       "      <th>3</th>\n",
       "      <td>Paraguay</td>\n",
       "      <td>1994</td>\n",
       "      <td>3.480025</td>\n",
       "      <td>2.180785</td>\n",
       "      <td>PRY</td>\n",
       "      <td>4651225.0</td>\n",
       "      <td>1692.238533</td>\n",
       "      <td>24.120992</td>\n",
       "      <td>38.555759</td>\n",
       "    </tr>\n",
       "    <tr>\n",
       "      <th>4</th>\n",
       "      <td>Paraguay</td>\n",
       "      <td>1995</td>\n",
       "      <td>3.568877</td>\n",
       "      <td>2.199288</td>\n",
       "      <td>PRY</td>\n",
       "      <td>4760850.0</td>\n",
       "      <td>1903.469193</td>\n",
       "      <td>23.614717</td>\n",
       "      <td>41.358780</td>\n",
       "    </tr>\n",
       "  </tbody>\n",
       "</table>\n",
       "</div>"
      ],
      "text/plain": [
       "    country  year    deaths  mf_ratio country_code  population   per_capita  \\\n",
       "0  Paraguay  1990  3.090264  2.053975          PRY   4213742.0  1351.578137   \n",
       "1  Paraguay  1991  3.236037  2.051104          PRY   4323410.0  1615.476618   \n",
       "2  Paraguay  1992  3.441868  2.045573          PRY   4432736.0  1614.674104   \n",
       "3  Paraguay  1994  3.480025  2.180785          PRY   4651225.0  1692.238533   \n",
       "4  Paraguay  1995  3.568877  2.199288          PRY   4760850.0  1903.469193   \n",
       "\n",
       "   temperature  enrollment  \n",
       "0          NaN   31.009640  \n",
       "1    23.646150   31.109859  \n",
       "2    22.790292   34.308071  \n",
       "3    24.120992   38.555759  \n",
       "4    23.614717   41.358780  "
      ]
     },
     "execution_count": 22,
     "metadata": {},
     "output_type": "execute_result"
    }
   ],
   "source": [
    "suicide.head()"
   ]
  },
  {
   "cell_type": "code",
   "execution_count": 23,
   "metadata": {},
   "outputs": [
    {
     "data": {
      "text/plain": [
       "(5211, 9)"
      ]
     },
     "execution_count": 23,
     "metadata": {},
     "output_type": "execute_result"
    }
   ],
   "source": [
    "suicide.shape"
   ]
  },
  {
   "cell_type": "code",
   "execution_count": 24,
   "metadata": {
    "collapsed": true
   },
   "outputs": [],
   "source": [
    "suicide.to_csv('suicide.csv', index=False)"
   ]
  },
  {
   "cell_type": "code",
   "execution_count": null,
   "metadata": {
    "collapsed": true
   },
   "outputs": [],
   "source": []
  }
 ],
 "metadata": {
  "kernelspec": {
   "display_name": "Python 3",
   "language": "python",
   "name": "python3"
  },
  "language_info": {
   "codemirror_mode": {
    "name": "ipython",
    "version": 3
   },
   "file_extension": ".py",
   "mimetype": "text/x-python",
   "name": "python",
   "nbconvert_exporter": "python",
   "pygments_lexer": "ipython3",
   "version": "3.6.2"
  }
 },
 "nbformat": 4,
 "nbformat_minor": 2
}
