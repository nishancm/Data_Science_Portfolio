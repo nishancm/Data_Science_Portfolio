{
 "cells": [
  {
   "cell_type": "markdown",
   "metadata": {},
   "source": [
    "# ForeverAlone Visualization"
   ]
  },
  {
   "cell_type": "markdown",
   "metadata": {},
   "source": [
    "\n",
    "In order to build this visualization we have decided to use `Bokeh`."
   ]
  },
  {
   "cell_type": "code",
   "execution_count": 1,
   "metadata": {
    "collapsed": true
   },
   "outputs": [],
   "source": [
    "from bokeh.plotting import figure, output_file, show, ColumnDataSource, Figure, reset_output, gridplot\n",
    "from bokeh.io import output_notebook, show, curdoc, output_file\n",
    "from bokeh.models.tickers import FixedTicker\n",
    "from bokeh.models import NumeralTickFormatter, Legend, Quad, HoverTool, Label\n",
    "from bokeh.layouts import widgetbox, row, layout, column\n",
    "from bokeh.models.widgets import Dropdown, Select, MultiSelect, Panel, Tabs\n",
    "\n",
    "import pandas as pd\n",
    "import numpy as np\n",
    "import matplotlib.pyplot as plt\n",
    "%matplotlib inline\n",
    "import bokeh.palettes\n",
    "import matplotlib as mpl"
   ]
  },
  {
   "cell_type": "code",
   "execution_count": 2,
   "metadata": {},
   "outputs": [
    {
     "data": {
      "text/html": [
       "\n",
       "    <div class=\"bk-root\">\n",
       "        <a href=\"https://bokeh.pydata.org\" target=\"_blank\" class=\"bk-logo bk-logo-small bk-logo-notebook\"></a>\n",
       "        <span id=\"3a4122d2-2ebe-45d5-9228-cf74db94cdfa\">Loading BokehJS ...</span>\n",
       "    </div>"
      ]
     },
     "metadata": {},
     "output_type": "display_data"
    },
    {
     "data": {
      "application/javascript": [
       "\n",
       "(function(root) {\n",
       "  function now() {\n",
       "    return new Date();\n",
       "  }\n",
       "\n",
       "  var force = true;\n",
       "\n",
       "  if (typeof (root._bokeh_onload_callbacks) === \"undefined\" || force === true) {\n",
       "    root._bokeh_onload_callbacks = [];\n",
       "    root._bokeh_is_loading = undefined;\n",
       "  }\n",
       "\n",
       "  var JS_MIME_TYPE = 'application/javascript';\n",
       "  var HTML_MIME_TYPE = 'text/html';\n",
       "  var EXEC_MIME_TYPE = 'application/vnd.bokehjs_exec.v0+json';\n",
       "  var CLASS_NAME = 'output_bokeh rendered_html';\n",
       "\n",
       "  /**\n",
       "   * Render data to the DOM node\n",
       "   */\n",
       "  function render(props, node) {\n",
       "    var script = document.createElement(\"script\");\n",
       "    node.appendChild(script);\n",
       "  }\n",
       "\n",
       "  /**\n",
       "   * Handle when an output is cleared or removed\n",
       "   */\n",
       "  function handleClearOutput(event, handle) {\n",
       "    var cell = handle.cell;\n",
       "\n",
       "    var id = cell.output_area._bokeh_element_id;\n",
       "    var server_id = cell.output_area._bokeh_server_id;\n",
       "    // Clean up Bokeh references\n",
       "    if (id !== undefined) {\n",
       "      Bokeh.index[id].model.document.clear();\n",
       "      delete Bokeh.index[id];\n",
       "    }\n",
       "\n",
       "    if (server_id !== undefined) {\n",
       "      // Clean up Bokeh references\n",
       "      var cmd = \"from bokeh.io.state import curstate; print(curstate().uuid_to_server['\" + server_id + \"'].get_sessions()[0].document.roots[0]._id)\";\n",
       "      cell.notebook.kernel.execute(cmd, {\n",
       "        iopub: {\n",
       "          output: function(msg) {\n",
       "            var element_id = msg.content.text.trim();\n",
       "            Bokeh.index[element_id].model.document.clear();\n",
       "            delete Bokeh.index[element_id];\n",
       "          }\n",
       "        }\n",
       "      });\n",
       "      // Destroy server and session\n",
       "      var cmd = \"import bokeh.io.notebook as ion; ion.destroy_server('\" + server_id + \"')\";\n",
       "      cell.notebook.kernel.execute(cmd);\n",
       "    }\n",
       "  }\n",
       "\n",
       "  /**\n",
       "   * Handle when a new output is added\n",
       "   */\n",
       "  function handleAddOutput(event, handle) {\n",
       "    var output_area = handle.output_area;\n",
       "    var output = handle.output;\n",
       "\n",
       "    // limit handleAddOutput to display_data with EXEC_MIME_TYPE content only\n",
       "    if ((output.output_type != \"display_data\") || (!output.data.hasOwnProperty(EXEC_MIME_TYPE))) {\n",
       "      return\n",
       "    }\n",
       "\n",
       "    var toinsert = output_area.element.find(\".\" + CLASS_NAME.split(' ')[0]);\n",
       "\n",
       "    if (output.metadata[EXEC_MIME_TYPE][\"id\"] !== undefined) {\n",
       "      toinsert[toinsert.length - 1].firstChild.textContent = output.data[JS_MIME_TYPE];\n",
       "      // store reference to embed id on output_area\n",
       "      output_area._bokeh_element_id = output.metadata[EXEC_MIME_TYPE][\"id\"];\n",
       "    }\n",
       "    if (output.metadata[EXEC_MIME_TYPE][\"server_id\"] !== undefined) {\n",
       "      var bk_div = document.createElement(\"div\");\n",
       "      bk_div.innerHTML = output.data[HTML_MIME_TYPE];\n",
       "      var script_attrs = bk_div.children[0].attributes;\n",
       "      for (var i = 0; i < script_attrs.length; i++) {\n",
       "        toinsert[toinsert.length - 1].firstChild.setAttribute(script_attrs[i].name, script_attrs[i].value);\n",
       "      }\n",
       "      // store reference to server id on output_area\n",
       "      output_area._bokeh_server_id = output.metadata[EXEC_MIME_TYPE][\"server_id\"];\n",
       "    }\n",
       "  }\n",
       "\n",
       "  function register_renderer(events, OutputArea) {\n",
       "\n",
       "    function append_mime(data, metadata, element) {\n",
       "      // create a DOM node to render to\n",
       "      var toinsert = this.create_output_subarea(\n",
       "        metadata,\n",
       "        CLASS_NAME,\n",
       "        EXEC_MIME_TYPE\n",
       "      );\n",
       "      this.keyboard_manager.register_events(toinsert);\n",
       "      // Render to node\n",
       "      var props = {data: data, metadata: metadata[EXEC_MIME_TYPE]};\n",
       "      render(props, toinsert[toinsert.length - 1]);\n",
       "      element.append(toinsert);\n",
       "      return toinsert\n",
       "    }\n",
       "\n",
       "    /* Handle when an output is cleared or removed */\n",
       "    events.on('clear_output.CodeCell', handleClearOutput);\n",
       "    events.on('delete.Cell', handleClearOutput);\n",
       "\n",
       "    /* Handle when a new output is added */\n",
       "    events.on('output_added.OutputArea', handleAddOutput);\n",
       "\n",
       "    /**\n",
       "     * Register the mime type and append_mime function with output_area\n",
       "     */\n",
       "    OutputArea.prototype.register_mime_type(EXEC_MIME_TYPE, append_mime, {\n",
       "      /* Is output safe? */\n",
       "      safe: true,\n",
       "      /* Index of renderer in `output_area.display_order` */\n",
       "      index: 0\n",
       "    });\n",
       "  }\n",
       "\n",
       "  // register the mime type if in Jupyter Notebook environment and previously unregistered\n",
       "  if (root.Jupyter !== undefined) {\n",
       "    var events = require('base/js/events');\n",
       "    var OutputArea = require('notebook/js/outputarea').OutputArea;\n",
       "\n",
       "    if (OutputArea.prototype.mime_types().indexOf(EXEC_MIME_TYPE) == -1) {\n",
       "      register_renderer(events, OutputArea);\n",
       "    }\n",
       "  }\n",
       "\n",
       "  \n",
       "  if (typeof (root._bokeh_timeout) === \"undefined\" || force === true) {\n",
       "    root._bokeh_timeout = Date.now() + 5000;\n",
       "    root._bokeh_failed_load = false;\n",
       "  }\n",
       "\n",
       "  var NB_LOAD_WARNING = {'data': {'text/html':\n",
       "     \"<div style='background-color: #fdd'>\\n\"+\n",
       "     \"<p>\\n\"+\n",
       "     \"BokehJS does not appear to have successfully loaded. If loading BokehJS from CDN, this \\n\"+\n",
       "     \"may be due to a slow or bad network connection. Possible fixes:\\n\"+\n",
       "     \"</p>\\n\"+\n",
       "     \"<ul>\\n\"+\n",
       "     \"<li>re-rerun `output_notebook()` to attempt to load from CDN again, or</li>\\n\"+\n",
       "     \"<li>use INLINE resources instead, as so:</li>\\n\"+\n",
       "     \"</ul>\\n\"+\n",
       "     \"<code>\\n\"+\n",
       "     \"from bokeh.resources import INLINE\\n\"+\n",
       "     \"output_notebook(resources=INLINE)\\n\"+\n",
       "     \"</code>\\n\"+\n",
       "     \"</div>\"}};\n",
       "\n",
       "  function display_loaded() {\n",
       "    var el = document.getElementById(\"3a4122d2-2ebe-45d5-9228-cf74db94cdfa\");\n",
       "    if (el != null) {\n",
       "      el.textContent = \"BokehJS is loading...\";\n",
       "    }\n",
       "    if (root.Bokeh !== undefined) {\n",
       "      if (el != null) {\n",
       "        el.textContent = \"BokehJS \" + root.Bokeh.version + \" successfully loaded.\";\n",
       "      }\n",
       "    } else if (Date.now() < root._bokeh_timeout) {\n",
       "      setTimeout(display_loaded, 100)\n",
       "    }\n",
       "  }\n",
       "\n",
       "\n",
       "  function run_callbacks() {\n",
       "    try {\n",
       "      root._bokeh_onload_callbacks.forEach(function(callback) { callback() });\n",
       "    }\n",
       "    finally {\n",
       "      delete root._bokeh_onload_callbacks\n",
       "    }\n",
       "    console.info(\"Bokeh: all callbacks have finished\");\n",
       "  }\n",
       "\n",
       "  function load_libs(js_urls, callback) {\n",
       "    root._bokeh_onload_callbacks.push(callback);\n",
       "    if (root._bokeh_is_loading > 0) {\n",
       "      console.log(\"Bokeh: BokehJS is being loaded, scheduling callback at\", now());\n",
       "      return null;\n",
       "    }\n",
       "    if (js_urls == null || js_urls.length === 0) {\n",
       "      run_callbacks();\n",
       "      return null;\n",
       "    }\n",
       "    console.log(\"Bokeh: BokehJS not loaded, scheduling load and callback at\", now());\n",
       "    root._bokeh_is_loading = js_urls.length;\n",
       "    for (var i = 0; i < js_urls.length; i++) {\n",
       "      var url = js_urls[i];\n",
       "      var s = document.createElement('script');\n",
       "      s.src = url;\n",
       "      s.async = false;\n",
       "      s.onreadystatechange = s.onload = function() {\n",
       "        root._bokeh_is_loading--;\n",
       "        if (root._bokeh_is_loading === 0) {\n",
       "          console.log(\"Bokeh: all BokehJS libraries loaded\");\n",
       "          run_callbacks()\n",
       "        }\n",
       "      };\n",
       "      s.onerror = function() {\n",
       "        console.warn(\"failed to load library \" + url);\n",
       "      };\n",
       "      console.log(\"Bokeh: injecting script tag for BokehJS library: \", url);\n",
       "      document.getElementsByTagName(\"head\")[0].appendChild(s);\n",
       "    }\n",
       "  };var element = document.getElementById(\"3a4122d2-2ebe-45d5-9228-cf74db94cdfa\");\n",
       "  if (element == null) {\n",
       "    console.log(\"Bokeh: ERROR: autoload.js configured with elementid '3a4122d2-2ebe-45d5-9228-cf74db94cdfa' but no matching script tag was found. \")\n",
       "    return false;\n",
       "  }\n",
       "\n",
       "  var js_urls = [\"https://cdn.pydata.org/bokeh/release/bokeh-0.12.15.min.js\", \"https://cdn.pydata.org/bokeh/release/bokeh-widgets-0.12.15.min.js\", \"https://cdn.pydata.org/bokeh/release/bokeh-tables-0.12.15.min.js\", \"https://cdn.pydata.org/bokeh/release/bokeh-gl-0.12.15.min.js\"];\n",
       "\n",
       "  var inline_js = [\n",
       "    function(Bokeh) {\n",
       "      Bokeh.set_log_level(\"info\");\n",
       "    },\n",
       "    \n",
       "    function(Bokeh) {\n",
       "      \n",
       "    },\n",
       "    function(Bokeh) {\n",
       "      console.log(\"Bokeh: injecting CSS: https://cdn.pydata.org/bokeh/release/bokeh-0.12.15.min.css\");\n",
       "      Bokeh.embed.inject_css(\"https://cdn.pydata.org/bokeh/release/bokeh-0.12.15.min.css\");\n",
       "      console.log(\"Bokeh: injecting CSS: https://cdn.pydata.org/bokeh/release/bokeh-widgets-0.12.15.min.css\");\n",
       "      Bokeh.embed.inject_css(\"https://cdn.pydata.org/bokeh/release/bokeh-widgets-0.12.15.min.css\");\n",
       "      console.log(\"Bokeh: injecting CSS: https://cdn.pydata.org/bokeh/release/bokeh-tables-0.12.15.min.css\");\n",
       "      Bokeh.embed.inject_css(\"https://cdn.pydata.org/bokeh/release/bokeh-tables-0.12.15.min.css\");\n",
       "    }\n",
       "  ];\n",
       "\n",
       "  function run_inline_js() {\n",
       "    \n",
       "    if ((root.Bokeh !== undefined) || (force === true)) {\n",
       "      for (var i = 0; i < inline_js.length; i++) {\n",
       "        inline_js[i].call(root, root.Bokeh);\n",
       "      }if (force === true) {\n",
       "        display_loaded();\n",
       "      }} else if (Date.now() < root._bokeh_timeout) {\n",
       "      setTimeout(run_inline_js, 100);\n",
       "    } else if (!root._bokeh_failed_load) {\n",
       "      console.log(\"Bokeh: BokehJS failed to load within specified timeout.\");\n",
       "      root._bokeh_failed_load = true;\n",
       "    } else if (force !== true) {\n",
       "      var cell = $(document.getElementById(\"3a4122d2-2ebe-45d5-9228-cf74db94cdfa\")).parents('.cell').data().cell;\n",
       "      cell.output_area.append_execute_result(NB_LOAD_WARNING)\n",
       "    }\n",
       "\n",
       "  }\n",
       "\n",
       "  if (root._bokeh_is_loading === 0) {\n",
       "    console.log(\"Bokeh: BokehJS loaded, going straight to plotting\");\n",
       "    run_inline_js();\n",
       "  } else {\n",
       "    load_libs(js_urls, function() {\n",
       "      console.log(\"Bokeh: BokehJS plotting callback run at\", now());\n",
       "      run_inline_js();\n",
       "    });\n",
       "  }\n",
       "}(window));"
      ],
      "application/vnd.bokehjs_load.v0+json": "\n(function(root) {\n  function now() {\n    return new Date();\n  }\n\n  var force = true;\n\n  if (typeof (root._bokeh_onload_callbacks) === \"undefined\" || force === true) {\n    root._bokeh_onload_callbacks = [];\n    root._bokeh_is_loading = undefined;\n  }\n\n  \n\n  \n  if (typeof (root._bokeh_timeout) === \"undefined\" || force === true) {\n    root._bokeh_timeout = Date.now() + 5000;\n    root._bokeh_failed_load = false;\n  }\n\n  var NB_LOAD_WARNING = {'data': {'text/html':\n     \"<div style='background-color: #fdd'>\\n\"+\n     \"<p>\\n\"+\n     \"BokehJS does not appear to have successfully loaded. If loading BokehJS from CDN, this \\n\"+\n     \"may be due to a slow or bad network connection. Possible fixes:\\n\"+\n     \"</p>\\n\"+\n     \"<ul>\\n\"+\n     \"<li>re-rerun `output_notebook()` to attempt to load from CDN again, or</li>\\n\"+\n     \"<li>use INLINE resources instead, as so:</li>\\n\"+\n     \"</ul>\\n\"+\n     \"<code>\\n\"+\n     \"from bokeh.resources import INLINE\\n\"+\n     \"output_notebook(resources=INLINE)\\n\"+\n     \"</code>\\n\"+\n     \"</div>\"}};\n\n  function display_loaded() {\n    var el = document.getElementById(\"3a4122d2-2ebe-45d5-9228-cf74db94cdfa\");\n    if (el != null) {\n      el.textContent = \"BokehJS is loading...\";\n    }\n    if (root.Bokeh !== undefined) {\n      if (el != null) {\n        el.textContent = \"BokehJS \" + root.Bokeh.version + \" successfully loaded.\";\n      }\n    } else if (Date.now() < root._bokeh_timeout) {\n      setTimeout(display_loaded, 100)\n    }\n  }\n\n\n  function run_callbacks() {\n    try {\n      root._bokeh_onload_callbacks.forEach(function(callback) { callback() });\n    }\n    finally {\n      delete root._bokeh_onload_callbacks\n    }\n    console.info(\"Bokeh: all callbacks have finished\");\n  }\n\n  function load_libs(js_urls, callback) {\n    root._bokeh_onload_callbacks.push(callback);\n    if (root._bokeh_is_loading > 0) {\n      console.log(\"Bokeh: BokehJS is being loaded, scheduling callback at\", now());\n      return null;\n    }\n    if (js_urls == null || js_urls.length === 0) {\n      run_callbacks();\n      return null;\n    }\n    console.log(\"Bokeh: BokehJS not loaded, scheduling load and callback at\", now());\n    root._bokeh_is_loading = js_urls.length;\n    for (var i = 0; i < js_urls.length; i++) {\n      var url = js_urls[i];\n      var s = document.createElement('script');\n      s.src = url;\n      s.async = false;\n      s.onreadystatechange = s.onload = function() {\n        root._bokeh_is_loading--;\n        if (root._bokeh_is_loading === 0) {\n          console.log(\"Bokeh: all BokehJS libraries loaded\");\n          run_callbacks()\n        }\n      };\n      s.onerror = function() {\n        console.warn(\"failed to load library \" + url);\n      };\n      console.log(\"Bokeh: injecting script tag for BokehJS library: \", url);\n      document.getElementsByTagName(\"head\")[0].appendChild(s);\n    }\n  };var element = document.getElementById(\"3a4122d2-2ebe-45d5-9228-cf74db94cdfa\");\n  if (element == null) {\n    console.log(\"Bokeh: ERROR: autoload.js configured with elementid '3a4122d2-2ebe-45d5-9228-cf74db94cdfa' but no matching script tag was found. \")\n    return false;\n  }\n\n  var js_urls = [\"https://cdn.pydata.org/bokeh/release/bokeh-0.12.15.min.js\", \"https://cdn.pydata.org/bokeh/release/bokeh-widgets-0.12.15.min.js\", \"https://cdn.pydata.org/bokeh/release/bokeh-tables-0.12.15.min.js\", \"https://cdn.pydata.org/bokeh/release/bokeh-gl-0.12.15.min.js\"];\n\n  var inline_js = [\n    function(Bokeh) {\n      Bokeh.set_log_level(\"info\");\n    },\n    \n    function(Bokeh) {\n      \n    },\n    function(Bokeh) {\n      console.log(\"Bokeh: injecting CSS: https://cdn.pydata.org/bokeh/release/bokeh-0.12.15.min.css\");\n      Bokeh.embed.inject_css(\"https://cdn.pydata.org/bokeh/release/bokeh-0.12.15.min.css\");\n      console.log(\"Bokeh: injecting CSS: https://cdn.pydata.org/bokeh/release/bokeh-widgets-0.12.15.min.css\");\n      Bokeh.embed.inject_css(\"https://cdn.pydata.org/bokeh/release/bokeh-widgets-0.12.15.min.css\");\n      console.log(\"Bokeh: injecting CSS: https://cdn.pydata.org/bokeh/release/bokeh-tables-0.12.15.min.css\");\n      Bokeh.embed.inject_css(\"https://cdn.pydata.org/bokeh/release/bokeh-tables-0.12.15.min.css\");\n    }\n  ];\n\n  function run_inline_js() {\n    \n    if ((root.Bokeh !== undefined) || (force === true)) {\n      for (var i = 0; i < inline_js.length; i++) {\n        inline_js[i].call(root, root.Bokeh);\n      }if (force === true) {\n        display_loaded();\n      }} else if (Date.now() < root._bokeh_timeout) {\n      setTimeout(run_inline_js, 100);\n    } else if (!root._bokeh_failed_load) {\n      console.log(\"Bokeh: BokehJS failed to load within specified timeout.\");\n      root._bokeh_failed_load = true;\n    } else if (force !== true) {\n      var cell = $(document.getElementById(\"3a4122d2-2ebe-45d5-9228-cf74db94cdfa\")).parents('.cell').data().cell;\n      cell.output_area.append_execute_result(NB_LOAD_WARNING)\n    }\n\n  }\n\n  if (root._bokeh_is_loading === 0) {\n    console.log(\"Bokeh: BokehJS loaded, going straight to plotting\");\n    run_inline_js();\n  } else {\n    load_libs(js_urls, function() {\n      console.log(\"Bokeh: BokehJS plotting callback run at\", now());\n      run_inline_js();\n    });\n  }\n}(window));"
     },
     "metadata": {},
     "output_type": "display_data"
    }
   ],
   "source": [
    "# Activate visualizations in notebook\n",
    "output_notebook()"
   ]
  },
  {
   "cell_type": "code",
   "execution_count": 3,
   "metadata": {
    "collapsed": true
   },
   "outputs": [],
   "source": [
    "# Read in data\n",
    "data = pd.read_csv('data/foreveralone.csv')"
   ]
  },
  {
   "cell_type": "code",
   "execution_count": 4,
   "metadata": {
    "collapsed": true
   },
   "outputs": [],
   "source": [
    "# Rename virgin, social_fear and depressed columns for displaying names later\n",
    "data.columns = ['time', 'gender', 'sexuallity', 'age', 'income', 'race', 'bodyweight',\n",
    "                'Virgin', 'prostitution_legal', 'pay_for_sex', 'friends', 'Social fear',\n",
    "                'Depressed', 'what_help_from_others', 'attempt_suicide', 'employment',\n",
    "                'job_title', 'edu_level', 'improve_yourself_how']"
   ]
  },
  {
   "cell_type": "markdown",
   "metadata": {
    "collapsed": true
   },
   "source": [
    "## Some context"
   ]
  },
  {
   "cell_type": "markdown",
   "metadata": {},
   "source": [
    "This dataset is a survey undertaken in the `r/foreveralone` subreddit, a forum hosted in reddit.com, \"a place where people who have been alone most of their lives could come and talk about their issues\". In 2016 one of the redditors created this survey in order to collect demographic data on the participants of the forum."
   ]
  },
  {
   "cell_type": "markdown",
   "metadata": {},
   "source": [
    "## Basica EDA"
   ]
  },
  {
   "cell_type": "markdown",
   "metadata": {},
   "source": [
    "This is what the data looks like:"
   ]
  },
  {
   "cell_type": "code",
   "execution_count": 5,
   "metadata": {},
   "outputs": [
    {
     "data": {
      "text/html": [
       "<div>\n",
       "<style scoped>\n",
       "    .dataframe tbody tr th:only-of-type {\n",
       "        vertical-align: middle;\n",
       "    }\n",
       "\n",
       "    .dataframe tbody tr th {\n",
       "        vertical-align: top;\n",
       "    }\n",
       "\n",
       "    .dataframe thead th {\n",
       "        text-align: right;\n",
       "    }\n",
       "</style>\n",
       "<table border=\"1\" class=\"dataframe\">\n",
       "  <thead>\n",
       "    <tr style=\"text-align: right;\">\n",
       "      <th></th>\n",
       "      <th>0</th>\n",
       "      <th>1</th>\n",
       "      <th>2</th>\n",
       "      <th>3</th>\n",
       "      <th>4</th>\n",
       "    </tr>\n",
       "  </thead>\n",
       "  <tbody>\n",
       "    <tr>\n",
       "      <th>time</th>\n",
       "      <td>5/17/2016 20:04:18</td>\n",
       "      <td>5/17/2016 20:04:30</td>\n",
       "      <td>5/17/2016 20:04:58</td>\n",
       "      <td>5/17/2016 20:08:01</td>\n",
       "      <td>5/17/2016 20:08:04</td>\n",
       "    </tr>\n",
       "    <tr>\n",
       "      <th>gender</th>\n",
       "      <td>Male</td>\n",
       "      <td>Male</td>\n",
       "      <td>Male</td>\n",
       "      <td>Male</td>\n",
       "      <td>Male</td>\n",
       "    </tr>\n",
       "    <tr>\n",
       "      <th>sexuallity</th>\n",
       "      <td>Straight</td>\n",
       "      <td>Bisexual</td>\n",
       "      <td>Straight</td>\n",
       "      <td>Straight</td>\n",
       "      <td>Straight</td>\n",
       "    </tr>\n",
       "    <tr>\n",
       "      <th>age</th>\n",
       "      <td>35</td>\n",
       "      <td>21</td>\n",
       "      <td>22</td>\n",
       "      <td>19</td>\n",
       "      <td>23</td>\n",
       "    </tr>\n",
       "    <tr>\n",
       "      <th>income</th>\n",
       "      <td>$30,000 to $39,999</td>\n",
       "      <td>$1 to $10,000</td>\n",
       "      <td>$0</td>\n",
       "      <td>$1 to $10,000</td>\n",
       "      <td>$30,000 to $39,999</td>\n",
       "    </tr>\n",
       "    <tr>\n",
       "      <th>race</th>\n",
       "      <td>White non-Hispanic</td>\n",
       "      <td>White non-Hispanic</td>\n",
       "      <td>White non-Hispanic</td>\n",
       "      <td>White non-Hispanic</td>\n",
       "      <td>White non-Hispanic</td>\n",
       "    </tr>\n",
       "    <tr>\n",
       "      <th>bodyweight</th>\n",
       "      <td>Normal weight</td>\n",
       "      <td>Underweight</td>\n",
       "      <td>Overweight</td>\n",
       "      <td>Overweight</td>\n",
       "      <td>Overweight</td>\n",
       "    </tr>\n",
       "    <tr>\n",
       "      <th>Virgin</th>\n",
       "      <td>Yes</td>\n",
       "      <td>Yes</td>\n",
       "      <td>Yes</td>\n",
       "      <td>Yes</td>\n",
       "      <td>No</td>\n",
       "    </tr>\n",
       "    <tr>\n",
       "      <th>prostitution_legal</th>\n",
       "      <td>No</td>\n",
       "      <td>No</td>\n",
       "      <td>No</td>\n",
       "      <td>Yes</td>\n",
       "      <td>No</td>\n",
       "    </tr>\n",
       "    <tr>\n",
       "      <th>pay_for_sex</th>\n",
       "      <td>No</td>\n",
       "      <td>No</td>\n",
       "      <td>No</td>\n",
       "      <td>No</td>\n",
       "      <td>Yes and I have</td>\n",
       "    </tr>\n",
       "    <tr>\n",
       "      <th>friends</th>\n",
       "      <td>0</td>\n",
       "      <td>0</td>\n",
       "      <td>10</td>\n",
       "      <td>8</td>\n",
       "      <td>10</td>\n",
       "    </tr>\n",
       "    <tr>\n",
       "      <th>Social fear</th>\n",
       "      <td>Yes</td>\n",
       "      <td>Yes</td>\n",
       "      <td>Yes</td>\n",
       "      <td>Yes</td>\n",
       "      <td>No</td>\n",
       "    </tr>\n",
       "    <tr>\n",
       "      <th>Depressed</th>\n",
       "      <td>Yes</td>\n",
       "      <td>Yes</td>\n",
       "      <td>Yes</td>\n",
       "      <td>Yes</td>\n",
       "      <td>Yes</td>\n",
       "    </tr>\n",
       "    <tr>\n",
       "      <th>what_help_from_others</th>\n",
       "      <td>wingman/wingwoman, Set me up with a date</td>\n",
       "      <td>wingman/wingwoman, Set me up with a date, date...</td>\n",
       "      <td>I don't want help</td>\n",
       "      <td>date coaching</td>\n",
       "      <td>I don't want help</td>\n",
       "    </tr>\n",
       "    <tr>\n",
       "      <th>attempt_suicide</th>\n",
       "      <td>Yes</td>\n",
       "      <td>No</td>\n",
       "      <td>No</td>\n",
       "      <td>No</td>\n",
       "      <td>No</td>\n",
       "    </tr>\n",
       "    <tr>\n",
       "      <th>employment</th>\n",
       "      <td>Employed for wages</td>\n",
       "      <td>Out of work and looking for work</td>\n",
       "      <td>Out of work but not currently looking for work</td>\n",
       "      <td>A student</td>\n",
       "      <td>Employed for wages</td>\n",
       "    </tr>\n",
       "    <tr>\n",
       "      <th>job_title</th>\n",
       "      <td>mechanical drafter</td>\n",
       "      <td>-</td>\n",
       "      <td>unemployed</td>\n",
       "      <td>student</td>\n",
       "      <td>Factory worker</td>\n",
       "    </tr>\n",
       "    <tr>\n",
       "      <th>edu_level</th>\n",
       "      <td>Associate degree</td>\n",
       "      <td>Some college, no degree</td>\n",
       "      <td>Some college, no degree</td>\n",
       "      <td>Some college, no degree</td>\n",
       "      <td>High school graduate, diploma or the equivalen...</td>\n",
       "    </tr>\n",
       "    <tr>\n",
       "      <th>improve_yourself_how</th>\n",
       "      <td>None</td>\n",
       "      <td>join clubs/socual clubs/meet ups</td>\n",
       "      <td>Other exercise</td>\n",
       "      <td>Joined a gym/go to the gym</td>\n",
       "      <td>None</td>\n",
       "    </tr>\n",
       "  </tbody>\n",
       "</table>\n",
       "</div>"
      ],
      "text/plain": [
       "                                                              0  \\\n",
       "time                                         5/17/2016 20:04:18   \n",
       "gender                                                     Male   \n",
       "sexuallity                                             Straight   \n",
       "age                                                          35   \n",
       "income                                       $30,000 to $39,999   \n",
       "race                                         White non-Hispanic   \n",
       "bodyweight                                        Normal weight   \n",
       "Virgin                                                      Yes   \n",
       "prostitution_legal                                           No   \n",
       "pay_for_sex                                                  No   \n",
       "friends                                                       0   \n",
       "Social fear                                                 Yes   \n",
       "Depressed                                                   Yes   \n",
       "what_help_from_others  wingman/wingwoman, Set me up with a date   \n",
       "attempt_suicide                                             Yes   \n",
       "employment                                   Employed for wages   \n",
       "job_title                                    mechanical drafter   \n",
       "edu_level                                      Associate degree   \n",
       "improve_yourself_how                                       None   \n",
       "\n",
       "                                                                       1  \\\n",
       "time                                                  5/17/2016 20:04:30   \n",
       "gender                                                              Male   \n",
       "sexuallity                                                      Bisexual   \n",
       "age                                                                   21   \n",
       "income                                                     $1 to $10,000   \n",
       "race                                                  White non-Hispanic   \n",
       "bodyweight                                                   Underweight   \n",
       "Virgin                                                               Yes   \n",
       "prostitution_legal                                                    No   \n",
       "pay_for_sex                                                           No   \n",
       "friends                                                                0   \n",
       "Social fear                                                          Yes   \n",
       "Depressed                                                            Yes   \n",
       "what_help_from_others  wingman/wingwoman, Set me up with a date, date...   \n",
       "attempt_suicide                                                       No   \n",
       "employment                              Out of work and looking for work   \n",
       "job_title                                                              -   \n",
       "edu_level                                        Some college, no degree   \n",
       "improve_yourself_how                    join clubs/socual clubs/meet ups   \n",
       "\n",
       "                                                                    2  \\\n",
       "time                                               5/17/2016 20:04:58   \n",
       "gender                                                           Male   \n",
       "sexuallity                                                   Straight   \n",
       "age                                                                22   \n",
       "income                                                             $0   \n",
       "race                                               White non-Hispanic   \n",
       "bodyweight                                                 Overweight   \n",
       "Virgin                                                            Yes   \n",
       "prostitution_legal                                                 No   \n",
       "pay_for_sex                                                        No   \n",
       "friends                                                            10   \n",
       "Social fear                                                       Yes   \n",
       "Depressed                                                         Yes   \n",
       "what_help_from_others                               I don't want help   \n",
       "attempt_suicide                                                    No   \n",
       "employment             Out of work but not currently looking for work   \n",
       "job_title                                                  unemployed   \n",
       "edu_level                                     Some college, no degree   \n",
       "improve_yourself_how                                   Other exercise   \n",
       "\n",
       "                                                3  \\\n",
       "time                           5/17/2016 20:08:01   \n",
       "gender                                       Male   \n",
       "sexuallity                               Straight   \n",
       "age                                            19   \n",
       "income                              $1 to $10,000   \n",
       "race                           White non-Hispanic   \n",
       "bodyweight                             Overweight   \n",
       "Virgin                                        Yes   \n",
       "prostitution_legal                            Yes   \n",
       "pay_for_sex                                    No   \n",
       "friends                                         8   \n",
       "Social fear                                   Yes   \n",
       "Depressed                                     Yes   \n",
       "what_help_from_others               date coaching   \n",
       "attempt_suicide                                No   \n",
       "employment                              A student   \n",
       "job_title                                 student   \n",
       "edu_level                 Some college, no degree   \n",
       "improve_yourself_how   Joined a gym/go to the gym   \n",
       "\n",
       "                                                                       4  \n",
       "time                                                  5/17/2016 20:08:04  \n",
       "gender                                                              Male  \n",
       "sexuallity                                                      Straight  \n",
       "age                                                                   23  \n",
       "income                                                $30,000 to $39,999  \n",
       "race                                                  White non-Hispanic  \n",
       "bodyweight                                                    Overweight  \n",
       "Virgin                                                                No  \n",
       "prostitution_legal                                                    No  \n",
       "pay_for_sex                                               Yes and I have  \n",
       "friends                                                               10  \n",
       "Social fear                                                           No  \n",
       "Depressed                                                            Yes  \n",
       "what_help_from_others                                  I don't want help  \n",
       "attempt_suicide                                                       No  \n",
       "employment                                            Employed for wages  \n",
       "job_title                                                 Factory worker  \n",
       "edu_level              High school graduate, diploma or the equivalen...  \n",
       "improve_yourself_how                                                None  "
      ]
     },
     "execution_count": 5,
     "metadata": {},
     "output_type": "execute_result"
    }
   ],
   "source": [
    "data.head(5).transpose()"
   ]
  },
  {
   "cell_type": "markdown",
   "metadata": {},
   "source": [
    "Most of the variable names are self-explanatory. Some that we think may need some clarification:\n",
    "* `pay_for_sex`: Would you pay for sex?\n",
    "* `friends`: How many friends do you have in real life?\n",
    "* `social_fear`: Do you have social anxiety/phobia?\n",
    "\n",
    "The most central variable for our analysis is the following:\n",
    "* `attempt_suicide`: Have you attempted suicide?"
   ]
  },
  {
   "cell_type": "code",
   "execution_count": 6,
   "metadata": {},
   "outputs": [
    {
     "data": {
      "text/plain": [
       "469"
      ]
     },
     "execution_count": 6,
     "metadata": {},
     "output_type": "execute_result"
    }
   ],
   "source": [
    "data.shape[0]"
   ]
  },
  {
   "cell_type": "markdown",
   "metadata": {},
   "source": [
    "There are 469 records in the dataset."
   ]
  },
  {
   "cell_type": "code",
   "execution_count": 7,
   "metadata": {},
   "outputs": [
    {
     "data": {
      "text/plain": [
       "No     384\n",
       "Yes     85\n",
       "Name: attempt_suicide, dtype: int64"
      ]
     },
     "execution_count": 7,
     "metadata": {},
     "output_type": "execute_result"
    }
   ],
   "source": [
    "data['attempt_suicide'].value_counts()"
   ]
  },
  {
   "cell_type": "markdown",
   "metadata": {},
   "source": [
    "85 out of the 469 claimed to have attempted suicide."
   ]
  },
  {
   "cell_type": "code",
   "execution_count": 8,
   "metadata": {},
   "outputs": [
    {
     "data": {
      "text/plain": [
       "0.22135416666666666"
      ]
     },
     "execution_count": 8,
     "metadata": {},
     "output_type": "execute_result"
    }
   ],
   "source": [
    "85/384"
   ]
  },
  {
   "cell_type": "markdown",
   "metadata": {},
   "source": [
    "That amounts to a 22.14%. "
   ]
  },
  {
   "cell_type": "markdown",
   "metadata": {},
   "source": [
    "#### How to visually arrange the data"
   ]
  },
  {
   "cell_type": "code",
   "execution_count": 9,
   "metadata": {},
   "outputs": [
    {
     "data": {
      "text/plain": [
       "17.0"
      ]
     },
     "execution_count": 9,
     "metadata": {},
     "output_type": "execute_result"
    }
   ],
   "source": [
    "# Dots per column\n",
    "85/5"
   ]
  },
  {
   "cell_type": "code",
   "execution_count": 10,
   "metadata": {},
   "outputs": [
    {
     "data": {
      "text/plain": [
       "22.647058823529413"
      ]
     },
     "execution_count": 10,
     "metadata": {},
     "output_type": "execute_result"
    }
   ],
   "source": [
    "# Non-suicide number of columns\n",
    "385/17"
   ]
  },
  {
   "cell_type": "code",
   "execution_count": 11,
   "metadata": {},
   "outputs": [
    {
     "data": {
      "text/plain": [
       "374"
      ]
     },
     "execution_count": 11,
     "metadata": {},
     "output_type": "execute_result"
    }
   ],
   "source": [
    "17*22"
   ]
  },
  {
   "cell_type": "code",
   "execution_count": 12,
   "metadata": {},
   "outputs": [
    {
     "data": {
      "text/plain": [
       "11"
      ]
     },
     "execution_count": 12,
     "metadata": {},
     "output_type": "execute_result"
    }
   ],
   "source": [
    "385 - 374"
   ]
  },
  {
   "cell_type": "markdown",
   "metadata": {},
   "source": [
    "**Decision**: 5 columns of 17 individuals each (those who attempted suicide) and 23 columns for those who didn't attempt suicide (22 columns with 17 entries and 1 column of 11)"
   ]
  },
  {
   "cell_type": "markdown",
   "metadata": {},
   "source": [
    "### Value counts of each of the columns"
   ]
  },
  {
   "cell_type": "code",
   "execution_count": 13,
   "metadata": {},
   "outputs": [
    {
     "name": "stdout",
     "output_type": "stream",
     "text": [
      "TIME\n",
      "--------------\n",
      "NOT SUITABLE (468 categories)\n",
      "--------------\n",
      " \n",
      " \n",
      "GENDER\n",
      "--------------\n",
      "Male                  393\n",
      "Female                 73\n",
      "Transgender male        2\n",
      "Transgender female      1\n",
      "Name: gender, dtype: int64\n",
      "--------------\n",
      " \n",
      " \n",
      "SEXUALLITY\n",
      "--------------\n",
      "Straight       415\n",
      "Bisexual        46\n",
      "Gay/Lesbian      8\n",
      "Name: sexuallity, dtype: int64\n",
      "--------------\n",
      " \n",
      " \n",
      "AGE\n",
      "--------------\n",
      "NOT SUITABLE (35 categories)\n",
      "--------------\n",
      " \n",
      " \n",
      "INCOME\n",
      "--------------\n",
      "$0                      160\n",
      "$1 to $10,000           100\n",
      "$10,000 to $19,999       58\n",
      "$20,000 to $29,999       44\n",
      "$30,000 to $39,999       39\n",
      "$50,000 to $74,999       28\n",
      "$40,000 to $49,999       16\n",
      "$75,000 to $99,999        9\n",
      "$125,000 to $149,999      6\n",
      "$100,000 to $124,999      3\n",
      "$150,000 to $174,999      2\n",
      "$174,999 to $199,999      2\n",
      "$200,000 or more          2\n",
      "Name: income, dtype: int64\n",
      "--------------\n",
      " \n",
      " \n",
      "RACE\n",
      "--------------\n",
      "White non-Hispanic                                                                 336\n",
      "Asian                                                                               54\n",
      "Hispanic (of any race)                                                              32\n",
      "Black                                                                               22\n",
      "Mixed                                                                                3\n",
      "Indian                                                                               2\n",
      "Middle Eastern                                                                       2\n",
      "white and asian                                                                      1\n",
      "mixed                                                                                1\n",
      "White and Native American                                                            1\n",
      "North African                                                                        1\n",
      "European                                                                             1\n",
      "Mixed race                                                                           1\n",
      "First two answers. Gender is androgyne, not male; sexuality is asexual, not bi.      1\n",
      "caucasian                                                                            1\n",
      "helicopterkin                                                                        1\n",
      "Pakistani                                                                            1\n",
      "indian                                                                               1\n",
      "Multi                                                                                1\n",
      "Native american                                                                      1\n",
      "Half Asian half white                                                                1\n",
      "Native American mix                                                                  1\n",
      "Turkish                                                                              1\n",
      "half Arab                                                                            1\n",
      "Mixed white/asian                                                                    1\n",
      "Name: race, dtype: int64\n",
      "--------------\n",
      " \n",
      " \n",
      "BODYWEIGHT\n",
      "--------------\n",
      "Normal weight    269\n",
      "Overweight       113\n",
      "Underweight       62\n",
      "Obese             25\n",
      "Name: bodyweight, dtype: int64\n",
      "--------------\n",
      " \n",
      " \n",
      "VIRGIN\n",
      "--------------\n",
      "Yes    352\n",
      "No     117\n",
      "Name: Virgin, dtype: int64\n",
      "--------------\n",
      " \n",
      " \n",
      "PROSTITUTION_LEGAL\n",
      "--------------\n",
      "No     361\n",
      "Yes    108\n",
      "Name: prostitution_legal, dtype: int64\n",
      "--------------\n",
      " \n",
      " \n",
      "PAY_FOR_SEX\n",
      "--------------\n",
      "No                   318\n",
      "Yes but I haven't    129\n",
      "Yes and I have        22\n",
      "Name: pay_for_sex, dtype: int64\n",
      "--------------\n",
      " \n",
      " \n",
      "FRIENDS\n",
      "--------------\n",
      "0.0      109\n",
      "1.0       54\n",
      "5.0       45\n",
      "3.0       44\n",
      "2.0       42\n",
      "10.0      34\n",
      "4.0       27\n",
      "6.0       26\n",
      "20.0      16\n",
      "15.0      12\n",
      "7.0       10\n",
      "8.0       10\n",
      "12.0       8\n",
      "30.0       6\n",
      "16.0       3\n",
      "40.0       3\n",
      "13.0       3\n",
      "9.0        2\n",
      "100.0      2\n",
      "17.0       2\n",
      "25.0       2\n",
      "600.0      1\n",
      "400.0      1\n",
      "11.0       1\n",
      "28.0       1\n",
      "60.0       1\n",
      "80.0       1\n",
      "0.5        1\n",
      "18.0       1\n",
      "0.2        1\n",
      "Name: friends, dtype: int64\n",
      "--------------\n",
      " \n",
      " \n",
      "SOCIAL FEAR\n",
      "--------------\n",
      "Yes    308\n",
      "No     161\n",
      "Name: Social fear, dtype: int64\n",
      "--------------\n",
      " \n",
      " \n",
      "DEPRESSED\n",
      "--------------\n",
      "Yes    312\n",
      "No     157\n",
      "Name: Depressed, dtype: int64\n",
      "--------------\n",
      " \n",
      " \n",
      "WHAT_HELP_FROM_OTHERS\n",
      "--------------\n",
      "NOT SUITABLE (51 categories)\n",
      "--------------\n",
      " \n",
      " \n",
      "ATTEMPT_SUICIDE\n",
      "--------------\n",
      "No     384\n",
      "Yes     85\n",
      "Name: attempt_suicide, dtype: int64\n",
      "--------------\n",
      " \n",
      " \n",
      "EMPLOYMENT\n",
      "--------------\n",
      "A student                                         174\n",
      "Employed for wages                                171\n",
      "Out of work but not currently looking for work     40\n",
      "Out of work and looking for work                   38\n",
      "Self-employed                                      22\n",
      "Unable to work                                     13\n",
      "Military                                            5\n",
      "Retired                                             3\n",
      "A homemaker                                         3\n",
      "Name: employment, dtype: int64\n",
      "--------------\n",
      " \n",
      " \n",
      "JOB_TITLE\n",
      "--------------\n",
      "NOT SUITABLE (275 categories)\n",
      "--------------\n",
      " \n",
      " \n",
      "EDU_LEVEL\n",
      "--------------\n",
      "Some college, no degree                                               137\n",
      "Bachelor’s degree                                                     120\n",
      "High school graduate, diploma or the equivalent (for example: GED)     93\n",
      "Some high school, no diploma                                           50\n",
      "Master’s degree                                                        28\n",
      "Associate degree                                                       18\n",
      "Trade/technical/vocational training                                    12\n",
      "Professional degree                                                     6\n",
      "Doctorate degree                                                        5\n",
      "Name: edu_level, dtype: int64\n",
      "--------------\n",
      " \n",
      " \n",
      "IMPROVE_YOURSELF_HOW\n",
      "--------------\n",
      "NOT SUITABLE (62 categories)\n",
      "--------------\n",
      " \n",
      " \n"
     ]
    }
   ],
   "source": [
    "for col in data.columns.tolist():\n",
    "    print(col.upper())\n",
    "    print('--------------')\n",
    "    if data[col].value_counts().shape[0] > 30:\n",
    "        print(f'NOT SUITABLE ({data[col].value_counts().shape[0]} categories)')\n",
    "    else:\n",
    "        print(data[col].value_counts())\n",
    "    print('--------------')\n",
    "    print(\" \")\n",
    "    print(\" \")"
   ]
  },
  {
   "cell_type": "markdown",
   "metadata": {},
   "source": [
    "#### Some ideas for feature engineering"
   ]
  },
  {
   "cell_type": "markdown",
   "metadata": {},
   "source": [
    "We need to feature engineer some variables for easier filtering:\n",
    "* Age: several thresholds (younger/older than ...)\n",
    "* Race: White + caucasian vs other\n",
    "* Bodyweight: obese or obese + overweight vs other\n",
    "* Friends: Explore good threshold to find interesting correlation (less than x friends/no friends at all)\n",
    "* Employment: Unemployed vs other...\n",
    "* Education level: College vs less? --> In college people tend to have sex and broaden their social circles"
   ]
  },
  {
   "cell_type": "markdown",
   "metadata": {},
   "source": [
    "### Build y, x coordinates"
   ]
  },
  {
   "cell_type": "markdown",
   "metadata": {},
   "source": [
    "We will place each of the data points in the x,y plane so that we can produce the desired visualization"
   ]
  },
  {
   "cell_type": "code",
   "execution_count": 14,
   "metadata": {
    "collapsed": true
   },
   "outputs": [],
   "source": [
    "y_coord = []\n",
    "x_coord = []\n",
    "for i in range(data.shape[0]):\n",
    "    y_coord.append(i%17 + 1)\n",
    "    x_coord.append(int(i/17) + 1)"
   ]
  },
  {
   "cell_type": "markdown",
   "metadata": {},
   "source": [
    "#### Move those who attempted suicide to the top of the dataframe"
   ]
  },
  {
   "cell_type": "code",
   "execution_count": 15,
   "metadata": {
    "collapsed": true
   },
   "outputs": [],
   "source": [
    "# Sort by attempt_suicide (Yes first)\n",
    "data2 = data.sort_values('attempt_suicide', ascending=False)"
   ]
  },
  {
   "cell_type": "code",
   "execution_count": 16,
   "metadata": {
    "collapsed": true
   },
   "outputs": [],
   "source": [
    "# Add coordinates to data\n",
    "data2['x'] = x_coord\n",
    "data2['y'] = y_coord"
   ]
  },
  {
   "cell_type": "code",
   "execution_count": 17,
   "metadata": {
    "collapsed": true
   },
   "outputs": [],
   "source": [
    "# Definie function to visualize colors\n",
    "def show_colors(colors):\n",
    "    \"\"\"\n",
    "    Draw a square for each color contained in the colors list\n",
    "    given in argument.\n",
    "    \"\"\"\n",
    "    with plt.rc_context(plt.rcParamsDefault):\n",
    "        fig = plt.figure(figsize=(6, 1), frameon=False)\n",
    "        ax = fig.add_subplot(111)\n",
    "        for x, color in enumerate(colors):\n",
    "            ax.add_patch(\n",
    "                mpl.patches.Rectangle(\n",
    "                    (x, 0), 1, 1, facecolor=color\n",
    "                )\n",
    "            )\n",
    "        ax.set_xlim((0, len(colors)))\n",
    "        ax.set_ylim((0, 1))\n",
    "        ax.set_xticks([])\n",
    "        ax.set_yticks([])\n",
    "        ax.set_aspect(\"equal\")\n",
    " \n",
    "    return fig"
   ]
  },
  {
   "cell_type": "markdown",
   "metadata": {},
   "source": [
    "These are the colors we will use:"
   ]
  },
  {
   "cell_type": "code",
   "execution_count": 18,
   "metadata": {},
   "outputs": [
    {
     "data": {
      "image/png": "[encoded data removed]",
      "text/plain": [
       "<Figure size 432x72 with 1 Axes>"
      ]
     },
     "execution_count": 18,
     "metadata": {},
     "output_type": "execute_result"
    },
    {
     "data": {
      "image/png": "[encoded data removed]",
      "text/plain": [
       "<Figure size 432x72 with 1 Axes>"
      ]
     },
     "metadata": {},
     "output_type": "display_data"
    }
   ],
   "source": [
    "show_colors(['#a50f15', '#fee5d9', '#0868ac', '#f0f9e8'])"
   ]
  },
  {
   "cell_type": "markdown",
   "metadata": {},
   "source": [
    "* Reds = Those who attempted suicide\n",
    "* Blues = Those who didn't\n",
    "\n",
    "Darker colors = Those who fulfill the filter. For example:\n",
    "* dark red = those who attempted suicide and are virgins\n",
    "* dark blue = those who didn't attempt suicide and are virgins)"
   ]
  },
  {
   "cell_type": "markdown",
   "metadata": {},
   "source": [
    "## Engineering variables"
   ]
  },
  {
   "cell_type": "code",
   "execution_count": 19,
   "metadata": {
    "collapsed": true
   },
   "outputs": [],
   "source": [
    "df = data2.copy()"
   ]
  },
  {
   "cell_type": "markdown",
   "metadata": {},
   "source": [
    "### White"
   ]
  },
  {
   "cell_type": "code",
   "execution_count": 20,
   "metadata": {
    "collapsed": true
   },
   "outputs": [],
   "source": [
    "df['White'] = 'No'\n",
    "df.loc[df['race'] == 'White non-Hispanic', 'White'] = 'Yes'"
   ]
  },
  {
   "cell_type": "markdown",
   "metadata": {},
   "source": [
    "### Non-white"
   ]
  },
  {
   "cell_type": "code",
   "execution_count": 21,
   "metadata": {
    "collapsed": true
   },
   "outputs": [],
   "source": [
    "df['Non-white'] = 'Yes'\n",
    "df.loc[df['White'] == 'Yes', 'Non-white'] = 'No'"
   ]
  },
  {
   "cell_type": "markdown",
   "metadata": {},
   "source": [
    "### Obese"
   ]
  },
  {
   "cell_type": "code",
   "execution_count": 22,
   "metadata": {
    "collapsed": true
   },
   "outputs": [],
   "source": [
    "df['Obese'] = 'No'\n",
    "df.loc[df['bodyweight'] == 'Obese', 'Obese'] = 'Yes'"
   ]
  },
  {
   "cell_type": "markdown",
   "metadata": {},
   "source": [
    "### Overweight (includes obese)"
   ]
  },
  {
   "cell_type": "code",
   "execution_count": 23,
   "metadata": {
    "collapsed": true
   },
   "outputs": [],
   "source": [
    "df['Overweight'] = 'No'\n",
    "df.loc[df['bodyweight'] == 'Obese', 'Overweight'] = 'Yes'\n",
    "df.loc[df['bodyweight'] == 'Overweight', 'Overweight'] = 'Yes'"
   ]
  },
  {
   "cell_type": "markdown",
   "metadata": {},
   "source": [
    "### No friends"
   ]
  },
  {
   "cell_type": "code",
   "execution_count": 24,
   "metadata": {
    "collapsed": true
   },
   "outputs": [],
   "source": [
    "df['Has no friends'] = 'No'\n",
    "df.loc[df['friends'] == 0, 'Has no friends'] = 'Yes'"
   ]
  },
  {
   "cell_type": "markdown",
   "metadata": {},
   "source": [
    "### Not working"
   ]
  },
  {
   "cell_type": "code",
   "execution_count": 25,
   "metadata": {
    "collapsed": true
   },
   "outputs": [],
   "source": [
    "df['Not working'] = 'No'\n",
    "df.loc[df['employment'] == 'Out of work but not currently looking for work', 'Not working'] = 'Yes'\n",
    "df.loc[df['employment'] == 'Out of work and looking for work', 'Not working'] = 'Yes'\n",
    "df.loc[df['employment'] == 'Unable to work', 'Not working'] = 'Yes'\n",
    "df.loc[df['employment'] == 'Retired', 'Not working'] = 'Yes'"
   ]
  },
  {
   "cell_type": "markdown",
   "metadata": {},
   "source": [
    "### Working"
   ]
  },
  {
   "cell_type": "code",
   "execution_count": 26,
   "metadata": {
    "collapsed": true
   },
   "outputs": [],
   "source": [
    "df['Working'] = 'Yes'\n",
    "df.loc[df['Not working'] == 'Yes', 'Working'] = 'No'"
   ]
  },
  {
   "cell_type": "markdown",
   "metadata": {},
   "source": [
    "### Complete college"
   ]
  },
  {
   "cell_type": "code",
   "execution_count": 27,
   "metadata": {
    "collapsed": true
   },
   "outputs": [],
   "source": [
    "df['Complete college'] = 'No'\n",
    "df.loc[df['edu_level'] == 'Bachelor’s degree', 'Complete college'] = 'Yes'\n",
    "df.loc[df['edu_level'] == 'Master’s degree', 'Complete college'] = 'Yes'\n",
    "df.loc[df['edu_level'] == 'Doctorate degree', 'Complete college'] = 'Yes'"
   ]
  },
  {
   "cell_type": "markdown",
   "metadata": {},
   "source": [
    "### No college or less education\n",
    "Note: In future should change this to college or more education. It will look better on the visualization (sparser)"
   ]
  },
  {
   "cell_type": "code",
   "execution_count": 28,
   "metadata": {
    "collapsed": true
   },
   "outputs": [],
   "source": [
    "df['Not complete college'] = 'No'\n",
    "df.loc[df['edu_level'] == 'Some college, no degree', 'Not complete college'] = 'Yes'\n",
    "df.loc[df['edu_level'] == 'High school graduate, diploma or the equivalent (for example: GED)', 'Not complete college'] = 'Yes'\n",
    "df.loc[df['edu_level'] == 'Some high school, no diploma', 'Not complete college'] = 'Yes'\n",
    "df.loc[df['edu_level'] == 'Associate degree', 'Not complete college'] = 'Yes'\n",
    "df.loc[df['edu_level'] == 'Trade/technical/vocational training', 'Not complete college'] = 'Yes'\n",
    "df.loc[df['edu_level'] == 'Professional degree', 'Not complete college'] = 'Yes'"
   ]
  },
  {
   "cell_type": "markdown",
   "metadata": {},
   "source": [
    "### Females"
   ]
  },
  {
   "cell_type": "code",
   "execution_count": 29,
   "metadata": {
    "collapsed": true
   },
   "outputs": [],
   "source": [
    "df['Female'] = 'No'\n",
    "df.loc[df['gender'] == 'Female', 'Female'] = 'Yes'\n",
    "df.loc[df['gender'] == 'Transgender female', 'Female'] = 'Yes'"
   ]
  },
  {
   "cell_type": "markdown",
   "metadata": {},
   "source": [
    "### Non-straight"
   ]
  },
  {
   "cell_type": "code",
   "execution_count": 30,
   "metadata": {
    "collapsed": true
   },
   "outputs": [],
   "source": [
    "df['Non straight'] = 'No'\n",
    "df.loc[df['sexuallity'] == 'Bisexual', 'Non straight'] = 'Yes'\n",
    "df.loc[df['sexuallity'] == 'Gay/Lesbian', 'Non straight'] = 'Yes'"
   ]
  },
  {
   "cell_type": "markdown",
   "metadata": {},
   "source": [
    "### Under 21"
   ]
  },
  {
   "cell_type": "code",
   "execution_count": 31,
   "metadata": {
    "collapsed": true
   },
   "outputs": [],
   "source": [
    "df['Under 21'] = 'No'\n",
    "df.loc[df['age'] < 21, 'Under 21'] = 'Yes'"
   ]
  },
  {
   "cell_type": "markdown",
   "metadata": {},
   "source": [
    "### Under 25 (Early twenties or less)"
   ]
  },
  {
   "cell_type": "code",
   "execution_count": 32,
   "metadata": {
    "collapsed": true
   },
   "outputs": [],
   "source": [
    "df['Under 25'] = 'No'\n",
    "df.loc[df['age'] < 25, 'Under 25'] = 'Yes'"
   ]
  },
  {
   "cell_type": "markdown",
   "metadata": {},
   "source": [
    "### Those who have paid for sex"
   ]
  },
  {
   "cell_type": "code",
   "execution_count": 33,
   "metadata": {
    "collapsed": true
   },
   "outputs": [],
   "source": [
    "df['Paid for sex'] = 'No'\n",
    "df.loc[df['pay_for_sex'] == 'Yes and I have', 'Paid for sex'] = 'Yes'"
   ]
  },
  {
   "cell_type": "code",
   "execution_count": 34,
   "metadata": {},
   "outputs": [
    {
     "data": {
      "text/plain": [
       "<matplotlib.axes._subplots.AxesSubplot at 0x104f70f28>"
      ]
     },
     "execution_count": 34,
     "metadata": {},
     "output_type": "execute_result"
    },
    {
     "data": {
      "image/png": "[encoded data removed]",
      "text/plain": [
       "<Figure size 432x288 with 1 Axes>"
      ]
     },
     "metadata": {},
     "output_type": "display_data"
    }
   ],
   "source": [
    "df['income'].value_counts().plot(kind='bar')"
   ]
  },
  {
   "cell_type": "markdown",
   "metadata": {},
   "source": [
    "### No income"
   ]
  },
  {
   "cell_type": "code",
   "execution_count": 35,
   "metadata": {
    "collapsed": true
   },
   "outputs": [],
   "source": [
    "df['No income'] = 'No'\n",
    "df.loc[df['income'] == '$0', 'No income'] = 'Yes'"
   ]
  },
  {
   "cell_type": "markdown",
   "metadata": {},
   "source": [
    "### Less than $10,000"
   ]
  },
  {
   "cell_type": "code",
   "execution_count": 36,
   "metadata": {
    "collapsed": true
   },
   "outputs": [],
   "source": [
    "df['Income <$10,000'] = 'No'\n",
    "df.loc[df['income'] == '$0', 'Income <$10,000'] = 'Yes'\n",
    "df.loc[df['income'] == '$1 to $10,000', 'Income <$10,000'] = 'Yes'"
   ]
  },
  {
   "cell_type": "markdown",
   "metadata": {},
   "source": [
    "### Less than $50,000"
   ]
  },
  {
   "cell_type": "code",
   "execution_count": 37,
   "metadata": {
    "collapsed": true
   },
   "outputs": [],
   "source": [
    "df['Income <$50,000'] = 'No'\n",
    "df.loc[df['income'] == '$0', 'Income <$50,000'] = 'Yes'\n",
    "df.loc[df['income'] == '$1 to $10,000', 'Income <$50,000'] = 'Yes'\n",
    "df.loc[df['income'] == '$10,000 to $19,999', 'Income <$50,000'] = 'Yes'\n",
    "df.loc[df['income'] == '$20,000 to $29,999', 'Income <$50,000'] = 'Yes'\n",
    "df.loc[df['income'] == '$30,000 to $39,999', 'Income <$50,000'] = 'Yes'\n",
    "df.loc[df['income'] == '$40,000 to $49,999', 'Income <$50,000'] = 'Yes'"
   ]
  },
  {
   "cell_type": "markdown",
   "metadata": {},
   "source": [
    "### Income in K"
   ]
  },
  {
   "cell_type": "code",
   "execution_count": 38,
   "metadata": {
    "collapsed": true
   },
   "outputs": [],
   "source": [
    "df['IncomeK'] = '$0'\n",
    "df.loc[df['income'] == '$1 to $10,000', 'IncomeK'] = '$1-$10k'\n",
    "df.loc[df['income'] == '$10,000 to $19,999', 'IncomeK'] = '$10k-$20k'\n",
    "df.loc[df['income'] == '$20,000 to $29,999', 'IncomeK'] = '$20k-$30k'\n",
    "df.loc[df['income'] == '$30,000 to $39,999', 'IncomeK'] = '$30k-$40k'\n",
    "df.loc[df['income'] == '$40,000 to $49,999', 'IncomeK'] = '$40k-$50k'\n",
    "df.loc[df['income'] == '$50,000 to $74,999', 'IncomeK'] = '$50k-$75k'\n",
    "df.loc[df['income'] == '$75,000 to $99,999', 'IncomeK'] = '$75k-$100k'\n",
    "df.loc[df['income'] == '$100,000 to $124,999', 'IncomeK'] = '$100k-$125k'\n",
    "df.loc[df['income'] == '$125,000 to $149,999', 'IncomeK'] = '$125k-$150k'\n",
    "df.loc[df['income'] == '$150,000 to $174,999', 'IncomeK'] = '$150k-$175k'\n",
    "df.loc[df['income'] == '$174,999 to $199,999', 'IncomeK'] = '$175k-$200k'\n",
    "df.loc[df['income'] == '$200,000 or more', 'IncomeK'] = '$200k or more'"
   ]
  },
  {
   "cell_type": "markdown",
   "metadata": {},
   "source": [
    "### No filter"
   ]
  },
  {
   "cell_type": "code",
   "execution_count": 39,
   "metadata": {
    "collapsed": true
   },
   "outputs": [],
   "source": [
    "df['No filter'] = 'No'"
   ]
  },
  {
   "cell_type": "markdown",
   "metadata": {},
   "source": [
    "## Final data frame"
   ]
  },
  {
   "cell_type": "code",
   "execution_count": 40,
   "metadata": {
    "collapsed": true
   },
   "outputs": [],
   "source": [
    "filters = ['No filter', 'Non straight', 'Female', 'Not working','Has no friends',\n",
    "           'Complete college', 'Overweight', 'Social fear', 'Depressed','No income',\n",
    "           'Income <$10,000', 'Income <$50,000', 'Non-white', 'Obese', 'Under 21', 'Under 25',\n",
    "           'Paid for sex', 'Virgin']"
   ]
  },
  {
   "cell_type": "code",
   "execution_count": 41,
   "metadata": {
    "collapsed": true
   },
   "outputs": [],
   "source": [
    "df_final = df.copy()"
   ]
  },
  {
   "cell_type": "markdown",
   "metadata": {
    "collapsed": true
   },
   "source": [
    "## Building the vizualization"
   ]
  },
  {
   "cell_type": "code",
   "execution_count": 42,
   "metadata": {
    "collapsed": true
   },
   "outputs": [],
   "source": [
    "def highlight_dots(var_name, d_f=df_final, suic='attempt_suicide'):\n",
    "    \"\"\"\n",
    "    var_name: string, the name of a variable in the dataframe (takes either 'Yes' or 'No' values)\n",
    "    d_f: pandas dataframe\n",
    "    suic: string, name of the variable in d_f that refers to suicide attempt\n",
    "    \n",
    "    Returns a figure object: 469 dots in the x,y plane, each representing an individual who took the survey\n",
    "    \"\"\"\n",
    "    df = d_f.copy()\n",
    "    \n",
    "    # output to static HTML file\n",
    "    output_file(f\"{var_name}.html\")\n",
    "\n",
    "    # create a new plot\n",
    "    p = figure(\n",
    "        tools=\"hover,save\",\n",
    "        title=var_name,\n",
    "        plot_width=900, plot_height=200)\n",
    "    \n",
    "    # create new series in dataframe\n",
    "    df['satisfies'] = df[suic] + df[var_name]\n",
    "    # List colors and categories in 'satisfies'\n",
    "    colors = ['#a50f15', '#fee5d9', '#0868ac', '#f0f9e8']\n",
    "    cats = ['YesYes', 'YesNo', 'NoYes', 'NoNo']\n",
    "    \n",
    "    for i in range(len(cats)):\n",
    "        query_df = df.query(f'satisfies == \"{cats[i]}\"')\n",
    "        p.scatter('x', 'y', line_color='black', fill_color=colors[i],\n",
    "                  size=10, source=query_df)\n",
    "    p.xgrid.visible = False\n",
    "    p.ygrid.visible = False\n",
    "    p.axis.visible = False\n",
    "    p.outline_line_color = None\n",
    "    hover = p.select(dict(type=HoverTool))\n",
    "    hover.tooltips = [\n",
    "        ('Attempted suicide', '@{attempt_suicide}'),\n",
    "        ('Gender', '@{gender}'),\n",
    "        ('Sexuallity', '@{sexuallity}'),\n",
    "        ('Age', '@{age}'),\n",
    "        ('Race', '@{race}'),\n",
    "        ('Bodyweight', '@{bodyweight}'),\n",
    "        ('No. of friends', '@{friends}'),\n",
    "        ('Social fear', '@{Social fear}'),\n",
    "        ('Depressed', '@{Depressed}'),\n",
    "        ('Income', '@{IncomeK}'),\n",
    "        ('Working', '@{Working}'),\n",
    "        ('Completed college', '@{Complete college}'),\n",
    "        ('Paid for sex', '@{Paid for sex}'),\n",
    "        ('Virgin', '@{Virgin}')\n",
    "    ]\n",
    "    #hover.attachment = 'below' # comment out if more space above\n",
    "    return p"
   ]
  },
  {
   "cell_type": "code",
   "execution_count": 43,
   "metadata": {
    "collapsed": true
   },
   "outputs": [],
   "source": [
    "def prop_bar(var_name, d_f=df_final, atp='Yes'):\n",
    "    \"\"\"\n",
    "    var_name: string, the name of a variable in the dataframe (takes either 'Yes' or 'No' values)\n",
    "    d_f: pandas dataframe\n",
    "    atp, string, 'Yes' or 'No' (suicide attempt)\n",
    "    \n",
    "    Returns a figure object: a horizontal bar that shows the proportions of those who satisfy the\n",
    "    filter (var_name) for those who commited suicide (atp='Yes) or those who didn't (atp='No')\n",
    "    \"\"\"\n",
    "    df = d_f.copy()\n",
    "    \n",
    "    opposite = {\n",
    "        'Non straight': 'Straight',\n",
    "         'Female': 'Other',\n",
    "         'Not working': 'Working',\n",
    "         'Has no friends': 'Has friend(s)',\n",
    "         'Complete college': 'Did not complete college',\n",
    "         'Overweight': 'Non-overweight',\n",
    "         'Social fear': 'No social fear',\n",
    "         'Depressed': 'Not depressed',\n",
    "         'No income': 'Some income',\n",
    "         'Income <$10,000': '>$10,000',\n",
    "         'Income <$50,000': '>$50,000',\n",
    "         'Non-white': 'White',\n",
    "         'Obese': 'Not obese',\n",
    "         'Under 21': '21+',\n",
    "         'Under 25': '25+',\n",
    "         'Paid for sex': 'Has not paid for sex',\n",
    "         'Virgin': 'Not a virgin'\n",
    "    }\n",
    "    \n",
    "    # output to static HTML file\n",
    "    output_file(f'prop_{var_name}_{atp}.html')\n",
    "\n",
    "    # create a new plot\n",
    "    p = figure(tools='hover,save',\n",
    "               # title='Property crimes by type in 2005',\n",
    "               # x_axis_label='Percentage',\n",
    "               plot_width=225, plot_height=25)\n",
    "    \n",
    "    colors = ['#a50f15', '#fee5d9', '#0868ac', '#f0f9e8']\n",
    "    if atp == 'Yes':\n",
    "        colors = colors[:2]\n",
    "    else:\n",
    "        colors = colors[2:]\n",
    "    hover = p.select(dict(type=HoverTool))\n",
    "    df = df.query(f'attempt_suicide == \"{atp}\"')\n",
    "    if var_name == 'No filter':\n",
    "        lim=1\n",
    "        p.hbar(1, left=0, right=1, height=lim, color=colors[1], line_color='black')\n",
    "        hover.tooltips = [\n",
    "            ('Attempted suicide', atp),\n",
    "            (var_name, str(round(100*lim, 2)) + '%')\n",
    "        ]\n",
    "    else:\n",
    "        lim = df[var_name].value_counts()['Yes'] / df.shape[0]\n",
    "        p.hbar(1, left=0, right=lim, height=1, color=colors[0], line_color='black')\n",
    "        p.hbar(1, left=lim, right=1, height=1, color=colors[1], line_color='black')\n",
    "        hover.tooltips = [\n",
    "            ('Attempted suicide', atp),\n",
    "            (var_name, str(round(100*lim, 2)) + '%'),\n",
    "            (opposite[var_name], str(round(100*(1-lim), 2)) + '%')\n",
    "        ]\n",
    "    p.xaxis[0].formatter = NumeralTickFormatter(format=\"0%\")\n",
    "    p.xgrid.visible = False\n",
    "    p.ygrid.visible = False\n",
    "    p.axis.visible = False\n",
    "    p.outline_line_color = None\n",
    "    p.toolbar.logo = None\n",
    "    p.toolbar_location = None\n",
    "    hover.attachment = 'right'\n",
    "    return p"
   ]
  },
  {
   "cell_type": "markdown",
   "metadata": {},
   "source": [
    "Create a list of plot figures (highlight_dots), one for each filter:"
   ]
  },
  {
   "cell_type": "code",
   "execution_count": 44,
   "metadata": {
    "collapsed": true
   },
   "outputs": [],
   "source": [
    "figures = []\n",
    "for f in filters:\n",
    "    figures.append(highlight_dots(f))"
   ]
  },
  {
   "cell_type": "markdown",
   "metadata": {},
   "source": [
    "Create a list of tuples; one tuple per filter.<br>\n",
    "Tuple: (prop_bar(filter_name , atp='Yes'), prop_bar(filter_name, apt='No'))"
   ]
  },
  {
   "cell_type": "code",
   "execution_count": 45,
   "metadata": {
    "collapsed": true
   },
   "outputs": [],
   "source": [
    "p_bars = []\n",
    "for f in filters:\n",
    "    p_bars.append((prop_bar(f), prop_bar(f, atp='No')))"
   ]
  },
  {
   "cell_type": "markdown",
   "metadata": {},
   "source": [
    "Create a list of Panels, one per filter, each containing its three associated plots (highlight_dots and two prop_bars).<br>\n",
    "Each panel will be shown in a different tab."
   ]
  },
  {
   "cell_type": "code",
   "execution_count": 46,
   "metadata": {
    "collapsed": true
   },
   "outputs": [],
   "source": [
    "mix_tabs = [Panel(child=column(figures[i], p_bars[i][0], p_bars[i][1]), title=filters[i]) for i in range(len(filters))]"
   ]
  },
  {
   "cell_type": "markdown",
   "metadata": {},
   "source": [
    "# Generate the visualization\n",
    "Running the following cell will generate the html for the visualization. This html file is included separately in this submission (`beta_viz2.html`)."
   ]
  },
  {
   "cell_type": "code",
   "execution_count": 47,
   "metadata": {},
   "outputs": [
    {
     "data": {
      "text/html": [
       "\n",
       "<div class=\"bk-root\">\n",
       "    <div class=\"bk-plotdiv\" id=\"8ce4a61e-fad4-4bce-8380-80b1543d9f46\"></div>\n",
       "</div>"
      ]
     },
     "metadata": {},
     "output_type": "display_data"
    },
    {
     "name": "stderr",
     "output_type": "stream",
     "text": [
      "IOPub data rate exceeded.\n",
      "The notebook server will temporarily stop sending output\n",
      "to the client in order to avoid crashing it.\n",
      "To change this limit, set the config variable\n",
      "`--NotebookApp.iopub_data_rate_limit`.\n"
     ]
    }
   ],
   "source": [
    "output_file(\"final_Viz2.html\")\n",
    "\n",
    "tabs = Tabs(tabs=mix_tabs)\n",
    "\n",
    "show(tabs)"
   ]
  }
 ],
 "metadata": {
  "kernelspec": {
   "display_name": "Python 3",
   "language": "python",
   "name": "python3"
  },
  "language_info": {
   "codemirror_mode": {
    "name": "ipython",
    "version": 3
   },
   "file_extension": ".py",
   "mimetype": "text/x-python",
   "name": "python",
   "nbconvert_exporter": "python",
   "pygments_lexer": "ipython3",
   "version": "3.6.2"
  }
 },
 "nbformat": 4,
 "nbformat_minor": 2
}
