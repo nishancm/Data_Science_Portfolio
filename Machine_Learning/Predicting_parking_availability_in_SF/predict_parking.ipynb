{
 "cells": [
  {
   "cell_type": "code",
   "execution_count": 30,
   "metadata": {
    "collapsed": true
   },
   "outputs": [],
   "source": [
    "import pandas as pd\n",
    "import numpy as np\n",
    "\n",
    "from datetime import datetime, timedelta, date\n",
    "import matplotlib.pyplot as plt\n",
    "from pandas.core.dtypes.common import is_string_dtype\n",
    "from sklearn.preprocessing import LabelEncoder\n",
    "from sklearn.model_selection import train_test_split\n",
    "\n",
    "from sklearn.ensemble import forest, RandomForestClassifier\n",
    "from sklearn.model_selection import GridSearchCV, RandomizedSearchCV,KFold, cross_val_score\n",
    "from sklearn.metrics import log_loss, confusion_matrix\n",
    "from sklearn.model_selection import KFold\n",
    "from sklearn.model_selection import GridSearchCV\n",
    "from sklearn.metrics import make_scorer\n",
    "from sklearn.feature_extraction.text import CountVectorizer\n",
    "\n",
    "import xgboost as xgb\n",
    "from pandas.tseries.holiday import USFederalHolidayCalendar as calendar\n",
    "from geopy import geocoders"
   ]
  },
  {
   "cell_type": "markdown",
   "metadata": {},
   "source": [
    "### Read train and test data"
   ]
  },
  {
   "cell_type": "code",
   "execution_count": 234,
   "metadata": {
    "collapsed": true
   },
   "outputs": [],
   "source": [
    "data = pd.read_csv(\"train-parking.csv\", parse_dates={\"datetime\" : [\"Date\", \"Time\"]})\n",
    "test = pd.read_csv(\"test-no-labels-with-id.csv\", parse_dates={\"datetime\" : [\"Date\", \"Time\"]})"
   ]
  },
  {
   "cell_type": "code",
   "execution_count": 10,
   "metadata": {},
   "outputs": [
    {
     "data": {
      "text/html": [
       "<div>\n",
       "<style>\n",
       "    .dataframe thead tr:only-child th {\n",
       "        text-align: right;\n",
       "    }\n",
       "\n",
       "    .dataframe thead th {\n",
       "        text-align: left;\n",
       "    }\n",
       "\n",
       "    .dataframe tbody tr th {\n",
       "        vertical-align: top;\n",
       "    }\n",
       "</style>\n",
       "<table border=\"1\" class=\"dataframe\">\n",
       "  <thead>\n",
       "    <tr style=\"text-align: right;\">\n",
       "      <th></th>\n",
       "      <th>datetime</th>\n",
       "      <th>Street</th>\n",
       "      <th>From</th>\n",
       "      <th>To</th>\n",
       "      <th>Real.Spots</th>\n",
       "      <th>Street.Length</th>\n",
       "      <th>any_spot</th>\n",
       "    </tr>\n",
       "  </thead>\n",
       "  <tbody>\n",
       "    <tr>\n",
       "      <th>0</th>\n",
       "      <td>2014-01-07 16:19:00</td>\n",
       "      <td>Mission Street</td>\n",
       "      <td>25th Street</td>\n",
       "      <td>26th Street</td>\n",
       "      <td>4</td>\n",
       "      <td>179.132970</td>\n",
       "      <td>1</td>\n",
       "    </tr>\n",
       "    <tr>\n",
       "      <th>1</th>\n",
       "      <td>2014-01-18 20:42:00</td>\n",
       "      <td>Polk Street</td>\n",
       "      <td>Ellis Street</td>\n",
       "      <td>Olive Street</td>\n",
       "      <td>0</td>\n",
       "      <td>52.740210</td>\n",
       "      <td>0</td>\n",
       "    </tr>\n",
       "    <tr>\n",
       "      <th>2</th>\n",
       "      <td>2014-01-18 20:39:00</td>\n",
       "      <td>Van Ness Avenue</td>\n",
       "      <td>Geary Boulevard</td>\n",
       "      <td>Myrtle Street</td>\n",
       "      <td>0</td>\n",
       "      <td>52.517840</td>\n",
       "      <td>0</td>\n",
       "    </tr>\n",
       "    <tr>\n",
       "      <th>3</th>\n",
       "      <td>2014-01-18 20:38:00</td>\n",
       "      <td>Van Ness Avenue</td>\n",
       "      <td>Bush Street</td>\n",
       "      <td>Fern Street</td>\n",
       "      <td>0</td>\n",
       "      <td>52.405315</td>\n",
       "      <td>0</td>\n",
       "    </tr>\n",
       "    <tr>\n",
       "      <th>4</th>\n",
       "      <td>2014-01-18 20:38:00</td>\n",
       "      <td>Van Ness Avenue</td>\n",
       "      <td>Daniel Burnham Court</td>\n",
       "      <td>Post Street</td>\n",
       "      <td>0</td>\n",
       "      <td>52.191193</td>\n",
       "      <td>0</td>\n",
       "    </tr>\n",
       "  </tbody>\n",
       "</table>\n",
       "</div>"
      ],
      "text/plain": [
       "             datetime           Street                  From             To  \\\n",
       "0 2014-01-07 16:19:00   Mission Street           25th Street    26th Street   \n",
       "1 2014-01-18 20:42:00      Polk Street          Ellis Street   Olive Street   \n",
       "2 2014-01-18 20:39:00  Van Ness Avenue       Geary Boulevard  Myrtle Street   \n",
       "3 2014-01-18 20:38:00  Van Ness Avenue           Bush Street    Fern Street   \n",
       "4 2014-01-18 20:38:00  Van Ness Avenue  Daniel Burnham Court    Post Street   \n",
       "\n",
       "   Real.Spots  Street.Length  any_spot  \n",
       "0           4     179.132970         1  \n",
       "1           0      52.740210         0  \n",
       "2           0      52.517840         0  \n",
       "3           0      52.405315         0  \n",
       "4           0      52.191193         0  "
      ]
     },
     "execution_count": 10,
     "metadata": {},
     "output_type": "execute_result"
    }
   ],
   "source": [
    "data.head()"
   ]
  },
  {
   "cell_type": "code",
   "execution_count": 9,
   "metadata": {},
   "outputs": [
    {
     "data": {
      "text/plain": [
       "Index(['datetime', 'Street', 'From', 'To', 'Real.Spots', 'Street.Length',\n",
       "       'any_spot'],\n",
       "      dtype='object')"
      ]
     },
     "execution_count": 9,
     "metadata": {},
     "output_type": "execute_result"
    }
   ],
   "source": [
    "data.columns"
   ]
  },
  {
   "cell_type": "code",
   "execution_count": 608,
   "metadata": {},
   "outputs": [
    {
     "data": {
      "text/plain": [
       "Index(['datetime', 'id', 'Street', 'From', 'To', 'Street.Length'], dtype='object')"
      ]
     },
     "execution_count": 608,
     "metadata": {},
     "output_type": "execute_result"
    }
   ],
   "source": [
    "test.columns"
   ]
  },
  {
   "cell_type": "code",
   "execution_count": 603,
   "metadata": {},
   "outputs": [
    {
     "data": {
      "text/plain": [
       "((1100, 7), (726, 6))"
      ]
     },
     "execution_count": 603,
     "metadata": {},
     "output_type": "execute_result"
    }
   ],
   "source": [
    "data.shape, test.shape"
   ]
  },
  {
   "cell_type": "code",
   "execution_count": 616,
   "metadata": {},
   "outputs": [
    {
     "data": {
      "text/plain": [
       "(Timestamp('2014-01-07 16:19:00'), Timestamp('2014-03-28 22:03:00'))"
      ]
     },
     "execution_count": 616,
     "metadata": {},
     "output_type": "execute_result"
    }
   ],
   "source": [
    "data.datetime.min(), data.datetime.max()"
   ]
  },
  {
   "cell_type": "code",
   "execution_count": 617,
   "metadata": {},
   "outputs": [
    {
     "data": {
      "text/plain": [
       "(Timestamp('2014-03-28 16:25:00'), Timestamp('2016-11-04 21:56:00'))"
      ]
     },
     "execution_count": 617,
     "metadata": {},
     "output_type": "execute_result"
    }
   ],
   "source": [
    "test.datetime.min(), test.datetime.max() # there is one day of overlapping between data and test"
   ]
  },
  {
   "cell_type": "markdown",
   "metadata": {},
   "source": [
    "### Read weather data"
   ]
  },
  {
   "cell_type": "code",
   "execution_count": 507,
   "metadata": {
    "collapsed": true
   },
   "outputs": [],
   "source": [
    "# http://w2.weather.gov/climate/xmacis.php?wfo=mtr\n",
    "weather = pd.read_csv(\"weather.csv\", parse_dates={\"date\" : ['Date']})\n",
    "weather = weather.drop(['HDD', 'CDD'], axis=1)"
   ]
  },
  {
   "cell_type": "code",
   "execution_count": 1534,
   "metadata": {},
   "outputs": [
    {
     "data": {
      "image/png": "[encoded data removed]",
      "text/plain": [
       "<matplotlib.figure.Figure at 0x116c0f8d0>"
      ]
     },
     "metadata": {},
     "output_type": "display_data"
    }
   ],
   "source": [
    "plt.hist(weather.Precipitation.values, range=(0, 1.4)) #, bins = np.arange(0, 1.4, 0.1)\n",
    "plt.show()"
   ]
  },
  {
   "cell_type": "code",
   "execution_count": 400,
   "metadata": {},
   "outputs": [
    {
     "data": {
      "text/html": [
       "<div>\n",
       "<style>\n",
       "    .dataframe thead tr:only-child th {\n",
       "        text-align: right;\n",
       "    }\n",
       "\n",
       "    .dataframe thead th {\n",
       "        text-align: left;\n",
       "    }\n",
       "\n",
       "    .dataframe tbody tr th {\n",
       "        vertical-align: top;\n",
       "    }\n",
       "</style>\n",
       "<table border=\"1\" class=\"dataframe\">\n",
       "  <thead>\n",
       "    <tr style=\"text-align: right;\">\n",
       "      <th></th>\n",
       "      <th>date</th>\n",
       "      <th>Temperature_Max</th>\n",
       "      <th>Temperature_Min</th>\n",
       "      <th>Temperature_Avg</th>\n",
       "      <th>Temperature_Departure</th>\n",
       "      <th>Precipitation</th>\n",
       "    </tr>\n",
       "  </thead>\n",
       "  <tbody>\n",
       "    <tr>\n",
       "      <th>0</th>\n",
       "      <td>2014-01-01</td>\n",
       "      <td>63</td>\n",
       "      <td>44</td>\n",
       "      <td>53.5</td>\n",
       "      <td>2.9</td>\n",
       "      <td>0.0</td>\n",
       "    </tr>\n",
       "    <tr>\n",
       "      <th>1</th>\n",
       "      <td>2014-01-02</td>\n",
       "      <td>63</td>\n",
       "      <td>48</td>\n",
       "      <td>55.5</td>\n",
       "      <td>4.9</td>\n",
       "      <td>0.0</td>\n",
       "    </tr>\n",
       "    <tr>\n",
       "      <th>2</th>\n",
       "      <td>2014-01-03</td>\n",
       "      <td>64</td>\n",
       "      <td>49</td>\n",
       "      <td>56.5</td>\n",
       "      <td>5.9</td>\n",
       "      <td>0.0</td>\n",
       "    </tr>\n",
       "    <tr>\n",
       "      <th>3</th>\n",
       "      <td>2014-01-04</td>\n",
       "      <td>66</td>\n",
       "      <td>46</td>\n",
       "      <td>56.0</td>\n",
       "      <td>5.4</td>\n",
       "      <td>0.0</td>\n",
       "    </tr>\n",
       "    <tr>\n",
       "      <th>4</th>\n",
       "      <td>2014-01-05</td>\n",
       "      <td>66</td>\n",
       "      <td>48</td>\n",
       "      <td>57.0</td>\n",
       "      <td>6.4</td>\n",
       "      <td>0.0</td>\n",
       "    </tr>\n",
       "  </tbody>\n",
       "</table>\n",
       "</div>"
      ],
      "text/plain": [
       "        date  Temperature_Max  Temperature_Min  Temperature_Avg  \\\n",
       "0 2014-01-01               63               44             53.5   \n",
       "1 2014-01-02               63               48             55.5   \n",
       "2 2014-01-03               64               49             56.5   \n",
       "3 2014-01-04               66               46             56.0   \n",
       "4 2014-01-05               66               48             57.0   \n",
       "\n",
       "   Temperature_Departure  Precipitation  \n",
       "0                    2.9            0.0  \n",
       "1                    4.9            0.0  \n",
       "2                    5.9            0.0  \n",
       "3                    5.4            0.0  \n",
       "4                    6.4            0.0  "
      ]
     },
     "execution_count": 400,
     "metadata": {},
     "output_type": "execute_result"
    }
   ],
   "source": [
    "weather.head()"
   ]
  },
  {
   "cell_type": "code",
   "execution_count": null,
   "metadata": {
    "collapsed": true
   },
   "outputs": [],
   "source": []
  },
  {
   "cell_type": "markdown",
   "metadata": {},
   "source": [
    "### Read cleaned Parking record"
   ]
  },
  {
   "cell_type": "code",
   "execution_count": 435,
   "metadata": {},
   "outputs": [
    {
     "data": {
      "text/html": [
       "<div>\n",
       "<style>\n",
       "    .dataframe thead tr:only-child th {\n",
       "        text-align: right;\n",
       "    }\n",
       "\n",
       "    .dataframe thead th {\n",
       "        text-align: left;\n",
       "    }\n",
       "\n",
       "    .dataframe tbody tr th {\n",
       "        vertical-align: top;\n",
       "    }\n",
       "</style>\n",
       "<table border=\"1\" class=\"dataframe\">\n",
       "  <thead>\n",
       "    <tr style=\"text-align: right;\">\n",
       "      <th></th>\n",
       "      <th>index</th>\n",
       "      <th>lat</th>\n",
       "      <th>lon</th>\n",
       "      <th>datetime</th>\n",
       "      <th>street_block</th>\n",
       "      <th>convtd</th>\n",
       "      <th>hour</th>\n",
       "      <th>minute</th>\n",
       "      <th>day</th>\n",
       "      <th>month</th>\n",
       "      <th>year</th>\n",
       "    </tr>\n",
       "  </thead>\n",
       "  <tbody>\n",
       "    <tr>\n",
       "      <th>0</th>\n",
       "      <td>37</td>\n",
       "      <td>37.781675</td>\n",
       "      <td>-122.401493</td>\n",
       "      <td>1473620708000</td>\n",
       "      <td>Mission Street_11th Street_Mission Street</td>\n",
       "      <td>2016-09-11 19:05:08.000</td>\n",
       "      <td>19</td>\n",
       "      <td>5</td>\n",
       "      <td>11</td>\n",
       "      <td>9</td>\n",
       "      <td>2016</td>\n",
       "    </tr>\n",
       "    <tr>\n",
       "      <th>1</th>\n",
       "      <td>69</td>\n",
       "      <td>37.772285</td>\n",
       "      <td>-122.416183</td>\n",
       "      <td>1471976196128</td>\n",
       "      <td>Mission Street_11th Street_Mission Street</td>\n",
       "      <td>2016-08-23 18:16:36.128</td>\n",
       "      <td>18</td>\n",
       "      <td>16</td>\n",
       "      <td>23</td>\n",
       "      <td>8</td>\n",
       "      <td>2016</td>\n",
       "    </tr>\n",
       "    <tr>\n",
       "      <th>2</th>\n",
       "      <td>70</td>\n",
       "      <td>37.777534</td>\n",
       "      <td>-122.405716</td>\n",
       "      <td>1471985902600</td>\n",
       "      <td>Mission Street_11th Street_Mission Street</td>\n",
       "      <td>2016-08-23 20:58:22.600</td>\n",
       "      <td>20</td>\n",
       "      <td>58</td>\n",
       "      <td>23</td>\n",
       "      <td>8</td>\n",
       "      <td>2016</td>\n",
       "    </tr>\n",
       "    <tr>\n",
       "      <th>3</th>\n",
       "      <td>72</td>\n",
       "      <td>37.783095</td>\n",
       "      <td>-122.405746</td>\n",
       "      <td>1472576226100</td>\n",
       "      <td>Mission Street_11th Street_Mission Street</td>\n",
       "      <td>2016-08-30 16:57:06.100</td>\n",
       "      <td>16</td>\n",
       "      <td>57</td>\n",
       "      <td>30</td>\n",
       "      <td>8</td>\n",
       "      <td>2016</td>\n",
       "    </tr>\n",
       "    <tr>\n",
       "      <th>4</th>\n",
       "      <td>77</td>\n",
       "      <td>37.781800</td>\n",
       "      <td>-122.401840</td>\n",
       "      <td>1473630754600</td>\n",
       "      <td>Mission Street_11th Street_Mission Street</td>\n",
       "      <td>2016-09-11 21:52:34.600</td>\n",
       "      <td>21</td>\n",
       "      <td>52</td>\n",
       "      <td>11</td>\n",
       "      <td>9</td>\n",
       "      <td>2016</td>\n",
       "    </tr>\n",
       "  </tbody>\n",
       "</table>\n",
       "</div>"
      ],
      "text/plain": [
       "   index        lat         lon       datetime  \\\n",
       "0     37  37.781675 -122.401493  1473620708000   \n",
       "1     69  37.772285 -122.416183  1471976196128   \n",
       "2     70  37.777534 -122.405716  1471985902600   \n",
       "3     72  37.783095 -122.405746  1472576226100   \n",
       "4     77  37.781800 -122.401840  1473630754600   \n",
       "\n",
       "                                street_block                  convtd  hour  \\\n",
       "0  Mission Street_11th Street_Mission Street 2016-09-11 19:05:08.000    19   \n",
       "1  Mission Street_11th Street_Mission Street 2016-08-23 18:16:36.128    18   \n",
       "2  Mission Street_11th Street_Mission Street 2016-08-23 20:58:22.600    20   \n",
       "3  Mission Street_11th Street_Mission Street 2016-08-30 16:57:06.100    16   \n",
       "4  Mission Street_11th Street_Mission Street 2016-09-11 21:52:34.600    21   \n",
       "\n",
       "   minute  day  month  year  \n",
       "0       5   11      9  2016  \n",
       "1      16   23      8  2016  \n",
       "2      58   23      8  2016  \n",
       "3      57   30      8  2016  \n",
       "4      52   11      9  2016  "
      ]
     },
     "execution_count": 435,
     "metadata": {},
     "output_type": "execute_result"
    }
   ],
   "source": [
    "import feather\n",
    "df = feather.read_dataframe('meterdata_with_datetime.feather')\n",
    "df.head()"
   ]
  },
  {
   "cell_type": "code",
   "execution_count": 58,
   "metadata": {},
   "outputs": [
    {
     "data": {
      "text/plain": [
       "(Timestamp('2015-03-10 01:23:35'), Timestamp('2017-09-20 04:24:23'))"
      ]
     },
     "execution_count": 58,
     "metadata": {},
     "output_type": "execute_result"
    }
   ],
   "source": [
    "df.convtd.min(), df.convtd.max()"
   ]
  },
  {
   "cell_type": "code",
   "execution_count": 436,
   "metadata": {},
   "outputs": [
    {
     "data": {
      "text/html": [
       "<div>\n",
       "<style>\n",
       "    .dataframe thead tr:only-child th {\n",
       "        text-align: right;\n",
       "    }\n",
       "\n",
       "    .dataframe thead th {\n",
       "        text-align: left;\n",
       "    }\n",
       "\n",
       "    .dataframe tbody tr th {\n",
       "        vertical-align: top;\n",
       "    }\n",
       "</style>\n",
       "<table border=\"1\" class=\"dataframe\">\n",
       "  <thead>\n",
       "    <tr style=\"text-align: right;\">\n",
       "      <th></th>\n",
       "      <th>parkings_by_block</th>\n",
       "    </tr>\n",
       "    <tr>\n",
       "      <th>Block</th>\n",
       "      <th></th>\n",
       "    </tr>\n",
       "  </thead>\n",
       "  <tbody>\n",
       "    <tr>\n",
       "      <th>23rd Street_Bartlett Street_Valencia Street</th>\n",
       "      <td>946</td>\n",
       "    </tr>\n",
       "    <tr>\n",
       "      <th>23rd Street_Mission Street_Bartlett Street</th>\n",
       "      <td>2247</td>\n",
       "    </tr>\n",
       "    <tr>\n",
       "      <th>23rd Street_Mission Street_Capp Street</th>\n",
       "      <td>2241</td>\n",
       "    </tr>\n",
       "    <tr>\n",
       "      <th>23rd Street_South Van Ness Avenue_Capp Street</th>\n",
       "      <td>1097</td>\n",
       "    </tr>\n",
       "    <tr>\n",
       "      <th>Battery Street_California Street_Pine Street</th>\n",
       "      <td>636</td>\n",
       "    </tr>\n",
       "  </tbody>\n",
       "</table>\n",
       "</div>"
      ],
      "text/plain": [
       "                                               parkings_by_block\n",
       "Block                                                           \n",
       "23rd Street_Bartlett Street_Valencia Street                  946\n",
       "23rd Street_Mission Street_Bartlett Street                  2247\n",
       "23rd Street_Mission Street_Capp Street                      2241\n",
       "23rd Street_South Van Ness Avenue_Capp Street               1097\n",
       "Battery Street_California Street_Pine Street                 636"
      ]
     },
     "execution_count": 436,
     "metadata": {},
     "output_type": "execute_result"
    }
   ],
   "source": [
    "temp = df.groupby('street_block')['street_block'].count()\n",
    "parking_count = pd.DataFrame({'Block': np.array(temp.keys()), 'parkings_by_block': temp.values}).set_index('Block') \n",
    "parking_count.head()"
   ]
  },
  {
   "cell_type": "code",
   "execution_count": null,
   "metadata": {
    "collapsed": true
   },
   "outputs": [],
   "source": []
  },
  {
   "cell_type": "markdown",
   "metadata": {},
   "source": [
    "### Read cleaned sensor data"
   ]
  },
  {
   "cell_type": "code",
   "execution_count": 404,
   "metadata": {},
   "outputs": [
    {
     "data": {
      "text/html": [
       "<div>\n",
       "<style>\n",
       "    .dataframe thead tr:only-child th {\n",
       "        text-align: right;\n",
       "    }\n",
       "\n",
       "    .dataframe thead th {\n",
       "        text-align: left;\n",
       "    }\n",
       "\n",
       "    .dataframe tbody tr th {\n",
       "        vertical-align: top;\n",
       "    }\n",
       "</style>\n",
       "<table border=\"1\" class=\"dataframe\">\n",
       "  <thead>\n",
       "    <tr style=\"text-align: right;\">\n",
       "      <th></th>\n",
       "      <th>Street_Block</th>\n",
       "      <th>Available_Spots</th>\n",
       "      <th>Dayofweek</th>\n",
       "      <th>month</th>\n",
       "      <th>hour</th>\n",
       "      <th>year</th>\n",
       "      <th>lat</th>\n",
       "      <th>lng</th>\n",
       "      <th>street_id</th>\n",
       "      <th>count</th>\n",
       "    </tr>\n",
       "  </thead>\n",
       "  <tbody>\n",
       "    <tr>\n",
       "      <th>0</th>\n",
       "      <td>Kearny Street_2</td>\n",
       "      <td>1.0</td>\n",
       "      <td>6</td>\n",
       "      <td>7</td>\n",
       "      <td>16</td>\n",
       "      <td>2012</td>\n",
       "      <td>37.790518</td>\n",
       "      <td>-122.404027</td>\n",
       "      <td>27</td>\n",
       "      <td>1</td>\n",
       "    </tr>\n",
       "    <tr>\n",
       "      <th>1</th>\n",
       "      <td>Kearny Street_2</td>\n",
       "      <td>4.0</td>\n",
       "      <td>6</td>\n",
       "      <td>7</td>\n",
       "      <td>20</td>\n",
       "      <td>2012</td>\n",
       "      <td>37.790518</td>\n",
       "      <td>-122.404027</td>\n",
       "      <td>27</td>\n",
       "      <td>1</td>\n",
       "    </tr>\n",
       "    <tr>\n",
       "      <th>2</th>\n",
       "      <td>Kearny Street_2</td>\n",
       "      <td>5.0</td>\n",
       "      <td>6</td>\n",
       "      <td>7</td>\n",
       "      <td>5</td>\n",
       "      <td>2012</td>\n",
       "      <td>37.790518</td>\n",
       "      <td>-122.404027</td>\n",
       "      <td>27</td>\n",
       "      <td>1</td>\n",
       "    </tr>\n",
       "    <tr>\n",
       "      <th>3</th>\n",
       "      <td>Kearny Street_2</td>\n",
       "      <td>4.0</td>\n",
       "      <td>6</td>\n",
       "      <td>7</td>\n",
       "      <td>21</td>\n",
       "      <td>2012</td>\n",
       "      <td>37.790518</td>\n",
       "      <td>-122.404027</td>\n",
       "      <td>27</td>\n",
       "      <td>1</td>\n",
       "    </tr>\n",
       "    <tr>\n",
       "      <th>4</th>\n",
       "      <td>Kearny Street_2</td>\n",
       "      <td>5.0</td>\n",
       "      <td>1</td>\n",
       "      <td>7</td>\n",
       "      <td>6</td>\n",
       "      <td>2012</td>\n",
       "      <td>37.790518</td>\n",
       "      <td>-122.404027</td>\n",
       "      <td>27</td>\n",
       "      <td>1</td>\n",
       "    </tr>\n",
       "    <tr>\n",
       "      <th>5</th>\n",
       "      <td>Kearny Street_2</td>\n",
       "      <td>1.0</td>\n",
       "      <td>6</td>\n",
       "      <td>7</td>\n",
       "      <td>12</td>\n",
       "      <td>2012</td>\n",
       "      <td>37.790518</td>\n",
       "      <td>-122.404027</td>\n",
       "      <td>27</td>\n",
       "      <td>1</td>\n",
       "    </tr>\n",
       "    <tr>\n",
       "      <th>6</th>\n",
       "      <td>Kearny Street_2</td>\n",
       "      <td>5.0</td>\n",
       "      <td>6</td>\n",
       "      <td>7</td>\n",
       "      <td>4</td>\n",
       "      <td>2012</td>\n",
       "      <td>37.790518</td>\n",
       "      <td>-122.404027</td>\n",
       "      <td>27</td>\n",
       "      <td>1</td>\n",
       "    </tr>\n",
       "    <tr>\n",
       "      <th>7</th>\n",
       "      <td>Kearny Street_2</td>\n",
       "      <td>5.0</td>\n",
       "      <td>6</td>\n",
       "      <td>7</td>\n",
       "      <td>22</td>\n",
       "      <td>2012</td>\n",
       "      <td>37.790518</td>\n",
       "      <td>-122.404027</td>\n",
       "      <td>27</td>\n",
       "      <td>1</td>\n",
       "    </tr>\n",
       "    <tr>\n",
       "      <th>8</th>\n",
       "      <td>Kearny Street_2</td>\n",
       "      <td>4.0</td>\n",
       "      <td>6</td>\n",
       "      <td>7</td>\n",
       "      <td>1</td>\n",
       "      <td>2012</td>\n",
       "      <td>37.790518</td>\n",
       "      <td>-122.404027</td>\n",
       "      <td>27</td>\n",
       "      <td>1</td>\n",
       "    </tr>\n",
       "    <tr>\n",
       "      <th>9</th>\n",
       "      <td>Kearny Street_2</td>\n",
       "      <td>6.0</td>\n",
       "      <td>1</td>\n",
       "      <td>10</td>\n",
       "      <td>7</td>\n",
       "      <td>2012</td>\n",
       "      <td>37.790518</td>\n",
       "      <td>-122.404027</td>\n",
       "      <td>27</td>\n",
       "      <td>1</td>\n",
       "    </tr>\n",
       "  </tbody>\n",
       "</table>\n",
       "</div>"
      ],
      "text/plain": [
       "      Street_Block  Available_Spots  Dayofweek  month  hour  year        lat  \\\n",
       "0  Kearny Street_2              1.0          6      7    16  2012  37.790518   \n",
       "1  Kearny Street_2              4.0          6      7    20  2012  37.790518   \n",
       "2  Kearny Street_2              5.0          6      7     5  2012  37.790518   \n",
       "3  Kearny Street_2              4.0          6      7    21  2012  37.790518   \n",
       "4  Kearny Street_2              5.0          1      7     6  2012  37.790518   \n",
       "5  Kearny Street_2              1.0          6      7    12  2012  37.790518   \n",
       "6  Kearny Street_2              5.0          6      7     4  2012  37.790518   \n",
       "7  Kearny Street_2              5.0          6      7    22  2012  37.790518   \n",
       "8  Kearny Street_2              4.0          6      7     1  2012  37.790518   \n",
       "9  Kearny Street_2              6.0          1     10     7  2012  37.790518   \n",
       "\n",
       "          lng  street_id  count  \n",
       "0 -122.404027         27      1  \n",
       "1 -122.404027         27      1  \n",
       "2 -122.404027         27      1  \n",
       "3 -122.404027         27      1  \n",
       "4 -122.404027         27      1  \n",
       "5 -122.404027         27      1  \n",
       "6 -122.404027         27      1  \n",
       "7 -122.404027         27      1  \n",
       "8 -122.404027         27      1  \n",
       "9 -122.404027         27      1  "
      ]
     },
     "execution_count": 404,
     "metadata": {},
     "output_type": "execute_result"
    }
   ],
   "source": [
    "df1 = pd.read_feather('new_sensor_data2') \n",
    "# df2 = pd.read_feather('street_seg_id')\n",
    "df1.head(10)"
   ]
  },
  {
   "cell_type": "code",
   "execution_count": 405,
   "metadata": {},
   "outputs": [
    {
     "data": {
      "text/html": [
       "<div>\n",
       "<style>\n",
       "    .dataframe thead tr:only-child th {\n",
       "        text-align: right;\n",
       "    }\n",
       "\n",
       "    .dataframe thead th {\n",
       "        text-align: left;\n",
       "    }\n",
       "\n",
       "    .dataframe tbody tr th {\n",
       "        vertical-align: top;\n",
       "    }\n",
       "</style>\n",
       "<table border=\"1\" class=\"dataframe\">\n",
       "  <thead>\n",
       "    <tr style=\"text-align: right;\">\n",
       "      <th></th>\n",
       "      <th>parking_by_month</th>\n",
       "    </tr>\n",
       "    <tr>\n",
       "      <th>month</th>\n",
       "      <th></th>\n",
       "    </tr>\n",
       "  </thead>\n",
       "  <tbody>\n",
       "    <tr>\n",
       "      <th>1</th>\n",
       "      <td>58192.0</td>\n",
       "    </tr>\n",
       "    <tr>\n",
       "      <th>2</th>\n",
       "      <td>53227.0</td>\n",
       "    </tr>\n",
       "    <tr>\n",
       "      <th>3</th>\n",
       "      <td>55267.0</td>\n",
       "    </tr>\n",
       "    <tr>\n",
       "      <th>4</th>\n",
       "      <td>52951.0</td>\n",
       "    </tr>\n",
       "    <tr>\n",
       "      <th>5</th>\n",
       "      <td>58193.0</td>\n",
       "    </tr>\n",
       "    <tr>\n",
       "      <th>6</th>\n",
       "      <td>55635.0</td>\n",
       "    </tr>\n",
       "    <tr>\n",
       "      <th>7</th>\n",
       "      <td>61736.0</td>\n",
       "    </tr>\n",
       "    <tr>\n",
       "      <th>8</th>\n",
       "      <td>62037.0</td>\n",
       "    </tr>\n",
       "    <tr>\n",
       "      <th>9</th>\n",
       "      <td>60509.0</td>\n",
       "    </tr>\n",
       "    <tr>\n",
       "      <th>10</th>\n",
       "      <td>60221.0</td>\n",
       "    </tr>\n",
       "    <tr>\n",
       "      <th>11</th>\n",
       "      <td>59546.0</td>\n",
       "    </tr>\n",
       "    <tr>\n",
       "      <th>12</th>\n",
       "      <td>62110.0</td>\n",
       "    </tr>\n",
       "  </tbody>\n",
       "</table>\n",
       "</div>"
      ],
      "text/plain": [
       "       parking_by_month\n",
       "month                  \n",
       "1               58192.0\n",
       "2               53227.0\n",
       "3               55267.0\n",
       "4               52951.0\n",
       "5               58193.0\n",
       "6               55635.0\n",
       "7               61736.0\n",
       "8               62037.0\n",
       "9               60509.0\n",
       "10              60221.0\n",
       "11              59546.0\n",
       "12              62110.0"
      ]
     },
     "execution_count": 405,
     "metadata": {},
     "output_type": "execute_result"
    }
   ],
   "source": [
    "temp = df1[df1.year==2012].groupby(\"month\").Available_Spots.sum()\n",
    "monthly_adj =pd.DataFrame({'month': np.arange(1,13), 'parking_by_month': temp.values}).set_index('month') \n",
    "monthly_adj"
   ]
  },
  {
   "cell_type": "code",
   "execution_count": null,
   "metadata": {
    "collapsed": true
   },
   "outputs": [],
   "source": []
  },
  {
   "cell_type": "markdown",
   "metadata": {},
   "source": [
    "### Preprocessing\n",
    "- Add datetime information such as DOW, hour, month\n",
    "- Concatenate street-from-to to be block column\n",
    "- Correct street length\n",
    "- Label encoding on block\n",
    "- join external data"
   ]
  },
  {
   "cell_type": "code",
   "execution_count": 670,
   "metadata": {
    "collapsed": true
   },
   "outputs": [],
   "source": [
    "data = pd.read_csv(\"train-parking.csv\", parse_dates={\"datetime\" : [\"Date\", \"Time\"]})"
   ]
  },
  {
   "cell_type": "code",
   "execution_count": 671,
   "metadata": {
    "collapsed": true
   },
   "outputs": [],
   "source": [
    "data[\"DOW\"] = data['datetime'].dt.dayofweek\n",
    "data[\"hour\"] = data['datetime'].dt.hour #7-19\n",
    "data[\"month\"] = data['datetime'].dt.month\n",
    "data[\"date\"] = data['datetime'].dt.date \n",
    "data['minute'] = data['datetime'].dt.minute\n",
    "data[\"date\"] = pd.to_datetime(data.date)"
   ]
  },
  {
   "cell_type": "code",
   "execution_count": 638,
   "metadata": {
    "collapsed": true
   },
   "outputs": [],
   "source": [
    "# NOT RUN\n",
    "cal = calendar()\n",
    "holidays = cal.holidays(start=data.datetime.min(), end=test.datetime.max())\n",
    "holidays = holidays.append(holidays-timedelta(days=1))\n",
    "\n",
    "data['Holiday'] = data['datetime'].isin(holidays)\n",
    "# there is no record on holiday in training data"
   ]
  },
  {
   "cell_type": "code",
   "execution_count": 672,
   "metadata": {
    "collapsed": true
   },
   "outputs": [],
   "source": [
    "data['Block'] = data[\"Street\"]+ \"_\" + data['From']+ \"_\" + data['To']"
   ]
  },
  {
   "cell_type": "code",
   "execution_count": 673,
   "metadata": {
    "collapsed": true
   },
   "outputs": [],
   "source": [
    "# Incase the street length was wrong for any street, we take a median for street length for each street\n",
    "street_median_length =data.groupby(\"Street\")[\"Street.Length\"].median()\n",
    "data = data.join(street_median_length, on=\"Street\", rsuffix='_correct')"
   ]
  },
  {
   "cell_type": "code",
   "execution_count": 674,
   "metadata": {},
   "outputs": [
    {
     "data": {
      "text/plain": [
       "LabelEncoder()"
      ]
     },
     "execution_count": 674,
     "metadata": {},
     "output_type": "execute_result"
    }
   ],
   "source": [
    "# label encoding block by their any_spot rankings\n",
    "le = LabelEncoder()\n",
    "le.fit(data.Block)"
   ]
  },
  {
   "cell_type": "code",
   "execution_count": 675,
   "metadata": {
    "collapsed": true
   },
   "outputs": [],
   "source": [
    "data['Block_num'] = le.transform(data.Block) "
   ]
  },
  {
   "cell_type": "code",
   "execution_count": 676,
   "metadata": {
    "collapsed": true
   },
   "outputs": [],
   "source": [
    "# join external data\n",
    "# parking records\n",
    "data = data.join(parking_count, on=\"Block\", how=\"left\")\n",
    "data[\"parkings_by_block\"].fillna(-1, inplace=True) \n",
    "data = data.join(parking_count_by_hour, on=\"hour\", how=\"left\")\n",
    "\n",
    "# sensor - month\n",
    "data = data.join(monthly_adj, on=\"month\", how=\"left\")\n",
    "\n",
    "# weather\n",
    "data = data.merge(weather, how='left')"
   ]
  },
  {
   "cell_type": "code",
   "execution_count": 973,
   "metadata": {},
   "outputs": [
    {
     "data": {
      "text/html": [
       "<div>\n",
       "<style>\n",
       "    .dataframe thead tr:only-child th {\n",
       "        text-align: right;\n",
       "    }\n",
       "\n",
       "    .dataframe thead th {\n",
       "        text-align: left;\n",
       "    }\n",
       "\n",
       "    .dataframe tbody tr th {\n",
       "        vertical-align: top;\n",
       "    }\n",
       "</style>\n",
       "<table border=\"1\" class=\"dataframe\">\n",
       "  <thead>\n",
       "    <tr style=\"text-align: right;\">\n",
       "      <th></th>\n",
       "      <th>datetime</th>\n",
       "      <th>Street</th>\n",
       "      <th>From</th>\n",
       "      <th>To</th>\n",
       "      <th>Real.Spots</th>\n",
       "      <th>Street.Length</th>\n",
       "      <th>any_spot</th>\n",
       "      <th>DOW</th>\n",
       "      <th>hour</th>\n",
       "      <th>month</th>\n",
       "      <th>...</th>\n",
       "      <th>Temperature_Departure</th>\n",
       "      <th>Precipitation</th>\n",
       "      <th>hour_more_parking</th>\n",
       "      <th>DOW_ranking</th>\n",
       "      <th>Block_more_parking</th>\n",
       "      <th>Block_less_parking</th>\n",
       "      <th>Block_any_spotmean_enc</th>\n",
       "      <th>DOW_Real.Spotsmean_enc</th>\n",
       "      <th>hour_Real.Spotsmean_enc</th>\n",
       "      <th>Block_fre</th>\n",
       "    </tr>\n",
       "  </thead>\n",
       "  <tbody>\n",
       "    <tr>\n",
       "      <th>0</th>\n",
       "      <td>2014-01-07 16:19:00</td>\n",
       "      <td>Mission Street</td>\n",
       "      <td>25th Street</td>\n",
       "      <td>26th Street</td>\n",
       "      <td>4</td>\n",
       "      <td>179.132970</td>\n",
       "      <td>1</td>\n",
       "      <td>1</td>\n",
       "      <td>16</td>\n",
       "      <td>1</td>\n",
       "      <td>...</td>\n",
       "      <td>4.3</td>\n",
       "      <td>0.0</td>\n",
       "      <td>True</td>\n",
       "      <td>3</td>\n",
       "      <td>True</td>\n",
       "      <td>False</td>\n",
       "      <td>0.444444</td>\n",
       "      <td>0.276923</td>\n",
       "      <td>1.323944</td>\n",
       "      <td>20</td>\n",
       "    </tr>\n",
       "    <tr>\n",
       "      <th>1</th>\n",
       "      <td>2014-01-18 20:42:00</td>\n",
       "      <td>Polk Street</td>\n",
       "      <td>Ellis Street</td>\n",
       "      <td>Olive Street</td>\n",
       "      <td>0</td>\n",
       "      <td>52.740210</td>\n",
       "      <td>0</td>\n",
       "      <td>5</td>\n",
       "      <td>20</td>\n",
       "      <td>1</td>\n",
       "      <td>...</td>\n",
       "      <td>7.7</td>\n",
       "      <td>0.0</td>\n",
       "      <td>False</td>\n",
       "      <td>5</td>\n",
       "      <td>False</td>\n",
       "      <td>True</td>\n",
       "      <td>0.125000</td>\n",
       "      <td>1.792969</td>\n",
       "      <td>0.949367</td>\n",
       "      <td>10</td>\n",
       "    </tr>\n",
       "    <tr>\n",
       "      <th>2</th>\n",
       "      <td>2014-01-18 20:39:00</td>\n",
       "      <td>Van Ness Avenue</td>\n",
       "      <td>Geary Boulevard</td>\n",
       "      <td>Myrtle Street</td>\n",
       "      <td>0</td>\n",
       "      <td>52.517840</td>\n",
       "      <td>0</td>\n",
       "      <td>5</td>\n",
       "      <td>20</td>\n",
       "      <td>1</td>\n",
       "      <td>...</td>\n",
       "      <td>7.7</td>\n",
       "      <td>0.0</td>\n",
       "      <td>False</td>\n",
       "      <td>5</td>\n",
       "      <td>False</td>\n",
       "      <td>True</td>\n",
       "      <td>0.200000</td>\n",
       "      <td>1.792969</td>\n",
       "      <td>0.949367</td>\n",
       "      <td>14</td>\n",
       "    </tr>\n",
       "    <tr>\n",
       "      <th>3</th>\n",
       "      <td>2014-01-18 20:38:00</td>\n",
       "      <td>Van Ness Avenue</td>\n",
       "      <td>Bush Street</td>\n",
       "      <td>Fern Street</td>\n",
       "      <td>0</td>\n",
       "      <td>52.405315</td>\n",
       "      <td>0</td>\n",
       "      <td>5</td>\n",
       "      <td>20</td>\n",
       "      <td>1</td>\n",
       "      <td>...</td>\n",
       "      <td>7.7</td>\n",
       "      <td>0.0</td>\n",
       "      <td>False</td>\n",
       "      <td>5</td>\n",
       "      <td>False</td>\n",
       "      <td>False</td>\n",
       "      <td>0.272727</td>\n",
       "      <td>1.792969</td>\n",
       "      <td>0.949367</td>\n",
       "      <td>14</td>\n",
       "    </tr>\n",
       "    <tr>\n",
       "      <th>4</th>\n",
       "      <td>2014-01-18 20:38:00</td>\n",
       "      <td>Van Ness Avenue</td>\n",
       "      <td>Daniel Burnham Court</td>\n",
       "      <td>Post Street</td>\n",
       "      <td>0</td>\n",
       "      <td>52.191193</td>\n",
       "      <td>0</td>\n",
       "      <td>5</td>\n",
       "      <td>20</td>\n",
       "      <td>1</td>\n",
       "      <td>...</td>\n",
       "      <td>7.7</td>\n",
       "      <td>0.0</td>\n",
       "      <td>False</td>\n",
       "      <td>5</td>\n",
       "      <td>False</td>\n",
       "      <td>True</td>\n",
       "      <td>0.153846</td>\n",
       "      <td>1.792969</td>\n",
       "      <td>0.949367</td>\n",
       "      <td>16</td>\n",
       "    </tr>\n",
       "  </tbody>\n",
       "</table>\n",
       "<p>5 rows × 32 columns</p>\n",
       "</div>"
      ],
      "text/plain": [
       "             datetime           Street                  From             To  \\\n",
       "0 2014-01-07 16:19:00   Mission Street           25th Street    26th Street   \n",
       "1 2014-01-18 20:42:00      Polk Street          Ellis Street   Olive Street   \n",
       "2 2014-01-18 20:39:00  Van Ness Avenue       Geary Boulevard  Myrtle Street   \n",
       "3 2014-01-18 20:38:00  Van Ness Avenue           Bush Street    Fern Street   \n",
       "4 2014-01-18 20:38:00  Van Ness Avenue  Daniel Burnham Court    Post Street   \n",
       "\n",
       "   Real.Spots  Street.Length  any_spot  DOW  hour  month    ...      \\\n",
       "0           4     179.132970         1    1    16      1    ...       \n",
       "1           0      52.740210         0    5    20      1    ...       \n",
       "2           0      52.517840         0    5    20      1    ...       \n",
       "3           0      52.405315         0    5    20      1    ...       \n",
       "4           0      52.191193         0    5    20      1    ...       \n",
       "\n",
       "  Temperature_Departure  Precipitation  hour_more_parking DOW_ranking  \\\n",
       "0                   4.3            0.0               True           3   \n",
       "1                   7.7            0.0              False           5   \n",
       "2                   7.7            0.0              False           5   \n",
       "3                   7.7            0.0              False           5   \n",
       "4                   7.7            0.0              False           5   \n",
       "\n",
       "   Block_more_parking  Block_less_parking  Block_any_spotmean_enc  \\\n",
       "0                True               False                0.444444   \n",
       "1               False                True                0.125000   \n",
       "2               False                True                0.200000   \n",
       "3               False               False                0.272727   \n",
       "4               False                True                0.153846   \n",
       "\n",
       "   DOW_Real.Spotsmean_enc  hour_Real.Spotsmean_enc  Block_fre  \n",
       "0                0.276923                 1.323944         20  \n",
       "1                1.792969                 0.949367         10  \n",
       "2                1.792969                 0.949367         14  \n",
       "3                1.792969                 0.949367         14  \n",
       "4                1.792969                 0.949367         16  \n",
       "\n",
       "[5 rows x 32 columns]"
      ]
     },
     "execution_count": 973,
     "metadata": {},
     "output_type": "execute_result"
    }
   ],
   "source": [
    "data.head()"
   ]
  },
  {
   "cell_type": "markdown",
   "metadata": {},
   "source": [
    "### Split train, val sets, and create features on train"
   ]
  },
  {
   "cell_type": "code",
   "execution_count": 678,
   "metadata": {
    "collapsed": true
   },
   "outputs": [],
   "source": [
    "## to be deleted\n",
    "def split_based_hour(data, train_per):\n",
    "    \"\"\" Split data based on column hour.\n",
    "    \n",
    "    Use 20% of the date for validation.\n",
    "    Inputs:\n",
    "       data: dataframe from avazu\n",
    "    Returns:\n",
    "       train:\n",
    "       val: 20% of the largest values of column \"hour\".\n",
    "    \"\"\"\n",
    "    N = int(train_per*len(data))\n",
    "    data = data.sort_values(by=\"datetime\")\n",
    "    train = data[:N].copy()\n",
    "    val = data[N:].copy()\n",
    "    return train.reset_index(), val.reset_index()\n",
    "\n",
    "train, val = split_based_hour(data, 0.8)"
   ]
  },
  {
   "cell_type": "code",
   "execution_count": 377,
   "metadata": {},
   "outputs": [
    {
     "data": {
      "text/plain": [
       "(880, 220)"
      ]
     },
     "execution_count": 377,
     "metadata": {},
     "output_type": "execute_result"
    }
   ],
   "source": [
    "len(train), len(val)"
   ]
  },
  {
   "cell_type": "code",
   "execution_count": null,
   "metadata": {
    "collapsed": true
   },
   "outputs": [],
   "source": []
  },
  {
   "cell_type": "markdown",
   "metadata": {},
   "source": [
    "### New features based on train\n",
    "If the new features created based on train work well with validation set, then we are comfortable doing the same on whole data and predict for test set.\n",
    "1. Identify busy street/hour/dow"
   ]
  },
  {
   "cell_type": "code",
   "execution_count": 666,
   "metadata": {},
   "outputs": [
    {
     "data": {
      "text/plain": [
       "hour\n",
       "7     0.360656\n",
       "8     0.361111\n",
       "9     0.482759\n",
       "10    0.200000\n",
       "11    0.225806\n",
       "12    0.227273\n",
       "13    0.368421\n",
       "14    0.454545\n",
       "15    0.558140\n",
       "16    0.465517\n",
       "17    0.441860\n",
       "18    0.327273\n",
       "19    0.375000\n",
       "20    0.250000\n",
       "21    0.437500\n",
       "Name: any_spot, dtype: float64"
      ]
     },
     "execution_count": 666,
     "metadata": {},
     "output_type": "execute_result"
    }
   ],
   "source": [
    "train.groupby(\"hour\")[\"any_spot\"].mean()"
   ]
  },
  {
   "cell_type": "code",
   "execution_count": 679,
   "metadata": {
    "collapsed": true
   },
   "outputs": [],
   "source": [
    "temp = train.groupby(\"hour\")[\"any_spot\"].mean()\n",
    "train['hour_more_parking'] = train['hour'].isin(temp[temp>0.4].keys())\n",
    "\n",
    "val['hour_more_parking'] = val['hour'].isin(temp[temp>0.4].keys())"
   ]
  },
  {
   "cell_type": "code",
   "execution_count": 1189,
   "metadata": {},
   "outputs": [
    {
     "data": {
      "text/plain": [
       "DOW\n",
       "0    0.385475\n",
       "1    0.375000\n",
       "2    0.338462\n",
       "3    0.378378\n",
       "4    0.426829\n",
       "5    0.323529\n",
       "6    0.494382\n",
       "Name: any_spot, dtype: float64"
      ]
     },
     "execution_count": 1189,
     "metadata": {},
     "output_type": "execute_result"
    }
   ],
   "source": [
    "train.groupby(\"DOW\")[\"any_spot\"].mean()"
   ]
  },
  {
   "cell_type": "code",
   "execution_count": 680,
   "metadata": {
    "collapsed": true
   },
   "outputs": [],
   "source": [
    "temp = train.groupby(\"DOW\")[\"any_spot\"].mean().sort_values(ascending=True)\n",
    "DOW_rank = pd.DataFrame({'DOW': temp.reset_index(drop=False).DOW.values, 'DOW_ranking':range(7)}).set_index('DOW') \n",
    "\n",
    "train = train.join(DOW_rank, on=\"DOW\", rsuffix='_ranking')\n",
    "val = val.join(DOW_rank, on=\"DOW\", rsuffix='_ranking')"
   ]
  },
  {
   "cell_type": "code",
   "execution_count": 681,
   "metadata": {
    "collapsed": true
   },
   "outputs": [],
   "source": [
    "temp = train.groupby(\"Block\")[\"any_spot\"].mean()\n",
    "train['Block_more_parking'] = train[\"Block\"].isin(temp[temp>0.55].keys())\n",
    "train['Block_less_parking'] = train[\"Block\"].isin(temp[temp<0.2].keys())\n",
    "\n",
    "val['Block_more_parking'] = val[\"Block\"].isin(temp[temp>0.55].keys())\n",
    "val['Block_less_parking'] = val[\"Block\"].isin(temp[temp<0.2].keys())"
   ]
  },
  {
   "cell_type": "markdown",
   "metadata": {},
   "source": [
    "### Mean encoding"
   ]
  },
  {
   "cell_type": "code",
   "execution_count": 122,
   "metadata": {
    "collapsed": true
   },
   "outputs": [],
   "source": [
    "def reg_target_encoding(train, col, target, splits=5):\n",
    "    \"\"\" Computes regularize mean encoding.\n",
    "    Inputs:\n",
    "       train: training dataframe\n",
    "       \n",
    "    \"\"\"\n",
    "    ### mean_encoding\n",
    "    kf = KFold(n_splits=splits, shuffle=False)\n",
    "    new_col = col + \"_\" + target +  \"mean_enc\"\n",
    "    train[new_col] = np.nan\n",
    "    global_mean = train[target].mean()\n",
    "\n",
    "    for tr_ind, val_ind in kf.split(train):\n",
    "        X_tr, X_val = train.iloc[tr_ind], train.iloc[val_ind]\n",
    "        mean_enc = X_tr.groupby(col)[target].mean()\n",
    "        train.loc[val_ind, new_col] = X_val[col].map(mean_enc)\n",
    "\n",
    "    train[new_col].fillna(global_mean, inplace=True) "
   ]
  },
  {
   "cell_type": "code",
   "execution_count": 682,
   "metadata": {
    "collapsed": true
   },
   "outputs": [],
   "source": [
    "# reg_target_encoding(train,'Block',\"Real.Spots\")  # tbd\n",
    "reg_target_encoding(train,'Block',\"any_spot\") \n",
    "reg_target_encoding(train,'DOW',\"Real.Spots\") \n",
    "reg_target_encoding(train,'hour',\"Real.Spots\") \n",
    "# reg_target_encoding(train,'DOW',\"any_spot\")   #tbd\n",
    "# reg_target_encoding(train,'hour',\"any_spot\")  # tbd"
   ]
  },
  {
   "cell_type": "markdown",
   "metadata": {},
   "source": [
    "### Calculate frequency"
   ]
  },
  {
   "cell_type": "code",
   "execution_count": 683,
   "metadata": {
    "collapsed": true
   },
   "outputs": [],
   "source": [
    "street_freq = train.groupby(\"Block\")['Block'].count()\n",
    "train = train.join(street_freq, on=\"Block\", rsuffix='_fre')"
   ]
  },
  {
   "cell_type": "code",
   "execution_count": 686,
   "metadata": {},
   "outputs": [
    {
     "data": {
      "text/plain": [
       "(880, 33)"
      ]
     },
     "execution_count": 686,
     "metadata": {},
     "output_type": "execute_result"
    }
   ],
   "source": [
    "train.shape"
   ]
  },
  {
   "cell_type": "markdown",
   "metadata": {},
   "source": [
    "### Transforming validation set"
   ]
  },
  {
   "cell_type": "code",
   "execution_count": 125,
   "metadata": {
    "collapsed": true
   },
   "outputs": [],
   "source": [
    "def mean_encoding_test(test, train, col, target):\n",
    "    \"\"\" Computes target enconding for test data.\n",
    "    \n",
    "    This is similar to how we do validation\n",
    "    \"\"\"\n",
    "    ### BEGIN SOLUTION\n",
    "    mean_enc = train.groupby(col)[target].mean()\n",
    "    global_mean = train[target].mean()\n",
    "    new_col = col + \"_\" + target + \"mean_enc\"\n",
    "    test[new_col] = np.nan\n",
    "    test[new_col] = test[col].map(mean_enc)\n",
    "    test[new_col].fillna(global_mean, inplace=True)"
   ]
  },
  {
   "cell_type": "code",
   "execution_count": 687,
   "metadata": {
    "collapsed": true
   },
   "outputs": [],
   "source": [
    "mean_encoding_test(val, train,'Block',\"any_spot\" ) \n",
    "# mean_encoding_test(val, train,'DOW',\"any_spot\" )  # tbd\n",
    "#mean_encoding_test(val, train,'hour',\"any_spot\" ) # tbd\n",
    "\n",
    "# mean_encoding_test(val, train,'Block',\"Real.Spots\" ) # tbd\n",
    "mean_encoding_test(val, train,'DOW',\"Real.Spots\" ) \n",
    "mean_encoding_test(val, train,'hour',\"Real.Spots\" ) "
   ]
  },
  {
   "cell_type": "code",
   "execution_count": 688,
   "metadata": {
    "collapsed": true
   },
   "outputs": [],
   "source": [
    "val = val.join(street_freq, on=\"Block\", rsuffix='_fre')"
   ]
  },
  {
   "cell_type": "code",
   "execution_count": 689,
   "metadata": {},
   "outputs": [
    {
     "data": {
      "text/plain": [
       "(220, 33)"
      ]
     },
     "execution_count": 689,
     "metadata": {},
     "output_type": "execute_result"
    }
   ],
   "source": [
    "val.shape"
   ]
  },
  {
   "cell_type": "code",
   "execution_count": null,
   "metadata": {
    "collapsed": true
   },
   "outputs": [],
   "source": []
  },
  {
   "cell_type": "markdown",
   "metadata": {},
   "source": [
    "### Final touch before modeling"
   ]
  },
  {
   "cell_type": "code",
   "execution_count": 665,
   "metadata": {},
   "outputs": [
    {
     "data": {
      "text/plain": [
       "0"
      ]
     },
     "execution_count": 665,
     "metadata": {},
     "output_type": "execute_result"
    }
   ],
   "source": [
    "## Handy function\n",
    "\n",
    "# check for infinit values in a column\n",
    "# np.all(np.isfinite(train['Holiday']))\n",
    "# check for NA\n",
    "val.isnull().values.sum() \n",
    "#X_valid[X_valid.isnull().values]"
   ]
  },
  {
   "cell_type": "code",
   "execution_count": 822,
   "metadata": {
    "collapsed": true
   },
   "outputs": [],
   "source": [
    "y_train = train['any_spot'].values\n",
    "X_train = train.drop(['Temperature_Departure','Temperature_Avg','year','parkings_by_hour','index','date','any_spot','Real.Spots','datetime','month','DOW','Street','From','To','Block','Street.Length'], axis=1)\n",
    "\n",
    "new_val = val.dropna()\n",
    "y_valid = new_val['any_spot'].values\n",
    "X_valid = new_val.drop(['Temperature_Departure','Temperature_Avg','year','parkings_by_hour','index','date','any_spot','Real.Spots','datetime','month','DOW','Street','From','To','Block','Street.Length'], axis=1)"
   ]
  },
  {
   "cell_type": "code",
   "execution_count": 468,
   "metadata": {},
   "outputs": [
    {
     "data": {
      "text/plain": [
       "hour                         int64\n",
       "year                         int64\n",
       "minute                       int64\n",
       "Street.Length_correct      float64\n",
       "Block_num                    int64\n",
       "parkings_by_block          float64\n",
       "parkings_by_hour             int64\n",
       "parkings_by_minute           int64\n",
       "parking_by_month           float64\n",
       "Temperature_Max              int64\n",
       "Temperature_Min              int64\n",
       "Precipitation              float64\n",
       "hour_more_parking             bool\n",
       "DOW_ranking                  int64\n",
       "Block_more_parking            bool\n",
       "Block_less_parking            bool\n",
       "Block_any_spotmean_enc     float64\n",
       "DOW_Real.Spotsmean_enc     float64\n",
       "hour_Real.Spotsmean_enc    float64\n",
       "Block_fre                    int64\n",
       "dtype: object"
      ]
     },
     "execution_count": 468,
     "metadata": {},
     "output_type": "execute_result"
    }
   ],
   "source": [
    "X_train.dtypes"
   ]
  },
  {
   "cell_type": "code",
   "execution_count": 130,
   "metadata": {
    "collapsed": true
   },
   "outputs": [],
   "source": [
    "def f_05(y, pred):\n",
    "    \n",
    "    tn, fp, fn, tp = confusion_matrix(y, pred).ravel()\n",
    "    \n",
    "    p = tp/(tp+fp)\n",
    "    r = tp/(tp+fn)\n",
    "\n",
    "    return 1.25*p*r/(0.25*p + r)\n",
    "scorer = make_scorer(f_05, greater_is_better=True)"
   ]
  },
  {
   "cell_type": "code",
   "execution_count": null,
   "metadata": {
    "collapsed": true
   },
   "outputs": [],
   "source": []
  },
  {
   "cell_type": "markdown",
   "metadata": {},
   "source": [
    "### Prepare test set"
   ]
  },
  {
   "cell_type": "code",
   "execution_count": 696,
   "metadata": {
    "collapsed": true
   },
   "outputs": [],
   "source": [
    "test = pd.read_csv(\"test-no-labels-with-id.csv\", parse_dates={\"datetime\" : [\"Date\", \"Time\"]})"
   ]
  },
  {
   "cell_type": "code",
   "execution_count": 697,
   "metadata": {
    "collapsed": true
   },
   "outputs": [],
   "source": [
    "test[\"DOW\"] = test['datetime'].dt.dayofweek\n",
    "test[\"hour\"] = test['datetime'].dt.hour #7-19\n",
    "test[\"month\"] = test['datetime'].dt.month\n",
    "test[\"date\"] = test['datetime'].dt.date  \n",
    "test[\"minute\"] = test['datetime'].dt.minute \n",
    "test[\"date\"] = pd.to_datetime(test.date)\n",
    "\n",
    "test['Block'] = test[\"Street\"]+ \"_\" + test['From']+ \"_\" + test['To']\n",
    "test = test.join(street_median_length, on=\"Street\", rsuffix='_correct')\n",
    "test['Block_num'] = le.transform(test.Block) \n",
    "\n",
    "# join external data\n",
    "test = test.join(parking_count, on=\"Block\", how=\"left\")\n",
    "test[\"parkings_by_block\"].fillna(-1, inplace=True) \n",
    "test = test.join(parking_count_by_hour, on=\"hour\", how=\"left\")\n",
    "\n",
    "test = test.join(monthly_adj, on=\"month\", how=\"left\")\n",
    "test = test.merge(weather, how='left')"
   ]
  },
  {
   "cell_type": "code",
   "execution_count": 698,
   "metadata": {
    "collapsed": true
   },
   "outputs": [],
   "source": [
    "temp = data.groupby(\"hour\")[\"any_spot\"].mean()\n",
    "data['hour_more_parking'] = data['hour'].isin(temp[temp>0.4].keys())\n",
    "test['hour_more_parking'] = test['hour'].isin(temp[temp>0.4].keys())\n",
    "\n",
    "temp = data.groupby(\"DOW\")[\"any_spot\"].mean().sort_values(ascending=True)\n",
    "DOW_rank = pd.DataFrame({'DOW': temp.reset_index(drop=False).DOW.values, 'DOW_ranking':range(7)}).set_index('DOW') \n",
    "data = data.join(DOW_rank, on=\"DOW\", rsuffix='_ranking')\n",
    "test = test.join(DOW_rank, on=\"DOW\", rsuffix='_ranking')\n",
    "\n",
    "temp = data.groupby(\"Block\")[\"any_spot\"].mean()\n",
    "data['Block_more_parking'] = data[\"Block\"].isin(temp[temp>0.55].keys())\n",
    "data['Block_less_parking'] = data[\"Block\"].isin(temp[temp<0.2].keys())\n",
    "\n",
    "test['Block_more_parking'] = test[\"Block\"].isin(temp[temp>0.55].keys())\n",
    "test['Block_less_parking'] = test[\"Block\"].isin(temp[temp<0.2].keys())"
   ]
  },
  {
   "cell_type": "code",
   "execution_count": 699,
   "metadata": {
    "collapsed": true
   },
   "outputs": [],
   "source": [
    "reg_target_encoding(data,'Block',\"any_spot\") \n",
    "reg_target_encoding(data,'DOW',\"Real.Spots\") \n",
    "reg_target_encoding(data,'hour',\"Real.Spots\") \n",
    "# reg_target_encoding(data,'Street',\"any_spot\" )  \n",
    "\n",
    "street_freq = data.groupby(\"Block\")['Block'].count()\n",
    "data = data.join(street_freq, on=\"Block\", rsuffix='_fre')\n",
    "\n",
    "mean_encoding_test(test, data,'Block',\"any_spot\" ) \n",
    "# mean_encoding_test(test, data,'Street',\"any_spot\" ) \n",
    "mean_encoding_test(test, data,'DOW',\"Real.Spots\" ) \n",
    "mean_encoding_test(test, data,'hour',\"Real.Spots\" ) \n",
    "\n",
    "test = test.join(street_freq, on=\"Block\", rsuffix='_fre')"
   ]
  },
  {
   "cell_type": "code",
   "execution_count": 880,
   "metadata": {
    "collapsed": true
   },
   "outputs": [],
   "source": [
    "y_data = data['any_spot'].values\n",
    "X_data = data.drop([ 'Temperature_Departure', 'Temperature_Avg','date','any_spot','Real.Spots','datetime','month','DOW','Street','From','To','Block','Street.Length'], axis=1)\n",
    "\n",
    "id_ = test['id'] # \n",
    "X_test = test.drop(['id','Temperature_Departure','Temperature_Avg','date','datetime','month','DOW','Street','From','To','Block','Street.Length'], axis=1)"
   ]
  },
  {
   "cell_type": "code",
   "execution_count": 829,
   "metadata": {},
   "outputs": [
    {
     "data": {
      "text/plain": [
       "{'max_features': 0.7, 'min_samples_leaf': 30, 'n_estimators': 15}"
      ]
     },
     "execution_count": 829,
     "metadata": {},
     "output_type": "execute_result"
    }
   ],
   "source": [
    "rf = RandomForestClassifier()\n",
    "param_grid = {\n",
    "    'n_estimators': [10,15, 20,25, 30],\n",
    "    'max_features': ['auto', 'sqrt', 'log2'],\n",
    "    'max_features': [0.6, 0.7, 0.8, 0.9],\n",
    "    #'min_samples_split':[.23,.24,.25,.26,.27,0.28],\n",
    "    'min_samples_leaf':[15, 20, 25, 30]\n",
    "    #'max_depth':[2,4, 5]\n",
    "    }\n",
    "grid_search = GridSearchCV(rf, param_grid=param_grid, scorer = scorer)\n",
    "grid_search.fit(X_data, y_data)\n",
    "grid_search.best_params_"
   ]
  },
  {
   "cell_type": "code",
   "execution_count": 855,
   "metadata": {},
   "outputs": [
    {
     "data": {
      "text/plain": [
       "0.69889341875364008"
      ]
     },
     "execution_count": 855,
     "metadata": {},
     "output_type": "execute_result"
    }
   ],
   "source": [
    "m = RandomForestClassifier(n_estimators=15, min_samples_leaf=30,max_features=0.7, n_jobs=8)\n",
    "m.fit(X_data, y_data)\n",
    "f_05(y_data, m.predict(X_data))"
   ]
  },
  {
   "cell_type": "code",
   "execution_count": null,
   "metadata": {
    "collapsed": true
   },
   "outputs": [],
   "source": [
    "rf_pred = m.predict(X_test)"
   ]
  },
  {
   "cell_type": "code",
   "execution_count": 833,
   "metadata": {},
   "outputs": [
    {
     "data": {
      "image/png": "[encoded data removed]",
      "text/plain": [
       "<matplotlib.figure.Figure at 0x131266d30>"
      ]
     },
     "metadata": {},
     "output_type": "display_data"
    }
   ],
   "source": [
    "def plot_fi(fi): return fi.plot('cols', 'imp','barh', figsize=(6,7), legend=False)\n",
    "fi = pd.DataFrame({'cols':X_data.columns, 'imp':m.feature_importances_}\n",
    "                      ).sort_values('imp', ascending=False)\n",
    "\n",
    "plot_fi(fi)\n",
    "plt.show()"
   ]
  },
  {
   "cell_type": "code",
   "execution_count": null,
   "metadata": {
    "collapsed": true
   },
   "outputs": [],
   "source": []
  },
  {
   "cell_type": "code",
   "execution_count": 1,
   "metadata": {},
   "outputs": [
    {
     "name": "stdout",
     "output_type": "stream",
     "text": [
      "{'n_estimators': 300, 'max_depth': 2, 'learning_rate': 0.001}\n"
     ]
    }
   ],
   "source": [
    "xgb = xgb.XGBClassifier()\n",
    "param_grid = {\n",
    "    'n_estimators': [200,250,300, 350],\n",
    "    'max_depth': [2, 3, 4],\n",
    "    'learning_rate': [0.1, 0.01, 0.005, 0.001],\n",
    "    }\n",
    "grid_search = GridSearchCV(xgb, param_grid=param_grid, scorer = scorer)\n",
    "grid_search.fit(X_data, y_data)\n",
    "grid_search.best_params_"
   ]
  },
  {
   "cell_type": "code",
   "execution_count": 904,
   "metadata": {},
   "outputs": [
    {
     "data": {
      "text/plain": [
       "0.61243144424131624"
      ]
     },
     "execution_count": 904,
     "metadata": {},
     "output_type": "execute_result"
    }
   ],
   "source": [
    "import xgboost as xgb\n",
    "\n",
    "gbm = xgb.XGBClassifier(max_depth=2, n_estimators=300, learning_rate=0.001).fit(X_data, y_data)\n",
    "yhat = gbm.predict(X_data)\n",
    "f_05(y_data, yhat) # 0.612 to real is 0.559 (2, 300, 0.001)"
   ]
  },
  {
   "cell_type": "code",
   "execution_count": null,
   "metadata": {
    "collapsed": true
   },
   "outputs": [],
   "source": [
    "xgb_pred = gbm.predict(X_test)"
   ]
  },
  {
   "cell_type": "markdown",
   "metadata": {},
   "source": [
    "Predictions made with both random forest and XGBoost from time to time during the inclass Kaggle competition was submitted "
   ]
  },
  {
   "cell_type": "markdown",
   "metadata": {
    "collapsed": true
   },
   "source": [
    "### Stacking"
   ]
  },
  {
   "cell_type": "code",
   "execution_count": 921,
   "metadata": {
    "collapsed": true
   },
   "outputs": [],
   "source": [
    "pred1 = pd.read_csv(\"prob1.txt\") \n",
    "pred2 = pd.read_csv(\"prob2.txt\").set_index('id')\n",
    "pred3 = pd.read_csv(\"prob3.txt\").set_index('id')"
   ]
  },
  {
   "cell_type": "code",
   "execution_count": 922,
   "metadata": {
    "collapsed": true
   },
   "outputs": [],
   "source": [
    "# stacking predicted probabilities by mean\n",
    "new_pred = pred1.join(pred2 , on='id', rsuffix='_2').join(pred3 , on='id', rsuffix='_3')\n",
    "new_pred['pred']=new_pred[['any_spot','any_spot_2','any_spot_3']].mean(axis=1).astype(int)\n",
    "new_pred = new_pred.drop(['any_spot','any_spot_3'], axis=1).rename(columns={'pred': 'any_spot'})"
   ]
  },
  {
   "cell_type": "code",
   "execution_count": null,
   "metadata": {
    "collapsed": true
   },
   "outputs": [],
   "source": [
    "# stacking hard predictions by vote\n",
    "new_pred = pred1.join(pred3 , on='id', rsuffix='_3')\n",
    "new_pred['pred']=new_pred[['any_spot','any_spot_3']].mean(axis=1)\n",
    "mask = new_pred.pred > 0.5\n",
    "new_pred.loc[mask, \"pred\"] = 1\n",
    "mask = new_pred.pred <= 0.5\n",
    "new_pred.loc[mask, \"pred\"] = 0\n",
    "\n",
    "new_pred.pred = new_pred.pred.astype(int)\n",
    "new_pred = new_pred.drop(['any_spot','any_spot_3'], axis=1).rename(columns={'pred': 'any_spot'})"
   ]
  },
  {
   "cell_type": "code",
   "execution_count": null,
   "metadata": {
    "collapsed": true
   },
   "outputs": [],
   "source": []
  }
 ],
 "metadata": {
  "kernelspec": {
   "display_name": "Python 3",
   "language": "python",
   "name": "python3"
  },
  "language_info": {
   "codemirror_mode": {
    "name": "ipython",
    "version": 3
   },
   "file_extension": ".py",
   "mimetype": "text/x-python",
   "name": "python",
   "nbconvert_exporter": "python",
   "pygments_lexer": "ipython3",
   "version": "3.6.2"
  }
 },
 "nbformat": 4,
 "nbformat_minor": 2
}
