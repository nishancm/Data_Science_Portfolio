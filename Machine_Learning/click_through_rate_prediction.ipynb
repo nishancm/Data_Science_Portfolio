{
 "cells": [
  {
   "cell_type": "markdown",
   "metadata": {},
   "source": [
    "# Click through rate prediction"
   ]
  },
  {
   "cell_type": "markdown",
   "metadata": {},
   "source": [
    "Data is extracted from a Kaggle competition finished 3 years (https://www.kaggle.com/c/avazu-ctr-prediction). Objective of this competition was to predict whether a user will click or not. Along with that another focus of this exercise is to use regularized mean encoding as a form of feature engineering."
   ]
  },
  {
   "cell_type": "code",
   "execution_count": 1,
   "metadata": {
    "collapsed": true,
    "nbgrader": {
     "checksum": "faa7d57db15637b9b55b67f9808b36b7",
     "grade": false,
     "grade_id": "cell-963eb775c60d3928",
     "locked": true,
     "schema_version": 1,
     "solution": false
    }
   },
   "outputs": [],
   "source": [
    "import numpy as np\n",
    "import pandas as pd\n",
    "from sklearn.ensemble import RandomForestClassifier\n",
    "from sklearn.metrics import log_loss\n",
    "from sklearn.ensemble import forest"
   ]
  },
  {
   "cell_type": "code",
   "execution_count": 20,
   "metadata": {
    "collapsed": true
   },
   "outputs": [],
   "source": [
    "# data types of input files\n",
    "dtypes = {'id':np.float16, 'click':np.uint8, 'hour':np.uint32, 'C1': np.uint32, \n",
    "         'banner_pos':np.uint32, 'device_type': np.uint8, 'device_conn_type': np.uint8,\n",
    "         'C14':np.uint16,'C15':np.uint16, 'C16':np.uint16, 'C17':np.uint16, 'C18':np.uint16,\n",
    "          'C19':np.uint16, 'C20':np.uint16, 'C21':np.uint16}"
   ]
  },
  {
   "cell_type": "code",
   "execution_count": 26,
   "metadata": {
    "collapsed": true
   },
   "outputs": [],
   "source": [
    "def load_data(dtypes):\n",
    "    path = \"avazu/\"\n",
    "    data = pd.read_csv(path + \"train\", dtype=dtypes)\n",
    "    test = pd.read_csv(path + \"test\", dtype=dtypes)\n",
    "    return data, test"
   ]
  },
  {
   "cell_type": "code",
   "execution_count": 28,
   "metadata": {
    "collapsed": true
   },
   "outputs": [],
   "source": [
    "data,test = load_data(dtypes)"
   ]
  },
  {
   "cell_type": "code",
   "execution_count": 29,
   "metadata": {
    "collapsed": true
   },
   "outputs": [],
   "source": [
    "# mark categorical variables\n",
    "test.site_id = test.site_id.astype('category')\n",
    "test.site_domain = test.site_domain.astype('category')\n",
    "test.site_category = test.site_category.astype('category')\n",
    "test.app_id = test.app_id.astype('category')\n",
    "test.app_domain = test.app_domain.astype('category')\n",
    "test.app_category = test.app_category.astype('category')\n",
    "test.device_id = test.device_id.astype('category')\n",
    "test.device_ip = test.device_ip.astype('category')\n",
    "test.device_model = test.device_model.astype('category')\n",
    "\n",
    "data.site_id = data.site_id.astype('category')\n",
    "data.site_domain = data.site_domain.astype('category')\n",
    "data.site_category = data.site_category.astype('category')\n",
    "data.app_id = data.app_id.astype('category')\n",
    "data.app_domain = data.app_domain.astype('category')\n",
    "data.app_category = data.app_category.astype('category')\n",
    "data.device_id = data.device_id.astype('category')\n",
    "data.device_ip = data.device_ip.astype('category')\n",
    "data.device_model = data.device_model.astype('category')"
   ]
  },
  {
   "cell_type": "code",
   "execution_count": 30,
   "metadata": {},
   "outputs": [
    {
     "data": {
      "text/html": [
       "<div>\n",
       "<style scoped>\n",
       "    .dataframe tbody tr th:only-of-type {\n",
       "        vertical-align: middle;\n",
       "    }\n",
       "\n",
       "    .dataframe tbody tr th {\n",
       "        vertical-align: top;\n",
       "    }\n",
       "\n",
       "    .dataframe thead th {\n",
       "        text-align: right;\n",
       "    }\n",
       "</style>\n",
       "<table border=\"1\" class=\"dataframe\">\n",
       "  <thead>\n",
       "    <tr style=\"text-align: right;\">\n",
       "      <th></th>\n",
       "      <th>0</th>\n",
       "      <th>1</th>\n",
       "      <th>2</th>\n",
       "      <th>3</th>\n",
       "      <th>4</th>\n",
       "      <th>5</th>\n",
       "      <th>6</th>\n",
       "      <th>7</th>\n",
       "      <th>8</th>\n",
       "      <th>9</th>\n",
       "      <th>...</th>\n",
       "      <th>4577454</th>\n",
       "      <th>4577455</th>\n",
       "      <th>4577456</th>\n",
       "      <th>4577457</th>\n",
       "      <th>4577458</th>\n",
       "      <th>4577459</th>\n",
       "      <th>4577460</th>\n",
       "      <th>4577461</th>\n",
       "      <th>4577462</th>\n",
       "      <th>4577463</th>\n",
       "    </tr>\n",
       "  </thead>\n",
       "  <tbody>\n",
       "    <tr>\n",
       "      <th>id</th>\n",
       "      <td>inf</td>\n",
       "      <td>inf</td>\n",
       "      <td>inf</td>\n",
       "      <td>inf</td>\n",
       "      <td>inf</td>\n",
       "      <td>inf</td>\n",
       "      <td>inf</td>\n",
       "      <td>inf</td>\n",
       "      <td>inf</td>\n",
       "      <td>inf</td>\n",
       "      <td>...</td>\n",
       "      <td>inf</td>\n",
       "      <td>inf</td>\n",
       "      <td>inf</td>\n",
       "      <td>inf</td>\n",
       "      <td>inf</td>\n",
       "      <td>inf</td>\n",
       "      <td>inf</td>\n",
       "      <td>inf</td>\n",
       "      <td>inf</td>\n",
       "      <td>inf</td>\n",
       "    </tr>\n",
       "    <tr>\n",
       "      <th>hour</th>\n",
       "      <td>14103100</td>\n",
       "      <td>14103100</td>\n",
       "      <td>14103100</td>\n",
       "      <td>14103100</td>\n",
       "      <td>14103100</td>\n",
       "      <td>14103100</td>\n",
       "      <td>14103100</td>\n",
       "      <td>14103100</td>\n",
       "      <td>14103100</td>\n",
       "      <td>14103100</td>\n",
       "      <td>...</td>\n",
       "      <td>14103123</td>\n",
       "      <td>14103123</td>\n",
       "      <td>14103123</td>\n",
       "      <td>14103123</td>\n",
       "      <td>14103123</td>\n",
       "      <td>14103123</td>\n",
       "      <td>14103123</td>\n",
       "      <td>14103123</td>\n",
       "      <td>14103123</td>\n",
       "      <td>14103123</td>\n",
       "    </tr>\n",
       "    <tr>\n",
       "      <th>C1</th>\n",
       "      <td>1005</td>\n",
       "      <td>1005</td>\n",
       "      <td>1005</td>\n",
       "      <td>1005</td>\n",
       "      <td>1005</td>\n",
       "      <td>1005</td>\n",
       "      <td>1005</td>\n",
       "      <td>1005</td>\n",
       "      <td>1005</td>\n",
       "      <td>1005</td>\n",
       "      <td>...</td>\n",
       "      <td>1005</td>\n",
       "      <td>1005</td>\n",
       "      <td>1005</td>\n",
       "      <td>1005</td>\n",
       "      <td>1005</td>\n",
       "      <td>1005</td>\n",
       "      <td>1005</td>\n",
       "      <td>1005</td>\n",
       "      <td>1005</td>\n",
       "      <td>1005</td>\n",
       "    </tr>\n",
       "    <tr>\n",
       "      <th>banner_pos</th>\n",
       "      <td>0</td>\n",
       "      <td>0</td>\n",
       "      <td>0</td>\n",
       "      <td>0</td>\n",
       "      <td>0</td>\n",
       "      <td>1</td>\n",
       "      <td>0</td>\n",
       "      <td>0</td>\n",
       "      <td>0</td>\n",
       "      <td>0</td>\n",
       "      <td>...</td>\n",
       "      <td>1</td>\n",
       "      <td>0</td>\n",
       "      <td>0</td>\n",
       "      <td>0</td>\n",
       "      <td>0</td>\n",
       "      <td>0</td>\n",
       "      <td>0</td>\n",
       "      <td>0</td>\n",
       "      <td>0</td>\n",
       "      <td>0</td>\n",
       "    </tr>\n",
       "    <tr>\n",
       "      <th>site_id</th>\n",
       "      <td>235ba823</td>\n",
       "      <td>1fbe01fe</td>\n",
       "      <td>1fbe01fe</td>\n",
       "      <td>85f751fd</td>\n",
       "      <td>85f751fd</td>\n",
       "      <td>57fe1b20</td>\n",
       "      <td>1fbe01fe</td>\n",
       "      <td>85f751fd</td>\n",
       "      <td>543a539e</td>\n",
       "      <td>1fbe01fe</td>\n",
       "      <td>...</td>\n",
       "      <td>e151e245</td>\n",
       "      <td>85f751fd</td>\n",
       "      <td>85f751fd</td>\n",
       "      <td>17d1b03f</td>\n",
       "      <td>85f751fd</td>\n",
       "      <td>93eaba74</td>\n",
       "      <td>17d1b03f</td>\n",
       "      <td>5b08c53b</td>\n",
       "      <td>85f751fd</td>\n",
       "      <td>17d1b03f</td>\n",
       "    </tr>\n",
       "    <tr>\n",
       "      <th>site_domain</th>\n",
       "      <td>f6ebf28e</td>\n",
       "      <td>f3845767</td>\n",
       "      <td>f3845767</td>\n",
       "      <td>c4e18dd6</td>\n",
       "      <td>c4e18dd6</td>\n",
       "      <td>5b626596</td>\n",
       "      <td>f3845767</td>\n",
       "      <td>c4e18dd6</td>\n",
       "      <td>c7ca3108</td>\n",
       "      <td>f3845767</td>\n",
       "      <td>...</td>\n",
       "      <td>7e091613</td>\n",
       "      <td>c4e18dd6</td>\n",
       "      <td>c4e18dd6</td>\n",
       "      <td>f3845767</td>\n",
       "      <td>c4e18dd6</td>\n",
       "      <td>7687a86e</td>\n",
       "      <td>f3845767</td>\n",
       "      <td>7687a86e</td>\n",
       "      <td>c4e18dd6</td>\n",
       "      <td>f3845767</td>\n",
       "    </tr>\n",
       "    <tr>\n",
       "      <th>site_category</th>\n",
       "      <td>f028772b</td>\n",
       "      <td>28905ebd</td>\n",
       "      <td>28905ebd</td>\n",
       "      <td>50e219e0</td>\n",
       "      <td>50e219e0</td>\n",
       "      <td>f028772b</td>\n",
       "      <td>28905ebd</td>\n",
       "      <td>50e219e0</td>\n",
       "      <td>3e814130</td>\n",
       "      <td>28905ebd</td>\n",
       "      <td>...</td>\n",
       "      <td>f028772b</td>\n",
       "      <td>50e219e0</td>\n",
       "      <td>50e219e0</td>\n",
       "      <td>f028772b</td>\n",
       "      <td>50e219e0</td>\n",
       "      <td>3e814130</td>\n",
       "      <td>f028772b</td>\n",
       "      <td>3e814130</td>\n",
       "      <td>50e219e0</td>\n",
       "      <td>f028772b</td>\n",
       "    </tr>\n",
       "    <tr>\n",
       "      <th>app_id</th>\n",
       "      <td>ecad2386</td>\n",
       "      <td>ecad2386</td>\n",
       "      <td>ecad2386</td>\n",
       "      <td>51cedd4e</td>\n",
       "      <td>9c13b419</td>\n",
       "      <td>ecad2386</td>\n",
       "      <td>ecad2386</td>\n",
       "      <td>388d9bfb</td>\n",
       "      <td>ecad2386</td>\n",
       "      <td>ecad2386</td>\n",
       "      <td>...</td>\n",
       "      <td>ecad2386</td>\n",
       "      <td>98fed791</td>\n",
       "      <td>febd1138</td>\n",
       "      <td>ecad2386</td>\n",
       "      <td>8dbc921a</td>\n",
       "      <td>ecad2386</td>\n",
       "      <td>ecad2386</td>\n",
       "      <td>ecad2386</td>\n",
       "      <td>92f5800b</td>\n",
       "      <td>ecad2386</td>\n",
       "    </tr>\n",
       "    <tr>\n",
       "      <th>app_domain</th>\n",
       "      <td>7801e8d9</td>\n",
       "      <td>7801e8d9</td>\n",
       "      <td>7801e8d9</td>\n",
       "      <td>aefc06bd</td>\n",
       "      <td>2347f47a</td>\n",
       "      <td>7801e8d9</td>\n",
       "      <td>7801e8d9</td>\n",
       "      <td>2347f47a</td>\n",
       "      <td>7801e8d9</td>\n",
       "      <td>7801e8d9</td>\n",
       "      <td>...</td>\n",
       "      <td>7801e8d9</td>\n",
       "      <td>d9b5648e</td>\n",
       "      <td>82e27996</td>\n",
       "      <td>7801e8d9</td>\n",
       "      <td>d9b5648e</td>\n",
       "      <td>7801e8d9</td>\n",
       "      <td>7801e8d9</td>\n",
       "      <td>7801e8d9</td>\n",
       "      <td>ae637522</td>\n",
       "      <td>7801e8d9</td>\n",
       "    </tr>\n",
       "    <tr>\n",
       "      <th>app_category</th>\n",
       "      <td>07d7df22</td>\n",
       "      <td>07d7df22</td>\n",
       "      <td>07d7df22</td>\n",
       "      <td>0f2161f8</td>\n",
       "      <td>f95efa07</td>\n",
       "      <td>07d7df22</td>\n",
       "      <td>07d7df22</td>\n",
       "      <td>cef3e649</td>\n",
       "      <td>07d7df22</td>\n",
       "      <td>07d7df22</td>\n",
       "      <td>...</td>\n",
       "      <td>07d7df22</td>\n",
       "      <td>0f2161f8</td>\n",
       "      <td>0f2161f8</td>\n",
       "      <td>07d7df22</td>\n",
       "      <td>0f2161f8</td>\n",
       "      <td>07d7df22</td>\n",
       "      <td>07d7df22</td>\n",
       "      <td>07d7df22</td>\n",
       "      <td>0f2161f8</td>\n",
       "      <td>07d7df22</td>\n",
       "    </tr>\n",
       "    <tr>\n",
       "      <th>device_id</th>\n",
       "      <td>a99f214a</td>\n",
       "      <td>a99f214a</td>\n",
       "      <td>a99f214a</td>\n",
       "      <td>a99f214a</td>\n",
       "      <td>a99f214a</td>\n",
       "      <td>a99f214a</td>\n",
       "      <td>a99f214a</td>\n",
       "      <td>3772665a</td>\n",
       "      <td>a99f214a</td>\n",
       "      <td>a99f214a</td>\n",
       "      <td>...</td>\n",
       "      <td>a99f214a</td>\n",
       "      <td>a99f214a</td>\n",
       "      <td>a99f214a</td>\n",
       "      <td>a99f214a</td>\n",
       "      <td>a99f214a</td>\n",
       "      <td>a99f214a</td>\n",
       "      <td>a99f214a</td>\n",
       "      <td>a99f214a</td>\n",
       "      <td>a99f214a</td>\n",
       "      <td>a99f214a</td>\n",
       "    </tr>\n",
       "    <tr>\n",
       "      <th>device_ip</th>\n",
       "      <td>69f45779</td>\n",
       "      <td>e8d44657</td>\n",
       "      <td>10fb085b</td>\n",
       "      <td>422d257a</td>\n",
       "      <td>078c6b38</td>\n",
       "      <td>e75922ff</td>\n",
       "      <td>f1e8683d</td>\n",
       "      <td>a4a540c1</td>\n",
       "      <td>dc17d849</td>\n",
       "      <td>feb189df</td>\n",
       "      <td>...</td>\n",
       "      <td>0eeb6185</td>\n",
       "      <td>edc9cd89</td>\n",
       "      <td>70dc9968</td>\n",
       "      <td>418dd0d2</td>\n",
       "      <td>83d0504d</td>\n",
       "      <td>bcc9bcf5</td>\n",
       "      <td>1ff55d5e</td>\n",
       "      <td>bfef0578</td>\n",
       "      <td>66f14444</td>\n",
       "      <td>127c3710</td>\n",
       "    </tr>\n",
       "    <tr>\n",
       "      <th>device_model</th>\n",
       "      <td>0eb711ec</td>\n",
       "      <td>ecb851b2</td>\n",
       "      <td>1f0bc64f</td>\n",
       "      <td>542422a7</td>\n",
       "      <td>1f0bc64f</td>\n",
       "      <td>68b6db2c</td>\n",
       "      <td>d4897fef</td>\n",
       "      <td>a2140f4f</td>\n",
       "      <td>ac9ad752</td>\n",
       "      <td>8a4875bd</td>\n",
       "      <td>...</td>\n",
       "      <td>ffcd1497</td>\n",
       "      <td>aad45b01</td>\n",
       "      <td>d056b4bf</td>\n",
       "      <td>3bc980aa</td>\n",
       "      <td>9b5ce758</td>\n",
       "      <td>84ebbcd4</td>\n",
       "      <td>d787e91b</td>\n",
       "      <td>d17a0181</td>\n",
       "      <td>054c8edf</td>\n",
       "      <td>a0f5f879</td>\n",
       "    </tr>\n",
       "    <tr>\n",
       "      <th>device_type</th>\n",
       "      <td>1</td>\n",
       "      <td>1</td>\n",
       "      <td>1</td>\n",
       "      <td>1</td>\n",
       "      <td>1</td>\n",
       "      <td>1</td>\n",
       "      <td>1</td>\n",
       "      <td>1</td>\n",
       "      <td>1</td>\n",
       "      <td>1</td>\n",
       "      <td>...</td>\n",
       "      <td>1</td>\n",
       "      <td>1</td>\n",
       "      <td>1</td>\n",
       "      <td>1</td>\n",
       "      <td>1</td>\n",
       "      <td>1</td>\n",
       "      <td>1</td>\n",
       "      <td>1</td>\n",
       "      <td>1</td>\n",
       "      <td>1</td>\n",
       "    </tr>\n",
       "    <tr>\n",
       "      <th>device_conn_type</th>\n",
       "      <td>0</td>\n",
       "      <td>0</td>\n",
       "      <td>0</td>\n",
       "      <td>0</td>\n",
       "      <td>0</td>\n",
       "      <td>0</td>\n",
       "      <td>0</td>\n",
       "      <td>3</td>\n",
       "      <td>0</td>\n",
       "      <td>0</td>\n",
       "      <td>...</td>\n",
       "      <td>0</td>\n",
       "      <td>0</td>\n",
       "      <td>0</td>\n",
       "      <td>0</td>\n",
       "      <td>0</td>\n",
       "      <td>0</td>\n",
       "      <td>0</td>\n",
       "      <td>0</td>\n",
       "      <td>3</td>\n",
       "      <td>0</td>\n",
       "    </tr>\n",
       "    <tr>\n",
       "      <th>C14</th>\n",
       "      <td>8330</td>\n",
       "      <td>22676</td>\n",
       "      <td>22676</td>\n",
       "      <td>18648</td>\n",
       "      <td>23160</td>\n",
       "      <td>6563</td>\n",
       "      <td>22813</td>\n",
       "      <td>23214</td>\n",
       "      <td>23642</td>\n",
       "      <td>15699</td>\n",
       "      <td>...</td>\n",
       "      <td>17747</td>\n",
       "      <td>20508</td>\n",
       "      <td>24075</td>\n",
       "      <td>22261</td>\n",
       "      <td>21611</td>\n",
       "      <td>17654</td>\n",
       "      <td>22104</td>\n",
       "      <td>17654</td>\n",
       "      <td>23857</td>\n",
       "      <td>22254</td>\n",
       "    </tr>\n",
       "    <tr>\n",
       "      <th>C15</th>\n",
       "      <td>320</td>\n",
       "      <td>320</td>\n",
       "      <td>320</td>\n",
       "      <td>320</td>\n",
       "      <td>320</td>\n",
       "      <td>320</td>\n",
       "      <td>320</td>\n",
       "      <td>300</td>\n",
       "      <td>320</td>\n",
       "      <td>320</td>\n",
       "      <td>...</td>\n",
       "      <td>320</td>\n",
       "      <td>320</td>\n",
       "      <td>320</td>\n",
       "      <td>320</td>\n",
       "      <td>320</td>\n",
       "      <td>300</td>\n",
       "      <td>320</td>\n",
       "      <td>300</td>\n",
       "      <td>320</td>\n",
       "      <td>320</td>\n",
       "    </tr>\n",
       "    <tr>\n",
       "      <th>C16</th>\n",
       "      <td>50</td>\n",
       "      <td>50</td>\n",
       "      <td>50</td>\n",
       "      <td>50</td>\n",
       "      <td>50</td>\n",
       "      <td>50</td>\n",
       "      <td>50</td>\n",
       "      <td>250</td>\n",
       "      <td>50</td>\n",
       "      <td>50</td>\n",
       "      <td>...</td>\n",
       "      <td>50</td>\n",
       "      <td>50</td>\n",
       "      <td>50</td>\n",
       "      <td>50</td>\n",
       "      <td>50</td>\n",
       "      <td>250</td>\n",
       "      <td>50</td>\n",
       "      <td>250</td>\n",
       "      <td>50</td>\n",
       "      <td>50</td>\n",
       "    </tr>\n",
       "    <tr>\n",
       "      <th>C17</th>\n",
       "      <td>761</td>\n",
       "      <td>2616</td>\n",
       "      <td>2616</td>\n",
       "      <td>1092</td>\n",
       "      <td>2667</td>\n",
       "      <td>572</td>\n",
       "      <td>2647</td>\n",
       "      <td>2675</td>\n",
       "      <td>2709</td>\n",
       "      <td>1722</td>\n",
       "      <td>...</td>\n",
       "      <td>1974</td>\n",
       "      <td>2351</td>\n",
       "      <td>2480</td>\n",
       "      <td>2545</td>\n",
       "      <td>2480</td>\n",
       "      <td>1994</td>\n",
       "      <td>2545</td>\n",
       "      <td>1994</td>\n",
       "      <td>2734</td>\n",
       "      <td>2545</td>\n",
       "    </tr>\n",
       "    <tr>\n",
       "      <th>C18</th>\n",
       "      <td>3</td>\n",
       "      <td>0</td>\n",
       "      <td>0</td>\n",
       "      <td>3</td>\n",
       "      <td>0</td>\n",
       "      <td>2</td>\n",
       "      <td>2</td>\n",
       "      <td>3</td>\n",
       "      <td>3</td>\n",
       "      <td>0</td>\n",
       "      <td>...</td>\n",
       "      <td>2</td>\n",
       "      <td>3</td>\n",
       "      <td>3</td>\n",
       "      <td>0</td>\n",
       "      <td>3</td>\n",
       "      <td>2</td>\n",
       "      <td>0</td>\n",
       "      <td>2</td>\n",
       "      <td>1</td>\n",
       "      <td>0</td>\n",
       "    </tr>\n",
       "    <tr>\n",
       "      <th>C19</th>\n",
       "      <td>175</td>\n",
       "      <td>35</td>\n",
       "      <td>35</td>\n",
       "      <td>809</td>\n",
       "      <td>47</td>\n",
       "      <td>39</td>\n",
       "      <td>39</td>\n",
       "      <td>939</td>\n",
       "      <td>39</td>\n",
       "      <td>35</td>\n",
       "      <td>...</td>\n",
       "      <td>39</td>\n",
       "      <td>163</td>\n",
       "      <td>299</td>\n",
       "      <td>431</td>\n",
       "      <td>299</td>\n",
       "      <td>39</td>\n",
       "      <td>431</td>\n",
       "      <td>39</td>\n",
       "      <td>175</td>\n",
       "      <td>431</td>\n",
       "    </tr>\n",
       "    <tr>\n",
       "      <th>C20</th>\n",
       "      <td>34539</td>\n",
       "      <td>34547</td>\n",
       "      <td>34547</td>\n",
       "      <td>34620</td>\n",
       "      <td>65535</td>\n",
       "      <td>65535</td>\n",
       "      <td>34612</td>\n",
       "      <td>34522</td>\n",
       "      <td>65535</td>\n",
       "      <td>65535</td>\n",
       "      <td>...</td>\n",
       "      <td>34483</td>\n",
       "      <td>65535</td>\n",
       "      <td>34575</td>\n",
       "      <td>34548</td>\n",
       "      <td>34575</td>\n",
       "      <td>65535</td>\n",
       "      <td>34548</td>\n",
       "      <td>65535</td>\n",
       "      <td>34653</td>\n",
       "      <td>34548</td>\n",
       "    </tr>\n",
       "    <tr>\n",
       "      <th>C21</th>\n",
       "      <td>23</td>\n",
       "      <td>51</td>\n",
       "      <td>51</td>\n",
       "      <td>61</td>\n",
       "      <td>221</td>\n",
       "      <td>32</td>\n",
       "      <td>23</td>\n",
       "      <td>100</td>\n",
       "      <td>23</td>\n",
       "      <td>79</td>\n",
       "      <td>...</td>\n",
       "      <td>33</td>\n",
       "      <td>61</td>\n",
       "      <td>61</td>\n",
       "      <td>221</td>\n",
       "      <td>61</td>\n",
       "      <td>33</td>\n",
       "      <td>221</td>\n",
       "      <td>33</td>\n",
       "      <td>71</td>\n",
       "      <td>221</td>\n",
       "    </tr>\n",
       "  </tbody>\n",
       "</table>\n",
       "<p>23 rows × 4577464 columns</p>\n",
       "</div>"
      ],
      "text/plain": [
       "                   0         1         2         3         4         5        \\\n",
       "id                     inf       inf       inf       inf       inf       inf   \n",
       "hour              14103100  14103100  14103100  14103100  14103100  14103100   \n",
       "C1                    1005      1005      1005      1005      1005      1005   \n",
       "banner_pos               0         0         0         0         0         1   \n",
       "site_id           235ba823  1fbe01fe  1fbe01fe  85f751fd  85f751fd  57fe1b20   \n",
       "site_domain       f6ebf28e  f3845767  f3845767  c4e18dd6  c4e18dd6  5b626596   \n",
       "site_category     f028772b  28905ebd  28905ebd  50e219e0  50e219e0  f028772b   \n",
       "app_id            ecad2386  ecad2386  ecad2386  51cedd4e  9c13b419  ecad2386   \n",
       "app_domain        7801e8d9  7801e8d9  7801e8d9  aefc06bd  2347f47a  7801e8d9   \n",
       "app_category      07d7df22  07d7df22  07d7df22  0f2161f8  f95efa07  07d7df22   \n",
       "device_id         a99f214a  a99f214a  a99f214a  a99f214a  a99f214a  a99f214a   \n",
       "device_ip         69f45779  e8d44657  10fb085b  422d257a  078c6b38  e75922ff   \n",
       "device_model      0eb711ec  ecb851b2  1f0bc64f  542422a7  1f0bc64f  68b6db2c   \n",
       "device_type              1         1         1         1         1         1   \n",
       "device_conn_type         0         0         0         0         0         0   \n",
       "C14                   8330     22676     22676     18648     23160      6563   \n",
       "C15                    320       320       320       320       320       320   \n",
       "C16                     50        50        50        50        50        50   \n",
       "C17                    761      2616      2616      1092      2667       572   \n",
       "C18                      3         0         0         3         0         2   \n",
       "C19                    175        35        35       809        47        39   \n",
       "C20                  34539     34547     34547     34620     65535     65535   \n",
       "C21                     23        51        51        61       221        32   \n",
       "\n",
       "                   6         7         8         9          ...      4577454  \\\n",
       "id                     inf       inf       inf       inf    ...          inf   \n",
       "hour              14103100  14103100  14103100  14103100    ...     14103123   \n",
       "C1                    1005      1005      1005      1005    ...         1005   \n",
       "banner_pos               0         0         0         0    ...            1   \n",
       "site_id           1fbe01fe  85f751fd  543a539e  1fbe01fe    ...     e151e245   \n",
       "site_domain       f3845767  c4e18dd6  c7ca3108  f3845767    ...     7e091613   \n",
       "site_category     28905ebd  50e219e0  3e814130  28905ebd    ...     f028772b   \n",
       "app_id            ecad2386  388d9bfb  ecad2386  ecad2386    ...     ecad2386   \n",
       "app_domain        7801e8d9  2347f47a  7801e8d9  7801e8d9    ...     7801e8d9   \n",
       "app_category      07d7df22  cef3e649  07d7df22  07d7df22    ...     07d7df22   \n",
       "device_id         a99f214a  3772665a  a99f214a  a99f214a    ...     a99f214a   \n",
       "device_ip         f1e8683d  a4a540c1  dc17d849  feb189df    ...     0eeb6185   \n",
       "device_model      d4897fef  a2140f4f  ac9ad752  8a4875bd    ...     ffcd1497   \n",
       "device_type              1         1         1         1    ...            1   \n",
       "device_conn_type         0         3         0         0    ...            0   \n",
       "C14                  22813     23214     23642     15699    ...        17747   \n",
       "C15                    320       300       320       320    ...          320   \n",
       "C16                     50       250        50        50    ...           50   \n",
       "C17                   2647      2675      2709      1722    ...         1974   \n",
       "C18                      2         3         3         0    ...            2   \n",
       "C19                     39       939        39        35    ...           39   \n",
       "C20                  34612     34522     65535     65535    ...        34483   \n",
       "C21                     23       100        23        79    ...           33   \n",
       "\n",
       "                   4577455   4577456   4577457   4577458   4577459   4577460  \\\n",
       "id                     inf       inf       inf       inf       inf       inf   \n",
       "hour              14103123  14103123  14103123  14103123  14103123  14103123   \n",
       "C1                    1005      1005      1005      1005      1005      1005   \n",
       "banner_pos               0         0         0         0         0         0   \n",
       "site_id           85f751fd  85f751fd  17d1b03f  85f751fd  93eaba74  17d1b03f   \n",
       "site_domain       c4e18dd6  c4e18dd6  f3845767  c4e18dd6  7687a86e  f3845767   \n",
       "site_category     50e219e0  50e219e0  f028772b  50e219e0  3e814130  f028772b   \n",
       "app_id            98fed791  febd1138  ecad2386  8dbc921a  ecad2386  ecad2386   \n",
       "app_domain        d9b5648e  82e27996  7801e8d9  d9b5648e  7801e8d9  7801e8d9   \n",
       "app_category      0f2161f8  0f2161f8  07d7df22  0f2161f8  07d7df22  07d7df22   \n",
       "device_id         a99f214a  a99f214a  a99f214a  a99f214a  a99f214a  a99f214a   \n",
       "device_ip         edc9cd89  70dc9968  418dd0d2  83d0504d  bcc9bcf5  1ff55d5e   \n",
       "device_model      aad45b01  d056b4bf  3bc980aa  9b5ce758  84ebbcd4  d787e91b   \n",
       "device_type              1         1         1         1         1         1   \n",
       "device_conn_type         0         0         0         0         0         0   \n",
       "C14                  20508     24075     22261     21611     17654     22104   \n",
       "C15                    320       320       320       320       300       320   \n",
       "C16                     50        50        50        50       250        50   \n",
       "C17                   2351      2480      2545      2480      1994      2545   \n",
       "C18                      3         3         0         3         2         0   \n",
       "C19                    163       299       431       299        39       431   \n",
       "C20                  65535     34575     34548     34575     65535     34548   \n",
       "C21                     61        61       221        61        33       221   \n",
       "\n",
       "                   4577461   4577462   4577463  \n",
       "id                     inf       inf       inf  \n",
       "hour              14103123  14103123  14103123  \n",
       "C1                    1005      1005      1005  \n",
       "banner_pos               0         0         0  \n",
       "site_id           5b08c53b  85f751fd  17d1b03f  \n",
       "site_domain       7687a86e  c4e18dd6  f3845767  \n",
       "site_category     3e814130  50e219e0  f028772b  \n",
       "app_id            ecad2386  92f5800b  ecad2386  \n",
       "app_domain        7801e8d9  ae637522  7801e8d9  \n",
       "app_category      07d7df22  0f2161f8  07d7df22  \n",
       "device_id         a99f214a  a99f214a  a99f214a  \n",
       "device_ip         bfef0578  66f14444  127c3710  \n",
       "device_model      d17a0181  054c8edf  a0f5f879  \n",
       "device_type              1         1         1  \n",
       "device_conn_type         0         3         0  \n",
       "C14                  17654     23857     22254  \n",
       "C15                    300       320       320  \n",
       "C16                    250        50        50  \n",
       "C17                   1994      2734      2545  \n",
       "C18                      2         1         0  \n",
       "C19                     39       175       431  \n",
       "C20                  65535     34653     34548  \n",
       "C21                     33        71       221  \n",
       "\n",
       "[23 rows x 4577464 columns]"
      ]
     },
     "execution_count": 30,
     "metadata": {},
     "output_type": "execute_result"
    }
   ],
   "source": [
    "test.T"
   ]
  },
  {
   "cell_type": "code",
   "execution_count": 31,
   "metadata": {},
   "outputs": [
    {
     "data": {
      "text/plain": [
       "id                   float16\n",
       "hour                  uint32\n",
       "C1                    uint32\n",
       "banner_pos            uint32\n",
       "site_id             category\n",
       "site_domain         category\n",
       "site_category       category\n",
       "app_id              category\n",
       "app_domain          category\n",
       "app_category        category\n",
       "device_id           category\n",
       "device_ip           category\n",
       "device_model        category\n",
       "device_type            uint8\n",
       "device_conn_type       uint8\n",
       "C14                   uint16\n",
       "C15                   uint16\n",
       "C16                   uint16\n",
       "C17                   uint16\n",
       "C18                   uint16\n",
       "C19                   uint16\n",
       "C20                   uint16\n",
       "C21                   uint16\n",
       "dtype: object"
      ]
     },
     "execution_count": 31,
     "metadata": {},
     "output_type": "execute_result"
    }
   ],
   "source": [
    "test.dtypes"
   ]
  },
  {
   "cell_type": "code",
   "execution_count": 32,
   "metadata": {},
   "outputs": [
    {
     "data": {
      "text/plain": [
       "Index([], dtype='object')"
      ]
     },
     "execution_count": 32,
     "metadata": {},
     "output_type": "execute_result"
    }
   ],
   "source": [
    "# check columns containing missing values in data\n",
    "data.columns[data.isnull().any()]\n",
    "# no missing values"
   ]
  },
  {
   "cell_type": "code",
   "execution_count": 33,
   "metadata": {},
   "outputs": [
    {
     "data": {
      "text/plain": [
       "Index([], dtype='object')"
      ]
     },
     "execution_count": 33,
     "metadata": {},
     "output_type": "execute_result"
    }
   ],
   "source": [
    "# check columns containing missing values in test\n",
    "test.columns[test.isnull().any()]\n",
    "# no missing values"
   ]
  },
  {
   "cell_type": "code",
   "execution_count": 34,
   "metadata": {
    "collapsed": true
   },
   "outputs": [],
   "source": [
    "# extract hour of the day data\n",
    "data.hour = data.hour.astype(str)\n",
    "data['hour_24'] = data.hour.str[-2:]\n",
    "data['date'] = data.hour.str[:-2]\n",
    "data.drop('hour', inplace=True, axis = 1)\n",
    "\n",
    "# extract hour of the day test\n",
    "test.hour = test.hour.astype(str)\n",
    "test['hour_24'] = test.hour.str[-2:]\n",
    "test['date'] = test.hour.str[:-2]\n",
    "test.drop('hour', inplace=True, axis = 1)\n",
    "\n",
    "test.hour_24 = test.hour_24.astype(np.uint8)\n",
    "data.hour_24 = data.hour_24.astype(np.uint8)"
   ]
  },
  {
   "cell_type": "code",
   "execution_count": 37,
   "metadata": {
    "collapsed": true
   },
   "outputs": [],
   "source": [
    "# extract day of the week\n",
    "data['date'] = '20'+data['date']\n",
    "data['date'] = pd.to_datetime(data.date, format='%Y%m%d')\n",
    "data['day_of_week'] = data.date.dt.dayofweek\n",
    "data.drop('date', inplace=True, axis=1)\n",
    "\n",
    "test['date'] = '20'+test['date']\n",
    "test['date'] = pd.to_datetime(test.date, format='%Y%m%d')\n",
    "test['day_of_week'] = test.date.dt.dayofweek\n",
    "test.drop('date', inplace=True, axis=1)"
   ]
  },
  {
   "cell_type": "code",
   "execution_count": 38,
   "metadata": {
    "collapsed": true
   },
   "outputs": [],
   "source": [
    "# make sure test and data same categorical labeling\n",
    "for n,c in test.items():\n",
    "    if (n in data.columns) and (data[n].dtype.name=='category'):\n",
    "        test[n] = pd.Categorical(c, categories=data[n].cat.categories)"
   ]
  },
  {
   "cell_type": "code",
   "execution_count": 39,
   "metadata": {
    "collapsed": true
   },
   "outputs": [],
   "source": [
    "# Change strings categories to numbers\n",
    "for n,c in data.items():\n",
    "    if data[n].dtype.name=='category':\n",
    "        data[n] = c.cat.codes\n",
    "        \n",
    "for n,c in test.items():\n",
    "    if test[n].dtype.name=='category':\n",
    "        test[n] = c.cat.codes"
   ]
  },
  {
   "cell_type": "code",
   "execution_count": 40,
   "metadata": {
    "collapsed": true
   },
   "outputs": [],
   "source": [
    "# get a validation set\n",
    "# lets take final 10% of the data as validation set \n",
    "N = data.shape[0] - data.shape[0]//10\n",
    "train = data[:N].copy().reset_index()\n",
    "val = data[N:].copy().reset_index()"
   ]
  },
  {
   "cell_type": "code",
   "execution_count": 41,
   "metadata": {
    "collapsed": true
   },
   "outputs": [],
   "source": [
    "train.drop('id', inplace = True, axis = 1)\n",
    "val.drop('id', inplace = True, axis = 1)\n",
    "test.drop('id', inplace = True, axis = 1)"
   ]
  },
  {
   "cell_type": "code",
   "execution_count": 42,
   "metadata": {
    "collapsed": true
   },
   "outputs": [],
   "source": [
    "def reg_target_encoding(train, col = \"device_type\", splits=5):\n",
    "    \"\"\" \n",
    "    Computes regularize mean encoding       \n",
    "    \"\"\"\n",
    "    kf = KFold(n_splits = splits)\n",
    "    \n",
    "    train[col+\"_mean_enc\"] = 0\n",
    "    for folds in kf.split(train):\n",
    "        mean_device_type = train.iloc[folds[0],:].groupby(col).click.mean()\n",
    "        train[col+\"_mean_enc\"][folds[1]] = train[col][folds[1]].map(mean_device_type)\n",
    "        local_mean = train.iloc[folds[0],:].click.mean()\n",
    "        train[col+\"_mean_enc\"][folds[1]].fillna(local_mean, inplace=True)"
   ]
  },
  {
   "cell_type": "code",
   "execution_count": 43,
   "metadata": {
    "collapsed": true
   },
   "outputs": [],
   "source": [
    "def mean_encoding_test(test, train, col = \"device_type\"):\n",
    "    \"\"\"\n",
    "    Computes target enconding for test data.\n",
    "    \"\"\"\n",
    "    global_mean = y_train.mean()\n",
    "    mean_device_type = train.groupby(col).click.mean()\n",
    "    test[col+\"_mean_enc\"] = 0\n",
    "    test[col+\"_mean_enc\"] = test[col].map(mean_device_type)\n",
    "    test[col+\"_mean_enc\"].fillna(global_mean, inplace=True)"
   ]
  },
  {
   "cell_type": "code",
   "execution_count": 1,
   "metadata": {},
   "outputs": [],
   "source": [
    "# let find suitable variables to do mean encoding.Particulary vairables that does not have\n",
    "# too many levels"
   ]
  },
  {
   "cell_type": "code",
   "execution_count": 45,
   "metadata": {
    "collapsed": true
   },
   "outputs": [
    {
     "data": {
      "text/plain": [
       "1    33477755\n",
       "0     2047242\n",
       "4      738857\n",
       "5      122186\n",
       "2          31\n",
       "Name: device_type, dtype: int64"
      ]
     },
     "execution_count": 45,
     "metadata": {},
     "output_type": "execute_result"
    }
   ],
   "source": [
    "train['device_type'].value_counts()"
   ]
  },
  {
   "cell_type": "code",
   "execution_count": 46,
   "metadata": {
    "collapsed": true
   },
   "outputs": [
    {
     "data": {
      "text/plain": [
       "2494    12716031\n",
       "582      5929891\n",
       "4158     2386091\n",
       "4032      894183\n",
       "1748      815782\n",
       "2486      726086\n",
       "1753      692003\n",
       "3093      460944\n",
       "3395      335777\n",
       "1762      331341\n",
       "1816      324202\n",
       "1909      313056\n",
       "1891      289848\n",
       "431       255500\n",
       "1705      248642\n",
       "2456      248562\n",
       "194       247864\n",
       "1708      243215\n",
       "4293      237310\n",
       "4212      231913\n",
       "3948      208957\n",
       "346       189520\n",
       "2061      176459\n",
       "2865      167726\n",
       "1569      165485\n",
       "4240      165185\n",
       "2741      164148\n",
       "3455      156374\n",
       "4189      150896\n",
       "3806      139017\n",
       "          ...   \n",
       "1502           1\n",
       "446            1\n",
       "3532           1\n",
       "445            1\n",
       "444            1\n",
       "1506           1\n",
       "4345           1\n",
       "439            1\n",
       "3467           1\n",
       "1514           1\n",
       "4335           1\n",
       "3493           1\n",
       "3497           1\n",
       "3501           1\n",
       "3533           1\n",
       "482            1\n",
       "4317           1\n",
       "1435           1\n",
       "3518           1\n",
       "475            1\n",
       "3517           1\n",
       "1442           1\n",
       "472            1\n",
       "4321           1\n",
       "1449           1\n",
       "1452           1\n",
       "1453           1\n",
       "466            1\n",
       "3504           1\n",
       "3667           1\n",
       "Name: site_id, Length: 4647, dtype: int64"
      ]
     },
     "execution_count": 46,
     "metadata": {},
     "output_type": "execute_result"
    }
   ],
   "source": [
    "train['site_id'].value_counts()"
   ]
  },
  {
   "cell_type": "code",
   "execution_count": 47,
   "metadata": {
    "collapsed": true
   },
   "outputs": [
    {
     "data": {
      "text/plain": [
       "6000    13204514\n",
       "7339     5929891\n",
       "3893     3070268\n",
       "3666     1156389\n",
       "4672      926960\n",
       "686       768985\n",
       "2736      726086\n",
       "4841      366511\n",
       "5417      340343\n",
       "725       328493\n",
       "4615      313056\n",
       "1294      289850\n",
       "6421      275431\n",
       "417       255500\n",
       "5772      248642\n",
       "2859      248562\n",
       "2516      247864\n",
       "2822      244137\n",
       "5986      237310\n",
       "3335      235189\n",
       "4970      231913\n",
       "5717      208958\n",
       "3545      198330\n",
       "5049      197349\n",
       "1973      165485\n",
       "6559      156375\n",
       "3334      136036\n",
       "1255      122829\n",
       "6888      110389\n",
       "4904      101262\n",
       "          ...   \n",
       "1497           1\n",
       "1478           1\n",
       "6914           1\n",
       "3418           1\n",
       "3419           1\n",
       "3407           1\n",
       "3400           1\n",
       "1490           1\n",
       "5894           1\n",
       "3399           1\n",
       "3395           1\n",
       "3390           1\n",
       "1495           1\n",
       "3391           1\n",
       "5899           1\n",
       "5912           1\n",
       "3389           1\n",
       "6909           1\n",
       "6910           1\n",
       "1502           1\n",
       "6911           1\n",
       "1504           1\n",
       "3387           1\n",
       "1506           1\n",
       "3372           1\n",
       "3373           1\n",
       "5914           1\n",
       "1517           1\n",
       "3367           1\n",
       "2494           1\n",
       "Name: site_domain, Length: 7570, dtype: int64"
      ]
     },
     "execution_count": 47,
     "metadata": {},
     "output_type": "execute_result"
    }
   ],
   "source": [
    "train['site_domain'].value_counts()"
   ]
  },
  {
   "cell_type": "code",
   "execution_count": 48,
   "metadata": {
    "collapsed": true
   },
   "outputs": [
    {
     "data": {
      "text/plain": [
       "6     14493600\n",
       "24    11611018\n",
       "2      6765492\n",
       "4      2771999\n",
       "25      240773\n",
       "12      153582\n",
       "3       121770\n",
       "13      101686\n",
       "19       38220\n",
       "10       24017\n",
       "22       21811\n",
       "0        16047\n",
       "9        15281\n",
       "17        3036\n",
       "14        2389\n",
       "5         2307\n",
       "23        1205\n",
       "18        1042\n",
       "7          431\n",
       "15         316\n",
       "21          23\n",
       "11          12\n",
       "1            6\n",
       "20           4\n",
       "8            2\n",
       "16           2\n",
       "Name: site_category, dtype: int64"
      ]
     },
     "execution_count": 48,
     "metadata": {},
     "output_type": "execute_result"
    }
   ],
   "source": [
    "train['site_category'].value_counts()"
   ]
  },
  {
   "cell_type": "code",
   "execution_count": 49,
   "metadata": {
    "collapsed": true
   },
   "outputs": [
    {
     "data": {
      "text/plain": [
       "7884    23670040\n",
       "4904     1552526\n",
       "7558     1005429\n",
       "8510      685617\n",
       "3882      580640\n",
       "5506      456369\n",
       "5187      421069\n",
       "2837      373306\n",
       "109       294711\n",
       "7778      267980\n",
       "8014      264769\n",
       "7547      256665\n",
       "122       217039\n",
       "2698      210378\n",
       "5099      207273\n",
       "3472      206187\n",
       "3873      193483\n",
       "3521      181027\n",
       "7773      172514\n",
       "8181      164001\n",
       "7058      163668\n",
       "6867      138037\n",
       "6355      111918\n",
       "8303       91700\n",
       "976        90912\n",
       "1891       86624\n",
       "2090       83344\n",
       "7432       75082\n",
       "2795       73479\n",
       "1888       72532\n",
       "          ...   \n",
       "4110           1\n",
       "4155           1\n",
       "1373           1\n",
       "1372           1\n",
       "4188           1\n",
       "1338           1\n",
       "4223           1\n",
       "4218           1\n",
       "4214           1\n",
       "4208           1\n",
       "4210           1\n",
       "4206           1\n",
       "4201           1\n",
       "1349           1\n",
       "1351           1\n",
       "4203           1\n",
       "4190           1\n",
       "1371           1\n",
       "1358           1\n",
       "4187           1\n",
       "1360           1\n",
       "4181           1\n",
       "4183           1\n",
       "4182           1\n",
       "1364           1\n",
       "1365           1\n",
       "4169           1\n",
       "4167           1\n",
       "4162           1\n",
       "4693           1\n",
       "Name: app_id, Length: 8296, dtype: int64"
      ]
     },
     "execution_count": 49,
     "metadata": {},
     "output_type": "execute_result"
    }
   ],
   "source": [
    "train['app_id'].value_counts()"
   ]
  },
  {
   "cell_type": "code",
   "execution_count": 50,
   "metadata": {
    "collapsed": true
   },
   "outputs": [
    {
     "data": {
      "text/plain": [
       "254    25002516\n",
       "75      4236593\n",
       "378     1855579\n",
       "200     1005613\n",
       "282      685644\n",
       "478      671592\n",
       "410      603305\n",
       "407      498909\n",
       "19       331557\n",
       "490      273894\n",
       "380      267377\n",
       "110      252648\n",
       "241      206210\n",
       "197       91700\n",
       "290       64645\n",
       "201       53037\n",
       "147       46699\n",
       "400       42085\n",
       "278       24363\n",
       "8         22015\n",
       "373       16541\n",
       "436       13456\n",
       "365       12717\n",
       "35        11705\n",
       "331       10040\n",
       "281        7897\n",
       "139        6890\n",
       "532        5786\n",
       "142        5417\n",
       "148        4761\n",
       "         ...   \n",
       "122           1\n",
       "118           1\n",
       "117           1\n",
       "111           1\n",
       "236           1\n",
       "239           1\n",
       "245           1\n",
       "249           1\n",
       "319           1\n",
       "318           1\n",
       "316           1\n",
       "315           1\n",
       "314           1\n",
       "310           1\n",
       "304           1\n",
       "303           1\n",
       "301           1\n",
       "299           1\n",
       "295           1\n",
       "293           1\n",
       "291           1\n",
       "285           1\n",
       "279           1\n",
       "277           1\n",
       "268           1\n",
       "267           1\n",
       "257           1\n",
       "252           1\n",
       "251           1\n",
       "0             1\n",
       "Name: app_domain, Length: 548, dtype: int64"
      ]
     },
     "execution_count": 50,
     "metadata": {},
     "output_type": "execute_result"
    }
   ],
   "source": [
    "train['app_domain'].value_counts()"
   ]
  },
  {
   "cell_type": "code",
   "execution_count": 51,
   "metadata": {
    "collapsed": true
   },
   "outputs": [
    {
     "data": {
      "text/plain": [
       "0     23990581\n",
       "4      8521331\n",
       "29     1604149\n",
       "21     1159783\n",
       "34      771085\n",
       "30      115559\n",
       "1        54189\n",
       "31       50640\n",
       "17       37355\n",
       "35       21745\n",
       "11       18462\n",
       "20       11797\n",
       "23       10094\n",
       "9         5984\n",
       "5         5338\n",
       "7         2179\n",
       "25        2091\n",
       "22        1488\n",
       "18         595\n",
       "2          417\n",
       "24         335\n",
       "15         284\n",
       "6          204\n",
       "8          187\n",
       "13         132\n",
       "3           25\n",
       "10          13\n",
       "27           8\n",
       "26           6\n",
       "16           5\n",
       "19           3\n",
       "14           2\n",
       "32           2\n",
       "12           1\n",
       "28           1\n",
       "33           1\n",
       "Name: app_category, dtype: int64"
      ]
     },
     "execution_count": 51,
     "metadata": {},
     "output_type": "execute_result"
    }
   ],
   "source": [
    "train['app_category'].value_counts()"
   ]
  },
  {
   "cell_type": "code",
   "execution_count": 52,
   "metadata": {
    "collapsed": true
   },
   "outputs": [
    {
     "data": {
      "text/plain": [
       "1780272    29924778\n",
       "2049923       19667\n",
       "162650        13104\n",
       "1547552       12597\n",
       "1846569        8498\n",
       "429077         4101\n",
       "1600102        3969\n",
       "2270026        3768\n",
       "2171665        3512\n",
       "1853656        3299\n",
       "638808         2251\n",
       "35009          2238\n",
       "29916          2022\n",
       "2212834        1466\n",
       "2537666        1392\n",
       "1801688        1374\n",
       "98979          1369\n",
       "1970582        1182\n",
       "1214408        1182\n",
       "2505718        1150\n",
       "1626599        1069\n",
       "2050227         976\n",
       "2436626         969\n",
       "2000565         929\n",
       "105212          918\n",
       "2455635         910\n",
       "462592          859\n",
       "819195          835\n",
       "630970          828\n",
       "1978437         820\n",
       "             ...   \n",
       "386538            1\n",
       "288218            1\n",
       "47387             1\n",
       "80171             1\n",
       "112955            1\n",
       "1795642           1\n",
       "1631818           1\n",
       "2473404           1\n",
       "2669596           1\n",
       "2090666           1\n",
       "1992346           1\n",
       "1358748           1\n",
       "1391532           1\n",
       "2025098           1\n",
       "1664634           1\n",
       "1489884           1\n",
       "1555452           1\n",
       "2636812           1\n",
       "2112780           1\n",
       "1599066           1\n",
       "2145564           1\n",
       "2178348           1\n",
       "2211132           1\n",
       "2243916           1\n",
       "2276700           1\n",
       "2309484           1\n",
       "2342268           1\n",
       "2375052           1\n",
       "2407836           1\n",
       "0                 1\n",
       "Name: device_id, Length: 2494573, dtype: int64"
      ]
     },
     "execution_count": 52,
     "metadata": {},
     "output_type": "execute_result"
    }
   ],
   "source": [
    "train['device_id'].value_counts()"
   ]
  },
  {
   "cell_type": "code",
   "execution_count": 53,
   "metadata": {
    "collapsed": true
   },
   "outputs": [
    {
     "data": {
      "text/plain": [
       "2829892    191748\n",
       "1765109    123999\n",
       "1240642     86510\n",
       "4616722     85850\n",
       "3867252     84934\n",
       "4611824     83824\n",
       "15669       83487\n",
       "1060593     83370\n",
       "2619376     81281\n",
       "5706711     80867\n",
       "5215490     65566\n",
       "2309818     64929\n",
       "3096394     64698\n",
       "759912      64529\n",
       "5831890     64370\n",
       "118733      64116\n",
       "1907685     64072\n",
       "4426221     63933\n",
       "5443218     63193\n",
       "3629101     63118\n",
       "4079854     61121\n",
       "197243      33911\n",
       "3335371     33538\n",
       "4628728     33405\n",
       "2767998     31938\n",
       "4534874     31154\n",
       "4960851     31112\n",
       "3937332     27299\n",
       "6028413     27184\n",
       "6706309     26860\n",
       "            ...  \n",
       "4466582         1\n",
       "307079          1\n",
       "208759          1\n",
       "4401014         1\n",
       "3811414         1\n",
       "2512915         1\n",
       "1957740         1\n",
       "3975302         1\n",
       "2763350         1\n",
       "2697782         1\n",
       "2730534         1\n",
       "2632214         1\n",
       "3615222         1\n",
       "3647974         1\n",
       "1728412         1\n",
       "5920669         1\n",
       "3516838         1\n",
       "1826732         1\n",
       "5822413         1\n",
       "1597404         1\n",
       "3287382         1\n",
       "3320134         1\n",
       "3156246         1\n",
       "3188998         1\n",
       "6705170         1\n",
       "4073686         1\n",
       "4106438         1\n",
       "4008118         1\n",
       "4040870         1\n",
       "0               1\n",
       "Name: device_ip, Length: 6163329, dtype: int64"
      ]
     },
     "execution_count": 53,
     "metadata": {},
     "output_type": "execute_result"
    }
   ],
   "source": [
    "train['device_ip'].value_counts()"
   ]
  },
  {
   "cell_type": "code",
   "execution_count": 54,
   "metadata": {
    "collapsed": true
   },
   "outputs": [
    {
     "data": {
      "text/plain": [
       "4460    2224826\n",
       "934     1256762\n",
       "6949    1245865\n",
       "3805     689051\n",
       "6078     653973\n",
       "5189     593138\n",
       "2484     582994\n",
       "3934     559911\n",
       "7645     550886\n",
       "6855     437070\n",
       "2551     420352\n",
       "7278     418239\n",
       "3612     410567\n",
       "871      374535\n",
       "6334     359674\n",
       "4882     358783\n",
       "4287     353757\n",
       "370      352190\n",
       "1893     349270\n",
       "7754     340797\n",
       "6079     337401\n",
       "1900     328363\n",
       "1729     324337\n",
       "467      317325\n",
       "3835     313255\n",
       "8149     304507\n",
       "5492     282919\n",
       "2996     277435\n",
       "637      258108\n",
       "5348     249296\n",
       "         ...   \n",
       "4509          1\n",
       "640           1\n",
       "1797          1\n",
       "6902          1\n",
       "4679          1\n",
       "4727          1\n",
       "4722          1\n",
       "6835          1\n",
       "4716          1\n",
       "1760          1\n",
       "4713          1\n",
       "6858          1\n",
       "4711          1\n",
       "4701          1\n",
       "4687          1\n",
       "4677          1\n",
       "659           1\n",
       "1795          1\n",
       "4678          1\n",
       "657           1\n",
       "4674          1\n",
       "4668          1\n",
       "6870          1\n",
       "1784          1\n",
       "4643          1\n",
       "4638          1\n",
       "648           1\n",
       "1790          1\n",
       "6882          1\n",
       "8250          1\n",
       "Name: device_model, Length: 8165, dtype: int64"
      ]
     },
     "execution_count": 54,
     "metadata": {},
     "output_type": "execute_result"
    }
   ],
   "source": [
    "train['device_model'].value_counts()"
   ]
  },
  {
   "cell_type": "code",
   "execution_count": 55,
   "metadata": {},
   "outputs": [
    {
     "name": "stderr",
     "output_type": "stream",
     "text": [
      "/home/ubuntu/src/anaconda3/envs/fastai/lib/python3.6/site-packages/ipykernel_launcher.py:13: SettingWithCopyWarning: \n",
      "A value is trying to be set on a copy of a slice from a DataFrame\n",
      "\n",
      "See the caveats in the documentation: http://pandas.pydata.org/pandas-docs/stable/indexing.html#indexing-view-versus-copy\n",
      "  del sys.path[0]\n"
     ]
    }
   ],
   "source": [
    "# Mean encoding\n",
    "reg_target_encoding(train, col = \"device_type\")\n",
    "mean_encoding_test(val, train, col = \"device_type\")\n",
    "mean_encoding_test(test, train, col = \"device_type\")\n",
    "\n",
    "reg_target_encoding(train, col = \"app_category\")\n",
    "mean_encoding_test(val, train, col = \"app_category\")\n",
    "mean_encoding_test(test, train, col = \"app_category\")\n",
    "\n",
    "reg_target_encoding(train, col = \"site_category\")\n",
    "mean_encoding_test(val, train, col = \"site_category\")\n",
    "mean_encoding_test(test, train, col = \"site_category\")"
   ]
  },
  {
   "cell_type": "code",
   "execution_count": 56,
   "metadata": {
    "collapsed": true
   },
   "outputs": [],
   "source": [
    "train.to_pickle('train_pk')\n",
    "val.to_pickle('val_pk')\n",
    "test.to_pickle('test_pk')"
   ]
  },
  {
   "cell_type": "code",
   "execution_count": 3,
   "metadata": {
    "collapsed": true
   },
   "outputs": [],
   "source": [
    "train = pd.read_pickle('train_pk')\n",
    "val = pd.read_pickle('val_pk')\n",
    "test = pd.read_pickle('test_pk')"
   ]
  },
  {
   "cell_type": "code",
   "execution_count": 4,
   "metadata": {
    "collapsed": true
   },
   "outputs": [],
   "source": [
    "# seperate X and y\n",
    "y_train = train['click']\n",
    "x_train = train.drop('click', axis=1)\n",
    "del train\n",
    "\n",
    "y_val = val['click']\n",
    "x_val = val.drop('click', axis=1)\n",
    "del val"
   ]
  },
  {
   "cell_type": "code",
   "execution_count": 9,
   "metadata": {
    "collapsed": true
   },
   "outputs": [],
   "source": [
    "# Random forest will only take n number of rows in each iteration\n",
    "def set_rf_samples(n):\n",
    "    forest._generate_sample_indices = (lambda rs, n_samples:\n",
    "        forest.check_random_state(rs).randint(0, n_samples, n))"
   ]
  },
  {
   "cell_type": "code",
   "execution_count": 9,
   "metadata": {
    "collapsed": true
   },
   "outputs": [],
   "source": [
    "set_rf_samples(100000)"
   ]
  },
  {
   "cell_type": "code",
   "execution_count": 10,
   "metadata": {},
   "outputs": [
    {
     "name": "stdout",
     "output_type": "stream",
     "text": [
      "[3, 10, 0.5] 0.597\n",
      "[3, 10, 0.6] 0.5443\n",
      "[3, 20, 0.5] 0.4305\n",
      "[3, 20, 0.6] 0.4422\n",
      "[3, 50, 0.5] 0.4133\n",
      "[3, 50, 0.6] 0.4123\n",
      "[5, 10, 0.5] 0.4998\n",
      "[5, 10, 0.6] 0.4672\n",
      "[5, 20, 0.5] 0.4184\n",
      "[5, 20, 0.6] 0.4195\n",
      "[5, 50, 0.5] 0.4095\n",
      "[5, 50, 0.6] 0.4086\n",
      "[10, 10, 0.5] 0.4305\n",
      "[10, 10, 0.6] 0.4369\n",
      "[10, 20, 0.5] 0.4131\n",
      "[10, 20, 0.6] 0.4112\n",
      "[10, 50, 0.5] 0.4073\n",
      "[10, 50, 0.6] 0.4083\n"
     ]
    }
   ],
   "source": [
    "#hyper parameter tuning\n",
    "val_log_loss = {}\n",
    "for min_samples_leaf in [3,5,10]:\n",
    "    for n_estimators in [10,20,50]:\n",
    "        for max_features in [0.5, 0.6]:\n",
    "            rf = RandomForestClassifier(min_samples_leaf=min_samples_leaf, n_estimators=n_estimators, \n",
    "                                        max_features=max_features, n_jobs=-1, criterion= 'entropy')\n",
    "            rf.fit(x_train, y_train)\n",
    "            print([min_samples_leaf,n_estimators,max_features], round(log_loss(y_val, rf.predict_proba(x_val)),4))\n",
    "            val_log_loss[round(log_loss(y_val, rf.predict_proba(x_val)),4)]=[min_samples_leaf,n_estimators,max_features]"
   ]
  },
  {
   "cell_type": "code",
   "execution_count": 11,
   "metadata": {
    "collapsed": true
   },
   "outputs": [],
   "source": [
    "best_para = val_log_loss[min(val_log_loss.keys())]"
   ]
  },
  {
   "cell_type": "code",
   "execution_count": 12,
   "metadata": {},
   "outputs": [
    {
     "data": {
      "text/plain": [
       "[10, 50, 0.5]"
      ]
     },
     "execution_count": 12,
     "metadata": {},
     "output_type": "execute_result"
    }
   ],
   "source": [
    "best_para"
   ]
  },
  {
   "cell_type": "markdown",
   "metadata": {},
   "source": [
    "# Final model"
   ]
  },
  {
   "cell_type": "code",
   "execution_count": 10,
   "metadata": {
    "collapsed": true
   },
   "outputs": [],
   "source": [
    "set_rf_samples(500000)"
   ]
  },
  {
   "cell_type": "code",
   "execution_count": 11,
   "metadata": {
    "collapsed": true
   },
   "outputs": [],
   "source": [
    "# final model\n",
    "rf_final = RandomForestClassifier(min_samples_leaf=10, n_estimators=50, \n",
    "                                        max_features=0.5, n_jobs=-1, criterion= 'entropy')"
   ]
  },
  {
   "cell_type": "code",
   "execution_count": 12,
   "metadata": {
    "collapsed": true
   },
   "outputs": [],
   "source": [
    "X = x_train.append(x_val)\n",
    "Y = y_train.append(y_val)"
   ]
  },
  {
   "cell_type": "code",
   "execution_count": 13,
   "metadata": {},
   "outputs": [
    {
     "data": {
      "text/plain": [
       "RandomForestClassifier(bootstrap=True, class_weight=None, criterion='entropy',\n",
       "            max_depth=None, max_features=0.5, max_leaf_nodes=None,\n",
       "            min_impurity_decrease=0.0, min_impurity_split=None,\n",
       "            min_samples_leaf=10, min_samples_split=2,\n",
       "            min_weight_fraction_leaf=0.0, n_estimators=50, n_jobs=-1,\n",
       "            oob_score=False, random_state=None, verbose=0,\n",
       "            warm_start=False)"
      ]
     },
     "execution_count": 13,
     "metadata": {},
     "output_type": "execute_result"
    }
   ],
   "source": [
    "rf_final.fit(X, Y)"
   ]
  },
  {
   "cell_type": "code",
   "execution_count": 15,
   "metadata": {},
   "outputs": [
    {
     "name": "stdout",
     "output_type": "stream",
     "text": [
      "training log loss: 0.3922\n"
     ]
    }
   ],
   "source": [
    "print('training log loss: '+ str(round(log_loss(Y, rf_final.predict_proba(X)),4)))"
   ]
  },
  {
   "cell_type": "code",
   "execution_count": 21,
   "metadata": {
    "collapsed": true
   },
   "outputs": [],
   "source": [
    "# introduce index column just to match traninng data\n",
    "test['index'] = 1"
   ]
  },
  {
   "cell_type": "code",
   "execution_count": 22,
   "metadata": {
    "collapsed": true
   },
   "outputs": [],
   "source": [
    "preds = rf_final.predict_proba(test)"
   ]
  },
  {
   "cell_type": "code",
   "execution_count": 24,
   "metadata": {
    "collapsed": true
   },
   "outputs": [],
   "source": [
    "np.save('predictions', preds)"
   ]
  },
  {
   "cell_type": "code",
   "execution_count": 25,
   "metadata": {
    "collapsed": true
   },
   "outputs": [],
   "source": [
    "# kaggle submission\n",
    "submission = pd.read_csv('avazu/sampleSubmission')\n",
    "submission['click'] = np.array(preds)[:,1]\n",
    "submission.to_csv('kaggle_index.csv')"
   ]
  },
  {
   "cell_type": "code",
   "execution_count": 11,
   "metadata": {},
   "outputs": [
    {
     "name": "stdout",
     "output_type": "stream",
     "text": [
      "test log loss: 0.4585596\n"
     ]
    }
   ],
   "source": [
    "print('test log loss: 0.4585596')\n",
    "# from submitting to kaggle"
   ]
  }
 ],
 "metadata": {
  "kernelspec": {
   "display_name": "Python 3",
   "language": "python",
   "name": "python3"
  },
  "language_info": {
   "codemirror_mode": {
    "name": "ipython",
    "version": 3
   },
   "file_extension": ".py",
   "mimetype": "text/x-python",
   "name": "python",
   "nbconvert_exporter": "python",
   "pygments_lexer": "ipython3",
   "version": "3.6.2"
  },
  "toc": {
   "nav_menu": {},
   "number_sections": true,
   "sideBar": true,
   "skip_h1_title": false,
   "toc_cell": false,
   "toc_position": {},
   "toc_section_display": "block",
   "toc_window_display": false
  }
 },
 "nbformat": 4,
 "nbformat_minor": 2
}
