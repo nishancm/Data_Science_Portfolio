{
 "cells": [
  {
   "cell_type": "markdown",
   "metadata": {
    "nbgrader": {
     "checksum": "48de53d81aa50d97046cca0ddb2f2d2d",
     "grade": false,
     "grade_id": "cell-cfc24d80c2cf2c24",
     "locked": true,
     "schema_version": 1,
     "solution": false
    }
   },
   "source": [
    "# Adaboost Implementation\n",
    "\n",
    "Implementation of AdaBoost from scratch and applying it to spambase dataset found at https://archive.ics.uci.edu/ml/datasets/spambase to classify a given email as not-spam or spam "
   ]
  },
  {
   "cell_type": "code",
   "execution_count": 1,
   "metadata": {
    "collapsed": true,
    "nbgrader": {
     "checksum": "721eeb40a1514114e45b42ea010de91b",
     "grade": false,
     "grade_id": "cell-3478d607a536190b",
     "locked": true,
     "schema_version": 1,
     "solution": false
    }
   },
   "outputs": [],
   "source": [
    "import numpy as np\n",
    "from sklearn.tree import DecisionTreeClassifier\n",
    "import warnings"
   ]
  },
  {
   "cell_type": "code",
   "execution_count": 96,
   "metadata": {
    "collapsed": true,
    "nbgrader": {
     "checksum": "1410ebe73ffc63306e4c15b6698a7188",
     "grade": false,
     "grade_id": "cell-c56cb727222d9503",
     "locked": true,
     "schema_version": 1,
     "solution": false
    }
   },
   "outputs": [],
   "source": [
    "# accuracy computation\n",
    "def accuracy(y, pred):\n",
    "    return np.sum(y == pred) / float(len(y)) "
   ]
  },
  {
   "cell_type": "code",
   "execution_count": 35,
   "metadata": {
    "collapsed": true,
    "nbgrader": {
     "checksum": "d133f796b3b7db028e1c1ed875771c65",
     "grade": false,
     "grade_id": "cell-1eaf818528c8d676",
     "locked": false,
     "schema_version": 1,
     "solution": true
    }
   },
   "outputs": [],
   "source": [
    "def parse_spambase_data(filename):\n",
    "    \"\"\"\n",
    "    Seperate dependent and independent variables\n",
    "    \"\"\"\n",
    "    data = np.genfromtxt(filename, delimiter=',')\n",
    "    _ , c =data.shape\n",
    "    \n",
    "    X = data[:,0:c-1]\n",
    "    \n",
    "    Y = data[:,c-1]\n",
    "    Y[Y == 0] = -1\n",
    "    return X, Y"
   ]
  },
  {
   "cell_type": "markdown",
   "metadata": {},
   "source": [
    "# Adaboost implementation"
   ]
  },
  {
   "cell_type": "code",
   "execution_count": 8,
   "metadata": {
    "collapsed": true,
    "nbgrader": {
     "checksum": "3a188c77e59b3b431b59f03ddf7bbe7d",
     "grade": false,
     "grade_id": "cell-befcece7be9c6839",
     "locked": false,
     "schema_version": 1,
     "solution": true
    }
   },
   "outputs": [],
   "source": [
    "def adaboost(X, y, num_iter):\n",
    "    \"\"\"\n",
    "    input\n",
    "    X: numpy matrix X (predictors)\n",
    "    y: array y (labels: -1,1) num_iter return trees and weights\n",
    "    num_iter: iterations\n",
    "   \n",
    "    Outputs: \n",
    "    array of trees from DecisionTreeClassifier\n",
    "    array of tree_weights\n",
    "    \"\"\"\n",
    "    trees = []\n",
    "    trees_weights = [] \n",
    "    N, _ = X.shape\n",
    "    d = np.ones(N) / N\n",
    "    \n",
    "    for i in range(num_iter):\n",
    "        dt = DecisionTreeClassifier(max_depth=1, random_state=0)\n",
    "        dt.fit(X,y,sample_weight = d)\n",
    "        \n",
    "        preds = dt.predict(X)\n",
    "        err = np.sum(d[y != preds])/np.sum(d)\n",
    "        \n",
    "        with warnings.catch_warnings():\n",
    "            warnings.simplefilter(\"ignore\")\n",
    "            alpha = np.log((1-err)/err)\n",
    "            if np.isinf(alpha): alpha = 1\n",
    "            \n",
    "        d = d*np.exp(alpha*(y != preds).astype(float))\n",
    "        \n",
    "        trees.append(dt)\n",
    "        trees_weights.append(alpha)\n",
    "\n",
    "    return trees, trees_weights"
   ]
  },
  {
   "cell_type": "code",
   "execution_count": 11,
   "metadata": {
    "collapsed": true,
    "nbgrader": {
     "checksum": "57a2d749acc1d974f996162a4fb190fc",
     "grade": false,
     "grade_id": "cell-50ad4a5c81e7c016",
     "locked": false,
     "schema_version": 1,
     "solution": true
    }
   },
   "outputs": [],
   "source": [
    "def adaboost_predict(X, trees, trees_weights):\n",
    "    \"\"\"Given X, trees and weights predict y\n",
    "    \"\"\"\n",
    "    # X input, y output\n",
    "    N, _ =  X.shape\n",
    "    y = np.zeros(N)\n",
    "    # YOUR CODE HERE\n",
    "    for i in range(len(trees)):\n",
    "        y += (trees[i].predict(X))*trees_weights[i]\n",
    "    #raise NotImplementedError()\n",
    "    return [-1 if yi<=0 else 1 for yi in y]"
   ]
  },
  {
   "cell_type": "markdown",
   "metadata": {},
   "source": [
    "# Train on spambase data"
   ]
  },
  {
   "cell_type": "code",
   "execution_count": 13,
   "metadata": {
    "nbgrader": {
     "checksum": "6f5022208d3fd8fb43a8847635cdb82f",
     "grade": true,
     "grade_id": "cell-89126a5a7f8f0e1b",
     "locked": true,
     "points": 3,
     "schema_version": 1,
     "solution": false
    },
    "scrolled": true
   },
   "outputs": [
    {
     "name": "stdout",
     "output_type": "stream",
     "text": [
      "Train Accuracy 0.9111\n",
      "Test Accuracy 0.9190\n"
     ]
    }
   ],
   "source": [
    "X, Y = parse_spambase_data(\"spambase.train\")\n",
    "X_test, Y_test = parse_spambase_data(\"spambase.test\")\n",
    "trees, trees_weights = adaboost(X, Y, 10)\n",
    "Yhat = adaboost_predict(X, trees, trees_weights)\n",
    "Yhat_test = adaboost_predict(X_test, trees, trees_weights)\n",
    "    \n",
    "acc_test = accuracy(Y_test, Yhat_test)\n",
    "acc_train = accuracy(Y, Yhat)\n",
    "print(\"Train Accuracy %.4f\" % acc_train)\n",
    "print(\"Test Accuracy %.4f\" % acc_test)"
   ]
  },
  {
   "cell_type": "markdown",
   "metadata": {},
   "source": [
    "# Experiment to find optimum number of trees"
   ]
  },
  {
   "cell_type": "code",
   "execution_count": 14,
   "metadata": {
    "collapsed": true
   },
   "outputs": [],
   "source": [
    "#create validation set\n",
    "val_ind = np.random.choice(range(X.shape[0]), X.shape[0], replace=False)\n",
    "\n",
    "x_val = X[val_ind[0:720]]\n",
    "x_train = X[val_ind[720:]]\n",
    "\n",
    "y_val = Y[val_ind[0:720]]\n",
    "y_train = Y[val_ind[720:]]"
   ]
  },
  {
   "cell_type": "code",
   "execution_count": 17,
   "metadata": {
    "collapsed": true
   },
   "outputs": [],
   "source": [
    "# experiment\n",
    "def adaboost_experiment(x_train, x_val, y_train, y_val, num_iter):\n",
    "    trees = []\n",
    "    trees_weights = [] \n",
    "    N, _ = x_train.shape\n",
    "    d = np.ones(N) / N\n",
    "    acc_train = []\n",
    "    acc_val = []\n",
    "    \n",
    "    for i in range(num_iter):\n",
    "        dt = DecisionTreeClassifier(max_depth=1, random_state=0)\n",
    "        dt.fit(x_train,y_train,sample_weight = d)\n",
    "        \n",
    "        preds = dt.predict(x_train)\n",
    "        err = np.sum(d[y_train != preds])/np.sum(d)\n",
    "        \n",
    "        with warnings.catch_warnings():\n",
    "            warnings.simplefilter(\"ignore\")\n",
    "            alpha = np.log((1-err)/err)\n",
    "            if np.isinf(alpha): alpha = 1\n",
    "            \n",
    "        d = d*np.exp(alpha*(y_train != preds).astype(float))\n",
    "        \n",
    "        trees.append(dt)\n",
    "        trees_weights.append(alpha)\n",
    "        \n",
    "        adaboost_predict(x_train, trees, trees_weights)\n",
    "        \n",
    "        acc_train.append(accuracy(y_train, adaboost_predict(x_train, trees, trees_weights)))\n",
    "        acc_val.append(accuracy(y_val, adaboost_predict(x_val, trees, trees_weights)))\n",
    "        \n",
    "    return acc_train, acc_val"
   ]
  },
  {
   "cell_type": "code",
   "execution_count": null,
   "metadata": {
    "collapsed": true
   },
   "outputs": [],
   "source": [
    "acc_train, acc_val = adaboost_experiment(x_train, x_val, y_train, y_val, 500)"
   ]
  },
  {
   "cell_type": "code",
   "execution_count": 19,
   "metadata": {},
   "outputs": [
    {
     "data": {
      "image/png": "[encoded data removed]",
      "text/plain": [
       "<matplotlib.figure.Figure at 0x1158525c0>"
      ]
     },
     "metadata": {},
     "output_type": "display_data"
    }
   ],
   "source": [
    "import matplotlib.pyplot as plt\n",
    "\n",
    "t = np.arange(len(acc_train))\n",
    "plt.figure(figsize=(10,6))\n",
    "plt.plot(t, np.array(acc_train), t, np.array(acc_val))\n",
    "\n",
    "plt.show()"
   ]
  },
  {
   "cell_type": "code",
   "execution_count": 20,
   "metadata": {},
   "outputs": [
    {
     "data": {
      "text/plain": [
       "(471, 0.9375)"
      ]
     },
     "execution_count": 20,
     "metadata": {},
     "output_type": "execute_result"
    }
   ],
   "source": [
    "np.argmax(acc_val), np.max(acc_val)"
   ]
  },
  {
   "cell_type": "markdown",
   "metadata": {},
   "source": [
    "From the above it can be seen that after about 150 trees, validation error (in orange) flattens out and with not much improvement. Maximum validation accuracy is reached at 470 trees. So in order avoid any overfitting best number of trees for adaboost model can be deemed 150"
   ]
  },
  {
   "cell_type": "code",
   "execution_count": 21,
   "metadata": {
    "collapsed": true
   },
   "outputs": [],
   "source": [
    "np.save('acc_val', acc_val)\n",
    "np.save('acc_trn', acc_train)"
   ]
  },
  {
   "cell_type": "markdown",
   "metadata": {},
   "source": [
    "# Using XGBoost as an alternative method\n",
    "\n",
    "Using XGBoost for comparison and see how model performs with different hyper parameter changes"
   ]
  },
  {
   "cell_type": "code",
   "execution_count": 95,
   "metadata": {
    "collapsed": true
   },
   "outputs": [],
   "source": [
    "from xgboost import XGBClassifier"
   ]
  },
  {
   "cell_type": "code",
   "execution_count": 50,
   "metadata": {},
   "outputs": [
    {
     "data": {
      "text/plain": [
       "XGBClassifier(base_score=0.5, booster='gbtree', colsample_bylevel=1,\n",
       "       colsample_bytree=1, gamma=0, learning_rate=0.1, max_delta_step=0,\n",
       "       max_depth=5, min_child_weight=1, missing=None, n_estimators=150,\n",
       "       n_jobs=-1, nthread=None, objective='binary:logistic',\n",
       "       random_state=0, reg_alpha=0, reg_lambda=1, scale_pos_weight=1,\n",
       "       seed=None, silent=True, subsample=0.8)"
      ]
     },
     "execution_count": 50,
     "metadata": {},
     "output_type": "execute_result"
    }
   ],
   "source": [
    "xgb = XGBClassifier(max_depth=5, learning_rate=0.1, n_estimators=150, n_jobs=-1, \n",
    "                    subsample=0.8)\n",
    "xgb.fit(x_train, y_train)"
   ]
  },
  {
   "cell_type": "code",
   "execution_count": 51,
   "metadata": {},
   "outputs": [
    {
     "data": {
      "text/plain": [
       "0.95416666666666672"
      ]
     },
     "execution_count": 51,
     "metadata": {},
     "output_type": "execute_result"
    }
   ],
   "source": [
    "accuracy(y_val, xgb.predict(x_val))"
   ]
  },
  {
   "cell_type": "markdown",
   "metadata": {},
   "source": [
    "XGboost with above parameters provides a better validation set accuracy compared to Adaboost"
   ]
  },
  {
   "cell_type": "code",
   "execution_count": 93,
   "metadata": {
    "collapsed": true
   },
   "outputs": [],
   "source": [
    "# plots for how XGBoost performs with different parameter values\n",
    "max_depth=[1,2,5,10,20]\n",
    "learning_rate = [0.01, 0.1, 0.2, 0.5, 0.99]\n",
    "n_estimators = [5,10,20,50,100]\n",
    "sub_sample = [0.2,0.4, 0.6, 0.8, 1.0]"
   ]
  },
  {
   "cell_type": "code",
   "execution_count": 94,
   "metadata": {
    "collapsed": true
   },
   "outputs": [],
   "source": [
    "X, Y = parse_spambase_data(\"spambase.train\")\n",
    "X_test, Y_test = parse_spambase_data(\"spambase.test\")"
   ]
  },
  {
   "cell_type": "code",
   "execution_count": 127,
   "metadata": {},
   "outputs": [
    {
     "data": {
      "image/png": "[encoded data removed]",
      "text/plain": [
       "<matplotlib.figure.Figure at 0x121f668d0>"
      ]
     },
     "metadata": {},
     "output_type": "display_data"
    }
   ],
   "source": [
    "acc_train = []\n",
    "acc_val = []\n",
    "for i in max_depth:\n",
    "    xgb = XGBClassifier(max_depth=i, learning_rate=0.2, n_estimators=20, n_jobs=-1, \n",
    "                        subsample=0.5)\n",
    "    xgb.fit(X, Y)\n",
    "    \n",
    "    acc_train.append(accuracy(Y, xgb.predict(X)))\n",
    "    acc_val.append(accuracy(Y_test, xgb.predict(X_test)))\n",
    "\n",
    "import matplotlib.pyplot as plt\n",
    "\n",
    "t = max_depth\n",
    "fig, ax = plt.subplots()\n",
    "ax.plot(t, np.array(acc_train), '-', label='traning accuracy')\n",
    "ax.plot(t, np.array(acc_val), '-.', label='test accuracy')\n",
    "legend = ax.legend(loc='upper center')\n",
    "plt.show()"
   ]
  },
  {
   "cell_type": "markdown",
   "metadata": {},
   "source": [
    "With same combination of other features, increasing the maxdepth eventually leads to overfitting"
   ]
  },
  {
   "cell_type": "code",
   "execution_count": 125,
   "metadata": {},
   "outputs": [
    {
     "data": {
      "image/png": "[encoded data removed]",
      "text/plain": [
       "<matplotlib.figure.Figure at 0x12341a390>"
      ]
     },
     "metadata": {},
     "output_type": "display_data"
    }
   ],
   "source": [
    "acc_train = []\n",
    "acc_val = []\n",
    "for i in learning_rate:\n",
    "    xgb = XGBClassifier(max_depth=2, learning_rate=i, n_estimators=50, n_jobs=-1, \n",
    "                        subsample=0.5)\n",
    "    xgb.fit(X, Y)\n",
    "    \n",
    "    acc_train.append(accuracy(Y, xgb.predict(X)))\n",
    "    acc_val.append(accuracy(Y_test, xgb.predict(X_test)))\n",
    "\n",
    "import matplotlib.pyplot as plt\n",
    "\n",
    "t = learning_rate\n",
    "fig, ax = plt.subplots()\n",
    "ax.plot(t, np.array(acc_train), '-', label='traning accuracy')\n",
    "ax.plot(t, np.array(acc_val), '-.', label='test accuracy')\n",
    "legend = ax.legend(loc='upper center')\n",
    "plt.show()"
   ]
  },
  {
   "cell_type": "markdown",
   "metadata": {},
   "source": [
    "With same combination other features, increasing the learning rate eventually leads to overfitting"
   ]
  },
  {
   "cell_type": "code",
   "execution_count": 126,
   "metadata": {},
   "outputs": [
    {
     "data": {
      "image/png": "[encoded data removed]",
      "text/plain": [
       "<matplotlib.figure.Figure at 0x123055eb8>"
      ]
     },
     "metadata": {},
     "output_type": "display_data"
    }
   ],
   "source": [
    "acc_train = []\n",
    "acc_val = []\n",
    "for i in n_estimators:\n",
    "    xgb = XGBClassifier(max_depth=5, learning_rate=0.2, n_estimators=i, n_jobs=-1, \n",
    "                        subsample=0.7)\n",
    "    xgb.fit(X, Y)\n",
    "    \n",
    "    acc_train.append(accuracy(Y, xgb.predict(X)))\n",
    "    acc_val.append(accuracy(Y_test, xgb.predict(X_test)))\n",
    "\n",
    "import matplotlib.pyplot as plt\n",
    "\n",
    "t = n_estimators\n",
    "fig, ax = plt.subplots()\n",
    "ax.plot(t, np.array(acc_train), '-', label='traning accuracy')\n",
    "ax.plot(t, np.array(acc_val), '-.', label='test accuracy')\n",
    "legend = ax.legend(loc='upper center')\n",
    "\n",
    "plt.show()"
   ]
  },
  {
   "cell_type": "markdown",
   "metadata": {},
   "source": [
    "With same combination of other features, increasing the n_estimators eventually leads to overfitting"
   ]
  },
  {
   "cell_type": "code",
   "execution_count": 124,
   "metadata": {},
   "outputs": [
    {
     "data": {
      "image/png": "[encoded data removed]",
      "text/plain": [
       "<matplotlib.figure.Figure at 0x121f6d320>"
      ]
     },
     "metadata": {},
     "output_type": "display_data"
    },
    {
     "data": {
      "text/plain": [
       "<matplotlib.figure.Figure at 0x123501a90>"
      ]
     },
     "metadata": {},
     "output_type": "display_data"
    }
   ],
   "source": [
    "acc_train = []\n",
    "acc_val = []\n",
    "for i in sub_sample:\n",
    "    xgb = XGBClassifier(max_depth=3, learning_rate=0.1, n_estimators=100, n_jobs=-1, \n",
    "                        subsample=i)\n",
    "    xgb.fit(X, Y)\n",
    "    \n",
    "    acc_train.append(accuracy(Y, xgb.predict(X)))\n",
    "    acc_val.append(accuracy(Y_test, xgb.predict(X_test)))\n",
    "\n",
    "import matplotlib.pyplot as plt\n",
    "\n",
    "t = sub_sample\n",
    "fig, ax = plt.subplots()\n",
    "ax.plot(t, np.array(acc_train), '-', label='traning accuracy')\n",
    "ax.plot(t, np.array(acc_val), '-.', label='test accuracy')\n",
    "legend = ax.legend(loc='upper center')\n",
    "\n",
    "plt.show()"
   ]
  },
  {
   "cell_type": "markdown",
   "metadata": {},
   "source": [
    "Cannot really comment about subsample rate. Still increasing the subsample rate leads to less variation in the trees, which possibly lead to overfitting"
   ]
  }
 ],
 "metadata": {
  "kernelspec": {
   "display_name": "Python 3",
   "language": "python",
   "name": "python3"
  },
  "language_info": {
   "codemirror_mode": {
    "name": "ipython",
    "version": 3
   },
   "file_extension": ".py",
   "mimetype": "text/x-python",
   "name": "python",
   "nbconvert_exporter": "python",
   "pygments_lexer": "ipython3",
   "version": "3.6.2"
  },
  "toc": {
   "nav_menu": {},
   "number_sections": true,
   "sideBar": true,
   "skip_h1_title": false,
   "toc_cell": false,
   "toc_position": {},
   "toc_section_display": "block",
   "toc_window_display": false
  }
 },
 "nbformat": 4,
 "nbformat_minor": 2
}
